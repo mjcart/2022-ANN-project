{
 "cells": [
  {
   "cell_type": "markdown",
   "id": "61f552c3",
   "metadata": {},
   "source": [
    "# setup"
   ]
  },
  {
   "cell_type": "code",
   "execution_count": 1,
   "id": "dc1f57aa",
   "metadata": {},
   "outputs": [
    {
     "name": "stdout",
     "output_type": "stream",
     "text": [
      "sklearn version:  1.0.2\n",
      "TF version:  2.7.0\n",
      "GPU installed:  True\n",
      "1 Physical GPUs, 1 Logical GPUs\n"
     ]
    }
   ],
   "source": [
    "# Python ≥3.5 is required\n",
    "import sys\n",
    "assert sys.version_info >= (3, 5)\n",
    "\n",
    "# Scikit-Learn ≥0.20 is required\n",
    "import sklearn\n",
    "print(\"sklearn version: \", sklearn.__version__)\n",
    "assert sklearn.__version__ >= \"0.20\"\n",
    "\n",
    "try:\n",
    "    # %tensorflow_version only exists in Colab.\n",
    "    %tensorflow_version 2.x\n",
    "    IS_COLAB = True\n",
    "except Exception:\n",
    "    IS_COLAB = False\n",
    "\n",
    "# TensorFlow ≥2.0 is required\n",
    "import tensorflow as tf\n",
    "import tensorflow_addons as tfa\n",
    "from tensorflow import keras\n",
    "print(\"TF version: \", tf.__version__)\n",
    "assert tf.__version__ >= \"2.0\"\n",
    "\n",
    "if not tf.config.list_physical_devices('GPU'):\n",
    "    print(\"No GPU was detected. CNNs can be very slow without a GPU.\")\n",
    "    if IS_COLAB:\n",
    "        print(\"Go to Runtime > Change runtime and select a GPU hardware accelerator.\")\n",
    "\n",
    "# GPU test\n",
    "print(\"GPU installed: \",tf.test.is_built_with_gpu_support())\n",
    "\n",
    "# To prevent \"CUDNN_STATUS_ALLOC_FAILED\" error with GPUs\n",
    "gpus = tf.config.experimental.list_physical_devices('GPU')\n",
    "if gpus:\n",
    "  try:\n",
    "    # Currently, memory growth needs to be the same across GPUs\n",
    "    for gpu in gpus:\n",
    "      tf.config.experimental.set_memory_growth(gpu, True)\n",
    "    logical_gpus = tf.config.experimental.list_logical_devices('GPU')\n",
    "    print(len(gpus), \"Physical GPUs,\", len(logical_gpus), \"Logical GPUs\")\n",
    "  except RuntimeError as e:\n",
    "    # Memory growth must be set before GPUs have been initialized\n",
    "    print(e)\n",
    "    \n",
    "# Common imports\n",
    "import numpy as np\n",
    "import os\n",
    "\n",
    "# to make this notebook's output stable across runs\n",
    "np.random.seed(42)\n",
    "tf.random.set_seed(42)\n",
    "\n",
    "# To plot pretty figures\n",
    "%matplotlib inline\n",
    "import matplotlib as mpl\n",
    "import matplotlib.pyplot as plt\n",
    "mpl.rc('axes', labelsize=14)\n",
    "mpl.rc('xtick', labelsize=12)\n",
    "mpl.rc('ytick', labelsize=12)\n",
    "\n",
    "# Where to save the figures\n",
    "PROJECT_ROOT_DIR = \".\"\n",
    "CHAPTER_ID = \"cnn\"\n",
    "IMAGES_PATH = os.path.join(PROJECT_ROOT_DIR, \"images\", CHAPTER_ID)\n",
    "os.makedirs(IMAGES_PATH, exist_ok=True)\n",
    "\n",
    "def save_fig(fig_id, tight_layout=True, fig_extension=\"png\", resolution=300):\n",
    "    path = os.path.join(IMAGES_PATH, fig_id + \".\" + fig_extension)\n",
    "    print(\"Saving figure\", fig_id)\n",
    "    if tight_layout:\n",
    "        plt.tight_layout()\n",
    "    plt.savefig(path, format=fig_extension, dpi=resolution)\n",
    "    \n",
    "# Ignore useless warnings (see SciPy issue #5998)\n",
    "import warnings\n",
    "warnings.filterwarnings(action=\"ignore\", message=\"^internal gelsd\")    \n",
    "\n",
    "from tensorflow.python.keras.utils.data_utils import Sequence"
   ]
  },
  {
   "cell_type": "markdown",
   "id": "40dc44b9",
   "metadata": {},
   "source": [
    "# Get the data"
   ]
  },
  {
   "cell_type": "code",
   "execution_count": 2,
   "id": "dfc62d5c",
   "metadata": {},
   "outputs": [],
   "source": [
    "#작성자 전민재\n",
    "import csv\n",
    "def load_Emist(exsitNumpy=False, needTranspose=True):\n",
    "    if (exsitNumpy == False):\n",
    "        #\"./emnist-byclass-test.csv\"\n",
    "        #train-set\n",
    "        #\"공용/datasets/Emnist/\" 위치에 csv 저장 \n",
    "        csv_train_data_file = open(\"../공용/datasets/Emnist/train_data.csv\", \"r\", encoding=\"ms932\", errors=\"\", newline=\"\" ) #리스트 형식 \n",
    "        csv_train_label_file = open(\"../공용/datasets/Emnist/train_label.csv\", \"r\", encoding=\"ms932\", errors=\"\", newline=\"\" ) #리스트 형식 \n",
    "    \n",
    "        \n",
    "        f_train = csv.reader(csv_train_data_file, delimiter=\",\", doublequote=True, lineterminator=\"\\r\\n\", quotechar='\"', skipinitialspace=True)\n",
    "        l_train=csv.reader(csv_train_label_file, delimiter=\",\", doublequote=True, lineterminator=\"\\r\\n\", quotechar='\"', skipinitialspace=True)\n",
    "        #valid-set\n",
    "    \n",
    "        csv_valid_data_file = open(\"../공용/datasets/Emnist/valid_data.csv\", \"r\", encoding=\"ms932\", errors=\"\", newline=\"\" ) #리스트 형식 \n",
    "        csv_valid_label_file = open(\"../공용/datasets/Emnist/valid_label.csv\", \"r\", encoding=\"ms932\", errors=\"\", newline=\"\" ) #리스트 형식 \n",
    "        \n",
    "        f_valid = csv.reader(csv_valid_data_file, delimiter=\",\", doublequote=True, lineterminator=\"\\r\\n\", quotechar='\"', skipinitialspace=True)\n",
    "        l_valid = csv.reader(csv_valid_label_file, delimiter=\",\", doublequote=True, lineterminator=\"\\r\\n\", quotechar='\"', skipinitialspace=True)\n",
    "        X_train=[]\n",
    "        y_train=[]\n",
    "        X_valid=[]\n",
    "        y_valid=[]\n",
    "        for i, row in enumerate(f_train):\n",
    "            #행마다 int로 형변환\n",
    "            for idx, char in enumerate(row):\n",
    "                row[idx]=int(char)\n",
    "            #train\n",
    "            #data 추가    \n",
    "            X_train.append(row)\n",
    "            \n",
    "        for i, row in enumerate(f_valid):\n",
    "            #행마다 int로 형변환\n",
    "            for idx, char in enumerate(row):\n",
    "                row[idx]=int(char)\n",
    "            #valid\n",
    "            #data 추가    \n",
    "            X_valid.append(row)\n",
    "\n",
    "\n",
    "        for i, row in enumerate(l_train):\n",
    "\n",
    "            #train\n",
    "            #label 추가\n",
    "            y_train.append(int(row[0]))\n",
    "            \n",
    "        for i, row in enumerate(l_valid):\n",
    "\n",
    "            #valid\n",
    "            #label 추가\n",
    "            y_valid.append(int(row[0]))\n",
    "            \n",
    "            \n",
    "        \n",
    "\n",
    "        #train\n",
    "        X_train=np.array(X_train)\n",
    "        X_train=X_train.reshape(-1,28,28)\n",
    "        #valid\n",
    "        X_valid=np.array(X_valid)\n",
    "        X_valid=X_valid.reshape(-1,28,28)\n",
    "        \n",
    "        csv_train_data_file.close()\n",
    "        csv_train_label_file.close()\n",
    "        csv_valid_data_file.close()\n",
    "        csv_valid_label_file.close()\n",
    "        \n",
    "        #kaggle dataset이 시계반대방향으로 90도 회전 되있고 상하 반전 되어있음\n",
    "        def rotate_90(m):\n",
    "            N = len(m)\n",
    "            ret = [[0] * N for _ in range(N)]\n",
    "\n",
    "            for r in range(N):\n",
    "                for c in range(N):\n",
    "                    ret[c][N-1-r] = m[r][c]\n",
    "            return np.array(ret)\n",
    "\n",
    "        def vreflect(m):\n",
    "            N = len(m)\n",
    "            ret = [[0] * N for _ in range(N)]\n",
    "\n",
    "            for r in range(N):\n",
    "                for c in range(N):\n",
    "                    ret[r][c] = m[r][N-1-c]\n",
    "            return np.array(ret)\n",
    "        \n",
    "        if needTranspose == True:\n",
    "            #train\n",
    "            #회전\n",
    "            for idx,i in enumerate(X_train):\n",
    "                X_train[idx]=rotate_90(i)\n",
    "            #상하반전\n",
    "            for idx,i in enumerate(X_train):\n",
    "                X_train[idx]=vreflect(i)\n",
    "\n",
    "            #valid\n",
    "            #회전\n",
    "            for idx,i in enumerate(X_valid):\n",
    "                X_valid[idx]=rotate_90(i)\n",
    "            #상하반전\n",
    "            for idx,i in enumerate(X_valid):\n",
    "                X_valid[idx]=vreflect(i)\n",
    "\n",
    "       \n",
    "        \n",
    "        \n",
    "        #저장용\n",
    "        #train\n",
    "        #(533917,28,28)\n",
    "        np.save('../공용/X_train',X_train)\n",
    "        np.save('../공용/y_train',y_train)\n",
    "        #valid\n",
    "        np.save('../공용/X_valid',X_valid)\n",
    "        np.save('../공용/y_valid',y_valid)\n",
    "        \n",
    "   \n",
    "    X_train=np.load('../공용/X_train.npy')\n",
    "    y_train=np.load('../공용/y_train.npy')\n",
    "    X_valid=np.load('../공용/X_valid.npy')\n",
    "    y_valid=np.load('../공용/y_valid.npy')\n",
    "    \n",
    "    return X_train, y_train, X_valid, y_valid\n"
   ]
  },
  {
   "cell_type": "code",
   "execution_count": 3,
   "id": "a15fdc87",
   "metadata": {},
   "outputs": [
    {
     "data": {
      "text/plain": [
       "(533917, 28, 28)"
      ]
     },
     "execution_count": 3,
     "metadata": {},
     "output_type": "execute_result"
    }
   ],
   "source": [
    "#황성현\n",
    "#npy 파일이 존재할 경우 exsitNumpy = True, 업으면 False\n",
    "X_train, y_train, X_valid, y_valid = load_Emist(exsitNumpy=True)\n",
    "X_train.shape"
   ]
  },
  {
   "cell_type": "code",
   "execution_count": null,
   "id": "1516912a",
   "metadata": {},
   "outputs": [],
   "source": []
  },
  {
   "cell_type": "code",
   "execution_count": 4,
   "id": "f590d747",
   "metadata": {},
   "outputs": [
    {
     "data": {
      "image/png": "[encoded data removed]",
      "text/plain": [
       "<Figure size 432x288 with 1 Axes>"
      ]
     },
     "metadata": {
      "needs_background": "light"
     },
     "output_type": "display_data"
    },
    {
     "name": "stdout",
     "output_type": "stream",
     "text": [
      "1\n"
     ]
    }
   ],
   "source": [
    "import cv2 as cv\n",
    "%matplotlib inline\n",
    "import matplotlib as mpl\n",
    "import matplotlib.pyplot as plt\n",
    "ids=0\n",
    "X_new=X_train[ids]\n",
    "y_new=y_train[ids]\n",
    "c=X_new.reshape(28,28)\n",
    "\n",
    "\n",
    "plt.imshow(c, cmap=\"binary\")\n",
    "plt.axis('off')\n",
    "plt.show()\n",
    "print(y_new)"
   ]
  },
  {
   "cell_type": "markdown",
   "id": "5754f9ae",
   "metadata": {},
   "source": [
    "# Prepare the data"
   ]
  },
  {
   "cell_type": "code",
   "execution_count": 5,
   "id": "96560afa",
   "metadata": {},
   "outputs": [],
   "source": [
    "#황성현\n",
    "#data, batch size 성정\n",
    "train_size=len(X_train)\n",
    "valid_size=len(X_valid)\n",
    "batch_size=32\n"
   ]
  },
  {
   "cell_type": "code",
   "execution_count": 6,
   "id": "ff05b346",
   "metadata": {},
   "outputs": [
    {
     "data": {
      "text/plain": [
       "((533917, 784), (164015, 784))"
      ]
     },
     "execution_count": 6,
     "metadata": {},
     "output_type": "execute_result"
    }
   ],
   "source": [
    "#황성현\n",
    "X_train=np.reshape(X_train,[-1,784])\n",
    "X_valid=np.reshape(X_valid,[-1,784])\n",
    "X_train.shape,X_valid.shape"
   ]
  },
  {
   "cell_type": "code",
   "execution_count": 7,
   "id": "0005b47e",
   "metadata": {},
   "outputs": [
    {
     "data": {
      "text/plain": [
       "((533917, 1), (164015, 1))"
      ]
     },
     "execution_count": 7,
     "metadata": {},
     "output_type": "execute_result"
    }
   ],
   "source": [
    "#황성현\n",
    "y_train=np.reshape(y_train,[-1,1])\n",
    "y_valid=np.reshape(y_valid,[-1,1])\n",
    "\n",
    "y_train.shape,y_valid.shape"
   ]
  },
  {
   "cell_type": "code",
   "execution_count": 8,
   "id": "73aeb06c",
   "metadata": {},
   "outputs": [
    {
     "data": {
      "text/plain": [
       "((533917, 785), (164015, 785))"
      ]
     },
     "execution_count": 8,
     "metadata": {},
     "output_type": "execute_result"
    }
   ],
   "source": [
    "#황성현\n",
    "train_full = np.append(X_train,y_train,axis=1)\n",
    "valid_full = np.append(X_valid,y_valid,axis=1)\n",
    "train_full.shape,valid_full.shape"
   ]
  },
  {
   "cell_type": "code",
   "execution_count": 9,
   "id": "b536e205",
   "metadata": {},
   "outputs": [],
   "source": [
    "#황성현\n",
    "def save_to_multiple_csv_files(data, name_prefix, header=None, n_parts=10):\n",
    "    \n",
    "    Emnist_dir = os.path.join(\"../공용/datasets\", \"Emnist\")\n",
    "    os.makedirs(Emnist_dir, exist_ok=True)\n",
    "    path_format = os.path.join(Emnist_dir, \"my_{}_{:02d}.csv\")\n",
    "\n",
    "    filepaths = []\n",
    "    m = len(data)\n",
    "    for file_idx, row_indices in enumerate(np.array_split(np.arange(m), n_parts)):\n",
    "        part_csv = path_format.format(name_prefix, file_idx)\n",
    "        filepaths.append(part_csv)\n",
    "        try:\n",
    "            with open(part_csv, \"xt\", encoding=\"utf-8\") as f:\n",
    "                if header is not None:\n",
    "                    f.write(header)\n",
    "                    f.write(\"\\n\")\n",
    "                for row_idx in row_indices:\n",
    "                    f.write(\",\".join([repr(col) for col in data[row_idx]]))\n",
    "                    f.write(\"\\n\")\n",
    "        except:\n",
    "            continue\n",
    "    return filepaths"
   ]
  },
  {
   "cell_type": "code",
   "execution_count": 10,
   "id": "a0b8da61",
   "metadata": {},
   "outputs": [],
   "source": [
    "#황성현\n",
    "train_filepaths = save_to_multiple_csv_files(train_full, \"train\", n_parts=20)\n",
    "valid_filepaths = save_to_multiple_csv_files(valid_full, \"valid\", n_parts=20)"
   ]
  },
  {
   "cell_type": "code",
   "execution_count": 26,
   "id": "43caff2a",
   "metadata": {},
   "outputs": [],
   "source": [
    "from tensorflow.keras.preprocessing.image import ImageDataGenerator\n",
    "import random\n",
    "\n",
    "def dataaugmentation(X):\n",
    "    datagen=ImageDataGenerator(rotation_range=40,width_shift_range = 0.2, \n",
    "        height_shift_range = 0.2)\n",
    "    #영어 부분 2배 생성\n",
    "    #차원변환 \n",
    "    X=tf.reshape(X,[28,28,1])\n",
    "\n",
    "    #새로운 데이터 생성\n",
    "    angle=(random.random()%1)*1.4-0.7\n",
    "    image_result =tfa.image.rotate(X, tf.constant(angle))#rotate -pi/4 ~ pi/4\n",
    "    shift=(random.random()%1)*8-4\n",
    "    image_result=tfa.image.translate(image_result,[tf.constant(shift),tf.constant(shift)])\n",
    "    \n",
    "    return image_result"
   ]
  },
  {
   "cell_type": "code",
   "execution_count": 27,
   "id": "416afafa",
   "metadata": {},
   "outputs": [
    {
     "name": "stdout",
     "output_type": "stream",
     "text": [
      "n_inputs = 784\n"
     ]
    }
   ],
   "source": [
    "#황성현\n",
    "n_inputs = X_train.shape[-1]\n",
    "print(\"n_inputs =\",n_inputs)\n",
    "@tf.function\n",
    "def preprocess(line):\n",
    "    defs = [0.] * n_inputs + [tf.constant([], dtype=tf.float32)]\n",
    "    fields = tf.io.decode_csv(line, record_defaults=defs)\n",
    "    x = tf.stack(fields[:-1])\n",
    "    x=tf.reshape(x,[28,28,1])\n",
    "    y = tf.stack(fields[-1:])\n",
    "    augment_image = x\n",
    "    if y > 10:\n",
    "        augment_image = dataaugmentation(x)\n",
    "        \n",
    "        \n",
    "    resized_image = tf.image.resize(augment_image, [224, 224])\n",
    "    if resized_image.shape[2] == 1:\n",
    "        temp=tf.concat([resized_image,resized_image],2)\n",
    "        resized_image=tf.concat([temp,resized_image],2)\n",
    "    final_image = keras.applications.mobilenet.preprocess_input(resized_image)\n",
    "    \n",
    "    return final_image, y"
   ]
  },
  {
   "cell_type": "code",
   "execution_count": 28,
   "id": "bf65fab2",
   "metadata": {},
   "outputs": [],
   "source": [
    "#황성현\n",
    "def csv_reader_dataset(filepaths, repeat=1, n_readers=5,\n",
    "                       n_read_threads=None, shuffle_buffer_size=10000,\n",
    "                       n_parse_threads=5, batch_size=32):\n",
    "    dataset = tf.data.Dataset.list_files(filepaths).repeat(repeat)\n",
    "    dataset = dataset.interleave(\n",
    "        lambda filepath: tf.data.TextLineDataset(filepath).skip(1),\n",
    "        cycle_length=n_readers, num_parallel_calls=n_read_threads)\n",
    "    dataset = dataset.shuffle(shuffle_buffer_size)\n",
    "    dataset = dataset.map(preprocess, num_parallel_calls=n_parse_threads)\n",
    "    dataset = dataset.batch(batch_size)\n",
    "    return dataset.prefetch(1)"
   ]
  },
  {
   "cell_type": "code",
   "execution_count": 29,
   "id": "8b66c9e0",
   "metadata": {},
   "outputs": [
    {
     "data": {
      "text/plain": [
       "(<PrefetchDataset shapes: ((None, 224, 224, 3), (None, 1)), types: (tf.float32, tf.float32)>,\n",
       " <PrefetchDataset shapes: ((None, 224, 224, 3), (None, 1)), types: (tf.float32, tf.float32)>)"
      ]
     },
     "execution_count": 29,
     "metadata": {},
     "output_type": "execute_result"
    }
   ],
   "source": [
    "#황성현\n",
    "tf.random.set_seed(42)\n",
    "\n",
    "train_set = csv_reader_dataset(train_filepaths,batch_size=batch_size, repeat=None)\n",
    "valid_set = csv_reader_dataset(valid_filepaths,batch_size=batch_size, repeat=None)\n",
    "train_set,valid_set"
   ]
  },
  {
   "cell_type": "code",
   "execution_count": 5,
   "id": "358e813d",
   "metadata": {},
   "outputs": [],
   "source": [
    "del X_train, y_train, X_valid, y_valid"
   ]
  },
  {
   "cell_type": "markdown",
   "id": "5953aa06",
   "metadata": {},
   "source": [
    "# SMV2L"
   ]
  },
  {
   "cell_type": "code",
   "execution_count": 15,
   "id": "517b3586",
   "metadata": {},
   "outputs": [],
   "source": [
    "#황성현\n",
    "class Inveted_Residual_Block(keras.layers.Layer):\n",
    "    def __init__(self,c,s=1,t=1,n=1,**kwargs):\n",
    "        super().__init__(**kwargs)\n",
    "        self.activation = keras.layers.ReLU(max_value=6)\n",
    "        self.main_layers = [\n",
    "            \n",
    "            ]\n",
    "        self.strides_layers=[\n",
    "           ]\n",
    "        self.s=s\n",
    "        self.t=t\n",
    "        self.c=c\n",
    "        self.n=n\n",
    "        \n",
    "    def build(self,batch_input_shape):\n",
    "        print(self.name,\": batch_input_shape =\",batch_input_shape)\n",
    "        \n",
    "        self.main_layers = [\n",
    "            keras.layers.BatchNormalization(),\n",
    "            keras.layers.Conv2D(filters=batch_input_shape[-1]*self.t, kernel_size=1,strides=1, \n",
    "                                padding=\"SAME\", activation=self.activation),\n",
    "            keras.layers.BatchNormalization(),\n",
    "            keras.layers.DepthwiseConv2D(kernel_size=3, strides=1,padding=\"SAME\", activation=self.activation),\n",
    "            keras.layers.BatchNormalization(),\n",
    "            keras.layers.Conv2D(filters=self.c,kernel_size=1, strides=1,padding=\"SAME\", activation=self.activation),\n",
    "            ]\n",
    "        self.strides_layers=[\n",
    "            keras.layers.BatchNormalization(),\n",
    "            keras.layers.Conv2D(filters=batch_input_shape[-1]*self.t, kernel_size=1,strides=1,\n",
    "                                padding=\"SAME\", activation=self.activation),\n",
    "            keras.layers.BatchNormalization(),\n",
    "            keras.layers.DepthwiseConv2D(kernel_size=3, strides=self.s,padding=\"SAME\",activation=self.activation),\n",
    "            keras.layers.BatchNormalization(),\n",
    "            keras.layers.Conv2D(filters=self.c, kernel_size=1,strides=1,padding=\"SAME\",activation=self.activation),\n",
    "        ]\n",
    "\n",
    "    def call(self, inputs):\n",
    "        Z = inputs\n",
    "        \n",
    "        for n in range(0,self.n):\n",
    "            if n == 0:\n",
    "                for layer in self.strides_layers:\n",
    "                    Z = layer(Z)\n",
    "            else:\n",
    "                skip_Z = Z\n",
    "                for layer in self.main_layers:\n",
    "                    Z = layer(Z)\n",
    "                \n",
    "                Z += skip_Z\n",
    "    \n",
    "        return Z\n",
    "    \n",
    "    def get_config(self):\n",
    "        base=super().get_config()\n",
    "        return{**base,\"s\":self.s,\"t\":self.t,\"c\":self.c,\"n\":self.n}"
   ]
  },
  {
   "cell_type": "code",
   "execution_count": 16,
   "id": "9ecf3bd5",
   "metadata": {},
   "outputs": [
    {
     "name": "stdout",
     "output_type": "stream",
     "text": [
      "IRB1 : batch_input_shape = (None, 112, 112, 32)\n",
      "IRB2 : batch_input_shape = (None, 112, 112, 16)\n",
      "IRB3 : batch_input_shape = (None, 56, 56, 16)\n",
      "IRB4 : batch_input_shape = (None, 28, 28, 32)\n",
      "IRB5 : batch_input_shape = (None, 14, 14, 64)\n",
      "IRB6 : batch_input_shape = (None, 7, 7, 128)\n",
      "Model: \"sequential\"\n",
      "_________________________________________________________________\n",
      " Layer (type)                Output Shape              Param #   \n",
      "=================================================================\n",
      " batch_normalization (BatchN  (None, 224, 224, 3)      12        \n",
      " ormalization)                                                   \n",
      "                                                                 \n",
      " conv2d (Conv2D)             (None, 112, 112, 32)      896       \n",
      "                                                                 \n",
      " IRB1 (Inveted_Residual_Bloc  (None, 112, 112, 16)     2288      \n",
      " k)                                                              \n",
      "                                                                 \n",
      " IRB2 (Inveted_Residual_Bloc  (None, 56, 56, 16)       6688      \n",
      " k)                                                              \n",
      "                                                                 \n",
      " IRB3 (Inveted_Residual_Bloc  (None, 28, 28, 32)       19456     \n",
      " k)                                                              \n",
      "                                                                 \n",
      " IRB4 (Inveted_Residual_Bloc  (None, 14, 14, 64)       67584     \n",
      " k)                                                              \n",
      "                                                                 \n",
      " IRB5 (Inveted_Residual_Bloc  (None, 7, 7, 128)        108416    \n",
      " k)                                                              \n",
      "                                                                 \n",
      " IRB6 (Inveted_Residual_Bloc  (None, 7, 7, 1024)       1200640   \n",
      " k)                                                              \n",
      "                                                                 \n",
      " re_lu_6 (ReLU)              (None, 7, 7, 1024)        0         \n",
      "                                                                 \n",
      " global_average_pooling2d (G  (None, 1024)             0         \n",
      " lobalAveragePooling2D)                                          \n",
      "                                                                 \n",
      " batch_normalization_1 (Batc  (None, 1024)             4096      \n",
      " hNormalization)                                                 \n",
      "                                                                 \n",
      " dense (Dense)               (None, 62)                63550     \n",
      "                                                                 \n",
      "=================================================================\n",
      "Total params: 1,473,626\n",
      "Trainable params: 1,460,916\n",
      "Non-trainable params: 12,710\n",
      "_________________________________________________________________\n"
     ]
    }
   ],
   "source": [
    "#황성현\n",
    "n_classes=62\n",
    "smv2_l=keras.models.Sequential([\n",
    "    keras.layers.BatchNormalization(input_shape=[224,224,3]),\n",
    "    keras.layers.Conv2D(filters=32,kernel_size=3,strides=2,padding=\"same\",activation=\"relu\"),\n",
    "    Inveted_Residual_Block(t=1,c=16,n=1,s=1,name=\"IRB1\"),\n",
    "    Inveted_Residual_Block(t=4,c=16,n=2,s=2,name=\"IRB2\"),\n",
    "    Inveted_Residual_Block(t=8,c=32,n=2,s=2,name=\"IRB3\"),\n",
    "    Inveted_Residual_Block(t=8,c=64,n=2,s=2,name=\"IRB4\"),\n",
    "    Inveted_Residual_Block(t=8,c=128,n=1,s=2,name=\"IRB5\"),\n",
    "    Inveted_Residual_Block(t=8,c=1024,n=1,s=1,name=\"IRB6\"),\n",
    "    keras.layers.ReLU(max_value=6),\n",
    "    keras.layers.GlobalAveragePooling2D(),\n",
    "    keras.layers.BatchNormalization(),\n",
    "    keras.layers.Dense(n_classes,activation=\"softmax\")\n",
    "])\n",
    "smv2_l.summary()"
   ]
  },
  {
   "cell_type": "code",
   "execution_count": 17,
   "id": "a2bce37d",
   "metadata": {},
   "outputs": [],
   "source": [
    "#황성현\n",
    "smv2_l.compile(loss=\"sparse_categorical_crossentropy\",optimizer=\"nadam\",metrics=[\"accuracy\"])"
   ]
  },
  {
   "cell_type": "code",
   "execution_count": 22,
   "id": "0e43e8ae",
   "metadata": {},
   "outputs": [
    {
     "name": "stdout",
     "output_type": "stream",
     "text": [
      "IRB1 : batch_input_shape = (None, 112, 112, 32)\n",
      "IRB2 : batch_input_shape = (None, 112, 112, 16)\n",
      "IRB3 : batch_input_shape = (None, 56, 56, 16)\n",
      "IRB4 : batch_input_shape = (None, 28, 28, 32)\n",
      "IRB5 : batch_input_shape = (None, 14, 14, 64)\n",
      "IRB6 : batch_input_shape = (None, 7, 7, 128)\n"
     ]
    }
   ],
   "source": [
    "smv2_l=keras.models.load_model(\"smv2l_nadam.h5\",custom_objects={\"Inveted_Residual_Block\":Inveted_Residual_Block})"
   ]
  },
  {
   "cell_type": "code",
   "execution_count": 23,
   "id": "03914e84",
   "metadata": {
    "scrolled": true
   },
   "outputs": [
    {
     "name": "stdout",
     "output_type": "stream",
     "text": [
      "Epoch 1/300\n",
      "16684/16684 [==============================] - 3444s 206ms/step - loss: 0.2187 - accuracy: 0.9204 - val_loss: 0.2166 - val_accuracy: 0.9218\n",
      "Epoch 2/300\n",
      "16684/16684 [==============================] - 3429s 206ms/step - loss: 0.2103 - accuracy: 0.9230 - val_loss: 0.2111 - val_accuracy: 0.9244\n",
      "Epoch 3/300\n",
      "16684/16684 [==============================] - 3422s 205ms/step - loss: 0.2076 - accuracy: 0.9239 - val_loss: 0.2079 - val_accuracy: 0.9245\n",
      "Epoch 4/300\n",
      "16684/16684 [==============================] - 3389s 203ms/step - loss: 0.2048 - accuracy: 0.9248 - val_loss: 11.6709 - val_accuracy: 0.0398\n",
      "Epoch 5/300\n",
      "16684/16684 [==============================] - 3384s 203ms/step - loss: 0.2058 - accuracy: 0.9241 - val_loss: 0.5709 - val_accuracy: 0.8201\n",
      "Epoch 6/300\n",
      "16684/16684 [==============================] - 3381s 203ms/step - loss: 0.2047 - accuracy: 0.9243 - val_loss: 0.2144 - val_accuracy: 0.9231\n",
      "Epoch 7/300\n",
      "16684/16684 [==============================] - 3380s 203ms/step - loss: 0.2041 - accuracy: 0.9245 - val_loss: 0.7074 - val_accuracy: 0.7850\n",
      "Epoch 8/300\n",
      "16684/16684 [==============================] - 3382s 203ms/step - loss: 0.2029 - accuracy: 0.9248 - val_loss: 0.2055 - val_accuracy: 0.9247\n",
      "Epoch 9/300\n",
      "16684/16684 [==============================] - 3383s 203ms/step - loss: 0.2014 - accuracy: 0.9252 - val_loss: 2.2826 - val_accuracy: 0.6119\n",
      "Epoch 10/300\n",
      "16684/16684 [==============================] - 3381s 203ms/step - loss: 0.2018 - accuracy: 0.9251 - val_loss: 0.3597 - val_accuracy: 0.8859\n",
      "Epoch 11/300\n",
      "16684/16684 [==============================] - 3379s 203ms/step - loss: 0.2027 - accuracy: 0.9248 - val_loss: 0.2102 - val_accuracy: 0.9222\n",
      "Epoch 12/300\n",
      "16684/16684 [==============================] - 3382s 203ms/step - loss: 0.2051 - accuracy: 0.9242 - val_loss: 0.2119 - val_accuracy: 0.9223\n",
      "Epoch 13/300\n",
      "16684/16684 [==============================] - 3384s 203ms/step - loss: 0.2062 - accuracy: 0.9236 - val_loss: 0.2116 - val_accuracy: 0.9220\n",
      "Epoch 14/300\n",
      "16684/16684 [==============================] - 3383s 203ms/step - loss: 0.2031 - accuracy: 0.9248 - val_loss: 0.2306 - val_accuracy: 0.9121\n",
      "Epoch 15/300\n",
      "16684/16684 [==============================] - 3376s 202ms/step - loss: 0.2048 - accuracy: 0.9246 - val_loss: 0.2106 - val_accuracy: 0.9233\n",
      "Epoch 16/300\n",
      "16684/16684 [==============================] - 3377s 202ms/step - loss: 0.2050 - accuracy: 0.9241 - val_loss: 0.3194 - val_accuracy: 0.8830\n",
      "Epoch 17/300\n",
      "16684/16684 [==============================] - 3381s 203ms/step - loss: 0.2039 - accuracy: 0.9243 - val_loss: 11.6224 - val_accuracy: 0.0725\n",
      "Epoch 18/300\n",
      "16684/16684 [==============================] - 3543s 212ms/step - loss: 0.2062 - accuracy: 0.9237 - val_loss: 0.2164 - val_accuracy: 0.9210: 52:31 - loss: 0.2053 - accurac - ETA: 51:50 - loss: 0.2092 - accuracy: 0 - ET - ETA: 51:35 - los - ETA: 51:29 - loss: 0 - ETA: 51:27 - lo -  - ETA: 51:15 - loss: 0.2102 - accuracy: 0 - ETA: 51:14 - loss: 0.2106 - - ETA: 51:11 - loss: 0.2099 - acc - ETA: 51:08 - loss: 0.2091 - accuracy: - ETA: 50:38 - loss: 0.2074 - accuracy - ETA: 50:25 - loss:  - ETA: 50:22 - loss: 0.2065 - accuracy - ETA: 50:21 - loss: 0.2067 - accuracy: 0.9 - ETA: 50:20 - loss: 0.2066 - accurac - ETA: 5 - ETA: 50:14 - loss: 0.2065 - a - ETA: 50:12 - loss: 0.20 - ETA: 50:09 - loss: 0.2062 - accuracy: 0 - ET - ETA: 50:02 - loss: 0.2065 - a - ETA: 49:53 - loss: 0. - ETA: 49:50 - loss: 0.2067 - accuracy: 0.92 - E - ETA: 49:34 - loss: 0.2065 - accura - ETA: 49:25 - loss: 0. - ETA: 49:21 - ETA: 49:15  - ETA: 49:10 - loss: 0.2 - ETA: 49:06 - loss: 0.2058 - a - ETA: 49:03 - loss: 0.2054 - accuracy - ETA: 49:02 - ETA: - ETA: 48:40 - loss: 0.2051 - accuracy: - ETA: 48:39 - loss: 0.2049 - accuracy: 0.9 - ETA: 48:38 - loss:  - ETA: 48:18 - lo - ETA: 48:13 - l - ETA: 48:08 - loss: 0.2053 - ET - ETA: 46:43 - loss: 0.2051 - accuracy: 0.9 - ETA: 46:43 - - ETA: 46:37 - loss: 0.2051 - accuracy: 0. - ETA: 46:36 - loss: 0.205 - ETA: 46:32 - loss: 0.2049 - ETA: 46:12 - loss: 0.2053 - accuracy:  - ETA: 46:10 - loss: 0.2054 - a - ETA: 46:08 - loss - ETA: 44:15 - loss: - ETA: 44:10 - loss: 0 - ETA: 44:0 - ETA: 43:59 - loss:  - ETA: 43:54 - - ETA: 42:54 - los - ETA: 42:49 - loss: 0.2059 - ETA: 42 - ETA: 41:52 - loss: 0.2057 - - ETA: 41:49 - loss: 0.2057 - a - ETA: 40:40 - loss: - ETA: 40:25 - loss: 0.2053 - acc - ETA: 40:23 - loss: 0 - ETA: 40:18 - loss: 0.2053  - ETA: 40:14 - loss: 0.2052 - a - ETA: 40:11 - loss: 0.2051 - accuracy: 0 - ETA: 40:10 - loss: 0.2052 - accuracy - ETA: 40:09 - loss: 0.2052 - accuracy: 0.  - ETA: 39:50 - loss: 0.2053 - accuracy: 0 - ETA: 39:49 - loss: 0.2053 - accuracy: 0.9 - ETA: 39:48 - loss: 0.20 - ETA: 39:44 - loss: 0.20 - - ETA: 39:31 - loss: 0.2056 - accur - ETA: 39:29 -  - - ETA: 39:05 - loss: 0.2057 - accur - ETA: 39:03 - ETA: 38:47 - loss: 0.2057 - accuracy: 0.92 - ETA: 38:46 - loss: 0.2057 - accuracy: - ETA - ETA: 38:28 - loss: 0.2058 -  - ETA: 38:25 - loss: 0.2057 - accuracy: 0 - ETA: 3\n"
     ]
    }
   ],
   "source": [
    "#황성현 \n",
    "from datetime import datetime\n",
    "logs = \"logs/\" + datetime.now().strftime(\"SMV2L%Y%m%d-%H%M%S\")\n",
    "\n",
    "tboard_callback = tf.keras.callbacks.TensorBoard(log_dir = logs,\n",
    "                                                 histogram_freq = 1,\n",
    "                                                 profile_batch = '500,520')\n",
    "check_cb=tf.keras.callbacks.ModelCheckpoint(filepath=\"smv2l_nadam.h5\",save_best_only=True)\n",
    "earlystop_cb = tf.keras.callbacks.EarlyStopping(patience = 10, restore_best_weights = True)\n",
    "history=smv2_l.fit(train_set, batch_size = batch_size,\n",
    "                    steps_per_epoch=int(train_size / batch_size),\n",
    "                    validation_data=valid_set,\n",
    "                    validation_steps=int(valid_size / batch_size),\n",
    "                    epochs=300,callbacks=[tboard_callback, check_cb, earlystop_cb])"
   ]
  },
  {
   "cell_type": "code",
   "execution_count": 31,
   "id": "048bc008",
   "metadata": {},
   "outputs": [
    {
     "name": "stdout",
     "output_type": "stream",
     "text": [
      "IRB1 : batch_input_shape = (None, 112, 112, 32)\n",
      "IRB2 : batch_input_shape = (None, 112, 112, 16)\n",
      "IRB3 : batch_input_shape = (None, 56, 56, 16)\n",
      "IRB4 : batch_input_shape = (None, 28, 28, 32)\n",
      "IRB5 : batch_input_shape = (None, 14, 14, 64)\n",
      "IRB6 : batch_input_shape = (None, 7, 7, 128)\n"
     ]
    }
   ],
   "source": [
    "smv2_l_best=keras.models.load_model(\"smv2l_nadam.h5\",custom_objects={\"Inveted_Residual_Block\":Inveted_Residual_Block})"
   ]
  },
  {
   "cell_type": "code",
   "execution_count": 32,
   "id": "08bbb73b",
   "metadata": {},
   "outputs": [
    {
     "name": "stdout",
     "output_type": "stream",
     "text": [
      "5125/5125 [==============================] - 172s 33ms/step - loss: 5.2497 - accuracy: 0.5150\n"
     ]
    },
    {
     "data": {
      "text/plain": [
       "[5.249746799468994, 0.5150243639945984]"
      ]
     },
     "execution_count": 32,
     "metadata": {},
     "output_type": "execute_result"
    }
   ],
   "source": [
    "smv2_l_best.evaluate(valid_set,steps=int(valid_size / batch_size), batch_size=batch_size)"
   ]
  },
  {
   "cell_type": "code",
   "execution_count": null,
   "id": "0bab57db",
   "metadata": {},
   "outputs": [
    {
     "name": "stdout",
     "output_type": "stream",
     "text": [
      "15302/16684 [==========================>...] - ETA: 48s - loss: 5.2480 - accuracy: 0.5147"
     ]
    }
   ],
   "source": [
    "smv2_l_best.evaluate(train_set,steps=int(train_size / batch_size), batch_size=batch_size)"
   ]
  },
  {
   "cell_type": "markdown",
   "id": "27dc8052",
   "metadata": {},
   "source": [
    "# SMV2P"
   ]
  },
  {
   "cell_type": "code",
   "execution_count": null,
   "id": "82fc489a",
   "metadata": {},
   "outputs": [],
   "source": [
    "#황성현\n",
    "n_classes=62\n",
    "smv2_p=keras.models.Sequential([\n",
    "    keras.layers.BatchNormalization(input_shape=[224,224,3]),\n",
    "    keras.layers.Conv2D(filters=32,kernel_size=3,strides=2,padding=\"same\",activation=\"relu\"),\n",
    "    Inveted_Residual_Block(t=1,c=16,n=1,s=1,name=\"IRB1\"),\n",
    "    Inveted_Residual_Block(t=4,c=16,n=2,s=2,name=\"IRB2\"),\n",
    "    Inveted_Residual_Block(t=8,c=32,n=2,s=2,name=\"IRB3\"),\n",
    "    Inveted_Residual_Block(t=8,c=64,n=2,s=2,name=\"IRB4\"),\n",
    "    Inveted_Residual_Block(t=8,c=128,n=1,s=2,name=\"IRB5\"),\n",
    "    Inveted_Residual_Block(t=8,c=1024,n=1,s=1,name=\"IRB6\"),\n",
    "    keras.layers.ReLU(max_value=6),\n",
    "    keras.layers.GlobalAveragePooling2D(),\n",
    "    keras.layers.BatchNormalization(),\n",
    "    keras.layers.Dense(n_classes,activation=\"softmax\")\n",
    "])\n",
    "smv2_p.summary()"
   ]
  },
  {
   "cell_type": "code",
   "execution_count": null,
   "id": "a1aa94ed",
   "metadata": {},
   "outputs": [],
   "source": [
    "#황성현\n",
    "smv2_p.compile(loss=\"sparse_categorical_crossentropy\",optimizer=\"nadam\",metrics=[\"accuracy\"])"
   ]
  },
  {
   "cell_type": "code",
   "execution_count": null,
   "id": "365fa543",
   "metadata": {},
   "outputs": [],
   "source": [
    "#황성현\n",
    "batch_size=32\n",
    "from datetime import datetime\n",
    "logs = \"logs/\" + datetime.now().strftime(\"SMV2L%Y%m%d-%H%M%S\")\n",
    "\n",
    "tboard_callback = tf.keras.callbacks.TensorBoard(log_dir = logs,\n",
    "                                                 histogram_freq = 1,\n",
    "                                                 profile_batch = '500,520')\n",
    "check_cb=tf.keras.callbacks.ModelCheckpoint(filepath=\"smv2l_nadam.h5\",save_best_only=True)\n",
    "earlystop_cb = tf.keras.callbacks.EarlyStopping(patience = 10, restore_best_weights = True)\n",
    "history=smv2_p.fit(train_set, batch_size = batch_size,\n",
    "                    steps_per_epoch=int(train_size / batch_size),\n",
    "                    validation_data=valid_set,\n",
    "                    validation_steps=int(valid_size / batch_size),\n",
    "                    epochs=300,callbacks=[tboard_callback, check_cb, earlystop_cb])"
   ]
  },
  {
   "cell_type": "code",
   "execution_count": null,
   "id": "380f28ab",
   "metadata": {},
   "outputs": [],
   "source": []
  }
 ],
 "metadata": {
  "kernelspec": {
   "display_name": "Python 3 (ipykernel)",
   "language": "python",
   "name": "python3"
  },
  "language_info": {
   "codemirror_mode": {
    "name": "ipython",
    "version": 3
   },
   "file_extension": ".py",
   "mimetype": "text/x-python",
   "name": "python",
   "nbconvert_exporter": "python",
   "pygments_lexer": "ipython3",
   "version": "3.9.5"
  }
 },
 "nbformat": 4,
 "nbformat_minor": 5
}

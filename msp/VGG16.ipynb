{ 
 "cells": [
  {
   "cell_type": "markdown",
   "id": "61f552c3",
   "metadata": {},
   "source": [
    "# setup"
   ]
  },
  {
   "cell_type": "code",
   "execution_count": 1,
   "id": "dc1f57aa",
   "metadata": {},
   "outputs": [
    {
     "name": "stdout",
     "output_type": "stream",
     "text": [
      "sklearn version:  0.24.2\n",
      "TF version:  2.8.0\n",
      "GPU installed:  True\n",
      "1 Physical GPUs, 1 Logical GPUs\n"
     ]
    }
   ],
   "source": [
    "# Python ≥3.5 is required\n",
    "import sys\n",
    "assert sys.version_info >= (3, 5)\n",
    "\n",
    "# Scikit-Learn ≥0.20 is required\n",
    "import sklearn\n",
    "print(\"sklearn version: \", sklearn.__version__)\n",
    "assert sklearn.__version__ >= \"0.20\"\n",
    "\n",
    "try:\n",
    "    # %tensorflow_version only exists in Colab.\n",
    "    %tensorflow_version 2.x\n",
    "    IS_COLAB = True\n",
    "except Exception:\n",
    "    IS_COLAB = False\n",
    "\n",
    "# TensorFlow ≥2.0 is required\n",
    "import tensorflow as tf\n",
    "import tensorflow_addons as tfa\n",
    "from tensorflow import keras\n",
    "print(\"TF version: \", tf.__version__)\n",
    "assert tf.__version__ >= \"2.0\"\n",
    "\n",
    "if not tf.config.list_physical_devices('GPU'):\n",
    "    print(\"No GPU was detected. CNNs can be very slow without a GPU.\")\n",
    "    if IS_COLAB:\n",
    "        print(\"Go to Runtime > Change runtime and select a GPU hardware accelerator.\")\n",
    "\n",
    "# GPU test\n",
    "print(\"GPU installed: \",tf.test.is_built_with_gpu_support())\n",
    "\n",
    "# To prevent \"CUDNN_STATUS_ALLOC_FAILED\" error with GPUs\n",
    "gpus = tf.config.experimental.list_physical_devices('GPU')\n",
    "if gpus:\n",
    "  try:\n",
    "    # Currently, memory growth needs to be the same across GPUs\n",
    "    for gpu in gpus:\n",
    "      tf.config.experimental.set_memory_growth(gpu, True)\n",
    "    logical_gpus = tf.config.experimental.list_logical_devices('GPU')\n",
    "    print(len(gpus), \"Physical GPUs,\", len(logical_gpus), \"Logical GPUs\")\n",
    "  except RuntimeError as e:\n",
    "    # Memory growth must be set before GPUs have been initialized\n",
    "    print(e)\n",
    "    \n",
    "# Common imports\n",
    "import numpy as np\n",
    "import os\n",
    "\n",
    "# to make this notebook's output stable across runs\n",
    "np.random.seed(42)\n",
    "tf.random.set_seed(42)\n",
    "\n",
    "# To plot pretty figures\n",
    "%matplotlib inline\n",
    "import matplotlib as mpl\n",
    "import matplotlib.pyplot as plt\n",
    "mpl.rc('axes', labelsize=14)\n",
    "mpl.rc('xtick', labelsize=12)\n",
    "mpl.rc('ytick', labelsize=12)\n",
    "\n",
    "# Where to save the figures\n",
    "PROJECT_ROOT_DIR = \".\"\n",
    "CHAPTER_ID = \"cnn\"\n",
    "IMAGES_PATH = os.path.join(PROJECT_ROOT_DIR, \"images\", CHAPTER_ID)\n",
    "os.makedirs(IMAGES_PATH, exist_ok=True)\n",
    "\n",
    "def save_fig(fig_id, tight_layout=True, fig_extension=\"png\", resolution=300):\n",
    "    path = os.path.join(IMAGES_PATH, fig_id + \".\" + fig_extension)\n",
    "    print(\"Saving figure\", fig_id)\n",
    "    if tight_layout:\n",
    "        plt.tight_layout()\n",
    "    plt.savefig(path, format=fig_extension, dpi=resolution)\n",
    "    \n",
    "# Ignore useless warnings (see SciPy issue #5998)\n",
    "import warnings\n",
    "warnings.filterwarnings(action=\"ignore\", message=\"^internal gelsd\")    \n",
    "\n",
    "from tensorflow.python.keras.utils.data_utils import Sequence"
   ]
  },
  {
   "cell_type": "markdown",
   "id": "40dc44b9",
   "metadata": {},
   "source": [
    "# Get the data"
   ]
  },
  {
   "cell_type": "code",
   "execution_count": 2,
   "id": "dfc62d5c",
   "metadata": {},
   "outputs": [],
   "source": [
    "#작성자 전민재\n",
    "import csv\n",
    "def load_Emist(exsitNumpy=False, needTranspose=True):\n",
    "    if (exsitNumpy == False):\n",
    "        #\"./emnist-byclass-test.csv\"\n",
    "        #train-set\n",
    "        #\"공용/datasets/Emnist/\" 위치에 csv 저장 \n",
    "        csv_train_data_file = open(\"./train_data.csv\", \"r\", encoding=\"ms932\", errors=\"\", newline=\"\" ) #리스트 형식 \n",
    "        csv_train_label_file = open(\"./train_label.csv\", \"r\", encoding=\"ms932\", errors=\"\", newline=\"\" ) #리스트 형식 \n",
    "    \n",
    "        \n",
    "        f_train = csv.reader(csv_train_data_file, delimiter=\",\", doublequote=True, lineterminator=\"\\r\\n\", quotechar='\"', skipinitialspace=True)\n",
    "        l_train=csv.reader(csv_train_label_file, delimiter=\",\", doublequote=True, lineterminator=\"\\r\\n\", quotechar='\"', skipinitialspace=True)\n",
    "        #valid-set\n",
    "    \n",
    "        csv_valid_data_file = open(\"./valid_data.csv\", \"r\", encoding=\"ms932\", errors=\"\", newline=\"\" ) #리스트 형식 \n",
    "        csv_valid_label_file = open(\"./valid_label.csv\", \"r\", encoding=\"ms932\", errors=\"\", newline=\"\" ) #리스트 형식 \n",
    "        \n",
    "        f_valid = csv.reader(csv_valid_data_file, delimiter=\",\", doublequote=True, lineterminator=\"\\r\\n\", quotechar='\"', skipinitialspace=True)\n",
    "        l_valid = csv.reader(csv_valid_label_file, delimiter=\",\", doublequote=True, lineterminator=\"\\r\\n\", quotechar='\"', skipinitialspace=True)\n",
    "        X_train=[]\n",
    "        y_train=[]\n",
    "        X_valid=[]\n",
    "        y_valid=[]\n",
    "        for i, row in enumerate(f_train):\n",
    "            #행마다 int로 형변환\n",
    "            for idx, char in enumerate(row):\n",
    "                row[idx]=int(char)\n",
    "            #train\n",
    "            #data 추가    \n",
    "            X_train.append(row)\n",
    "            \n",
    "        for i, row in enumerate(f_valid):\n",
    "            #행마다 int로 형변환\n",
    "            for idx, char in enumerate(row):\n",
    "                row[idx]=int(char)\n",
    "            #valid\n",
    "            #data 추가    \n",
    "            X_valid.append(row)\n",
    "\n",
    "\n",
    "        for i, row in enumerate(l_train):\n",
    "\n",
    "            #train\n",
    "            #label 추가\n",
    "            y_train.append(int(row[0]))\n",
    "            \n",
    "        for i, row in enumerate(l_valid):\n",
    "\n",
    "            #valid\n",
    "            #label 추가\n",
    "            y_valid.append(int(row[0]))\n",
    "            \n",
    "            \n",
    "        \n",
    "\n",
    "        #train\n",
    "        X_train=np.array(X_train,dtype=np.uint8)\n",
    "        X_train=X_train.reshape(-1,28,28)\n",
    "        #valid\n",
    "        X_valid=np.array(X_valid,dtype=np.uint8)\n",
    "        X_valid=X_valid.reshape(-1,28,28)\n",
    "        \n",
    "        csv_train_data_file.close()\n",
    "        csv_train_label_file.close()\n",
    "        csv_valid_data_file.close()\n",
    "        csv_valid_label_file.close()\n",
    "        \n",
    "        #kaggle dataset이 시계반대방향으로 90도 회전 되있고 상하 반전 되어있음\n",
    "        def rotate_90(m):\n",
    "            N = len(m)\n",
    "            ret = [[0] * N for _ in range(N)]\n",
    "\n",
    "            for r in range(N):\n",
    "                for c in range(N):\n",
    "                    ret[c][N-1-r] = m[r][c]\n",
    "            return np.array(ret,dtype=np.uint8)\n",
    "\n",
    "        def vreflect(m):\n",
    "            N = len(m)\n",
    "            ret = [[0] * N for _ in range(N)]\n",
    "\n",
    "            for r in range(N):\n",
    "                for c in range(N):\n",
    "                    ret[r][c] = m[r][N-1-c]\n",
    "            return np.array(ret,dtype=np.uint8)\n",
    "        \n",
    "        if needTranspose == True:\n",
    "            #train\n",
    "            #회전\n",
    "            for idx,i in enumerate(X_train):\n",
    "                X_train[idx]=rotate_90(i)\n",
    "            #상하반전\n",
    "            for idx,i in enumerate(X_train):\n",
    "                X_train[idx]=vreflect(i)\n",
    "\n",
    "            #valid\n",
    "            #회전\n",
    "            for idx,i in enumerate(X_valid):\n",
    "                X_valid[idx]=rotate_90(i)\n",
    "            #상하반전\n",
    "            for idx,i in enumerate(X_valid):\n",
    "                X_valid[idx]=vreflect(i)\n",
    "\n",
    "       \n",
    "        \n",
    "        \n",
    "        #저장용\n",
    "        #train\n",
    "        #(533917,28,28)\n",
    "        np.save('./X_train',X_train)\n",
    "        np.save('./y_train',y_train)\n",
    "        #valid\n",
    "        np.save('./X_valid',X_valid)\n",
    "        np.save('./y_valid',y_valid)\n",
    "        \n",
    "   \n",
    "    X_train=np.load('./X_train.npy')\n",
    "    y_train=np.load('./y_train.npy')\n",
    "    X_valid=np.load('./X_valid.npy')\n",
    "    y_valid=np.load('./y_valid.npy')\n",
    "    \n",
    "    return X_train, y_train, X_valid, y_valid\n"
   ]
  },
  {
   "cell_type": "code",
   "execution_count": 3,
   "id": "a15fdc87",
   "metadata": {},
   "outputs": [
    {
     "data": {
      "text/plain": [
       "((533917, 28, 28), dtype('uint8'))"
      ]
     },
     "execution_count": 3,
     "metadata": {},
     "output_type": "execute_result"
    }
   ],
   "source": [
    "#황성현\n",
    "#npy 파일이 존재할 경우 exsitNumpy = True, 업으면 False\n",
    "X_train, y_train, X_valid, y_valid = load_Emist(exsitNumpy=True)\n",
    "X_train.shape,X_train.dtype"
   ]
  },
  {
   "cell_type": "code",
   "execution_count": 4,
   "id": "3bdaa370",
   "metadata": {},
   "outputs": [],
   "source": [
    "X_train_letters = X_train[np.where(y_train>10)]"
   ]
  },
  {
   "cell_type": "code",
   "execution_count": 5,
   "id": "327e09c6",
   "metadata": {},
   "outputs": [],
   "source": [
    "y_train_letters = y_train[np.where(y_train>10)]"
   ]
  },
  {
   "cell_type": "code",
   "execution_count": 6,
   "id": "b934c0af",
   "metadata": {},
   "outputs": [],
   "source": [
    "for i in range (3):\n",
    "    X_train = np.append(X_train,X_train_letters,axis=0)\n",
    "    y_train = np.append(y_train, y_train_letters,axis=0)"
   ]
  },
  {
   "cell_type": "code",
   "execution_count": 7,
   "id": "d4bffe15",
   "metadata": {},
   "outputs": [
    {
     "data": {
      "text/plain": [
       "(1329679, 28, 28)"
      ]
     },
     "execution_count": 7,
     "metadata": {},
     "output_type": "execute_result"
    }
   ],
   "source": [
    "X_train.shape"
   ]
  },
  {
   "cell_type": "code",
   "execution_count": 8,
   "id": "74f472b4",
   "metadata": {},
   "outputs": [
    {
     "data": {
      "text/plain": [
       "52"
      ]
     },
     "execution_count": 8,
     "metadata": {},
     "output_type": "execute_result"
    }
   ],
   "source": [
    "import gc\n",
    "del X_train_letters, y_train_letters\n",
    "gc.collect()\n"
   ]
  },
  {
   "cell_type": "code",
   "execution_count": 9,
   "id": "f590d747",
   "metadata": {},
   "outputs": [
    {
     "data": {
      "image/png": "[encoded data removed]",
      "text/plain": [
       "<Figure size 432x288 with 1 Axes>"
      ]
     },
     "metadata": {
      "needs_background": "light"
     },
     "output_type": "display_data"
    },
    {
     "name": "stdout",
     "output_type": "stream",
     "text": [
      "28\n"
     ]
    }
   ],
   "source": [
    "import cv2 as cv\n",
    "%matplotlib inline\n",
    "import matplotlib as mpl\n",
    "import matplotlib.pyplot as plt\n",
    "ids=1\n",
    "X_new=X_train[ids]\n",
    "y_new=y_train[ids]\n",
    "c=X_new.reshape(28,28)\n",
    "\n",
    "\n",
    "plt.imshow(c, cmap=\"binary\")\n",
    "plt.axis('off')\n",
    "plt.show()\n",
    "print(y_new)"
   ]
  },
  {
   "cell_type": "markdown",
   "id": "5754f9ae",
   "metadata": {},
   "source": [
    "# Prepare the data"
   ]
  },
  {
   "cell_type": "code",
   "execution_count": 10,
   "id": "96560afa",
   "metadata": {},
   "outputs": [
    {
     "data": {
      "text/plain": [
       "1329679"
      ]
     },
     "execution_count": 10,
     "metadata": {},
     "output_type": "execute_result"
    }
   ],
   "source": [
    "#황성현\n",
    "#data, batch size 성정\n",
    "train_size=len(X_train)\n",
    "valid_size=len(X_valid)\n",
    "batch_size=32\n",
    "train_size"
   ]
  },
  {
   "cell_type": "code",
   "execution_count": 11,
   "id": "ff05b346",
   "metadata": {},
   "outputs": [
    {
     "data": {
      "text/plain": [
       "((1329679, 784), (164015, 784))"
      ]
     },
     "execution_count": 11,
     "metadata": {},
     "output_type": "execute_result"
    }
   ],
   "source": [
    "#황성현\n",
    "X_train=np.reshape(X_train,[-1,784])\n",
    "X_valid=np.reshape(X_valid,[-1,784])\n",
    "X_train.shape,X_valid.shape"
   ]
  },
  {
   "cell_type": "code",
   "execution_count": 12,
   "id": "0005b47e",
   "metadata": {},
   "outputs": [
    {
     "data": {
      "text/plain": [
       "((1329679, 1), (164015, 1))"
      ]
     },
     "execution_count": 12,
     "metadata": {},
     "output_type": "execute_result"
    }
   ],
   "source": [
    "#황성현\n",
    "y_train=np.reshape(y_train,[-1,1])\n",
    "y_valid=np.reshape(y_valid,[-1,1])\n",
    "\n",
    "y_train.shape,y_valid.shape"
   ]
  },
  {
   "cell_type": "code",
   "execution_count": 13,
   "id": "e3bf42eb",
   "metadata": {},
   "outputs": [
    {
     "name": "stdout",
     "output_type": "stream",
     "text": [
      "n_inputs = 784\n"
     ]
    }
   ],
   "source": [
    "n_inputs = X_train.shape[-1]\n",
    "print(\"n_inputs =\",n_inputs)"
   ]
  },
  {
   "cell_type": "code",
   "execution_count": 14,
   "id": "b536e205",
   "metadata": {},
   "outputs": [],
   "source": [
    "#황성현\n",
    "def save_to_multiple_csv_files(data, name_prefix, header=None, n_parts=10):\n",
    "    \n",
    "    Emnist_dir = os.path.join(\"D:\\AI_class\", \"Emnist\")\n",
    "    os.makedirs(Emnist_dir, exist_ok=True)\n",
    "    path_format = os.path.join(Emnist_dir, \"my_{}_{:02d}.csv\")\n",
    "\n",
    "    filepaths = []\n",
    "    m = len(data)\n",
    "    for file_idx, row_indices in enumerate(np.array_split(np.arange(m), n_parts)):\n",
    "        part_csv = path_format.format(name_prefix, file_idx)\n",
    "        filepaths.append(part_csv)\n",
    "        try:\n",
    "            with open(part_csv, \"xt\", encoding=\"utf-8\") as f:\n",
    "                if header is not None:\n",
    "                    f.write(header)\n",
    "                    f.write(\"\\n\")\n",
    "                for row_idx in row_indices:\n",
    "                    f.write(\",\".join([repr(col) for col in data[row_idx]]))\n",
    "                    f.write(\"\\n\")\n",
    "        except:\n",
    "            continue\n",
    "    return filepaths"
   ]
  },
  {
   "cell_type": "code",
   "execution_count": 15,
   "id": "d2e0c1a4",
   "metadata": {},
   "outputs": [],
   "source": [
    "train_full=np.append(X_train,y_train,axis=1)"
   ]
  },
  {
   "cell_type": "code",
   "execution_count": 16,
   "id": "64e595cd",
   "metadata": {},
   "outputs": [
    {
     "data": {
      "text/plain": [
       "(1329679, 785)"
      ]
     },
     "execution_count": 16,
     "metadata": {},
     "output_type": "execute_result"
    }
   ],
   "source": [
    "train_full.shape"
   ]
  },
  {
   "cell_type": "code",
   "execution_count": 17,
   "id": "8571194b",
   "metadata": {},
   "outputs": [
    {
     "data": {
      "text/plain": [
       "2913"
      ]
     },
     "execution_count": 17,
     "metadata": {},
     "output_type": "execute_result"
    }
   ],
   "source": [
    "#황성현\n",
    "#메모리 해제\n",
    "del X_train, y_train\n",
    "gc.collect()"
   ]
  },
  {
   "cell_type": "code",
   "execution_count": 18,
   "id": "61948749",
   "metadata": {},
   "outputs": [],
   "source": [
    "#황성현\n",
    "train_filepaths = save_to_multiple_csv_files(train_full, \"train\", n_parts=20)"
   ]
  },
  {
   "cell_type": "code",
   "execution_count": 19,
   "id": "fe16a5af",
   "metadata": {},
   "outputs": [],
   "source": [
    "valid_full=np.append(X_valid,y_valid,axis=1)"
   ]
  },
  {
   "cell_type": "code",
   "execution_count": 20,
   "id": "4161a59c",
   "metadata": {},
   "outputs": [
    {
     "data": {
      "text/plain": [
       "0"
      ]
     },
     "execution_count": 20,
     "metadata": {},
     "output_type": "execute_result"
    }
   ],
   "source": [
    "#황성현\n",
    "#메모리 해제\n",
    "del X_valid, y_valid\n",
    "gc.collect()"
   ]
  },
  {
   "cell_type": "code",
   "execution_count": 21,
   "id": "a0b8da61",
   "metadata": {},
   "outputs": [],
   "source": [
    "#황성현\n",
    "\n",
    "valid_filepaths = save_to_multiple_csv_files(valid_full, \"valid\", n_parts=20)"
   ]
  },
  {
   "cell_type": "code",
   "execution_count": 22,
   "id": "ed2dd403",
   "metadata": {},
   "outputs": [
    {
     "data": {
      "text/plain": [
       "0"
      ]
     },
     "execution_count": 22,
     "metadata": {},
     "output_type": "execute_result"
    }
   ],
   "source": [
    "#황성현\n",
    "#메모리 해제\n",
    "del valid_full, train_full\n",
    "gc.collect()"
   ]
  },
  {
   "cell_type": "code",
   "execution_count": 23,
   "id": "43caff2a",
   "metadata": {},
   "outputs": [],
   "source": [
    "#황성현\n",
    "from tensorflow.keras.preprocessing.image import ImageDataGenerator\n",
    "import random\n",
    "\n",
    "def dataaugmentation(X):\n",
    "    datagen=ImageDataGenerator(rotation_range=40,width_shift_range = 0.2, \n",
    "        height_shift_range = 0.2)\n",
    "    #영어 부분 2배 생성\n",
    "    #차원변환 \n",
    "    X=tf.reshape(X,[28,28,1])\n",
    "\n",
    "    #새로운 데이터 생성\n",
    "    angle=(random.random()%1)*0.8 - 0.4\n",
    "    image_result =tfa.image.rotate(X, tf.constant(angle))#rotate -pi/10 ~ pi/10\n",
    "    shift=(random.random()%1)*2 - 1\n",
    "    image_result=tfa.image.translate(image_result,[tf.constant(shift),tf.constant(shift)])\n",
    "    \n",
    "    return image_result"
   ]
  },
  {
   "cell_type": "code",
   "execution_count": 24,
   "id": "416afafa",
   "metadata": {},
   "outputs": [],
   "source": [
    "#황성현\n",
    "@tf.function\n",
    "def preprocess_mobilenet_v2(line,randomize=False):\n",
    "    defs = [0.] * n_inputs + [tf.constant([], dtype=tf.float32)]\n",
    "    fields = tf.io.decode_csv(line, record_defaults=defs)\n",
    "    x = tf.stack(fields[:-1])\n",
    "    x=tf.reshape(x,[28,28,1])\n",
    "    y = tf.stack(fields[-1:])\n",
    "    augment_image = x\n",
    "    if y > 10 and randomize:\n",
    "        augment_image = dataaugmentation(x)\n",
    "        \n",
    "        \n",
    "    resized_image = tf.image.resize(augment_image, [224, 224])\n",
    "    if resized_image.shape[2] == 1:\n",
    "        temp=tf.concat([resized_image,resized_image],2)\n",
    "        resized_image=tf.concat([temp,resized_image],2)\n",
    "    final_image = keras.applications.mobilenet_v2.preprocess_input(resized_image)\n",
    "    \n",
    "    return final_image, y\n",
    "\n",
    "@tf.function\n",
    "def preprocess_resnet50(line,randomize=False):\n",
    "    defs = [0.] * n_inputs + [tf.constant([], dtype=tf.float32)]\n",
    "    fields = tf.io.decode_csv(line, record_defaults=defs)\n",
    "    x = tf.stack(fields[:-1])\n",
    "    x=tf.reshape(x,[28,28,1])\n",
    "    y = tf.stack(fields[-1:])\n",
    "    augment_image = x\n",
    "    if y > 10 and randomize:\n",
    "        augment_image = dataaugmentation(x)\n",
    "        \n",
    "        \n",
    "    resized_image = tf.image.resize(augment_image, [224, 224])\n",
    "    if resized_image.shape[2] == 1:\n",
    "        temp=tf.concat([resized_image,resized_image],2)\n",
    "        resized_image=tf.concat([temp,resized_image],2)\n",
    "    final_image = keras.applications.resnet50.preprocess_input(resized_image)\n",
    "    \n",
    "    return final_image, y\n",
    "\n",
    "@tf.function\n",
    "def preprocess_vgg16(line,randomize=False):\n",
    "    defs = [0.] * n_inputs + [tf.constant([], dtype=tf.float32)]\n",
    "    fields = tf.io.decode_csv(line, record_defaults=defs)\n",
    "    x = tf.stack(fields[:-1])\n",
    "    x=tf.reshape(x,[28,28,1])\n",
    "    y = tf.stack(fields[-1:])\n",
    "    augment_image = x\n",
    "    if y > 10 and randomize:\n",
    "        augment_image = dataaugmentation(x)\n",
    "        \n",
    "        \n",
    "    resized_image = tf.image.resize(augment_image, [224, 224])\n",
    "    if resized_image.shape[2] == 1:\n",
    "        temp=tf.concat([resized_image,resized_image],2)\n",
    "        resized_image=tf.concat([temp,resized_image],2)\n",
    "    final_image = keras.applications.vgg16.preprocess_input(resized_image)\n",
    "    \n",
    "    return final_image, y\n",
    "\n",
    "@tf.function\n",
    "def preprocess_renet(line,randomize=False):\n",
    "    defs = [0.] * n_inputs + [tf.constant([], dtype=tf.float32)]\n",
    "    fields = tf.io.decode_csv(line, record_defaults=defs)\n",
    "    x = tf.stack(fields[:-1])\n",
    "    x=tf.reshape(x,[28,28,1])\n",
    "    y = tf.stack(fields[-1:])\n",
    "    augment_image = x\n",
    "    if y > 10 and randomize:\n",
    "        augment_image = dataaugmentation(x)\n",
    "        \n",
    "   \n",
    "    return augment_image, y\n",
    "\n",
    "@tf.function\n",
    "def preprocess_xception(line,randomize=False):\n",
    "    defs = [0.] * n_inputs + [tf.constant([], dtype=tf.float32)]\n",
    "    fields = tf.io.decode_csv(line, record_defaults=defs)\n",
    "    x = tf.stack(fields[:-1])\n",
    "    x=tf.reshape(x,[28,28,1])\n",
    "    y = tf.stack(fields[-1:])\n",
    "    augment_image = x\n",
    "    if y > 10 and randomize:\n",
    "        augment_image = dataaugmentation(x)\n",
    "        \n",
    "        \n",
    "    resized_image = tf.image.resize(augment_image, [224, 224])\n",
    "    if resized_image.shape[2] == 1:\n",
    "        temp=tf.concat([resized_image,resized_image],2)\n",
    "        resized_image=tf.concat([temp,resized_image],2)\n",
    "    final_image = keras.applications.xception.preprocess_input(resized_image)\n",
    "    \n",
    "    return final_image, y\n",
    "\n",
    "@tf.function\n",
    "def preprocess_inception_v3(line,randomize=False):\n",
    "    defs = [0.] * n_inputs + [tf.constant([], dtype=tf.float32)]\n",
    "    fields = tf.io.decode_csv(line, record_defaults=defs)\n",
    "    x = tf.stack(fields[:-1])\n",
    "    x=tf.reshape(x,[28,28,1])\n",
    "    y = tf.stack(fields[-1:])\n",
    "    augment_image = x\n",
    "    if y > 10 and randomize:\n",
    "        augment_image = dataaugmentation(x)\n",
    "        \n",
    "        \n",
    "    resized_image = tf.image.resize(augment_image, [224, 224])\n",
    "    if resized_image.shape[2] == 1:\n",
    "        temp=tf.concat([resized_image,resized_image],2)\n",
    "        resized_image=tf.concat([temp,resized_image],2)\n",
    "    final_image = keras.applications.inception_v3.preprocess_input(resized_image)\n",
    "    \n",
    "    return final_image, y"
   ]
  },
  {
   "cell_type": "code",
   "execution_count": 25,
   "id": "e7eda63f",
   "metadata": {},
   "outputs": [],
   "source": [
    "#황성현\n",
    "from enum import Enum\n",
    "class eModelName(Enum):\n",
    "    mobilenet_v2 = 0,\n",
    "    resnet50 = 1,\n",
    "    vgg16 = 3,\n",
    "    renet = 4,\n",
    "    xception = 5,\n",
    "    inception_v3 = 6\n",
    "    "
   ]
  },
  {
   "cell_type": "code",
   "execution_count": 26,
   "id": "bf65fab2",
   "metadata": {},
   "outputs": [],
   "source": [
    "#황성현\n",
    "from functools import partial\n",
    "def csv_reader_dataset(filepaths, model_name, repeat=1, n_readers=5,\n",
    "                       n_read_threads=None, shuffle_buffer_size=10000,\n",
    "                       n_parse_threads=5, batch_size=32,randomize=True):\n",
    "    dataset = tf.data.Dataset.list_files(filepaths).repeat(repeat)\n",
    "    dataset = dataset.interleave(\n",
    "        lambda filepath: tf.data.TextLineDataset(filepath).skip(1),\n",
    "        cycle_length=n_readers, num_parallel_calls=n_read_threads)\n",
    "    dataset = dataset.shuffle(shuffle_buffer_size)\n",
    "    if model_name == eModelName.mobilenet_v2:\n",
    "        dataset = dataset.map(partial(preprocess_mobilenet_v2,randomize=randomize), num_parallel_calls=n_parse_threads)\n",
    "        print(model_name.name)\n",
    "    elif model_name == eModelName.resnet50:\n",
    "        dataset = dataset.map(partial(preprocess_resnet50,randomize=randomize), num_parallel_calls=n_parse_threads)\n",
    "        print(model_name.name)\n",
    "    elif model_name == eModelName.vgg16:\n",
    "        dataset = dataset.map(partial(preprocess_vgg16,randomize=randomize), num_parallel_calls=n_parse_threads)\n",
    "        print(model_name.name)\n",
    "    elif model_name == eModelName.renet:\n",
    "        dataset = dataset.map(partial(preprocess_renet,randomize=randomize), num_parallel_calls=n_parse_threads)\n",
    "        print(model_name.name)\n",
    "    elif model_name == eModelName.xception:\n",
    "        dataset = dataset.map(partial(preprocess_xception,randomize=randomize), num_parallel_calls=n_parse_threads)\n",
    "        print(model_name.name)\n",
    "    elif model_name == eModelName.inception_v3:\n",
    "        dataset = dataset.map(partial(preprocess_inception_v3,randomize=randomize), num_parallel_calls=n_parse_threads)\n",
    "        print(model_name.name)\n",
    "    dataset = dataset.batch(batch_size)\n",
    "    return dataset.prefetch(1)"
   ]
  },
  {
   "cell_type": "code",
   "execution_count": 27,
   "id": "8b66c9e0",
   "metadata": {},
   "outputs": [
    {
     "name": "stdout",
     "output_type": "stream",
     "text": [
      "vgg16\n",
      "vgg16\n"
     ]
    },
    {
     "data": {
      "text/plain": [
       "(<PrefetchDataset element_spec=(TensorSpec(shape=(None, 224, 224, 3), dtype=tf.float32, name=None), TensorSpec(shape=(None, 1), dtype=tf.float32, name=None))>,\n",
       " <PrefetchDataset element_spec=(TensorSpec(shape=(None, 224, 224, 3), dtype=tf.float32, name=None), TensorSpec(shape=(None, 1), dtype=tf.float32, name=None))>)"
      ]
     },
     "execution_count": 27,
     "metadata": {},
     "output_type": "execute_result"
    }
   ],
   "source": [
    "#황성현\n",
    "#csv_reader_dataset의 파라미터 model_name에 eModelNAme class의 맴버 변수 중 사용할 모델 입력\n",
    "#ex) model_name = eModelName.inception_v3, model_name = eModelName.renet \n",
    "tf.random.set_seed(42)\n",
    "\n",
    "train_set = csv_reader_dataset(train_filepaths, model_name = eModelName.vgg16, batch_size=batch_size, repeat=None)\n",
    "valid_set = csv_reader_dataset(valid_filepaths, model_name = eModelName.vgg16, \n",
    "                               batch_size=batch_size, repeat=None, randomize = False)\n",
    "train_set,valid_set"
   ]
  },
  {
   "cell_type": "markdown",
   "id": "5953aa06",
   "metadata": {},
   "source": [
    "# VGG16 by 박민성, 황성현"
   ]
  },
  {
   "cell_type": "code",
   "execution_count": 28,
   "id": "cbb31610",
   "metadata": {},
   "outputs": [],
   "source": [
    "n_classes=62\n",
    "base_model = keras.applications.vgg16.VGG16(weights=\"imagenet\",\n",
    "                                                  include_top=False)\n",
    "avg = keras.layers.GlobalAveragePooling2D()(base_model.output)\n",
    "output = keras.layers.Dense(n_classes, activation=\"softmax\")(avg)\n",
    "model_vgg16 = keras.models.Model(inputs=base_model.input, outputs=output)\n"
   ]
  },
  {
   "cell_type": "code",
   "execution_count": 29,
   "id": "7782580c",
   "metadata": {
    "scrolled": true
   },
   "outputs": [
    {
     "name": "stdout",
     "output_type": "stream",
     "text": [
      "Model: \"model\"\n",
      "_________________________________________________________________\n",
      " Layer (type)                Output Shape              Param #   \n",
      "=================================================================\n",
      " input_1 (InputLayer)        [(None, None, None, 3)]   0         \n",
      "                                                                 \n",
      " block1_conv1 (Conv2D)       (None, None, None, 64)    1792      \n",
      "                                                                 \n",
      " block1_conv2 (Conv2D)       (None, None, None, 64)    36928     \n",
      "                                                                 \n",
      " block1_pool (MaxPooling2D)  (None, None, None, 64)    0         \n",
      "                                                                 \n",
      " block2_conv1 (Conv2D)       (None, None, None, 128)   73856     \n",
      "                                                                 \n",
      " block2_conv2 (Conv2D)       (None, None, None, 128)   147584    \n",
      "                                                                 \n",
      " block2_pool (MaxPooling2D)  (None, None, None, 128)   0         \n",
      "                                                                 \n",
      " block3_conv1 (Conv2D)       (None, None, None, 256)   295168    \n",
      "                                                                 \n",
      " block3_conv2 (Conv2D)       (None, None, None, 256)   590080    \n",
      "                                                                 \n",
      " block3_conv3 (Conv2D)       (None, None, None, 256)   590080    \n",
      "                                                                 \n",
      " block3_pool (MaxPooling2D)  (None, None, None, 256)   0         \n",
      "                                                                 \n",
      " block4_conv1 (Conv2D)       (None, None, None, 512)   1180160   \n",
      "                                                                 \n",
      " block4_conv2 (Conv2D)       (None, None, None, 512)   2359808   \n",
      "                                                                 \n",
      " block4_conv3 (Conv2D)       (None, None, None, 512)   2359808   \n",
      "                                                                 \n",
      " block4_pool (MaxPooling2D)  (None, None, None, 512)   0         \n",
      "                                                                 \n",
      " block5_conv1 (Conv2D)       (None, None, None, 512)   2359808   \n",
      "                                                                 \n",
      " block5_conv2 (Conv2D)       (None, None, None, 512)   2359808   \n",
      "                                                                 \n",
      " block5_conv3 (Conv2D)       (None, None, None, 512)   2359808   \n",
      "                                                                 \n",
      " block5_pool (MaxPooling2D)  (None, None, None, 512)   0         \n",
      "                                                                 \n",
      " global_average_pooling2d (G  (None, 512)              0         \n",
      " lobalAveragePooling2D)                                          \n",
      "                                                                 \n",
      " dense (Dense)               (None, 62)                31806     \n",
      "                                                                 \n",
      "=================================================================\n",
      "Total params: 14,746,494\n",
      "Trainable params: 14,746,494\n",
      "Non-trainable params: 0\n",
      "_________________________________________________________________\n"
     ]
    }
   ],
   "source": [
    "model_vgg16.summary()"
   ]
  },
  {
   "cell_type": "code",
   "execution_count": 30,
   "id": "19c7b544",
   "metadata": {},
   "outputs": [
    {
     "name": "stdout",
     "output_type": "stream",
     "text": [
      "Epoch 1/2\n",
      "41552/41552 [==============================] - 4616s 111ms/step - loss: 0.5568 - accuracy: 0.8238 - val_loss: 8.6401 - val_accuracy: 0.5000\n",
      "Epoch 2/2\n",
      "41552/41552 [==============================] - 4276s 103ms/step - loss: 0.4895 - accuracy: 0.8400 - val_loss: 11.0648 - val_accuracy: 0.5023\n"
     ]
    }
   ],
   "source": [
    "for layer in base_model.layers:\n",
    "    layer.trainable = False\n",
    "model_vgg16.compile(loss=\"sparse_categorical_crossentropy\", optimizer=\"nadam\",\n",
    "              metrics=[\"accuracy\"])\n",
    "\n",
    "check_best_cb = tf.keras.callbacks.ModelCheckpoint(\"vgg16_best_nadam.h5\",save_best_only=True)\n",
    "check_last_cb = tf.keras.callbacks.ModelCheckpoint(\"vgg16_last_nadam.h5\",save_best_only=False)\n",
    "\n",
    "\n",
    "history = model_vgg16.fit(train_set,\n",
    "                    steps_per_epoch=int(train_size / batch_size),\n",
    "                    validation_data=valid_set,\n",
    "                    validation_steps=int(valid_size / batch_size),\n",
    "                    epochs=2,callbacks=[check_best_cb,check_last_cb])"
   ]
  },
  {
   "cell_type": "code",
   "execution_count": 32,
   "id": "287c69fa",
   "metadata": {},
   "outputs": [
    {
     "name": "stdout",
     "output_type": "stream",
     "text": [
      "Epoch 1/300\n",
      "41552/41552 [==============================] - 11720s 282ms/step - loss: 5.9615 - accuracy: 0.8575 - val_loss: 3.9377 - val_accuracy: 0.5460\n",
      "Epoch 2/300\n",
      "41552/41552 [==============================] - 11707s 282ms/step - loss: 0.2817 - accuracy: 0.8931 - val_loss: 5.0083 - val_accuracy: 0.5521\n",
      "Epoch 3/300\n",
      "41552/41552 [==============================] - 11714s 282ms/step - loss: 0.2332 - accuracy: 0.9103 - val_loss: 7.4008 - val_accuracy: 0.5225\n",
      "Epoch 4/300\n",
      "41552/41552 [==============================] - 11711s 282ms/step - loss: 0.4647 - accuracy: 0.8506 - val_loss: 7.3384 - val_accuracy: 0.5009\n",
      "Epoch 5/300\n",
      "41552/41552 [==============================] - 11713s 282ms/step - loss: 0.2534 - accuracy: 0.9067 - val_loss: 4.8792 - val_accuracy: 0.5878\n",
      "Epoch 6/300\n",
      "41552/41552 [==============================] - 11708s 282ms/step - loss: 0.4549 - accuracy: 0.8585 - val_loss: 2.1724 - val_accuracy: 0.6579\n",
      "Epoch 7/300\n",
      "41552/41552 [==============================] - 11693s 281ms/step - loss: 1.5149 - accuracy: 0.6034 - val_loss: 3.8321 - val_accuracy: 0.0358\n",
      "Epoch 8/300\n",
      "41552/41552 [==============================] - 11659s 281ms/step - loss: 3.8543 - accuracy: 0.0573 - val_loss: 3.7626 - val_accuracy: 0.0354\n",
      "Epoch 9/300\n",
      "41552/41552 [==============================] - 11665s 281ms/step - loss: 3.8716 - accuracy: 0.0574 - val_loss: 3.7824 - val_accuracy: 0.0360\n",
      "Epoch 10/300\n",
      "41552/41552 [==============================] - 11665s 281ms/step - loss: 3.8227 - accuracy: 0.0572 - val_loss: 5.6875 - val_accuracy: 0.0352\n",
      "Epoch 11/300\n",
      "41552/41552 [==============================] - 11673s 281ms/step - loss: 3.8931 - accuracy: 0.0572 - val_loss: 3.7706 - val_accuracy: 0.0352\n",
      "Epoch 12/300\n",
      "41552/41552 [==============================] - 11662s 281ms/step - loss: 3.8740 - accuracy: 0.0573 - val_loss: 3.7042 - val_accuracy: 0.0556\n",
      "Epoch 13/300\n",
      "41552/41552 [==============================] - 11662s 281ms/step - loss: 3.8141 - accuracy: 0.0571 - val_loss: 5.9702 - val_accuracy: 0.0359\n",
      "Epoch 14/300\n",
      "41552/41552 [==============================] - 11667s 281ms/step - loss: 3.8243 - accuracy: 0.0611 - val_loss: 3.6857 - val_accuracy: 0.0556\n",
      "Epoch 15/300\n",
      "41552/41552 [==============================] - 11650s 280ms/step - loss: 3.8683 - accuracy: 0.0567 - val_loss: 3.8767 - val_accuracy: 0.0352\n",
      "Epoch 16/300\n",
      "41552/41552 [==============================] - 11666s 281ms/step - loss: 3.8554 - accuracy: 0.0572 - val_loss: 3.7692 - val_accuracy: 0.0358\n"
     ]
    }
   ],
   "source": [
    "import datetime as dt\n",
    "for layer in base_model.layers:\n",
    "    layer.trainable = True\n",
    "model_vgg16.compile(loss=\"sparse_categorical_crossentropy\", optimizer=\"nadam\",\n",
    "              metrics=[\"accuracy\"])\n",
    "\n",
    "\n",
    "logs = \"logs/\" + dt.datetime.now().strftime(\"VGG16%Y%m%d-%H%M%S\")\n",
    "tboard_callback = tf.keras.callbacks.TensorBoard(log_dir = logs,\n",
    "                                                 histogram_freq = 1,\n",
    "                                                 profile_batch = '500,520')\n",
    "early_stop_cb=tf.keras.callbacks.EarlyStopping(patience=10,restore_best_weights=True)\n",
    "history = model_vgg16.fit(train_set,\n",
    "                    steps_per_epoch=int(train_size / batch_size),\n",
    "                    validation_data=valid_set,\n",
    "                    validation_steps=int(valid_size / batch_size),\n",
    "                    epochs=300,callbacks=[check_best_cb,check_last_cb,tboard_callback,early_stop_cb])"
   ]
  },
  {
   "cell_type": "code",
   "execution_count": null,
   "id": "d3649cde",
   "metadata": {},
   "outputs": [],
   "source": []
  }
 ],
 "metadata": {
  "kernelspec": {
   "display_name": "Python 3 (ipykernel)",
   "language": "python",
   "name": "python3"
  },
  "language_info": {
   "codemirror_mode": {
    "name": "ipython",
    "version": 3
   },
   "file_extension": ".py",
   "mimetype": "text/x-python",
   "name": "python",
   "nbconvert_exporter": "python",
   "pygments_lexer": "ipython3",
   "version": "3.9.7"
  }
 },
 "nbformat": 4,
 "nbformat_minor": 5
}

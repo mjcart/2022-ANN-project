{
 "cells": [
  {
   "cell_type": "code",
   "execution_count": 1,
   "id": "9289fccd-b496-4478-ab47-16d5f0112be7",
   "metadata": {},
   "outputs": [
    {
     "name": "stderr",
     "output_type": "stream",
     "text": [
      "<frozen importlib._bootstrap>:228: RuntimeWarning: scipy._lib.messagestream.MessageStream size changed, may indicate binary incompatibility. Expected 56 from C header, got 64 from PyObject\n"
     ]
    },
    {
     "name": "stdout",
     "output_type": "stream",
     "text": [
      "sklearn version:  1.0.2\n",
      "Requirement already satisfied: tensorflow_addons in /opt/conda/lib/python3.9/site-packages (0.17.0)\n",
      "Requirement already satisfied: packaging in /opt/conda/lib/python3.9/site-packages (from tensorflow_addons) (21.0)\n",
      "Requirement already satisfied: typeguard>=2.7 in /opt/conda/lib/python3.9/site-packages (from tensorflow_addons) (2.13.3)\n",
      "Requirement already satisfied: pyparsing>=2.0.2 in /opt/conda/lib/python3.9/site-packages (from packaging->tensorflow_addons) (3.0.3)\n",
      "TF version:  2.8.0\n",
      "GPU installed:  True\n",
      "4 Physical GPUs, 4 Logical GPUs\n"
     ]
    },
    {
     "name": "stderr",
     "output_type": "stream",
     "text": [
      "2022-06-07 09:00:46.821499: I tensorflow/core/platform/cpu_feature_guard.cc:151] This TensorFlow binary is optimized with oneAPI Deep Neural Network Library (oneDNN) to use the following CPU instructions in performance-critical operations:  AVX2 AVX512F FMA\n",
      "To enable them in other operations, rebuild TensorFlow with the appropriate compiler flags.\n",
      "2022-06-07 09:00:48.598127: I tensorflow/core/common_runtime/gpu/gpu_device.cc:1525] Created device /job:localhost/replica:0/task:0/device:GPU:0 with 14791 MB memory:  -> device: 0, name: Quadro RTX 5000, pci bus id: 0000:19:00.0, compute capability: 7.5\n",
      "2022-06-07 09:00:48.599151: I tensorflow/core/common_runtime/gpu/gpu_device.cc:1525] Created device /job:localhost/replica:0/task:0/device:GPU:1 with 14791 MB memory:  -> device: 1, name: Quadro RTX 5000, pci bus id: 0000:1a:00.0, compute capability: 7.5\n",
      "2022-06-07 09:00:48.600000: I tensorflow/core/common_runtime/gpu/gpu_device.cc:1525] Created device /job:localhost/replica:0/task:0/device:GPU:2 with 14791 MB memory:  -> device: 2, name: Quadro RTX 5000, pci bus id: 0000:67:00.0, compute capability: 7.5\n",
      "2022-06-07 09:00:48.600854: I tensorflow/core/common_runtime/gpu/gpu_device.cc:1525] Created device /job:localhost/replica:0/task:0/device:GPU:3 with 14697 MB memory:  -> device: 3, name: Quadro RTX 5000, pci bus id: 0000:68:00.0, compute capability: 7.5\n"
     ]
    }
   ],
   "source": [
    "# Python ≥3.5 is required\n",
    "import sys\n",
    "assert sys.version_info >= (3, 5)\n",
    "\n",
    "# Scikit-Learn ≥0.20 is required\n",
    "import sklearn\n",
    "print(\"sklearn version: \", sklearn.__version__)\n",
    "assert sklearn.__version__ >= \"0.20\"\n",
    "\n",
    "try:\n",
    "    # %tensorflow_version only exists in Colab.\n",
    "    %tensorflow_version 2.x\n",
    "    IS_COLAB = True\n",
    "except Exception:\n",
    "    IS_COLAB = False\n",
    "\n",
    "# TensorFlow ≥2.0 is required\n",
    "import tensorflow as tf\n",
    "!pip install tensorflow_addons\n",
    "import tensorflow_addons as tfa\n",
    "from tensorflow import keras\n",
    "print(\"TF version: \", tf.__version__)\n",
    "assert tf.__version__ >= \"2.0\"\n",
    "\n",
    "if not tf.config.list_physical_devices('GPU'):\n",
    "    print(\"No GPU was detected. CNNs can be very slow without a GPU.\")\n",
    "    if IS_COLAB:\n",
    "        print(\"Go to Runtime > Change runtime and select a GPU hardware accelerator.\")\n",
    "\n",
    "# GPU test\n",
    "print(\"GPU installed: \",tf.test.is_built_with_gpu_support())\n",
    "\n",
    "# To prevent \"CUDNN_STATUS_ALLOC_FAILED\" error with GPUs\n",
    "gpus = tf.config.experimental.list_physical_devices('GPU')\n",
    "if gpus:\n",
    "  try:\n",
    "    # Currently, memory growth needs to be the same across GPUs\n",
    "    for gpu in gpus:\n",
    "      tf.config.experimental.set_memory_growth(gpu, True)\n",
    "    logical_gpus = tf.config.experimental.list_logical_devices('GPU')\n",
    "    print(len(gpus), \"Physical GPUs,\", len(logical_gpus), \"Logical GPUs\")\n",
    "  except RuntimeError as e:\n",
    "    # Memory growth must be set before GPUs have been initialized\n",
    "    print(e)\n",
    "    \n",
    "# Common imports\n",
    "import numpy as np\n",
    "import os\n",
    "\n",
    "# to make this notebook's output stable across runs\n",
    "np.random.seed(42)\n",
    "tf.random.set_seed(42)\n",
    "\n",
    "# To plot pretty figures\n",
    "%matplotlib inline\n",
    "import matplotlib as mpl\n",
    "import matplotlib.pyplot as plt\n",
    "mpl.rc('axes', labelsize=14)\n",
    "mpl.rc('xtick', labelsize=12)\n",
    "mpl.rc('ytick', labelsize=12)\n",
    "\n",
    "# Where to save the figures\n",
    "PROJECT_ROOT_DIR = \".\"\n",
    "CHAPTER_ID = \"cnn\"\n",
    "IMAGES_PATH = os.path.join(PROJECT_ROOT_DIR, \"images\", CHAPTER_ID)\n",
    "os.makedirs(IMAGES_PATH, exist_ok=True)\n",
    "\n",
    "def save_fig(fig_id, tight_layout=True, fig_extension=\"png\", resolution=300):\n",
    "    path = os.path.join(IMAGES_PATH, fig_id + \".\" + fig_extension)\n",
    "    print(\"Saving figure\", fig_id)\n",
    "    if tight_layout:\n",
    "        plt.tight_layout()\n",
    "    plt.savefig(path, format=fig_extension, dpi=resolution)\n",
    "    \n",
    "# Ignore useless warnings (see SciPy issue #5998)\n",
    "import warnings\n",
    "warnings.filterwarnings(action=\"ignore\", message=\"^internal gelsd\")    \n",
    "\n",
    "from tensorflow.python.keras.utils.data_utils import Sequence"
   ]
  },
  {
   "cell_type": "code",
   "execution_count": 2,
   "id": "a43846f0-ee03-4e04-8da2-36dcdcde6fd7",
   "metadata": {},
   "outputs": [],
   "source": [
    "X_train=np.uint8(np.load('./X_train_aug.npy'))\n",
    "y_train=np.uint8(np.load('./y_train_aug.npy'))\n",
    "X_valid=np.uint8(np.load('./X_valid.npy'))\n",
    "y_valid=np.uint8(np.load('./y_valid.npy'))"
   ]
  },
  {
   "cell_type": "code",
   "execution_count": 3,
   "id": "5f4228f8-9224-42bf-80fa-d905375844fd",
   "metadata": {},
   "outputs": [
    {
     "name": "stderr",
     "output_type": "stream",
     "text": [
      "2022-06-07 09:00:50.123461: W tensorflow/core/framework/cpu_allocator_impl.cc:82] Allocation of 671805440 exceeds 10% of free system memory.\n"
     ]
    },
    {
     "data": {
      "text/plain": [
       "((1074263, 32, 32, 1), (164015, 32, 32, 1), dtype('uint8'))"
      ]
     },
     "execution_count": 3,
     "metadata": {},
     "output_type": "execute_result"
    }
   ],
   "source": [
    "X_valid=tf.reshape(X_valid,[-1,28,28,1])\n",
    "X_valid_resize=np.uint8(tf.image.resize(X_valid, [32, 32]))\n",
    "X_train.shape,X_valid_resize.shape,X_train.dtype"
   ]
  },
  {
   "cell_type": "code",
   "execution_count": 4,
   "id": "b0aa6eda-4eba-4e2b-8f42-83f61993a2f5",
   "metadata": {},
   "outputs": [],
   "source": [
    "#황성현 전민재 He_normal initializer\n",
    "class Inveted_Residual_Block(keras.layers.Layer):\n",
    "    def __init__(self,c,s=1,t=1,n=1,**kwargs):\n",
    "        super().__init__(**kwargs)\n",
    "        self.activation = keras.layers.ReLU(max_value=6)\n",
    "        self.main_layers = [\n",
    "            \n",
    "            ]\n",
    "        self.strides_layers=[\n",
    "           ]\n",
    "        self.s=s\n",
    "        self.t=t\n",
    "        self.c=c\n",
    "        self.n=n\n",
    "        \n",
    "    def build(self,batch_input_shape):\n",
    "        print(self.name,\": batch_input_shape =\",batch_input_shape)\n",
    "        initializer = tf.keras.initializers.HeNormal()\n",
    "        self.main_layers = [\n",
    "            keras.layers.BatchNormalization(),\n",
    "            keras.layers.Conv2D(filters=batch_input_shape[-1]*self.t, kernel_size=1,strides=1, kernel_initializer=initializer,\n",
    "                                padding=\"SAME\", activation=self.activation),\n",
    "            keras.layers.BatchNormalization(),\n",
    "            keras.layers.DepthwiseConv2D(kernel_size=3, strides=1,padding=\"SAME\", activation=self.activation,kernel_initializer=initializer),\n",
    "            keras.layers.BatchNormalization(),\n",
    "            keras.layers.Conv2D(filters=self.c,kernel_size=1, strides=1,padding=\"SAME\", activation=self.activation,kernel_initializer=initializer),\n",
    "            ]\n",
    "        self.strides_layers=[\n",
    "            keras.layers.BatchNormalization(),\n",
    "            keras.layers.Conv2D(filters=batch_input_shape[-1]*self.t, kernel_size=1,strides=1,kernel_initializer=initializer,\n",
    "                                padding=\"SAME\", activation=self.activation),\n",
    "            keras.layers.BatchNormalization(),\n",
    "            keras.layers.DepthwiseConv2D(kernel_size=3, strides=self.s,padding=\"SAME\",activation=self.activation,kernel_initializer=initializer),\n",
    "            keras.layers.BatchNormalization(),\n",
    "            keras.layers.Conv2D(filters=self.c, kernel_size=1,strides=1,padding=\"SAME\",activation=self.activation,kernel_initializer=initializer),\n",
    "        ]\n",
    "\n",
    "    def call(self, inputs):\n",
    "        Z = inputs\n",
    "        \n",
    "        for n in range(0,self.n):\n",
    "            if n == 0:\n",
    "                for layer in self.strides_layers:\n",
    "                    Z = layer(Z)\n",
    "            else:\n",
    "                skip_Z = Z\n",
    "                for layer in self.main_layers:\n",
    "                    Z = layer(Z)\n",
    "                \n",
    "                Z += skip_Z\n",
    "    \n",
    "        return Z\n",
    "    \n",
    "    def get_config(self):\n",
    "        base=super().get_config()\n",
    "        return{**base,\"s\":self.s,\"t\":self.t,\"c\":self.c,\"n\":self.n}"
   ]
  },
  {
   "cell_type": "code",
   "execution_count": 5,
   "id": "34fb2330-2ff3-4979-9901-e2f0da8d336a",
   "metadata": {},
   "outputs": [
    {
     "name": "stdout",
     "output_type": "stream",
     "text": [
      "IRB1 : batch_input_shape = (None, 16, 16, 32)\n",
      "IRB2 : batch_input_shape = (None, 16, 16, 16)\n",
      "IRB3 : batch_input_shape = (None, 8, 8, 16)\n",
      "IRB4 : batch_input_shape = (None, 4, 4, 32)\n",
      "IRB5 : batch_input_shape = (None, 2, 2, 64)\n",
      "IRB6 : batch_input_shape = (None, 1, 1, 128)\n",
      "Model: \"sequential\"\n",
      "_________________________________________________________________\n",
      " Layer (type)                Output Shape              Param #   \n",
      "=================================================================\n",
      " batch_normalization (BatchN  (None, 32, 32, 1)        4         \n",
      " ormalization)                                                   \n",
      "                                                                 \n",
      " conv2d (Conv2D)             (None, 16, 16, 32)        320       \n",
      "                                                                 \n",
      " IRB1 (Inveted_Residual_Bloc  (None, 16, 16, 16)       2288      \n",
      " k)                                                              \n",
      "                                                                 \n",
      " IRB2 (Inveted_Residual_Bloc  (None, 8, 8, 16)         6688      \n",
      " k)                                                              \n",
      "                                                                 \n",
      " IRB3 (Inveted_Residual_Bloc  (None, 4, 4, 32)         19456     \n",
      " k)                                                              \n",
      "                                                                 \n",
      " IRB4 (Inveted_Residual_Bloc  (None, 2, 2, 64)         67584     \n",
      " k)                                                              \n",
      "                                                                 \n",
      " IRB5 (Inveted_Residual_Bloc  (None, 1, 1, 128)        108416    \n",
      " k)                                                              \n",
      "                                                                 \n",
      " IRB6 (Inveted_Residual_Bloc  (None, 1, 1, 512)        675840    \n",
      " k)                                                              \n",
      "                                                                 \n",
      " re_lu_6 (ReLU)              (None, 1, 1, 512)         0         \n",
      "                                                                 \n",
      " global_average_pooling2d (G  (None, 512)              0         \n",
      " lobalAveragePooling2D)                                          \n",
      "                                                                 \n",
      " batch_normalization_1 (Batc  (None, 512)              2048      \n",
      " hNormalization)                                                 \n",
      "                                                                 \n",
      " dropout (Dropout)           (None, 512)               0         \n",
      "                                                                 \n",
      " dense (Dense)               (None, 62)                31806     \n",
      "                                                                 \n",
      "=================================================================\n",
      "Total params: 914,450\n",
      "Trainable params: 902,768\n",
      "Non-trainable params: 11,682\n",
      "_________________________________________________________________\n"
     ]
    }
   ],
   "source": [
    "    #황성현 전민재 IRB6512\n",
    "    #multygpu\n",
    "\n",
    "\n",
    "    n_classes=62\n",
    "    smv2_l=keras.models.Sequential([\n",
    "        keras.layers.BatchNormalization(input_shape=[32,32,1]),\n",
    "        keras.layers.Conv2D(filters=32,kernel_size=3,strides=2,padding=\"same\",activation=\"relu\"),\n",
    "        Inveted_Residual_Block(t=1,c=16,n=1,s=1,name=\"IRB1\"),\n",
    "        Inveted_Residual_Block(t=4,c=16,n=2,s=2,name=\"IRB2\"),\n",
    "        Inveted_Residual_Block(t=8,c=32,n=2,s=2,name=\"IRB3\"),\n",
    "        Inveted_Residual_Block(t=8,c=64,n=2,s=2,name=\"IRB4\"),\n",
    "        Inveted_Residual_Block(t=8,c=128,n=1,s=2,name=\"IRB5\"),\n",
    "        Inveted_Residual_Block(t=8,c=512,n=1,s=1,name=\"IRB6\"),\n",
    "        keras.layers.ReLU(max_value=6),\n",
    "        keras.layers.GlobalAveragePooling2D(),\n",
    "        keras.layers.BatchNormalization(),\n",
    "        keras.layers.Dropout(0.5),\n",
    "        keras.layers.Dense(n_classes,activation=\"softmax\")\n",
    "    ])\n",
    "    smv2_l.summary()\n",
    "    opt = tf.keras.optimizers.Adam(learning_rate=0.0003)\n",
    "    batch_size=128\n",
    "    smv2_l.compile(loss=\"sparse_categorical_crossentropy\",optimizer=opt,metrics=[\"accuracy\"])"
   ]
  },
  {
   "cell_type": "code",
   "execution_count": 6,
   "id": "b384ece7-e314-4e22-bc57-4bc9b780f8a7",
   "metadata": {},
   "outputs": [],
   "source": [
    "#전민재\n",
    "class OneCycleScheduler(keras.callbacks.Callback):\n",
    "    def __init__(self, iterations, max_rate, start_rate=None,\n",
    "                 last_iterations=None, last_rate=None):\n",
    "        self.iterations = iterations\n",
    "        self.max_rate = max_rate\n",
    "        self.start_rate = start_rate or max_rate / 10\n",
    "        self.last_iterations = last_iterations or iterations // 10 + 1\n",
    "        self.half_iteration = (iterations - self.last_iterations) // 2\n",
    "        self.last_rate = last_rate or self.start_rate / 1000\n",
    "        self.iteration = 0\n",
    "    def _interpolate(self, iter1, iter2, rate1, rate2):\n",
    "        return ((rate2 - rate1) * (self.iteration - iter1)\n",
    "                / (iter2 - iter1) + rate1)\n",
    "    def on_batch_begin(self, batch, logs):\n",
    "        if self.iteration < self.half_iteration:\n",
    "            rate = self._interpolate(0, self.half_iteration, self.start_rate, self.max_rate)\n",
    "        elif self.iteration < 2 * self.half_iteration:\n",
    "            rate = self._interpolate(self.half_iteration, 2 * self.half_iteration,\n",
    "                                     self.max_rate, self.start_rate)\n",
    "        else:\n",
    "            rate = self._interpolate(2 * self.half_iteration, self.iterations,\n",
    "                                     self.start_rate, self.last_rate)\n",
    "            rate = max(rate, self.last_rate)\n",
    "        self.iteration += 1\n",
    "        K.set_value(self.model.optimizer.lr, rate)"
   ]
  },
  {
   "cell_type": "code",
   "execution_count": 7,
   "id": "0acf0157-3b8b-4112-bc4a-1b09e49035bc",
   "metadata": {},
   "outputs": [
    {
     "name": "stderr",
     "output_type": "stream",
     "text": [
      "2022-06-07 09:00:51.443544: I tensorflow/core/profiler/lib/profiler_session.cc:110] Profiler session initializing.\n",
      "2022-06-07 09:00:51.443591: I tensorflow/core/profiler/lib/profiler_session.cc:125] Profiler session started.\n",
      "2022-06-07 09:00:51.443663: I tensorflow/core/profiler/internal/gpu/cupti_tracer.cc:1630] Profiler found 4 GPUs\n",
      "2022-06-07 09:00:51.444499: W tensorflow/stream_executor/platform/default/dso_loader.cc:64] Could not load dynamic library 'libcupti.so.11.2'; dlerror: libcupti.so.11.2: cannot open shared object file: No such file or directory; LD_LIBRARY_PATH: /usr/local/nvidia/lib:/usr/local/nvidia/lib64\n",
      "2022-06-07 09:00:52.161196: I tensorflow/core/profiler/lib/profiler_session.cc:143] Profiler session tear down.\n",
      "2022-06-07 09:00:52.161377: I tensorflow/core/profiler/internal/gpu/cupti_tracer.cc:1764] CUPTI activity buffer flushed\n",
      "2022-06-07 09:00:52.247188: W tensorflow/core/framework/cpu_allocator_impl.cc:82] Allocation of 1100045312 exceeds 10% of free system memory.\n",
      "2022-06-07 09:00:52.966483: W tensorflow/core/framework/cpu_allocator_impl.cc:82] Allocation of 1100045312 exceeds 10% of free system memory.\n"
     ]
    },
    {
     "name": "stdout",
     "output_type": "stream",
     "text": [
      "Epoch 1/40\n"
     ]
    },
    {
     "name": "stderr",
     "output_type": "stream",
     "text": [
      "2022-06-07 09:00:56.084405: I tensorflow/stream_executor/cuda/cuda_dnn.cc:368] Loaded cuDNN version 8204\n"
     ]
    },
    {
     "name": "stdout",
     "output_type": "stream",
     "text": [
      " 499/8393 [>.............................] - ETA: 3:49 - loss: 4.5835 - accuracy: 0.0616"
     ]
    },
    {
     "name": "stderr",
     "output_type": "stream",
     "text": [
      "2022-06-07 09:01:12.051325: I tensorflow/core/profiler/lib/profiler_session.cc:110] Profiler session initializing.\n",
      "2022-06-07 09:01:12.051388: I tensorflow/core/profiler/lib/profiler_session.cc:125] Profiler session started.\n"
     ]
    },
    {
     "name": "stdout",
     "output_type": "stream",
     "text": [
      " 518/8393 [>.............................] - ETA: 4:04 - loss: 4.5565 - accuracy: 0.0631"
     ]
    },
    {
     "name": "stderr",
     "output_type": "stream",
     "text": [
      "2022-06-07 09:01:13.670497: I tensorflow/core/profiler/lib/profiler_session.cc:67] Profiler session collecting data.\n",
      "2022-06-07 09:01:13.671943: I tensorflow/core/profiler/internal/gpu/cupti_tracer.cc:1764] CUPTI activity buffer flushed\n",
      "2022-06-07 09:01:13.899741: I tensorflow/core/profiler/internal/gpu/cupti_collector.cc:521]  GpuTracer has collected 14890 callback api events and 14965 activity events. \n",
      "2022-06-07 09:01:14.149957: I tensorflow/core/profiler/lib/profiler_session.cc:143] Profiler session tear down.\n",
      "2022-06-07 09:01:14.464256: I tensorflow/core/profiler/rpc/client/save_profile.cc:136] Creating directory: logs/SMV2L_lrsch_onecycle_aug_dropout_128_he_irb6_512_epoch4020220607-090051/plugins/profile/2022_06_07_09_01_14\n",
      "\n",
      "2022-06-07 09:01:14.695264: I tensorflow/core/profiler/rpc/client/save_profile.cc:142] Dumped gzipped tool data for trace.json.gz to logs/SMV2L_lrsch_onecycle_aug_dropout_128_he_irb6_512_epoch4020220607-090051/plugins/profile/2022_06_07_09_01_14/a58a2589147d.trace.json.gz\n"
     ]
    },
    {
     "name": "stdout",
     "output_type": "stream",
     "text": [
      " 526/8393 [>.............................] - ETA: 4:23 - loss: 4.5456 - accuracy: 0.0638"
     ]
    },
    {
     "name": "stderr",
     "output_type": "stream",
     "text": [
      "2022-06-07 09:01:14.948572: I tensorflow/core/profiler/rpc/client/save_profile.cc:136] Creating directory: logs/SMV2L_lrsch_onecycle_aug_dropout_128_he_irb6_512_epoch4020220607-090051/plugins/profile/2022_06_07_09_01_14\n",
      "\n",
      "2022-06-07 09:01:14.955671: I tensorflow/core/profiler/rpc/client/save_profile.cc:142] Dumped gzipped tool data for memory_profile.json.gz to logs/SMV2L_lrsch_onecycle_aug_dropout_128_he_irb6_512_epoch4020220607-090051/plugins/profile/2022_06_07_09_01_14/a58a2589147d.memory_profile.json.gz\n",
      "2022-06-07 09:01:14.960595: I tensorflow/core/profiler/rpc/client/capture_profile.cc:251] Creating directory: logs/SMV2L_lrsch_onecycle_aug_dropout_128_he_irb6_512_epoch4020220607-090051/plugins/profile/2022_06_07_09_01_14\n",
      "Dumped tool data for xplane.pb to logs/SMV2L_lrsch_onecycle_aug_dropout_128_he_irb6_512_epoch4020220607-090051/plugins/profile/2022_06_07_09_01_14/a58a2589147d.xplane.pb\n",
      "Dumped tool data for overview_page.pb to logs/SMV2L_lrsch_onecycle_aug_dropout_128_he_irb6_512_epoch4020220607-090051/plugins/profile/2022_06_07_09_01_14/a58a2589147d.overview_page.pb\n",
      "Dumped tool data for input_pipeline.pb to logs/SMV2L_lrsch_onecycle_aug_dropout_128_he_irb6_512_epoch4020220607-090051/plugins/profile/2022_06_07_09_01_14/a58a2589147d.input_pipeline.pb\n",
      "Dumped tool data for tensorflow_stats.pb to logs/SMV2L_lrsch_onecycle_aug_dropout_128_he_irb6_512_epoch4020220607-090051/plugins/profile/2022_06_07_09_01_14/a58a2589147d.tensorflow_stats.pb\n",
      "Dumped tool data for kernel_stats.pb to logs/SMV2L_lrsch_onecycle_aug_dropout_128_he_irb6_512_epoch4020220607-090051/plugins/profile/2022_06_07_09_01_14/a58a2589147d.kernel_stats.pb\n",
      "\n"
     ]
    },
    {
     "name": "stdout",
     "output_type": "stream",
     "text": [
      "8393/8393 [==============================] - 268s 31ms/step - loss: 1.4133 - accuracy: 0.6053 - val_loss: 0.4793 - val_accuracy: 0.8264\n",
      "Epoch 2/40\n",
      "8393/8393 [==============================] - 261s 31ms/step - loss: 0.4893 - accuracy: 0.8255 - val_loss: 0.4154 - val_accuracy: 0.8463\n",
      "Epoch 3/40\n",
      "8393/8393 [==============================] - 261s 31ms/step - loss: 0.4386 - accuracy: 0.8407 - val_loss: 0.3975 - val_accuracy: 0.8546\n",
      "Epoch 4/40\n",
      "8393/8393 [==============================] - 260s 31ms/step - loss: 0.4174 - accuracy: 0.8469 - val_loss: 0.4277 - val_accuracy: 0.8460\n",
      "Epoch 5/40\n",
      "8393/8393 [==============================] - 260s 31ms/step - loss: 0.4066 - accuracy: 0.8505 - val_loss: 1.1935 - val_accuracy: 0.6975\n",
      "Epoch 6/40\n",
      "8393/8393 [==============================] - 260s 31ms/step - loss: 0.3995 - accuracy: 0.8531 - val_loss: 0.7839 - val_accuracy: 0.7602\n",
      "Epoch 7/40\n",
      "8393/8393 [==============================] - 260s 31ms/step - loss: 0.3944 - accuracy: 0.8544 - val_loss: 0.3718 - val_accuracy: 0.8637\n",
      "Epoch 8/40\n",
      "8393/8393 [==============================] - 260s 31ms/step - loss: 0.3907 - accuracy: 0.8554 - val_loss: 0.4000 - val_accuracy: 0.8540\n",
      "Epoch 9/40\n",
      "8393/8393 [==============================] - 261s 31ms/step - loss: 0.3878 - accuracy: 0.8568 - val_loss: 0.4381 - val_accuracy: 0.8458\n",
      "Epoch 10/40\n",
      "8393/8393 [==============================] - 260s 31ms/step - loss: 0.3862 - accuracy: 0.8569 - val_loss: 0.3880 - val_accuracy: 0.8567\n",
      "Epoch 11/40\n",
      "8393/8393 [==============================] - 260s 31ms/step - loss: 0.3858 - accuracy: 0.8569 - val_loss: 0.4362 - val_accuracy: 0.8483\n",
      "Epoch 12/40\n",
      "8393/8393 [==============================] - 260s 31ms/step - loss: 0.3851 - accuracy: 0.8576 - val_loss: 0.6142 - val_accuracy: 0.8081\n",
      "Epoch 13/40\n",
      "8393/8393 [==============================] - 260s 31ms/step - loss: 0.3848 - accuracy: 0.8573 - val_loss: 0.8711 - val_accuracy: 0.7516\n",
      "Epoch 14/40\n",
      "8393/8393 [==============================] - 261s 31ms/step - loss: 0.3859 - accuracy: 0.8573 - val_loss: 0.3861 - val_accuracy: 0.8592\n",
      "Epoch 15/40\n",
      "8393/8393 [==============================] - 260s 31ms/step - loss: 0.3892 - accuracy: 0.8563 - val_loss: 0.8292 - val_accuracy: 0.7662\n",
      "Epoch 16/40\n",
      "8393/8393 [==============================] - 261s 31ms/step - loss: 0.3917 - accuracy: 0.8559 - val_loss: 0.5778 - val_accuracy: 0.8177\n",
      "Epoch 17/40\n",
      "8393/8393 [==============================] - 260s 31ms/step - loss: 0.3982 - accuracy: 0.8540 - val_loss: 0.4123 - val_accuracy: 0.8506\n",
      "Epoch 18/40\n",
      "8393/8393 [==============================] - 260s 31ms/step - loss: 0.4040 - accuracy: 0.8526 - val_loss: 0.4326 - val_accuracy: 0.8402\n",
      "Epoch 19/40\n",
      "8393/8393 [==============================] - 260s 31ms/step - loss: 0.4060 - accuracy: 0.8524 - val_loss: 1.2002 - val_accuracy: 0.6968\n",
      "Epoch 20/40\n",
      "8393/8393 [==============================] - 260s 31ms/step - loss: 0.4041 - accuracy: 0.8528 - val_loss: 0.3902 - val_accuracy: 0.8540\n",
      "Epoch 21/40\n",
      "8393/8393 [==============================] - 256s 31ms/step - loss: 0.4012 - accuracy: 0.8535 - val_loss: 1.1891 - val_accuracy: 0.7046\n",
      "Epoch 22/40\n",
      "8393/8393 [==============================] - 261s 31ms/step - loss: 0.3966 - accuracy: 0.8549 - val_loss: 0.3713 - val_accuracy: 0.8637\n",
      "Epoch 23/40\n",
      "8393/8393 [==============================] - 261s 31ms/step - loss: 0.3911 - accuracy: 0.8563 - val_loss: 1.6681 - val_accuracy: 0.6073\n",
      "Epoch 24/40\n",
      "8393/8393 [==============================] - 260s 31ms/step - loss: 0.3869 - accuracy: 0.8576 - val_loss: 0.4013 - val_accuracy: 0.8484\n",
      "Epoch 25/40\n",
      "8393/8393 [==============================] - 260s 31ms/step - loss: 0.3813 - accuracy: 0.8595 - val_loss: 0.3828 - val_accuracy: 0.8607\n",
      "Epoch 26/40\n",
      "8393/8393 [==============================] - 261s 31ms/step - loss: 0.3753 - accuracy: 0.8611 - val_loss: 0.7760 - val_accuracy: 0.7865\n",
      "Epoch 27/40\n",
      "8393/8393 [==============================] - 261s 31ms/step - loss: 0.3691 - accuracy: 0.8630 - val_loss: 1.0295 - val_accuracy: 0.7415\n",
      "Epoch 28/40\n",
      "8393/8393 [==============================] - 260s 31ms/step - loss: 0.3633 - accuracy: 0.8643 - val_loss: 0.4779 - val_accuracy: 0.8409\n",
      "Epoch 29/40\n",
      "8393/8393 [==============================] - 260s 31ms/step - loss: 0.3573 - accuracy: 0.8661 - val_loss: 0.8865 - val_accuracy: 0.7745\n",
      "Epoch 30/40\n",
      "8393/8393 [==============================] - 261s 31ms/step - loss: 0.3506 - accuracy: 0.8684 - val_loss: 0.3591 - val_accuracy: 0.8685\n",
      "Epoch 31/40\n",
      "8393/8393 [==============================] - 261s 31ms/step - loss: 0.3446 - accuracy: 0.8698 - val_loss: 0.3491 - val_accuracy: 0.8697\n",
      "Epoch 32/40\n",
      "8393/8393 [==============================] - 261s 31ms/step - loss: 0.3381 - accuracy: 0.8718 - val_loss: 0.3473 - val_accuracy: 0.8700\n",
      "Epoch 33/40\n",
      "8393/8393 [==============================] - 260s 31ms/step - loss: 0.3307 - accuracy: 0.8741 - val_loss: 0.3391 - val_accuracy: 0.8741\n",
      "Epoch 34/40\n",
      "8393/8393 [==============================] - 261s 31ms/step - loss: 0.3242 - accuracy: 0.8758 - val_loss: 0.3424 - val_accuracy: 0.8705\n",
      "Epoch 35/40\n",
      "8393/8393 [==============================] - 260s 31ms/step - loss: 0.3180 - accuracy: 0.8777 - val_loss: 0.3353 - val_accuracy: 0.8760\n",
      "Epoch 36/40\n",
      "8393/8393 [==============================] - 260s 31ms/step - loss: 0.3122 - accuracy: 0.8796 - val_loss: 0.3314 - val_accuracy: 0.8769\n",
      "Epoch 37/40\n",
      "8393/8393 [==============================] - 257s 31ms/step - loss: 0.3069 - accuracy: 0.8810 - val_loss: 0.3334 - val_accuracy: 0.8760\n",
      "Epoch 38/40\n",
      "8393/8393 [==============================] - 257s 31ms/step - loss: 0.3037 - accuracy: 0.8823 - val_loss: 0.3298 - val_accuracy: 0.8781\n",
      "Epoch 39/40\n",
      "8393/8393 [==============================] - 258s 31ms/step - loss: 0.3007 - accuracy: 0.8831 - val_loss: 0.6242 - val_accuracy: 0.8304\n",
      "Epoch 40/40\n",
      "8393/8393 [==============================] - 257s 31ms/step - loss: 0.2981 - accuracy: 0.8839 - val_loss: 0.3293 - val_accuracy: 0.8785\n"
     ]
    }
   ],
   "source": [
    "#황성현 전민재\n",
    "from datetime import datetime\n",
    "K = keras.backend\n",
    "logs = \"logs/\" + datetime.now().strftime(\"SMV2L_lrsch_onecycle_aug_dropout_128_he_irb6_512_epoch40%Y%m%d-%H%M%S\")\n",
    "onecycle = OneCycleScheduler(len(X_train) // batch_size * 40, max_rate=0.003)\n",
    "tboard_callback = tf.keras.callbacks.TensorBoard(log_dir = logs,\n",
    "                                                 histogram_freq = 1,\n",
    "                                                 profile_batch = '500,520')\n",
    "check_best_cb=tf.keras.callbacks.ModelCheckpoint(filepath=\"smv2l_adam_best_lrsch_onecycle_aug_dropout_128_he_irb6_512_epoch40.h5\",save_best_only=True)\n",
    "\n",
    "history=smv2_l.fit(X_train,y_train,validation_data=(X_valid_resize,y_valid),batch_size = batch_size, epochs=40,callbacks=[tboard_callback, check_best_cb,onecycle])"
   ]
  },
  {
   "cell_type": "code",
   "execution_count": 9,
   "id": "65300afd-d8b1-423b-b047-f9ff6363d0db",
   "metadata": {},
   "outputs": [],
   "source": [
    "smv2_l.save('./smv2l_adam_lrsch_onecycle_aug_dropout_128_he_irb6_512_epoch40.h5')"
   ]
  },
  {
   "cell_type": "code",
   "execution_count": null,
   "id": "13d72222-6a4b-4987-bcbd-0466f3fb7c8c",
   "metadata": {},
   "outputs": [],
   "source": []
  }
 ],
 "metadata": {
  "kernelspec": {
   "display_name": "Python 3 (ipykernel)",
   "language": "python",
   "name": "python3"
  },
  "language_info": {
   "codemirror_mode": {
    "name": "ipython",
    "version": 3
   },
   "file_extension": ".py",
   "mimetype": "text/x-python",
   "name": "python",
   "nbconvert_exporter": "python",
   "pygments_lexer": "ipython3",
   "version": "3.9.7"
  }
 },
 "nbformat": 4,
 "nbformat_minor": 5
}

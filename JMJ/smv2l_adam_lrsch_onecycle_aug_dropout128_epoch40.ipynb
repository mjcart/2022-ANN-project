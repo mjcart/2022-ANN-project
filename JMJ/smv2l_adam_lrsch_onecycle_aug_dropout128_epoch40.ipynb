{
 "cells": [
  {
   "cell_type": "code",
   "execution_count": 1,
   "id": "9289fccd-b496-4478-ab47-16d5f0112be7",
   "metadata": {},
   "outputs": [
    {
     "name": "stderr",
     "output_type": "stream",
     "text": [
      "<frozen importlib._bootstrap>:228: RuntimeWarning: scipy._lib.messagestream.MessageStream size changed, may indicate binary incompatibility. Expected 56 from C header, got 64 from PyObject\n"
     ]
    },
    {
     "name": "stdout",
     "output_type": "stream",
     "text": [
      "sklearn version:  1.0.2\n",
      "Requirement already satisfied: tensorflow_addons in /opt/conda/lib/python3.9/site-packages (0.17.0)\n",
      "Requirement already satisfied: typeguard>=2.7 in /opt/conda/lib/python3.9/site-packages (from tensorflow_addons) (2.13.3)\n",
      "Requirement already satisfied: packaging in /opt/conda/lib/python3.9/site-packages (from tensorflow_addons) (21.0)\n",
      "Requirement already satisfied: pyparsing>=2.0.2 in /opt/conda/lib/python3.9/site-packages (from packaging->tensorflow_addons) (3.0.3)\n",
      "TF version:  2.8.0\n",
      "GPU installed:  True\n",
      "4 Physical GPUs, 4 Logical GPUs\n"
     ]
    },
    {
     "name": "stderr",
     "output_type": "stream",
     "text": [
      "2022-06-08 02:45:24.876406: I tensorflow/core/platform/cpu_feature_guard.cc:151] This TensorFlow binary is optimized with oneAPI Deep Neural Network Library (oneDNN) to use the following CPU instructions in performance-critical operations:  AVX2 AVX512F FMA\n",
      "To enable them in other operations, rebuild TensorFlow with the appropriate compiler flags.\n",
      "2022-06-08 02:45:26.506903: I tensorflow/core/common_runtime/gpu/gpu_device.cc:1525] Created device /job:localhost/replica:0/task:0/device:GPU:0 with 9530 MB memory:  -> device: 0, name: Quadro RTX 5000, pci bus id: 0000:19:00.0, compute capability: 7.5\n",
      "2022-06-08 02:45:26.507948: I tensorflow/core/common_runtime/gpu/gpu_device.cc:1525] Created device /job:localhost/replica:0/task:0/device:GPU:1 with 14516 MB memory:  -> device: 1, name: Quadro RTX 5000, pci bus id: 0000:1a:00.0, compute capability: 7.5\n",
      "2022-06-08 02:45:26.508786: I tensorflow/core/common_runtime/gpu/gpu_device.cc:1525] Created device /job:localhost/replica:0/task:0/device:GPU:2 with 14516 MB memory:  -> device: 2, name: Quadro RTX 5000, pci bus id: 0000:67:00.0, compute capability: 7.5\n",
      "2022-06-08 02:45:26.509624: I tensorflow/core/common_runtime/gpu/gpu_device.cc:1525] Created device /job:localhost/replica:0/task:0/device:GPU:3 with 14422 MB memory:  -> device: 3, name: Quadro RTX 5000, pci bus id: 0000:68:00.0, compute capability: 7.5\n"
     ]
    }
   ],
   "source": [
    "# Python ≥3.5 is required\n",
    "import sys\n",
    "assert sys.version_info >= (3, 5)\n",
    "\n",
    "# Scikit-Learn ≥0.20 is required\n",
    "import sklearn\n",
    "print(\"sklearn version: \", sklearn.__version__)\n",
    "assert sklearn.__version__ >= \"0.20\"\n",
    "\n",
    "try:\n",
    "    # %tensorflow_version only exists in Colab.\n",
    "    %tensorflow_version 2.x\n",
    "    IS_COLAB = True\n",
    "except Exception:\n",
    "    IS_COLAB = False\n",
    "\n",
    "# TensorFlow ≥2.0 is required\n",
    "import tensorflow as tf\n",
    "!pip install tensorflow_addons\n",
    "import tensorflow_addons as tfa\n",
    "from tensorflow import keras\n",
    "print(\"TF version: \", tf.__version__)\n",
    "assert tf.__version__ >= \"2.0\"\n",
    "\n",
    "if not tf.config.list_physical_devices('GPU'):\n",
    "    print(\"No GPU was detected. CNNs can be very slow without a GPU.\")\n",
    "    if IS_COLAB:\n",
    "        print(\"Go to Runtime > Change runtime and select a GPU hardware accelerator.\")\n",
    "\n",
    "# GPU test\n",
    "print(\"GPU installed: \",tf.test.is_built_with_gpu_support())\n",
    "\n",
    "# To prevent \"CUDNN_STATUS_ALLOC_FAILED\" error with GPUs\n",
    "gpus = tf.config.experimental.list_physical_devices('GPU')\n",
    "if gpus:\n",
    "  try:\n",
    "    # Currently, memory growth needs to be the same across GPUs\n",
    "    for gpu in gpus:\n",
    "      tf.config.experimental.set_memory_growth(gpu, True)\n",
    "    logical_gpus = tf.config.experimental.list_logical_devices('GPU')\n",
    "    print(len(gpus), \"Physical GPUs,\", len(logical_gpus), \"Logical GPUs\")\n",
    "  except RuntimeError as e:\n",
    "    # Memory growth must be set before GPUs have been initialized\n",
    "    print(e)\n",
    "    \n",
    "# Common imports\n",
    "import numpy as np\n",
    "import os\n",
    "\n",
    "# to make this notebook's output stable across runs\n",
    "np.random.seed(42)\n",
    "tf.random.set_seed(42)\n",
    "\n",
    "# To plot pretty figures\n",
    "%matplotlib inline\n",
    "import matplotlib as mpl\n",
    "import matplotlib.pyplot as plt\n",
    "mpl.rc('axes', labelsize=14)\n",
    "mpl.rc('xtick', labelsize=12)\n",
    "mpl.rc('ytick', labelsize=12)\n",
    "\n",
    "# Where to save the figures\n",
    "PROJECT_ROOT_DIR = \".\"\n",
    "CHAPTER_ID = \"cnn\"\n",
    "IMAGES_PATH = os.path.join(PROJECT_ROOT_DIR, \"images\", CHAPTER_ID)\n",
    "os.makedirs(IMAGES_PATH, exist_ok=True)\n",
    "\n",
    "def save_fig(fig_id, tight_layout=True, fig_extension=\"png\", resolution=300):\n",
    "    path = os.path.join(IMAGES_PATH, fig_id + \".\" + fig_extension)\n",
    "    print(\"Saving figure\", fig_id)\n",
    "    if tight_layout:\n",
    "        plt.tight_layout()\n",
    "    plt.savefig(path, format=fig_extension, dpi=resolution)\n",
    "    \n",
    "# Ignore useless warnings (see SciPy issue #5998)\n",
    "import warnings\n",
    "warnings.filterwarnings(action=\"ignore\", message=\"^internal gelsd\")    \n",
    "\n",
    "from tensorflow.python.keras.utils.data_utils import Sequence"
   ]
  },
  {
   "cell_type": "code",
   "execution_count": 2,
   "id": "a43846f0-ee03-4e04-8da2-36dcdcde6fd7",
   "metadata": {},
   "outputs": [],
   "source": [
    "X_train=np.uint8(np.load('./X_train_aug.npy'))\n",
    "y_train=np.uint8(np.load('./y_train_aug.npy'))\n",
    "X_valid=np.uint8(np.load('./X_valid.npy'))\n",
    "y_valid=np.uint8(np.load('./y_valid.npy'))"
   ]
  },
  {
   "cell_type": "code",
   "execution_count": 3,
   "id": "5f4228f8-9224-42bf-80fa-d905375844fd",
   "metadata": {},
   "outputs": [
    {
     "name": "stderr",
     "output_type": "stream",
     "text": [
      "2022-06-08 02:45:30.726828: W tensorflow/core/framework/cpu_allocator_impl.cc:82] Allocation of 671805440 exceeds 10% of free system memory.\n"
     ]
    },
    {
     "data": {
      "text/plain": [
       "((1074263, 32, 32, 1), (164015, 32, 32, 1), dtype('uint8'))"
      ]
     },
     "execution_count": 3,
     "metadata": {},
     "output_type": "execute_result"
    }
   ],
   "source": [
    "X_valid=tf.reshape(X_valid,[-1,28,28,1])\n",
    "X_valid_resize=np.uint8(tf.image.resize(X_valid, [32, 32]))\n",
    "X_train.shape,X_valid_resize.shape,X_train.dtype"
   ]
  },
  {
   "cell_type": "code",
   "execution_count": 4,
   "id": "b0aa6eda-4eba-4e2b-8f42-83f61993a2f5",
   "metadata": {},
   "outputs": [],
   "source": [
    "#황성현\n",
    "class Inveted_Residual_Block(keras.layers.Layer):\n",
    "    def __init__(self,c,s=1,t=1,n=1,**kwargs):\n",
    "        super().__init__(**kwargs)\n",
    "        self.activation = keras.layers.ReLU(max_value=6)\n",
    "        self.main_layers = [\n",
    "            \n",
    "            ]\n",
    "        self.strides_layers=[\n",
    "           ]\n",
    "        self.s=s\n",
    "        self.t=t\n",
    "        self.c=c\n",
    "        self.n=n\n",
    "        \n",
    "    def build(self,batch_input_shape):\n",
    "        print(self.name,\": batch_input_shape =\",batch_input_shape)\n",
    "        \n",
    "        self.main_layers = [\n",
    "            keras.layers.BatchNormalization(),\n",
    "            keras.layers.Conv2D(filters=batch_input_shape[-1]*self.t, kernel_size=1,strides=1, \n",
    "                                padding=\"SAME\", activation=self.activation),\n",
    "            keras.layers.BatchNormalization(),\n",
    "            keras.layers.DepthwiseConv2D(kernel_size=3, strides=1,padding=\"SAME\", activation=self.activation),\n",
    "            keras.layers.BatchNormalization(),\n",
    "            keras.layers.Conv2D(filters=self.c,kernel_size=1, strides=1,padding=\"SAME\", activation=self.activation),\n",
    "            ]\n",
    "        self.strides_layers=[\n",
    "            keras.layers.BatchNormalization(),\n",
    "            keras.layers.Conv2D(filters=batch_input_shape[-1]*self.t, kernel_size=1,strides=1,\n",
    "                                padding=\"SAME\", activation=self.activation),\n",
    "            keras.layers.BatchNormalization(),\n",
    "            keras.layers.DepthwiseConv2D(kernel_size=3, strides=self.s,padding=\"SAME\",activation=self.activation),\n",
    "            keras.layers.BatchNormalization(),\n",
    "            keras.layers.Conv2D(filters=self.c, kernel_size=1,strides=1,padding=\"SAME\",activation=self.activation),\n",
    "        ]\n",
    "\n",
    "    def call(self, inputs):\n",
    "        Z = inputs\n",
    "        \n",
    "        for n in range(0,self.n):\n",
    "            if n == 0:\n",
    "                for layer in self.strides_layers:\n",
    "                    Z = layer(Z)\n",
    "            else:\n",
    "                skip_Z = Z\n",
    "                for layer in self.main_layers:\n",
    "                    Z = layer(Z)\n",
    "                \n",
    "                Z += skip_Z\n",
    "    \n",
    "        return Z\n",
    "    \n",
    "    def get_config(self):\n",
    "        base=super().get_config()\n",
    "        return{**base,\"s\":self.s,\"t\":self.t,\"c\":self.c,\"n\":self.n}"
   ]
  },
  {
   "cell_type": "code",
   "execution_count": 5,
   "id": "34fb2330-2ff3-4979-9901-e2f0da8d336a",
   "metadata": {},
   "outputs": [
    {
     "name": "stdout",
     "output_type": "stream",
     "text": [
      "IRB1 : batch_input_shape = (None, 16, 16, 32)\n",
      "IRB2 : batch_input_shape = (None, 16, 16, 16)\n",
      "IRB3 : batch_input_shape = (None, 8, 8, 16)\n",
      "IRB4 : batch_input_shape = (None, 4, 4, 32)\n",
      "IRB5 : batch_input_shape = (None, 2, 2, 64)\n",
      "IRB6 : batch_input_shape = (None, 1, 1, 128)\n",
      "Model: \"sequential\"\n",
      "_________________________________________________________________\n",
      " Layer (type)                Output Shape              Param #   \n",
      "=================================================================\n",
      " batch_normalization (BatchN  (None, 32, 32, 1)        4         \n",
      " ormalization)                                                   \n",
      "                                                                 \n",
      " conv2d (Conv2D)             (None, 16, 16, 32)        320       \n",
      "                                                                 \n",
      " IRB1 (Inveted_Residual_Bloc  (None, 16, 16, 16)       2288      \n",
      " k)                                                              \n",
      "                                                                 \n",
      " IRB2 (Inveted_Residual_Bloc  (None, 8, 8, 16)         6688      \n",
      " k)                                                              \n",
      "                                                                 \n",
      " IRB3 (Inveted_Residual_Bloc  (None, 4, 4, 32)         19456     \n",
      " k)                                                              \n",
      "                                                                 \n",
      " IRB4 (Inveted_Residual_Bloc  (None, 2, 2, 64)         67584     \n",
      " k)                                                              \n",
      "                                                                 \n",
      " IRB5 (Inveted_Residual_Bloc  (None, 1, 1, 128)        108416    \n",
      " k)                                                              \n",
      "                                                                 \n",
      " IRB6 (Inveted_Residual_Bloc  (None, 1, 1, 1024)       1200640   \n",
      " k)                                                              \n",
      "                                                                 \n",
      " re_lu_6 (ReLU)              (None, 1, 1, 1024)        0         \n",
      "                                                                 \n",
      " global_average_pooling2d (G  (None, 1024)             0         \n",
      " lobalAveragePooling2D)                                          \n",
      "                                                                 \n",
      " batch_normalization_1 (Batc  (None, 1024)             4096      \n",
      " hNormalization)                                                 \n",
      "                                                                 \n",
      " dropout (Dropout)           (None, 1024)              0         \n",
      "                                                                 \n",
      " dense (Dense)               (None, 62)                63550     \n",
      "                                                                 \n",
      "=================================================================\n",
      "Total params: 1,473,042\n",
      "Trainable params: 1,460,336\n",
      "Non-trainable params: 12,706\n",
      "_________________________________________________________________\n"
     ]
    }
   ],
   "source": [
    "    #황성현 전민재\n",
    "    #multygpu\n",
    "\n",
    "\n",
    "    n_classes=62\n",
    "    smv2_l=keras.models.Sequential([\n",
    "        keras.layers.BatchNormalization(input_shape=[32,32,1]),\n",
    "        keras.layers.Conv2D(filters=32,kernel_size=3,strides=2,padding=\"same\",activation=\"relu\"),\n",
    "        Inveted_Residual_Block(t=1,c=16,n=1,s=1,name=\"IRB1\"),\n",
    "        Inveted_Residual_Block(t=4,c=16,n=2,s=2,name=\"IRB2\"),\n",
    "        Inveted_Residual_Block(t=8,c=32,n=2,s=2,name=\"IRB3\"),\n",
    "        Inveted_Residual_Block(t=8,c=64,n=2,s=2,name=\"IRB4\"),\n",
    "        Inveted_Residual_Block(t=8,c=128,n=1,s=2,name=\"IRB5\"),\n",
    "        Inveted_Residual_Block(t=8,c=1024,n=1,s=1,name=\"IRB6\"),\n",
    "        keras.layers.ReLU(max_value=6),\n",
    "        keras.layers.GlobalAveragePooling2D(),\n",
    "        keras.layers.BatchNormalization(),\n",
    "        keras.layers.Dropout(0.5),\n",
    "        keras.layers.Dense(n_classes,activation=\"softmax\")\n",
    "    ])\n",
    "    smv2_l.summary()\n",
    "    opt = tf.keras.optimizers.Adam(learning_rate=0.0003)\n",
    "    batch_size=128\n",
    "    smv2_l.compile(loss=\"sparse_categorical_crossentropy\",optimizer=opt,metrics=[\"accuracy\"])"
   ]
  },
  {
   "cell_type": "code",
   "execution_count": 6,
   "id": "b384ece7-e314-4e22-bc57-4bc9b780f8a7",
   "metadata": {},
   "outputs": [],
   "source": [
    "#전민재\n",
    "class OneCycleScheduler(keras.callbacks.Callback):\n",
    "    def __init__(self, iterations, max_rate, start_rate=None,\n",
    "                 last_iterations=None, last_rate=None):\n",
    "        self.iterations = iterations\n",
    "        self.max_rate = max_rate\n",
    "        self.start_rate = start_rate or max_rate / 10\n",
    "        self.last_iterations = last_iterations or iterations // 10 + 1\n",
    "        self.half_iteration = (iterations - self.last_iterations) // 2\n",
    "        self.last_rate = last_rate or self.start_rate / 1000\n",
    "        self.iteration = 0\n",
    "    def _interpolate(self, iter1, iter2, rate1, rate2):\n",
    "        return ((rate2 - rate1) * (self.iteration - iter1)\n",
    "                / (iter2 - iter1) + rate1)\n",
    "    def on_batch_begin(self, batch, logs):\n",
    "        if self.iteration < self.half_iteration:\n",
    "            rate = self._interpolate(0, self.half_iteration, self.start_rate, self.max_rate)\n",
    "        elif self.iteration < 2 * self.half_iteration:\n",
    "            rate = self._interpolate(self.half_iteration, 2 * self.half_iteration,\n",
    "                                     self.max_rate, self.start_rate)\n",
    "        else:\n",
    "            rate = self._interpolate(2 * self.half_iteration, self.iterations,\n",
    "                                     self.start_rate, self.last_rate)\n",
    "            rate = max(rate, self.last_rate)\n",
    "        self.iteration += 1\n",
    "        K.set_value(self.model.optimizer.lr, rate)"
   ]
  },
  {
   "cell_type": "code",
   "execution_count": 7,
   "id": "0acf0157-3b8b-4112-bc4a-1b09e49035bc",
   "metadata": {},
   "outputs": [
    {
     "name": "stderr",
     "output_type": "stream",
     "text": [
      "2022-06-08 02:45:32.204779: I tensorflow/core/profiler/lib/profiler_session.cc:110] Profiler session initializing.\n",
      "2022-06-08 02:45:32.204813: I tensorflow/core/profiler/lib/profiler_session.cc:125] Profiler session started.\n",
      "2022-06-08 02:45:32.204870: I tensorflow/core/profiler/internal/gpu/cupti_tracer.cc:1630] Profiler found 4 GPUs\n",
      "2022-06-08 02:45:32.205594: W tensorflow/stream_executor/platform/default/dso_loader.cc:64] Could not load dynamic library 'libcupti.so.11.2'; dlerror: libcupti.so.11.2: cannot open shared object file: No such file or directory; LD_LIBRARY_PATH: /usr/local/nvidia/lib:/usr/local/nvidia/lib64\n",
      "2022-06-08 02:45:32.903906: I tensorflow/core/profiler/lib/profiler_session.cc:143] Profiler session tear down.\n",
      "2022-06-08 02:45:32.904126: I tensorflow/core/profiler/internal/gpu/cupti_tracer.cc:1764] CUPTI activity buffer flushed\n",
      "2022-06-08 02:45:32.987746: W tensorflow/core/framework/cpu_allocator_impl.cc:82] Allocation of 1100045312 exceeds 10% of free system memory.\n",
      "2022-06-08 02:45:33.748472: W tensorflow/core/framework/cpu_allocator_impl.cc:82] Allocation of 1100045312 exceeds 10% of free system memory.\n"
     ]
    },
    {
     "name": "stdout",
     "output_type": "stream",
     "text": [
      "Epoch 1/40\n"
     ]
    },
    {
     "name": "stderr",
     "output_type": "stream",
     "text": [
      "2022-06-08 02:45:36.815273: I tensorflow/stream_executor/cuda/cuda_dnn.cc:368] Loaded cuDNN version 8204\n"
     ]
    },
    {
     "name": "stdout",
     "output_type": "stream",
     "text": [
      " 499/8393 [>.............................] - ETA: 3:46 - loss: 4.4853 - accuracy: 0.0756"
     ]
    },
    {
     "name": "stderr",
     "output_type": "stream",
     "text": [
      "2022-06-08 02:45:52.672136: I tensorflow/core/profiler/lib/profiler_session.cc:110] Profiler session initializing.\n",
      "2022-06-08 02:45:52.672195: I tensorflow/core/profiler/lib/profiler_session.cc:125] Profiler session started.\n"
     ]
    },
    {
     "name": "stdout",
     "output_type": "stream",
     "text": [
      " 518/8393 [>.............................] - ETA: 4:00 - loss: 4.4553 - accuracy: 0.0779"
     ]
    },
    {
     "name": "stderr",
     "output_type": "stream",
     "text": [
      "2022-06-08 02:45:54.268822: I tensorflow/core/profiler/lib/profiler_session.cc:67] Profiler session collecting data.\n",
      "2022-06-08 02:45:54.269748: I tensorflow/core/profiler/internal/gpu/cupti_tracer.cc:1764] CUPTI activity buffer flushed\n",
      "2022-06-08 02:45:54.453844: I tensorflow/core/profiler/internal/gpu/cupti_collector.cc:521]  GpuTracer has collected 15037 callback api events and 15112 activity events. \n",
      "2022-06-08 02:45:54.693647: I tensorflow/core/profiler/lib/profiler_session.cc:143] Profiler session tear down.\n",
      "2022-06-08 02:45:54.999186: I tensorflow/core/profiler/rpc/client/save_profile.cc:136] Creating directory: logs/SMV2L_lrsch_onecycle_aug_dropout_128_epoch4020220608-024532/plugins/profile/2022_06_08_02_45_54\n",
      "\n",
      "2022-06-08 02:45:55.228466: I tensorflow/core/profiler/rpc/client/save_profile.cc:142] Dumped gzipped tool data for trace.json.gz to logs/SMV2L_lrsch_onecycle_aug_dropout_128_epoch4020220608-024532/plugins/profile/2022_06_08_02_45_54/a58a2589147d.trace.json.gz\n"
     ]
    },
    {
     "name": "stdout",
     "output_type": "stream",
     "text": [
      " 525/8393 [>.............................] - ETA: 4:19 - loss: 4.4442 - accuracy: 0.0787"
     ]
    },
    {
     "name": "stderr",
     "output_type": "stream",
     "text": [
      "2022-06-08 02:45:55.477546: I tensorflow/core/profiler/rpc/client/save_profile.cc:136] Creating directory: logs/SMV2L_lrsch_onecycle_aug_dropout_128_epoch4020220608-024532/plugins/profile/2022_06_08_02_45_54\n",
      "\n",
      "2022-06-08 02:45:55.484675: I tensorflow/core/profiler/rpc/client/save_profile.cc:142] Dumped gzipped tool data for memory_profile.json.gz to logs/SMV2L_lrsch_onecycle_aug_dropout_128_epoch4020220608-024532/plugins/profile/2022_06_08_02_45_54/a58a2589147d.memory_profile.json.gz\n",
      "2022-06-08 02:45:55.489998: I tensorflow/core/profiler/rpc/client/capture_profile.cc:251] Creating directory: logs/SMV2L_lrsch_onecycle_aug_dropout_128_epoch4020220608-024532/plugins/profile/2022_06_08_02_45_54\n",
      "Dumped tool data for xplane.pb to logs/SMV2L_lrsch_onecycle_aug_dropout_128_epoch4020220608-024532/plugins/profile/2022_06_08_02_45_54/a58a2589147d.xplane.pb\n",
      "Dumped tool data for overview_page.pb to logs/SMV2L_lrsch_onecycle_aug_dropout_128_epoch4020220608-024532/plugins/profile/2022_06_08_02_45_54/a58a2589147d.overview_page.pb\n",
      "Dumped tool data for input_pipeline.pb to logs/SMV2L_lrsch_onecycle_aug_dropout_128_epoch4020220608-024532/plugins/profile/2022_06_08_02_45_54/a58a2589147d.input_pipeline.pb\n",
      "Dumped tool data for tensorflow_stats.pb to logs/SMV2L_lrsch_onecycle_aug_dropout_128_epoch4020220608-024532/plugins/profile/2022_06_08_02_45_54/a58a2589147d.tensorflow_stats.pb\n",
      "Dumped tool data for kernel_stats.pb to logs/SMV2L_lrsch_onecycle_aug_dropout_128_epoch4020220608-024532/plugins/profile/2022_06_08_02_45_54/a58a2589147d.kernel_stats.pb\n",
      "\n"
     ]
    },
    {
     "name": "stdout",
     "output_type": "stream",
     "text": [
      "8393/8393 [==============================] - ETA: 0s - loss: 1.2610 - accuracy: 0.6409"
     ]
    },
    {
     "name": "stderr",
     "output_type": "stream",
     "text": [
      "2022-06-08 02:49:56.631157: W tensorflow/core/framework/cpu_allocator_impl.cc:82] Allocation of 251658240 exceeds 10% of free system memory.\n"
     ]
    },
    {
     "name": "stdout",
     "output_type": "stream",
     "text": [
      "8393/8393 [==============================] - 263s 31ms/step - loss: 1.2610 - accuracy: 0.6409 - val_loss: 0.4642 - val_accuracy: 0.8328\n",
      "Epoch 2/40\n",
      "8392/8393 [============================>.] - ETA: 0s - loss: 0.4855 - accuracy: 0.8261"
     ]
    },
    {
     "name": "stderr",
     "output_type": "stream",
     "text": [
      "2022-06-08 02:54:13.023008: W tensorflow/core/framework/cpu_allocator_impl.cc:82] Allocation of 251658240 exceeds 10% of free system memory.\n"
     ]
    },
    {
     "name": "stdout",
     "output_type": "stream",
     "text": [
      "8393/8393 [==============================] - 256s 31ms/step - loss: 0.4855 - accuracy: 0.8261 - val_loss: 0.4240 - val_accuracy: 0.8448\n",
      "Epoch 3/40\n",
      "8393/8393 [==============================] - 256s 30ms/step - loss: 0.4388 - accuracy: 0.8404 - val_loss: 0.4393 - val_accuracy: 0.8394\n",
      "Epoch 4/40\n",
      "8393/8393 [==============================] - 255s 30ms/step - loss: 0.4190 - accuracy: 0.8467 - val_loss: 0.4195 - val_accuracy: 0.8451\n",
      "Epoch 5/40\n",
      "8393/8393 [==============================] - 256s 30ms/step - loss: 0.4065 - accuracy: 0.8502 - val_loss: 0.3963 - val_accuracy: 0.8528\n",
      "Epoch 6/40\n",
      "8393/8393 [==============================] - 256s 31ms/step - loss: 0.3977 - accuracy: 0.8532 - val_loss: 0.4928 - val_accuracy: 0.8264\n",
      "Epoch 7/40\n",
      "8393/8393 [==============================] - 255s 30ms/step - loss: 0.3925 - accuracy: 0.8547 - val_loss: 0.5907 - val_accuracy: 0.8090\n",
      "Epoch 8/40\n",
      "8393/8393 [==============================] - 255s 30ms/step - loss: 0.3893 - accuracy: 0.8557 - val_loss: 0.4053 - val_accuracy: 0.8464\n",
      "Epoch 9/40\n",
      "8393/8393 [==============================] - 256s 30ms/step - loss: 0.3861 - accuracy: 0.8565 - val_loss: 0.9545 - val_accuracy: 0.7203\n",
      "Epoch 10/40\n",
      "8393/8393 [==============================] - 255s 30ms/step - loss: 0.3852 - accuracy: 0.8566 - val_loss: 0.3773 - val_accuracy: 0.8620\n",
      "Epoch 11/40\n",
      "8393/8393 [==============================] - 256s 30ms/step - loss: 0.3841 - accuracy: 0.8570 - val_loss: 0.7038 - val_accuracy: 0.7672\n",
      "Epoch 12/40\n",
      "8393/8393 [==============================] - 255s 30ms/step - loss: 0.3841 - accuracy: 0.8571 - val_loss: 0.3836 - val_accuracy: 0.8608\n",
      "Epoch 13/40\n",
      "8393/8393 [==============================] - 256s 30ms/step - loss: 0.3849 - accuracy: 0.8571 - val_loss: 0.3897 - val_accuracy: 0.8575\n",
      "Epoch 14/40\n",
      "8393/8393 [==============================] - 255s 30ms/step - loss: 0.3852 - accuracy: 0.8570 - val_loss: 0.4166 - val_accuracy: 0.8483\n",
      "Epoch 15/40\n",
      "8393/8393 [==============================] - 256s 30ms/step - loss: 0.3886 - accuracy: 0.8561 - val_loss: 0.5090 - val_accuracy: 0.8288\n",
      "Epoch 16/40\n",
      "8393/8393 [==============================] - 256s 30ms/step - loss: 0.3932 - accuracy: 0.8551 - val_loss: 3.1597 - val_accuracy: 0.3007\n",
      "Epoch 17/40\n",
      "8393/8393 [==============================] - 255s 30ms/step - loss: 0.3976 - accuracy: 0.8534 - val_loss: 4.0861 - val_accuracy: 0.2187\n",
      "Epoch 18/40\n",
      "8393/8393 [==============================] - 255s 30ms/step - loss: 0.4042 - accuracy: 0.8520 - val_loss: 0.4084 - val_accuracy: 0.8509\n",
      "Epoch 19/40\n",
      "8393/8393 [==============================] - 256s 30ms/step - loss: 0.4069 - accuracy: 0.8513 - val_loss: 0.4197 - val_accuracy: 0.8452\n",
      "Epoch 20/40\n",
      "8393/8393 [==============================] - 256s 31ms/step - loss: 0.4051 - accuracy: 0.8520 - val_loss: 0.6653 - val_accuracy: 0.8013\n",
      "Epoch 21/40\n",
      "8393/8393 [==============================] - 256s 30ms/step - loss: 0.3993 - accuracy: 0.8538 - val_loss: 0.4169 - val_accuracy: 0.8521\n",
      "Epoch 22/40\n",
      "8393/8393 [==============================] - 255s 30ms/step - loss: 0.3946 - accuracy: 0.8551 - val_loss: 0.9428 - val_accuracy: 0.7507\n",
      "Epoch 23/40\n",
      "8393/8393 [==============================] - 256s 30ms/step - loss: 0.3888 - accuracy: 0.8565 - val_loss: 0.3781 - val_accuracy: 0.8606\n",
      "Epoch 24/40\n",
      "8393/8393 [==============================] - 255s 30ms/step - loss: 0.3831 - accuracy: 0.8584 - val_loss: 0.3883 - val_accuracy: 0.8591\n",
      "Epoch 25/40\n",
      "8393/8393 [==============================] - 256s 30ms/step - loss: 0.3779 - accuracy: 0.8597 - val_loss: 0.4267 - val_accuracy: 0.8539\n",
      "Epoch 26/40\n",
      "8393/8393 [==============================] - 256s 30ms/step - loss: 0.3722 - accuracy: 0.8613 - val_loss: 2.1875 - val_accuracy: 0.5211\n",
      "Epoch 27/40\n",
      "8393/8393 [==============================] - 255s 30ms/step - loss: 0.3662 - accuracy: 0.8627 - val_loss: 0.3669 - val_accuracy: 0.8643\n",
      "Epoch 28/40\n",
      "8393/8393 [==============================] - 256s 31ms/step - loss: 0.3589 - accuracy: 0.8650 - val_loss: 1.0085 - val_accuracy: 0.7502\n",
      "Epoch 29/40\n",
      "8393/8393 [==============================] - 255s 30ms/step - loss: 0.3518 - accuracy: 0.8672 - val_loss: 0.4816 - val_accuracy: 0.8365\n",
      "Epoch 30/40\n",
      "8393/8393 [==============================] - 256s 30ms/step - loss: 0.3458 - accuracy: 0.8694 - val_loss: 0.9000 - val_accuracy: 0.7604\n",
      "Epoch 31/40\n",
      "8393/8393 [==============================] - 255s 30ms/step - loss: 0.3378 - accuracy: 0.8713 - val_loss: 0.8704 - val_accuracy: 0.7606\n",
      "Epoch 32/40\n",
      "8393/8393 [==============================] - 256s 30ms/step - loss: 0.3312 - accuracy: 0.8736 - val_loss: 0.7318 - val_accuracy: 0.8081\n",
      "Epoch 33/40\n",
      "8393/8393 [==============================] - 256s 30ms/step - loss: 0.3243 - accuracy: 0.8755 - val_loss: 0.4852 - val_accuracy: 0.8460\n",
      "Epoch 34/40\n",
      "8393/8393 [==============================] - 256s 30ms/step - loss: 0.3179 - accuracy: 0.8774 - val_loss: 0.5546 - val_accuracy: 0.8379\n",
      "Epoch 35/40\n",
      "8393/8393 [==============================] - 256s 30ms/step - loss: 0.3106 - accuracy: 0.8796 - val_loss: 0.5272 - val_accuracy: 0.8442\n",
      "Epoch 36/40\n",
      "8393/8393 [==============================] - 256s 30ms/step - loss: 0.3048 - accuracy: 0.8817 - val_loss: 0.3312 - val_accuracy: 0.8770\n",
      "Epoch 37/40\n",
      "8393/8393 [==============================] - 255s 30ms/step - loss: 0.2995 - accuracy: 0.8833 - val_loss: 0.4345 - val_accuracy: 0.8592\n",
      "Epoch 38/40\n",
      "8393/8393 [==============================] - 256s 31ms/step - loss: 0.2960 - accuracy: 0.8843 - val_loss: 0.3288 - val_accuracy: 0.8777\n",
      "Epoch 39/40\n",
      "8393/8393 [==============================] - 257s 31ms/step - loss: 0.2924 - accuracy: 0.8854 - val_loss: 0.3510 - val_accuracy: 0.8733\n",
      "Epoch 40/40\n",
      "8393/8393 [==============================] - 257s 31ms/step - loss: 0.2902 - accuracy: 0.8863 - val_loss: 0.3291 - val_accuracy: 0.8782\n"
     ]
    }
   ],
   "source": [
    "#황성현 전민재\n",
    "from datetime import datetime\n",
    "K = keras.backend\n",
    "logs = \"logs/\" + datetime.now().strftime(\"SMV2L_lrsch_onecycle_aug_dropout_128_epoch40%Y%m%d-%H%M%S\")\n",
    "onecycle = OneCycleScheduler(len(X_train) // batch_size * 40, max_rate=0.003)\n",
    "tboard_callback = tf.keras.callbacks.TensorBoard(log_dir = logs,\n",
    "                                                 histogram_freq = 1,\n",
    "                                                 profile_batch = '500,520')\n",
    "check_best_cb=tf.keras.callbacks.ModelCheckpoint(filepath=\"smv2l_adam_best_lrsch_onecycle_aug_dropout_128_epoch40.h5\",save_best_only=True)\n",
    "\n",
    "history=smv2_l.fit(X_train,y_train,validation_data=(X_valid_resize,y_valid),batch_size = batch_size, epochs=40,callbacks=[tboard_callback, check_best_cb,onecycle])"
   ]
  },
  {
   "cell_type": "code",
   "execution_count": 31,
   "id": "65300afd-d8b1-423b-b047-f9ff6363d0db",
   "metadata": {},
   "outputs": [],
   "source": [
    "smv2_l.save('./smv2l_adam_lrsch_onecycle_aug_dropout_128_epoch40.h5')"
   ]
  },
  {
   "cell_type": "code",
   "execution_count": null,
   "id": "13d72222-6a4b-4987-bcbd-0466f3fb7c8c",
   "metadata": {},
   "outputs": [],
   "source": []
  }
 ],
 "metadata": {
  "kernelspec": {
   "display_name": "Python 3 (ipykernel)",
   "language": "python",
   "name": "python3"
  },
  "language_info": {
   "codemirror_mode": {
    "name": "ipython",
    "version": 3
   },
   "file_extension": ".py",
   "mimetype": "text/x-python",
   "name": "python",
   "nbconvert_exporter": "python",
   "pygments_lexer": "ipython3",
   "version": "3.9.7"
  }
 },
 "nbformat": 4,
 "nbformat_minor": 5
}

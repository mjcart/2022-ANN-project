{
 "cells": [
  {
   "cell_type": "code",
   "execution_count": 1,
   "id": "9289fccd-b496-4478-ab47-16d5f0112be7",
   "metadata": {},
   "outputs": [
    {
     "name": "stderr",
     "output_type": "stream",
     "text": [
      "<frozen importlib._bootstrap>:228: RuntimeWarning: scipy._lib.messagestream.MessageStream size changed, may indicate binary incompatibility. Expected 56 from C header, got 64 from PyObject\n"
     ]
    },
    {
     "name": "stdout",
     "output_type": "stream",
     "text": [
      "sklearn version:  1.0.2\n",
      "Requirement already satisfied: tensorflow_addons in /opt/conda/lib/python3.9/site-packages (0.17.0)\n",
      "Requirement already satisfied: packaging in /opt/conda/lib/python3.9/site-packages (from tensorflow_addons) (21.0)\n",
      "Requirement already satisfied: typeguard>=2.7 in /opt/conda/lib/python3.9/site-packages (from tensorflow_addons) (2.13.3)\n",
      "Requirement already satisfied: pyparsing>=2.0.2 in /opt/conda/lib/python3.9/site-packages (from packaging->tensorflow_addons) (3.0.3)\n",
      "TF version:  2.8.0\n",
      "GPU installed:  True\n",
      "4 Physical GPUs, 4 Logical GPUs\n"
     ]
    },
    {
     "name": "stderr",
     "output_type": "stream",
     "text": [
      "2022-06-05 06:59:40.641174: I tensorflow/core/platform/cpu_feature_guard.cc:151] This TensorFlow binary is optimized with oneAPI Deep Neural Network Library (oneDNN) to use the following CPU instructions in performance-critical operations:  AVX2 AVX512F FMA\n",
      "To enable them in other operations, rebuild TensorFlow with the appropriate compiler flags.\n",
      "2022-06-05 06:59:43.111525: I tensorflow/core/common_runtime/gpu/gpu_device.cc:1525] Created device /job:localhost/replica:0/task:0/device:GPU:0 with 14791 MB memory:  -> device: 0, name: Quadro RTX 5000, pci bus id: 0000:19:00.0, compute capability: 7.5\n",
      "2022-06-05 06:59:43.112509: I tensorflow/core/common_runtime/gpu/gpu_device.cc:1525] Created device /job:localhost/replica:0/task:0/device:GPU:1 with 14791 MB memory:  -> device: 1, name: Quadro RTX 5000, pci bus id: 0000:1a:00.0, compute capability: 7.5\n",
      "2022-06-05 06:59:43.113239: I tensorflow/core/common_runtime/gpu/gpu_device.cc:1525] Created device /job:localhost/replica:0/task:0/device:GPU:2 with 3220 MB memory:  -> device: 2, name: Quadro RTX 5000, pci bus id: 0000:67:00.0, compute capability: 7.5\n",
      "2022-06-05 06:59:43.113982: I tensorflow/core/common_runtime/gpu/gpu_device.cc:1525] Created device /job:localhost/replica:0/task:0/device:GPU:3 with 3085 MB memory:  -> device: 3, name: Quadro RTX 5000, pci bus id: 0000:68:00.0, compute capability: 7.5\n"
     ]
    }
   ],
   "source": [
    "# Python ≥3.5 is required\n",
    "import sys\n",
    "assert sys.version_info >= (3, 5)\n",
    "\n",
    "# Scikit-Learn ≥0.20 is required\n",
    "import sklearn\n",
    "print(\"sklearn version: \", sklearn.__version__)\n",
    "assert sklearn.__version__ >= \"0.20\"\n",
    "\n",
    "try:\n",
    "    # %tensorflow_version only exists in Colab.\n",
    "    %tensorflow_version 2.x\n",
    "    IS_COLAB = True\n",
    "except Exception:\n",
    "    IS_COLAB = False\n",
    "\n",
    "# TensorFlow ≥2.0 is required\n",
    "import tensorflow as tf\n",
    "!pip install tensorflow_addons\n",
    "import tensorflow_addons as tfa\n",
    "from tensorflow import keras\n",
    "print(\"TF version: \", tf.__version__)\n",
    "assert tf.__version__ >= \"2.0\"\n",
    "\n",
    "if not tf.config.list_physical_devices('GPU'):\n",
    "    print(\"No GPU was detected. CNNs can be very slow without a GPU.\")\n",
    "    if IS_COLAB:\n",
    "        print(\"Go to Runtime > Change runtime and select a GPU hardware accelerator.\")\n",
    "\n",
    "# GPU test\n",
    "print(\"GPU installed: \",tf.test.is_built_with_gpu_support())\n",
    "\n",
    "# To prevent \"CUDNN_STATUS_ALLOC_FAILED\" error with GPUs\n",
    "gpus = tf.config.experimental.list_physical_devices('GPU')\n",
    "if gpus:\n",
    "  try:\n",
    "    # Currently, memory growth needs to be the same across GPUs\n",
    "    for gpu in gpus:\n",
    "      tf.config.experimental.set_memory_growth(gpu, True)\n",
    "    logical_gpus = tf.config.experimental.list_logical_devices('GPU')\n",
    "    print(len(gpus), \"Physical GPUs,\", len(logical_gpus), \"Logical GPUs\")\n",
    "  except RuntimeError as e:\n",
    "    # Memory growth must be set before GPUs have been initialized\n",
    "    print(e)\n",
    "    \n",
    "# Common imports\n",
    "import numpy as np\n",
    "import os\n",
    "\n",
    "# to make this notebook's output stable across runs\n",
    "np.random.seed(42)\n",
    "tf.random.set_seed(42)\n",
    "\n",
    "# To plot pretty figures\n",
    "%matplotlib inline\n",
    "import matplotlib as mpl\n",
    "import matplotlib.pyplot as plt\n",
    "mpl.rc('axes', labelsize=14)\n",
    "mpl.rc('xtick', labelsize=12)\n",
    "mpl.rc('ytick', labelsize=12)\n",
    "\n",
    "# Where to save the figures\n",
    "PROJECT_ROOT_DIR = \".\"\n",
    "CHAPTER_ID = \"cnn\"\n",
    "IMAGES_PATH = os.path.join(PROJECT_ROOT_DIR, \"images\", CHAPTER_ID)\n",
    "os.makedirs(IMAGES_PATH, exist_ok=True)\n",
    "\n",
    "def save_fig(fig_id, tight_layout=True, fig_extension=\"png\", resolution=300):\n",
    "    path = os.path.join(IMAGES_PATH, fig_id + \".\" + fig_extension)\n",
    "    print(\"Saving figure\", fig_id)\n",
    "    if tight_layout:\n",
    "        plt.tight_layout()\n",
    "    plt.savefig(path, format=fig_extension, dpi=resolution)\n",
    "    \n",
    "# Ignore useless warnings (see SciPy issue #5998)\n",
    "import warnings\n",
    "warnings.filterwarnings(action=\"ignore\", message=\"^internal gelsd\")    \n",
    "\n",
    "from tensorflow.python.keras.utils.data_utils import Sequence"
   ]
  },
  {
   "cell_type": "code",
   "execution_count": 2,
   "id": "a43846f0-ee03-4e04-8da2-36dcdcde6fd7",
   "metadata": {},
   "outputs": [],
   "source": [
    "X_train=np.uint8(np.load('./X_train_aug.npy'))\n",
    "y_train=np.uint8(np.load('./y_train_aug.npy'))\n",
    "X_valid=np.uint8(np.load('./X_valid.npy'))\n",
    "y_valid=np.uint8(np.load('./y_valid.npy'))"
   ]
  },
  {
   "cell_type": "code",
   "execution_count": 3,
   "id": "5f4228f8-9224-42bf-80fa-d905375844fd",
   "metadata": {},
   "outputs": [
    {
     "data": {
      "text/plain": [
       "((1074263, 32, 32, 1), (164015, 32, 32, 1), dtype('uint8'))"
      ]
     },
     "execution_count": 3,
     "metadata": {},
     "output_type": "execute_result"
    }
   ],
   "source": [
    "X_valid=tf.reshape(X_valid,[-1,28,28,1])\n",
    "X_valid_resize=np.uint8(tf.image.resize(X_valid, [32, 32]))\n",
    "X_train.shape,X_valid_resize.shape,X_train.dtype"
   ]
  },
  {
   "cell_type": "code",
   "execution_count": 4,
   "id": "b0aa6eda-4eba-4e2b-8f42-83f61993a2f5",
   "metadata": {},
   "outputs": [],
   "source": [
    "#황성현\n",
    "class Inveted_Residual_Block(keras.layers.Layer):\n",
    "    def __init__(self,c,s=1,t=1,n=1,**kwargs):\n",
    "        super().__init__(**kwargs)\n",
    "        self.activation = keras.layers.ReLU(max_value=6)\n",
    "        self.main_layers = [\n",
    "            \n",
    "            ]\n",
    "        self.strides_layers=[\n",
    "           ]\n",
    "        self.s=s\n",
    "        self.t=t\n",
    "        self.c=c\n",
    "        self.n=n\n",
    "        \n",
    "    def build(self,batch_input_shape):\n",
    "        print(self.name,\": batch_input_shape =\",batch_input_shape)\n",
    "        \n",
    "        self.main_layers = [\n",
    "            keras.layers.BatchNormalization(),\n",
    "            keras.layers.Conv2D(filters=batch_input_shape[-1]*self.t, kernel_size=1,strides=1, \n",
    "                                padding=\"SAME\", activation=self.activation),\n",
    "            keras.layers.BatchNormalization(),\n",
    "            keras.layers.DepthwiseConv2D(kernel_size=3, strides=1,padding=\"SAME\", activation=self.activation),\n",
    "            keras.layers.BatchNormalization(),\n",
    "            keras.layers.Conv2D(filters=self.c,kernel_size=1, strides=1,padding=\"SAME\", activation=self.activation),\n",
    "            ]\n",
    "        self.strides_layers=[\n",
    "            keras.layers.BatchNormalization(),\n",
    "            keras.layers.Conv2D(filters=batch_input_shape[-1]*self.t, kernel_size=1,strides=1,\n",
    "                                padding=\"SAME\", activation=self.activation),\n",
    "            keras.layers.BatchNormalization(),\n",
    "            keras.layers.DepthwiseConv2D(kernel_size=3, strides=self.s,padding=\"SAME\",activation=self.activation),\n",
    "            keras.layers.BatchNormalization(),\n",
    "            keras.layers.Conv2D(filters=self.c, kernel_size=1,strides=1,padding=\"SAME\",activation=self.activation),\n",
    "        ]\n",
    "\n",
    "    def call(self, inputs):\n",
    "        Z = inputs\n",
    "        \n",
    "        for n in range(0,self.n):\n",
    "            if n == 0:\n",
    "                for layer in self.strides_layers:\n",
    "                    Z = layer(Z)\n",
    "            else:\n",
    "                skip_Z = Z\n",
    "                for layer in self.main_layers:\n",
    "                    Z = layer(Z)\n",
    "                \n",
    "                Z += skip_Z\n",
    "    \n",
    "        return Z\n",
    "    \n",
    "    def get_config(self):\n",
    "        base=super().get_config()\n",
    "        return{**base,\"s\":self.s,\"t\":self.t,\"c\":self.c,\"n\":self.n}"
   ]
  },
  {
   "cell_type": "code",
   "execution_count": 9,
   "id": "34fb2330-2ff3-4979-9901-e2f0da8d336a",
   "metadata": {},
   "outputs": [
    {
     "name": "stdout",
     "output_type": "stream",
     "text": [
      "IRB1 : batch_input_shape = (None, 16, 16, 32)\n",
      "IRB2 : batch_input_shape = (None, 16, 16, 16)\n",
      "IRB3 : batch_input_shape = (None, 8, 8, 16)\n",
      "IRB4 : batch_input_shape = (None, 4, 4, 32)\n",
      "IRB5 : batch_input_shape = (None, 2, 2, 64)\n",
      "IRB6 : batch_input_shape = (None, 1, 1, 128)\n",
      "Model: \"sequential_2\"\n",
      "_________________________________________________________________\n",
      " Layer (type)                Output Shape              Param #   \n",
      "=================================================================\n",
      " batch_normalization_4 (Batc  (None, 32, 32, 1)        4         \n",
      " hNormalization)                                                 \n",
      "                                                                 \n",
      " conv2d_2 (Conv2D)           (None, 16, 16, 32)        320       \n",
      "                                                                 \n",
      " IRB1 (Inveted_Residual_Bloc  (None, 16, 16, 16)       2288      \n",
      " k)                                                              \n",
      "                                                                 \n",
      " IRB2 (Inveted_Residual_Bloc  (None, 8, 8, 16)         6688      \n",
      " k)                                                              \n",
      "                                                                 \n",
      " IRB3 (Inveted_Residual_Bloc  (None, 4, 4, 32)         19456     \n",
      " k)                                                              \n",
      "                                                                 \n",
      " IRB4 (Inveted_Residual_Bloc  (None, 2, 2, 64)         67584     \n",
      " k)                                                              \n",
      "                                                                 \n",
      " IRB5 (Inveted_Residual_Bloc  (None, 1, 1, 128)        108416    \n",
      " k)                                                              \n",
      "                                                                 \n",
      " IRB6 (Inveted_Residual_Bloc  (None, 1, 1, 1024)       1200640   \n",
      " k)                                                              \n",
      "                                                                 \n",
      " re_lu_20 (ReLU)             (None, 1, 1, 1024)        0         \n",
      "                                                                 \n",
      " global_average_pooling2d_2   (None, 1024)             0         \n",
      " (GlobalAveragePooling2D)                                        \n",
      "                                                                 \n",
      " batch_normalization_5 (Batc  (None, 1024)             4096      \n",
      " hNormalization)                                                 \n",
      "                                                                 \n",
      " dense_2 (Dense)             (None, 62)                63550     \n",
      "                                                                 \n",
      "=================================================================\n",
      "Total params: 1,473,042\n",
      "Trainable params: 1,460,336\n",
      "Non-trainable params: 12,706\n",
      "_________________________________________________________________\n"
     ]
    }
   ],
   "source": [
    "    #황성현\n",
    "    #multygpu\n",
    "\n",
    "\n",
    "    n_classes=62\n",
    "    smv2_l=keras.models.Sequential([\n",
    "        keras.layers.BatchNormalization(input_shape=[32,32,1]),\n",
    "        keras.layers.Conv2D(filters=32,kernel_size=3,strides=2,padding=\"same\",activation=\"relu\"),\n",
    "        Inveted_Residual_Block(t=1,c=16,n=1,s=1,name=\"IRB1\"),\n",
    "        Inveted_Residual_Block(t=4,c=16,n=2,s=2,name=\"IRB2\"),\n",
    "        Inveted_Residual_Block(t=8,c=32,n=2,s=2,name=\"IRB3\"),\n",
    "        Inveted_Residual_Block(t=8,c=64,n=2,s=2,name=\"IRB4\"),\n",
    "        Inveted_Residual_Block(t=8,c=128,n=1,s=2,name=\"IRB5\"),\n",
    "        Inveted_Residual_Block(t=8,c=1024,n=1,s=1,name=\"IRB6\"),\n",
    "        keras.layers.ReLU(max_value=6),\n",
    "        keras.layers.GlobalAveragePooling2D(),\n",
    "        keras.layers.BatchNormalization(),\n",
    "        keras.layers.Dense(n_classes,activation=\"softmax\")\n",
    "    ])\n",
    "    smv2_l.summary()\n",
    "    opt = tf.keras.optimizers.Adam(learning_rate=0.003)\n",
    "    batch_size=128\n",
    "    smv2_l.compile(loss=\"sparse_categorical_crossentropy\",optimizer=opt,metrics=[\"accuracy\"])"
   ]
  },
  {
   "cell_type": "code",
   "execution_count": 10,
   "id": "0acf0157-3b8b-4112-bc4a-1b09e49035bc",
   "metadata": {},
   "outputs": [
    {
     "name": "stderr",
     "output_type": "stream",
     "text": [
      "2022-06-05 07:23:04.815855: I tensorflow/core/profiler/lib/profiler_session.cc:110] Profiler session initializing.\n",
      "2022-06-05 07:23:04.815904: I tensorflow/core/profiler/lib/profiler_session.cc:125] Profiler session started.\n",
      "2022-06-05 07:23:05.528160: I tensorflow/core/profiler/lib/profiler_session.cc:143] Profiler session tear down.\n",
      "2022-06-05 07:23:05.528341: I tensorflow/core/profiler/internal/gpu/cupti_tracer.cc:1764] CUPTI activity buffer flushed\n"
     ]
    },
    {
     "name": "stdout",
     "output_type": "stream",
     "text": [
      "Epoch 1/300\n",
      " 499/8393 [>.............................] - ETA: 2:56 - loss: 2.2112 - accuracy: 0.4303"
     ]
    },
    {
     "name": "stderr",
     "output_type": "stream",
     "text": [
      "2022-06-05 07:23:20.070555: I tensorflow/core/profiler/lib/profiler_session.cc:110] Profiler session initializing.\n",
      "2022-06-05 07:23:20.070609: I tensorflow/core/profiler/lib/profiler_session.cc:125] Profiler session started.\n"
     ]
    },
    {
     "name": "stdout",
     "output_type": "stream",
     "text": [
      " 519/8393 [>.............................] - ETA: 3:08 - loss: 2.1676 - accuracy: 0.4393"
     ]
    },
    {
     "name": "stderr",
     "output_type": "stream",
     "text": [
      "2022-06-05 07:23:21.525674: I tensorflow/core/profiler/lib/profiler_session.cc:67] Profiler session collecting data.\n",
      "2022-06-05 07:23:21.527018: I tensorflow/core/profiler/internal/gpu/cupti_tracer.cc:1764] CUPTI activity buffer flushed\n",
      "2022-06-05 07:23:21.705110: I tensorflow/core/profiler/internal/gpu/cupti_collector.cc:521]  GpuTracer has collected 14844 callback api events and 14919 activity events. \n",
      "2022-06-05 07:23:21.956645: I tensorflow/core/profiler/lib/profiler_session.cc:143] Profiler session tear down.\n",
      "2022-06-05 07:23:22.268020: I tensorflow/core/profiler/rpc/client/save_profile.cc:136] Creating directory: logs/SMV2L_lrsch_plat_aug12820220605-072304/plugins/profile/2022_06_05_07_23_21\n",
      "\n",
      "2022-06-05 07:23:22.501387: I tensorflow/core/profiler/rpc/client/save_profile.cc:142] Dumped gzipped tool data for trace.json.gz to logs/SMV2L_lrsch_plat_aug12820220605-072304/plugins/profile/2022_06_05_07_23_21/a58a2589147d.trace.json.gz\n"
     ]
    },
    {
     "name": "stdout",
     "output_type": "stream",
     "text": [
      " 525/8393 [>.............................] - ETA: 3:30 - loss: 2.1544 - accuracy: 0.4421"
     ]
    },
    {
     "name": "stderr",
     "output_type": "stream",
     "text": [
      "2022-06-05 07:23:22.765167: I tensorflow/core/profiler/rpc/client/save_profile.cc:136] Creating directory: logs/SMV2L_lrsch_plat_aug12820220605-072304/plugins/profile/2022_06_05_07_23_21\n",
      "\n",
      "2022-06-05 07:23:22.772493: I tensorflow/core/profiler/rpc/client/save_profile.cc:142] Dumped gzipped tool data for memory_profile.json.gz to logs/SMV2L_lrsch_plat_aug12820220605-072304/plugins/profile/2022_06_05_07_23_21/a58a2589147d.memory_profile.json.gz\n",
      "2022-06-05 07:23:22.777803: I tensorflow/core/profiler/rpc/client/capture_profile.cc:251] Creating directory: logs/SMV2L_lrsch_plat_aug12820220605-072304/plugins/profile/2022_06_05_07_23_21\n",
      "Dumped tool data for xplane.pb to logs/SMV2L_lrsch_plat_aug12820220605-072304/plugins/profile/2022_06_05_07_23_21/a58a2589147d.xplane.pb\n",
      "Dumped tool data for overview_page.pb to logs/SMV2L_lrsch_plat_aug12820220605-072304/plugins/profile/2022_06_05_07_23_21/a58a2589147d.overview_page.pb\n",
      "Dumped tool data for input_pipeline.pb to logs/SMV2L_lrsch_plat_aug12820220605-072304/plugins/profile/2022_06_05_07_23_21/a58a2589147d.input_pipeline.pb\n",
      "Dumped tool data for tensorflow_stats.pb to logs/SMV2L_lrsch_plat_aug12820220605-072304/plugins/profile/2022_06_05_07_23_21/a58a2589147d.tensorflow_stats.pb\n",
      "Dumped tool data for kernel_stats.pb to logs/SMV2L_lrsch_plat_aug12820220605-072304/plugins/profile/2022_06_05_07_23_21/a58a2589147d.kernel_stats.pb\n",
      "\n"
     ]
    },
    {
     "name": "stdout",
     "output_type": "stream",
     "text": [
      "8393/8393 [==============================] - 207s 24ms/step - loss: 0.6715 - accuracy: 0.7787 - val_loss: 0.4779 - val_accuracy: 0.8281 - lr: 0.0030\n",
      "Epoch 2/300\n",
      "8393/8393 [==============================] - 201s 24ms/step - loss: 0.4615 - accuracy: 0.8342 - val_loss: 0.4205 - val_accuracy: 0.8488 - lr: 0.0030\n",
      "Epoch 3/300\n",
      "8393/8393 [==============================] - 201s 24ms/step - loss: 0.4284 - accuracy: 0.8438 - val_loss: 1.2171 - val_accuracy: 0.6262 - lr: 0.0030\n",
      "Epoch 4/300\n",
      "8393/8393 [==============================] - 203s 24ms/step - loss: 0.4113 - accuracy: 0.8491 - val_loss: 1.8235 - val_accuracy: 0.5196 - lr: 0.0030\n",
      "Epoch 5/300\n",
      "8393/8393 [==============================] - 200s 24ms/step - loss: 0.4034 - accuracy: 0.8512 - val_loss: 0.4381 - val_accuracy: 0.8363 - lr: 0.0030\n",
      "Epoch 6/300\n",
      "8393/8393 [==============================] - 201s 24ms/step - loss: 0.3628 - accuracy: 0.8635 - val_loss: 0.3807 - val_accuracy: 0.8562 - lr: 0.0015\n",
      "Epoch 7/300\n",
      "8393/8393 [==============================] - 200s 24ms/step - loss: 0.3523 - accuracy: 0.8659 - val_loss: 0.3674 - val_accuracy: 0.8612 - lr: 0.0015\n",
      "Epoch 8/300\n",
      "8393/8393 [==============================] - 201s 24ms/step - loss: 0.3471 - accuracy: 0.8672 - val_loss: 0.3574 - val_accuracy: 0.8656 - lr: 0.0015\n",
      "Epoch 9/300\n",
      "8393/8393 [==============================] - 200s 24ms/step - loss: 0.3426 - accuracy: 0.8686 - val_loss: 0.3662 - val_accuracy: 0.8625 - lr: 0.0015\n",
      "Epoch 10/300\n",
      "8393/8393 [==============================] - 201s 24ms/step - loss: 0.3397 - accuracy: 0.8693 - val_loss: 0.7174 - val_accuracy: 0.8052 - lr: 0.0015\n",
      "Epoch 11/300\n",
      "8393/8393 [==============================] - 201s 24ms/step - loss: 0.3367 - accuracy: 0.8703 - val_loss: 0.3528 - val_accuracy: 0.8678 - lr: 0.0015\n",
      "Epoch 12/300\n",
      "8393/8393 [==============================] - 203s 24ms/step - loss: 0.3340 - accuracy: 0.8709 - val_loss: 1.4303 - val_accuracy: 0.6422 - lr: 0.0015\n",
      "Epoch 13/300\n",
      "8393/8393 [==============================] - 200s 24ms/step - loss: 0.3320 - accuracy: 0.8714 - val_loss: 0.3893 - val_accuracy: 0.8523 - lr: 0.0015\n",
      "Epoch 14/300\n",
      "8393/8393 [==============================] - 200s 24ms/step - loss: 0.3301 - accuracy: 0.8721 - val_loss: 0.4071 - val_accuracy: 0.8481 - lr: 0.0015\n",
      "Epoch 15/300\n",
      "8393/8393 [==============================] - 199s 24ms/step - loss: 0.3098 - accuracy: 0.8784 - val_loss: 0.5163 - val_accuracy: 0.8434 - lr: 7.5000e-04\n",
      "Epoch 16/300\n",
      "8393/8393 [==============================] - 200s 24ms/step - loss: 0.3039 - accuracy: 0.8802 - val_loss: 0.6871 - val_accuracy: 0.8164 - lr: 7.5000e-04\n",
      "Epoch 17/300\n",
      "8393/8393 [==============================] - 201s 24ms/step - loss: 0.3002 - accuracy: 0.8811 - val_loss: 1.6190 - val_accuracy: 0.6418 - lr: 7.5000e-04\n",
      "Epoch 18/300\n",
      "8393/8393 [==============================] - 201s 24ms/step - loss: 0.2877 - accuracy: 0.8854 - val_loss: 0.3390 - val_accuracy: 0.8745 - lr: 3.7500e-04\n",
      "Epoch 19/300\n",
      "8393/8393 [==============================] - 200s 24ms/step - loss: 0.2834 - accuracy: 0.8866 - val_loss: 0.4036 - val_accuracy: 0.8530 - lr: 3.7500e-04\n",
      "Epoch 20/300\n",
      "8393/8393 [==============================] - 203s 24ms/step - loss: 0.2809 - accuracy: 0.8876 - val_loss: 0.3428 - val_accuracy: 0.8740 - lr: 3.7500e-04\n",
      "Epoch 21/300\n",
      "8393/8393 [==============================] - 199s 24ms/step - loss: 0.2782 - accuracy: 0.8884 - val_loss: 0.9013 - val_accuracy: 0.7909 - lr: 3.7500e-04\n",
      "Epoch 22/300\n",
      "8393/8393 [==============================] - 201s 24ms/step - loss: 0.2712 - accuracy: 0.8907 - val_loss: 0.9787 - val_accuracy: 0.7819 - lr: 1.8750e-04\n",
      "Epoch 23/300\n",
      "8393/8393 [==============================] - 200s 24ms/step - loss: 0.2686 - accuracy: 0.8917 - val_loss: 0.3494 - val_accuracy: 0.8737 - lr: 1.8750e-04\n",
      "Epoch 24/300\n",
      "8393/8393 [==============================] - 200s 24ms/step - loss: 0.2669 - accuracy: 0.8923 - val_loss: 0.7691 - val_accuracy: 0.8099 - lr: 1.8750e-04\n",
      "Epoch 25/300\n",
      "8393/8393 [==============================] - 200s 24ms/step - loss: 0.2626 - accuracy: 0.8938 - val_loss: 0.3461 - val_accuracy: 0.8760 - lr: 9.3750e-05\n",
      "Epoch 26/300\n",
      "8393/8393 [==============================] - 200s 24ms/step - loss: 0.2610 - accuracy: 0.8942 - val_loss: 0.5753 - val_accuracy: 0.8390 - lr: 9.3750e-05\n",
      "Epoch 27/300\n",
      "8393/8393 [==============================] - 201s 24ms/step - loss: 0.2603 - accuracy: 0.8946 - val_loss: 0.3825 - val_accuracy: 0.8676 - lr: 9.3750e-05\n",
      "Epoch 28/300\n",
      "8393/8393 [==============================] - 202s 24ms/step - loss: 0.2581 - accuracy: 0.8955 - val_loss: 0.3497 - val_accuracy: 0.8755 - lr: 4.6875e-05\n"
     ]
    }
   ],
   "source": [
    "#황성현 \n",
    "from datetime import datetime\n",
    "logs = \"logs/\" + datetime.now().strftime(\"SMV2L_lrsch_plat_aug128%Y%m%d-%H%M%S\")\n",
    "reduce_lr = tf.keras.callbacks.ReduceLROnPlateau(monitor='val_loss', factor=0.5,\n",
    "                              patience=3, min_lr=0.000001)\n",
    "tboard_callback = tf.keras.callbacks.TensorBoard(log_dir = logs,\n",
    "                                                 histogram_freq = 1,\n",
    "                                                 profile_batch = '500,520')\n",
    "check_best_cb=tf.keras.callbacks.ModelCheckpoint(filepath=\"smv2l_nadam_best_lrsch_plat_aug128.h5\",save_best_only=True)\n",
    "check_last_cb=tf.keras.callbacks.ModelCheckpoint(filepath=\"smv2l_nadam_last_lrsch_plat_aug128.h5\",save_best_only=True)\n",
    "earlystop_cb = tf.keras.callbacks.EarlyStopping(patience = 10, restore_best_weights = True)\n",
    "history=smv2_l.fit(X_train,y_train,validation_data=(X_valid_resize,y_valid),batch_size = batch_size, epochs=300,callbacks=[tboard_callback, check_best_cb, check_last_cb, earlystop_cb,reduce_lr])"
   ]
  },
  {
   "cell_type": "code",
   "execution_count": 12,
   "id": "65300afd-d8b1-423b-b047-f9ff6363d0db",
   "metadata": {},
   "outputs": [],
   "source": [
    "smv2_l.save('./smv2l_nadam_lrsch_plat_aug128.h5')"
   ]
  },
  {
   "cell_type": "code",
   "execution_count": null,
   "id": "13d72222-6a4b-4987-bcbd-0466f3fb7c8c",
   "metadata": {},
   "outputs": [],
   "source": []
  }
 ],
 "metadata": {
  "kernelspec": {
   "display_name": "Python 3 (ipykernel)",
   "language": "python",
   "name": "python3"
  },
  "language_info": {
   "codemirror_mode": {
    "name": "ipython",
    "version": 3
   },
   "file_extension": ".py",
   "mimetype": "text/x-python",
   "name": "python",
   "nbconvert_exporter": "python",
   "pygments_lexer": "ipython3",
   "version": "3.9.7"
  }
 },
 "nbformat": 4,
 "nbformat_minor": 5
}

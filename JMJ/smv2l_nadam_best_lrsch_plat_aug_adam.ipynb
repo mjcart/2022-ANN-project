{
 "cells": [
  {
   "cell_type": "code",
   "execution_count": 1,
   "id": "9289fccd-b496-4478-ab47-16d5f0112be7",
   "metadata": {},
   "outputs": [
    {
     "name": "stderr",
     "output_type": "stream",
     "text": [
      "<frozen importlib._bootstrap>:228: RuntimeWarning: scipy._lib.messagestream.MessageStream size changed, may indicate binary incompatibility. Expected 56 from C header, got 64 from PyObject\n"
     ]
    },
    {
     "name": "stdout",
     "output_type": "stream",
     "text": [
      "sklearn version:  1.0.2\n",
      "Requirement already satisfied: tensorflow_addons in /opt/conda/lib/python3.9/site-packages (0.17.0)\n",
      "Requirement already satisfied: typeguard>=2.7 in /opt/conda/lib/python3.9/site-packages (from tensorflow_addons) (2.13.3)\n",
      "Requirement already satisfied: packaging in /opt/conda/lib/python3.9/site-packages (from tensorflow_addons) (21.0)\n",
      "Requirement already satisfied: pyparsing>=2.0.2 in /opt/conda/lib/python3.9/site-packages (from packaging->tensorflow_addons) (3.0.3)\n",
      "TF version:  2.8.0\n",
      "GPU installed:  True\n"
     ]
    },
    {
     "name": "stderr",
     "output_type": "stream",
     "text": [
      "2022-06-04 05:42:26.601534: I tensorflow/core/platform/cpu_feature_guard.cc:151] This TensorFlow binary is optimized with oneAPI Deep Neural Network Library (oneDNN) to use the following CPU instructions in performance-critical operations:  AVX2 AVX512F FMA\n",
      "To enable them in other operations, rebuild TensorFlow with the appropriate compiler flags.\n",
      "2022-06-04 05:42:30.665884: I tensorflow/core/common_runtime/gpu/gpu_device.cc:1525] Created device /job:localhost/replica:0/task:0/device:GPU:0 with 14791 MB memory:  -> device: 0, name: Quadro RTX 5000, pci bus id: 0000:19:00.0, compute capability: 7.5\n",
      "2022-06-04 05:42:30.668173: I tensorflow/core/common_runtime/gpu/gpu_device.cc:1525] Created device /job:localhost/replica:0/task:0/device:GPU:1 with 14791 MB memory:  -> device: 1, name: Quadro RTX 5000, pci bus id: 0000:1a:00.0, compute capability: 7.5\n",
      "2022-06-04 05:42:30.669126: I tensorflow/core/common_runtime/gpu/gpu_device.cc:1525] Created device /job:localhost/replica:0/task:0/device:GPU:2 with 14767 MB memory:  -> device: 2, name: Quadro RTX 5000, pci bus id: 0000:67:00.0, compute capability: 7.5\n",
      "2022-06-04 05:42:30.669852: I tensorflow/core/common_runtime/gpu/gpu_device.cc:1525] Created device /job:localhost/replica:0/task:0/device:GPU:3 with 963 MB memory:  -> device: 3, name: Quadro RTX 5000, pci bus id: 0000:68:00.0, compute capability: 7.5\n"
     ]
    },
    {
     "name": "stdout",
     "output_type": "stream",
     "text": [
      "4 Physical GPUs, 4 Logical GPUs\n"
     ]
    }
   ],
   "source": [
    "# Python ≥3.5 is required\n",
    "import sys\n",
    "assert sys.version_info >= (3, 5)\n",
    "\n",
    "# Scikit-Learn ≥0.20 is required\n",
    "import sklearn\n",
    "print(\"sklearn version: \", sklearn.__version__)\n",
    "assert sklearn.__version__ >= \"0.20\"\n",
    "\n",
    "try:\n",
    "    # %tensorflow_version only exists in Colab.\n",
    "    %tensorflow_version 2.x\n",
    "    IS_COLAB = True\n",
    "except Exception:\n",
    "    IS_COLAB = False\n",
    "\n",
    "# TensorFlow ≥2.0 is required\n",
    "import tensorflow as tf\n",
    "!pip install tensorflow_addons\n",
    "import tensorflow_addons as tfa\n",
    "from tensorflow import keras\n",
    "print(\"TF version: \", tf.__version__)\n",
    "assert tf.__version__ >= \"2.0\"\n",
    "\n",
    "if not tf.config.list_physical_devices('GPU'):\n",
    "    print(\"No GPU was detected. CNNs can be very slow without a GPU.\")\n",
    "    if IS_COLAB:\n",
    "        print(\"Go to Runtime > Change runtime and select a GPU hardware accelerator.\")\n",
    "\n",
    "# GPU test\n",
    "print(\"GPU installed: \",tf.test.is_built_with_gpu_support())\n",
    "\n",
    "# To prevent \"CUDNN_STATUS_ALLOC_FAILED\" error with GPUs\n",
    "gpus = tf.config.experimental.list_physical_devices('GPU')\n",
    "if gpus:\n",
    "  try:\n",
    "    # Currently, memory growth needs to be the same across GPUs\n",
    "    for gpu in gpus:\n",
    "      tf.config.experimental.set_memory_growth(gpu, True)\n",
    "    logical_gpus = tf.config.experimental.list_logical_devices('GPU')\n",
    "    print(len(gpus), \"Physical GPUs,\", len(logical_gpus), \"Logical GPUs\")\n",
    "  except RuntimeError as e:\n",
    "    # Memory growth must be set before GPUs have been initialized\n",
    "    print(e)\n",
    "    \n",
    "# Common imports\n",
    "import numpy as np\n",
    "import os\n",
    "\n",
    "# to make this notebook's output stable across runs\n",
    "np.random.seed(42)\n",
    "tf.random.set_seed(42)\n",
    "\n",
    "# To plot pretty figures\n",
    "%matplotlib inline\n",
    "import matplotlib as mpl\n",
    "import matplotlib.pyplot as plt\n",
    "mpl.rc('axes', labelsize=14)\n",
    "mpl.rc('xtick', labelsize=12)\n",
    "mpl.rc('ytick', labelsize=12)\n",
    "\n",
    "# Where to save the figures\n",
    "PROJECT_ROOT_DIR = \".\"\n",
    "CHAPTER_ID = \"cnn\"\n",
    "IMAGES_PATH = os.path.join(PROJECT_ROOT_DIR, \"images\", CHAPTER_ID)\n",
    "os.makedirs(IMAGES_PATH, exist_ok=True)\n",
    "\n",
    "def save_fig(fig_id, tight_layout=True, fig_extension=\"png\", resolution=300):\n",
    "    path = os.path.join(IMAGES_PATH, fig_id + \".\" + fig_extension)\n",
    "    print(\"Saving figure\", fig_id)\n",
    "    if tight_layout:\n",
    "        plt.tight_layout()\n",
    "    plt.savefig(path, format=fig_extension, dpi=resolution)\n",
    "    \n",
    "# Ignore useless warnings (see SciPy issue #5998)\n",
    "import warnings\n",
    "warnings.filterwarnings(action=\"ignore\", message=\"^internal gelsd\")    \n",
    "\n",
    "from tensorflow.python.keras.utils.data_utils import Sequence"
   ]
  },
  {
   "cell_type": "code",
   "execution_count": 2,
   "id": "a43846f0-ee03-4e04-8da2-36dcdcde6fd7",
   "metadata": {},
   "outputs": [],
   "source": [
    "X_train=np.uint8(np.load('./X_train_aug.npy'))\n",
    "y_train=np.uint8(np.load('./y_train_aug.npy'))\n",
    "X_valid=np.uint8(np.load('./X_valid.npy'))\n",
    "y_valid=np.uint8(np.load('./y_valid.npy'))"
   ]
  },
  {
   "cell_type": "code",
   "execution_count": 3,
   "id": "5f4228f8-9224-42bf-80fa-d905375844fd",
   "metadata": {},
   "outputs": [
    {
     "data": {
      "text/plain": [
       "((1074263, 32, 32, 1), (164015, 32, 32, 1), dtype('uint8'))"
      ]
     },
     "execution_count": 3,
     "metadata": {},
     "output_type": "execute_result"
    }
   ],
   "source": [
    "X_valid=tf.reshape(X_valid,[-1,28,28,1])\n",
    "X_valid_resize=np.uint8(tf.image.resize(X_valid, [32, 32]))\n",
    "X_train.shape,X_valid_resize.shape,X_train.dtype"
   ]
  },
  {
   "cell_type": "code",
   "execution_count": 4,
   "id": "b0aa6eda-4eba-4e2b-8f42-83f61993a2f5",
   "metadata": {},
   "outputs": [],
   "source": [
    "#황성현\n",
    "class Inveted_Residual_Block(keras.layers.Layer):\n",
    "    def __init__(self,c,s=1,t=1,n=1,**kwargs):\n",
    "        super().__init__(**kwargs)\n",
    "        self.activation = keras.layers.ReLU(max_value=6)\n",
    "        self.main_layers = [\n",
    "            \n",
    "            ]\n",
    "        self.strides_layers=[\n",
    "           ]\n",
    "        self.s=s\n",
    "        self.t=t\n",
    "        self.c=c\n",
    "        self.n=n\n",
    "        \n",
    "    def build(self,batch_input_shape):\n",
    "        print(self.name,\": batch_input_shape =\",batch_input_shape)\n",
    "        \n",
    "        self.main_layers = [\n",
    "            keras.layers.BatchNormalization(),\n",
    "            keras.layers.Conv2D(filters=batch_input_shape[-1]*self.t, kernel_size=1,strides=1, \n",
    "                                padding=\"SAME\", activation=self.activation),\n",
    "            keras.layers.BatchNormalization(),\n",
    "            keras.layers.DepthwiseConv2D(kernel_size=3, strides=1,padding=\"SAME\", activation=self.activation),\n",
    "            keras.layers.BatchNormalization(),\n",
    "            keras.layers.Conv2D(filters=self.c,kernel_size=1, strides=1,padding=\"SAME\", activation=self.activation),\n",
    "            ]\n",
    "        self.strides_layers=[\n",
    "            keras.layers.BatchNormalization(),\n",
    "            keras.layers.Conv2D(filters=batch_input_shape[-1]*self.t, kernel_size=1,strides=1,\n",
    "                                padding=\"SAME\", activation=self.activation),\n",
    "            keras.layers.BatchNormalization(),\n",
    "            keras.layers.DepthwiseConv2D(kernel_size=3, strides=self.s,padding=\"SAME\",activation=self.activation),\n",
    "            keras.layers.BatchNormalization(),\n",
    "            keras.layers.Conv2D(filters=self.c, kernel_size=1,strides=1,padding=\"SAME\",activation=self.activation),\n",
    "        ]\n",
    "\n",
    "    def call(self, inputs):\n",
    "        Z = inputs\n",
    "        \n",
    "        for n in range(0,self.n):\n",
    "            if n == 0:\n",
    "                for layer in self.strides_layers:\n",
    "                    Z = layer(Z)\n",
    "            else:\n",
    "                skip_Z = Z\n",
    "                for layer in self.main_layers:\n",
    "                    Z = layer(Z)\n",
    "                \n",
    "                Z += skip_Z\n",
    "    \n",
    "        return Z\n",
    "    \n",
    "    def get_config(self):\n",
    "        base=super().get_config()\n",
    "        return{**base,\"s\":self.s,\"t\":self.t,\"c\":self.c,\"n\":self.n}"
   ]
  },
  {
   "cell_type": "code",
   "execution_count": 5,
   "id": "34fb2330-2ff3-4979-9901-e2f0da8d336a",
   "metadata": {},
   "outputs": [
    {
     "name": "stdout",
     "output_type": "stream",
     "text": [
      "IRB1 : batch_input_shape = (None, 16, 16, 32)\n",
      "IRB2 : batch_input_shape = (None, 16, 16, 16)\n",
      "IRB3 : batch_input_shape = (None, 8, 8, 16)\n",
      "IRB4 : batch_input_shape = (None, 4, 4, 32)\n",
      "IRB5 : batch_input_shape = (None, 2, 2, 64)\n",
      "IRB6 : batch_input_shape = (None, 1, 1, 128)\n",
      "Model: \"sequential\"\n",
      "_________________________________________________________________\n",
      " Layer (type)                Output Shape              Param #   \n",
      "=================================================================\n",
      " batch_normalization (BatchN  (None, 32, 32, 1)        4         \n",
      " ormalization)                                                   \n",
      "                                                                 \n",
      " conv2d (Conv2D)             (None, 16, 16, 32)        320       \n",
      "                                                                 \n",
      " IRB1 (Inveted_Residual_Bloc  (None, 16, 16, 16)       2288      \n",
      " k)                                                              \n",
      "                                                                 \n",
      " IRB2 (Inveted_Residual_Bloc  (None, 8, 8, 16)         6688      \n",
      " k)                                                              \n",
      "                                                                 \n",
      " IRB3 (Inveted_Residual_Bloc  (None, 4, 4, 32)         19456     \n",
      " k)                                                              \n",
      "                                                                 \n",
      " IRB4 (Inveted_Residual_Bloc  (None, 2, 2, 64)         67584     \n",
      " k)                                                              \n",
      "                                                                 \n",
      " IRB5 (Inveted_Residual_Bloc  (None, 1, 1, 128)        108416    \n",
      " k)                                                              \n",
      "                                                                 \n",
      " IRB6 (Inveted_Residual_Bloc  (None, 1, 1, 1024)       1200640   \n",
      " k)                                                              \n",
      "                                                                 \n",
      " re_lu_6 (ReLU)              (None, 1, 1, 1024)        0         \n",
      "                                                                 \n",
      " global_average_pooling2d (G  (None, 1024)             0         \n",
      " lobalAveragePooling2D)                                          \n",
      "                                                                 \n",
      " batch_normalization_1 (Batc  (None, 1024)             4096      \n",
      " hNormalization)                                                 \n",
      "                                                                 \n",
      " dense (Dense)               (None, 62)                63550     \n",
      "                                                                 \n",
      "=================================================================\n",
      "Total params: 1,473,042\n",
      "Trainable params: 1,460,336\n",
      "Non-trainable params: 12,706\n",
      "_________________________________________________________________\n"
     ]
    }
   ],
   "source": [
    "    #황성현\n",
    "    #multygpu\n",
    "\n",
    "    opt = tf.keras.optimizers.Adam(learning_rate=0.006)\n",
    "    batch_size=256\n",
    "    n_classes=62\n",
    "    smv2_l=keras.models.Sequential([\n",
    "        keras.layers.BatchNormalization(input_shape=[32,32,1]),\n",
    "        keras.layers.Conv2D(filters=32,kernel_size=3,strides=2,padding=\"same\",activation=\"relu\"),\n",
    "        Inveted_Residual_Block(t=1,c=16,n=1,s=1,name=\"IRB1\"),\n",
    "        Inveted_Residual_Block(t=4,c=16,n=2,s=2,name=\"IRB2\"),\n",
    "        Inveted_Residual_Block(t=8,c=32,n=2,s=2,name=\"IRB3\"),\n",
    "        Inveted_Residual_Block(t=8,c=64,n=2,s=2,name=\"IRB4\"),\n",
    "        Inveted_Residual_Block(t=8,c=128,n=1,s=2,name=\"IRB5\"),\n",
    "        Inveted_Residual_Block(t=8,c=1024,n=1,s=1,name=\"IRB6\"),\n",
    "        keras.layers.ReLU(max_value=6),\n",
    "        keras.layers.GlobalAveragePooling2D(),\n",
    "        keras.layers.BatchNormalization(),\n",
    "        keras.layers.Dense(n_classes,activation=\"softmax\")\n",
    "    ])\n",
    "    smv2_l.summary()\n",
    "    smv2_l.compile(loss=\"sparse_categorical_crossentropy\",optimizer=opt,metrics=[\"accuracy\"])"
   ]
  },
  {
   "cell_type": "code",
   "execution_count": 6,
   "id": "0acf0157-3b8b-4112-bc4a-1b09e49035bc",
   "metadata": {},
   "outputs": [
    {
     "name": "stderr",
     "output_type": "stream",
     "text": [
      "2022-06-04 05:42:42.692410: I tensorflow/core/profiler/lib/profiler_session.cc:110] Profiler session initializing.\n",
      "2022-06-04 05:42:42.692517: I tensorflow/core/profiler/lib/profiler_session.cc:125] Profiler session started.\n",
      "2022-06-04 05:42:42.693824: I tensorflow/core/profiler/internal/gpu/cupti_tracer.cc:1630] Profiler found 4 GPUs\n",
      "2022-06-04 05:42:42.696920: W tensorflow/stream_executor/platform/default/dso_loader.cc:64] Could not load dynamic library 'libcupti.so.11.2'; dlerror: libcupti.so.11.2: cannot open shared object file: No such file or directory; LD_LIBRARY_PATH: /usr/local/nvidia/lib:/usr/local/nvidia/lib64\n",
      "2022-06-04 05:42:43.500416: I tensorflow/core/profiler/lib/profiler_session.cc:143] Profiler session tear down.\n",
      "2022-06-04 05:42:43.500584: I tensorflow/core/profiler/internal/gpu/cupti_tracer.cc:1764] CUPTI activity buffer flushed\n"
     ]
    },
    {
     "name": "stdout",
     "output_type": "stream",
     "text": [
      "Epoch 1/300\n"
     ]
    },
    {
     "name": "stderr",
     "output_type": "stream",
     "text": [
      "2022-06-04 05:42:49.504269: I tensorflow/stream_executor/cuda/cuda_dnn.cc:368] Loaded cuDNN version 8204\n"
     ]
    },
    {
     "name": "stdout",
     "output_type": "stream",
     "text": [
      " 498/4197 [==>...........................] - ETA: 1:38 - loss: 1.5401 - accuracy: 0.5778"
     ]
    },
    {
     "name": "stderr",
     "output_type": "stream",
     "text": [
      "2022-06-04 05:43:10.455045: I tensorflow/core/profiler/lib/profiler_session.cc:110] Profiler session initializing.\n",
      "2022-06-04 05:43:10.455097: I tensorflow/core/profiler/lib/profiler_session.cc:125] Profiler session started.\n"
     ]
    },
    {
     "name": "stdout",
     "output_type": "stream",
     "text": [
      " 518/4197 [==>...........................] - ETA: 1:45 - loss: 1.5095 - accuracy: 0.5845"
     ]
    },
    {
     "name": "stderr",
     "output_type": "stream",
     "text": [
      "2022-06-04 05:43:12.061663: I tensorflow/core/profiler/lib/profiler_session.cc:67] Profiler session collecting data.\n",
      "2022-06-04 05:43:12.062994: I tensorflow/core/profiler/internal/gpu/cupti_tracer.cc:1764] CUPTI activity buffer flushed\n",
      "2022-06-04 05:43:12.290549: I tensorflow/core/profiler/internal/gpu/cupti_collector.cc:521]  GpuTracer has collected 15075 callback api events and 15154 activity events. \n",
      "2022-06-04 05:43:12.599036: I tensorflow/core/profiler/lib/profiler_session.cc:143] Profiler session tear down.\n",
      "2022-06-04 05:43:12.930477: I tensorflow/core/profiler/rpc/client/save_profile.cc:136] Creating directory: logs/SMV2L_lrsch_plat_aug_adam_20220604-054242/plugins/profile/2022_06_04_05_43_12\n",
      "\n",
      "2022-06-04 05:43:13.162120: I tensorflow/core/profiler/rpc/client/save_profile.cc:142] Dumped gzipped tool data for trace.json.gz to logs/SMV2L_lrsch_plat_aug_adam_20220604-054242/plugins/profile/2022_06_04_05_43_12/a58a2589147d.trace.json.gz\n"
     ]
    },
    {
     "name": "stdout",
     "output_type": "stream",
     "text": [
      " 525/4197 [==>...........................] - ETA: 1:55 - loss: 1.4990 - accuracy: 0.5869"
     ]
    },
    {
     "name": "stderr",
     "output_type": "stream",
     "text": [
      "2022-06-04 05:43:13.430184: I tensorflow/core/profiler/rpc/client/save_profile.cc:136] Creating directory: logs/SMV2L_lrsch_plat_aug_adam_20220604-054242/plugins/profile/2022_06_04_05_43_12\n",
      "\n",
      "2022-06-04 05:43:13.437532: I tensorflow/core/profiler/rpc/client/save_profile.cc:142] Dumped gzipped tool data for memory_profile.json.gz to logs/SMV2L_lrsch_plat_aug_adam_20220604-054242/plugins/profile/2022_06_04_05_43_12/a58a2589147d.memory_profile.json.gz\n",
      "2022-06-04 05:43:13.442528: I tensorflow/core/profiler/rpc/client/capture_profile.cc:251] Creating directory: logs/SMV2L_lrsch_plat_aug_adam_20220604-054242/plugins/profile/2022_06_04_05_43_12\n",
      "Dumped tool data for xplane.pb to logs/SMV2L_lrsch_plat_aug_adam_20220604-054242/plugins/profile/2022_06_04_05_43_12/a58a2589147d.xplane.pb\n",
      "Dumped tool data for overview_page.pb to logs/SMV2L_lrsch_plat_aug_adam_20220604-054242/plugins/profile/2022_06_04_05_43_12/a58a2589147d.overview_page.pb\n",
      "Dumped tool data for input_pipeline.pb to logs/SMV2L_lrsch_plat_aug_adam_20220604-054242/plugins/profile/2022_06_04_05_43_12/a58a2589147d.input_pipeline.pb\n",
      "Dumped tool data for tensorflow_stats.pb to logs/SMV2L_lrsch_plat_aug_adam_20220604-054242/plugins/profile/2022_06_04_05_43_12/a58a2589147d.tensorflow_stats.pb\n",
      "Dumped tool data for kernel_stats.pb to logs/SMV2L_lrsch_plat_aug_adam_20220604-054242/plugins/profile/2022_06_04_05_43_12/a58a2589147d.kernel_stats.pb\n",
      "\n"
     ]
    },
    {
     "name": "stdout",
     "output_type": "stream",
     "text": [
      "4197/4197 [==============================] - 135s 29ms/step - loss: 0.6649 - accuracy: 0.7810 - val_loss: 0.8423 - val_accuracy: 0.7336 - lr: 0.0060\n",
      "Epoch 2/300\n",
      "4197/4197 [==============================] - 119s 28ms/step - loss: 0.4809 - accuracy: 0.8286 - val_loss: 0.8274 - val_accuracy: 0.7241 - lr: 0.0060\n",
      "Epoch 3/300\n",
      "4197/4197 [==============================] - 119s 28ms/step - loss: 0.4585 - accuracy: 0.8357 - val_loss: 0.4996 - val_accuracy: 0.8228 - lr: 0.0060\n",
      "Epoch 4/300\n",
      "4197/4197 [==============================] - 119s 28ms/step - loss: 0.4518 - accuracy: 0.8379 - val_loss: 1.0571 - val_accuracy: 0.6806 - lr: 0.0060\n",
      "Epoch 5/300\n",
      "4197/4197 [==============================] - 119s 28ms/step - loss: 0.4532 - accuracy: 0.8376 - val_loss: 0.5648 - val_accuracy: 0.8036 - lr: 0.0060\n",
      "Epoch 6/300\n",
      "4197/4197 [==============================] - 119s 28ms/step - loss: 0.4669 - accuracy: 0.8340 - val_loss: 0.9941 - val_accuracy: 0.6988 - lr: 0.0060\n",
      "Epoch 7/300\n",
      "4197/4197 [==============================] - 119s 28ms/step - loss: 0.4120 - accuracy: 0.8496 - val_loss: 0.5580 - val_accuracy: 0.8055 - lr: 0.0030\n",
      "Epoch 8/300\n",
      "4197/4197 [==============================] - 119s 28ms/step - loss: 0.4006 - accuracy: 0.8527 - val_loss: 0.6399 - val_accuracy: 0.7896 - lr: 0.0030\n",
      "Epoch 9/300\n",
      "4197/4197 [==============================] - 119s 28ms/step - loss: 0.3952 - accuracy: 0.8541 - val_loss: 0.4497 - val_accuracy: 0.8374 - lr: 0.0030\n",
      "Epoch 10/300\n",
      "4197/4197 [==============================] - 107s 25ms/step - loss: 0.3925 - accuracy: 0.8548 - val_loss: 0.5952 - val_accuracy: 0.8030 - lr: 0.0030\n",
      "Epoch 11/300\n",
      "4197/4197 [==============================] - 107s 25ms/step - loss: 0.3917 - accuracy: 0.8546 - val_loss: 0.4261 - val_accuracy: 0.8430 - lr: 0.0030\n",
      "Epoch 12/300\n",
      "4197/4197 [==============================] - 106s 25ms/step - loss: 0.3951 - accuracy: 0.8530 - val_loss: 0.4315 - val_accuracy: 0.8437 - lr: 0.0030\n",
      "Epoch 13/300\n",
      "4197/4197 [==============================] - 106s 25ms/step - loss: 0.3910 - accuracy: 0.8549 - val_loss: 0.4343 - val_accuracy: 0.8421 - lr: 0.0030\n",
      "Epoch 14/300\n",
      "4197/4197 [==============================] - 107s 26ms/step - loss: 0.3898 - accuracy: 0.8551 - val_loss: 0.5036 - val_accuracy: 0.8209 - lr: 0.0030\n",
      "Epoch 15/300\n",
      "4197/4197 [==============================] - 108s 26ms/step - loss: 0.3648 - accuracy: 0.8628 - val_loss: 0.3710 - val_accuracy: 0.8643 - lr: 0.0015\n",
      "Epoch 16/300\n",
      "4197/4197 [==============================] - 107s 25ms/step - loss: 0.3567 - accuracy: 0.8646 - val_loss: 0.3751 - val_accuracy: 0.8611 - lr: 0.0015\n",
      "Epoch 17/300\n",
      "4197/4197 [==============================] - 106s 25ms/step - loss: 0.3539 - accuracy: 0.8657 - val_loss: 0.9189 - val_accuracy: 0.7208 - lr: 0.0015\n",
      "Epoch 18/300\n",
      "4197/4197 [==============================] - 108s 26ms/step - loss: 0.3547 - accuracy: 0.8646 - val_loss: 0.3666 - val_accuracy: 0.8645 - lr: 0.0015\n",
      "Epoch 19/300\n",
      "4197/4197 [==============================] - 142s 34ms/step - loss: 0.3486 - accuracy: 0.8671 - val_loss: 0.3902 - val_accuracy: 0.8524 - lr: 0.0015\n",
      "Epoch 20/300\n",
      "4197/4197 [==============================] - 151s 36ms/step - loss: 0.3466 - accuracy: 0.8675 - val_loss: 0.3722 - val_accuracy: 0.8634 - lr: 0.0015\n",
      "Epoch 21/300\n",
      "4197/4197 [==============================] - 147s 35ms/step - loss: 0.3445 - accuracy: 0.8685 - val_loss: 0.3811 - val_accuracy: 0.8566 - lr: 0.0015\n",
      "Epoch 22/300\n",
      "4197/4197 [==============================] - 150s 36ms/step - loss: 0.3293 - accuracy: 0.8727 - val_loss: 0.3707 - val_accuracy: 0.8651 - lr: 7.5000e-04\n",
      "Epoch 23/300\n",
      "4197/4197 [==============================] - 148s 35ms/step - loss: 0.3248 - accuracy: 0.8739 - val_loss: 0.9848 - val_accuracy: 0.7502 - lr: 7.5000e-04\n",
      "Epoch 24/300\n",
      "4197/4197 [==============================] - 149s 35ms/step - loss: 0.3219 - accuracy: 0.8747 - val_loss: 0.3499 - val_accuracy: 0.8693 - lr: 7.5000e-04\n",
      "Epoch 25/300\n",
      "4197/4197 [==============================] - 148s 35ms/step - loss: 0.3192 - accuracy: 0.8755 - val_loss: 0.3847 - val_accuracy: 0.8565 - lr: 7.5000e-04\n",
      "Epoch 26/300\n",
      "4197/4197 [==============================] - 148s 35ms/step - loss: 0.3173 - accuracy: 0.8762 - val_loss: 0.8949 - val_accuracy: 0.7769 - lr: 7.5000e-04\n",
      "Epoch 27/300\n",
      "4197/4197 [==============================] - 145s 35ms/step - loss: 0.3157 - accuracy: 0.8766 - val_loss: 0.5353 - val_accuracy: 0.8177 - lr: 7.5000e-04\n",
      "Epoch 28/300\n",
      "4197/4197 [==============================] - 148s 35ms/step - loss: 0.3070 - accuracy: 0.8793 - val_loss: 0.3453 - val_accuracy: 0.8720 - lr: 3.7500e-04\n",
      "Epoch 29/300\n",
      "4197/4197 [==============================] - 147s 35ms/step - loss: 0.3038 - accuracy: 0.8803 - val_loss: 0.3475 - val_accuracy: 0.8708 - lr: 3.7500e-04\n",
      "Epoch 30/300\n",
      "4197/4197 [==============================] - 150s 36ms/step - loss: 0.3017 - accuracy: 0.8808 - val_loss: 0.3972 - val_accuracy: 0.8554 - lr: 3.7500e-04\n",
      "Epoch 31/300\n",
      "4197/4197 [==============================] - 148s 35ms/step - loss: 0.3001 - accuracy: 0.8814 - val_loss: 0.9311 - val_accuracy: 0.7785 - lr: 3.7500e-04\n",
      "Epoch 32/300\n",
      "4197/4197 [==============================] - 147s 35ms/step - loss: 0.2954 - accuracy: 0.8829 - val_loss: 0.4571 - val_accuracy: 0.8550 - lr: 1.8750e-04\n",
      "Epoch 33/300\n",
      "4197/4197 [==============================] - 148s 35ms/step - loss: 0.2936 - accuracy: 0.8836 - val_loss: 0.3461 - val_accuracy: 0.8725 - lr: 1.8750e-04\n",
      "Epoch 34/300\n",
      "4197/4197 [==============================] - 149s 35ms/step - loss: 0.2924 - accuracy: 0.8840 - val_loss: 0.3542 - val_accuracy: 0.8712 - lr: 1.8750e-04\n",
      "Epoch 35/300\n",
      "4197/4197 [==============================] - 150s 36ms/step - loss: 0.2896 - accuracy: 0.8848 - val_loss: 0.3496 - val_accuracy: 0.8712 - lr: 9.3750e-05\n",
      "Epoch 36/300\n",
      "4197/4197 [==============================] - 149s 36ms/step - loss: 0.2888 - accuracy: 0.8852 - val_loss: 0.3463 - val_accuracy: 0.8733 - lr: 9.3750e-05\n",
      "Epoch 37/300\n",
      "4197/4197 [==============================] - 149s 35ms/step - loss: 0.2881 - accuracy: 0.8853 - val_loss: 0.3470 - val_accuracy: 0.8734 - lr: 9.3750e-05\n",
      "Epoch 38/300\n",
      "4197/4197 [==============================] - 149s 36ms/step - loss: 0.2867 - accuracy: 0.8860 - val_loss: 0.3471 - val_accuracy: 0.8730 - lr: 4.6875e-05\n"
     ]
    }
   ],
   "source": [
    "#황성현 \n",
    "from datetime import datetime\n",
    "logs = \"logs/\" + datetime.now().strftime(\"SMV2L_lrsch_plat_aug_adam_%Y%m%d-%H%M%S\")\n",
    "reduce_lr = tf.keras.callbacks.ReduceLROnPlateau(monitor='val_loss', factor=0.5,\n",
    "                              patience=3, min_lr=0.000001)\n",
    "tboard_callback = tf.keras.callbacks.TensorBoard(log_dir = logs,\n",
    "                                                 histogram_freq = 1,\n",
    "                                                 profile_batch = '500,520')\n",
    "check_best_cb=tf.keras.callbacks.ModelCheckpoint(filepath=\"smv2l_nadam_best_lrsch_plat_aug_adam.h5\",save_best_only=True)\n",
    "check_last_cb=tf.keras.callbacks.ModelCheckpoint(filepath=\"smv2l_nadam_last_lrsch_plat_aug_adam.h5\",save_best_only=True)\n",
    "earlystop_cb = tf.keras.callbacks.EarlyStopping(patience = 10, restore_best_weights = True)\n",
    "history=smv2_l.fit(X_train,y_train,validation_data=(X_valid_resize,y_valid),batch_size = batch_size, epochs=300,callbacks=[tboard_callback, check_best_cb, check_last_cb, earlystop_cb,reduce_lr])"
   ]
  }
 ],
 "metadata": {
  "kernelspec": {
   "display_name": "Python 3 (ipykernel)",
   "language": "python",
   "name": "python3"
  },
  "language_info": {
   "codemirror_mode": {
    "name": "ipython",
    "version": 3
   },
   "file_extension": ".py",
   "mimetype": "text/x-python",
   "name": "python",
   "nbconvert_exporter": "python",
   "pygments_lexer": "ipython3",
   "version": "3.9.7"
  }
 },
 "nbformat": 4,
 "nbformat_minor": 5
}

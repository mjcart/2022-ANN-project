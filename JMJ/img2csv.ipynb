{
 "cells": [
  {
   "cell_type": "code",
   "execution_count": 1,
   "metadata": {},
   "outputs": [
    {
     "name": "stdout",
     "output_type": "stream",
     "text": [
      "C:\\Users\\nangm\\Documents\\it융합\\인공신경먕\\프로젝트\\2022-ANN-project\\JMJ\n"
     ]
    }
   ],
   "source": [
    "#작성자 전민재\n",
    "#순서대로 실행하면 된다\n",
    "import os\n",
    "from PIL import Image\n",
    "import cv2\n",
    "import csv\n",
    "import numpy as np\n",
    "#현재 디렉토리 위치 출력\n",
    "print(os.getcwd() )"
   ]
  },
  {
   "cell_type": "code",
   "execution_count": 2,
   "metadata": {},
   "outputs": [],
   "source": [
    "#작성자 전민재\n",
    "\n",
    "filelist=['num','AJ','aj_s','KT','kt_s','UZ','uz_s']\n",
    "\n",
    "#label 파일 이름 리스트\n",
    "num=[chr(_) for _ in range(48,58)]\n",
    "AJ=[chr(_) for _ in range(65,75)]\n",
    "aj_s=[f'{chr(_)}_s' for _ in range(97,107)]\n",
    "\n",
    "KT=[chr(_) for _ in range(75,85)]\n",
    "kt_s=[f'{chr(_)}_s' for _ in range(107,117)]\n",
    "\n",
    "\n",
    "UZ=[chr(_) for _ in range(85,91)]\n",
    "uz_s=[f'{chr(_)}_s' for _ in range(117,123)]\n",
    "\n",
    "#모든 label 파일 이름 리스트\n",
    "allchr=num+AJ+aj_s+KT+kt_s+UZ+uz_s"
   ]
  },
  {
   "cell_type": "code",
   "execution_count": 3,
   "metadata": {},
   "outputs": [
    {
     "name": "stdout",
     "output_type": "stream",
     "text": [
      "['0', '1', '2', '3', '4', '5', '6', '7', '8', '9']\n",
      "['A', 'B', 'C', 'D', 'E', 'F', 'G', 'H', 'I', 'J']\n",
      "['a_s', 'b_s', 'c_s', 'd_s', 'e_s', 'f_s', 'g_s', 'h_s', 'i_s', 'j_s']\n",
      "['K', 'L', 'M', 'N', 'O', 'P', 'Q', 'R', 'S', 'T']\n",
      "['k_s', 'l_s', 'm_s', 'n_s', 'o_s', 'p_s', 'q_s', 'r_s', 's_s', 't_s']\n",
      "['U', 'V', 'W', 'X', 'Y', 'Z']\n",
      "['u_s', 'v_s', 'w_s', 'x_s', 'y_s', 'z_s']\n",
      "['0', '1', '2', '3', '4', '5', '6', '7', '8', '9', 'A', 'B', 'C', 'D', 'E', 'F', 'G', 'H', 'I', 'J', 'a_s', 'b_s', 'c_s', 'd_s', 'e_s', 'f_s', 'g_s', 'h_s', 'i_s', 'j_s', 'K', 'L', 'M', 'N', 'O', 'P', 'Q', 'R', 'S', 'T', 'k_s', 'l_s', 'm_s', 'n_s', 'o_s', 'p_s', 'q_s', 'r_s', 's_s', 't_s', 'U', 'V', 'W', 'X', 'Y', 'Z', 'u_s', 'v_s', 'w_s', 'x_s', 'y_s', 'z_s']\n"
     ]
    }
   ],
   "source": [
    "print(num)\n",
    "print(AJ)\n",
    "print(aj_s)\n",
    "print(KT)\n",
    "print(kt_s)\n",
    "print(UZ)\n",
    "print(uz_s)\n",
    "print(allchr)"
   ]
  },
  {
   "cell_type": "code",
   "execution_count": 4,
   "metadata": {},
   "outputs": [
    {
     "ename": "FileNotFoundError",
     "evalue": "[WinError 3] 지정된 경로를 찾을 수 없습니다: './data/resize'",
     "output_type": "error",
     "traceback": [
      "\u001b[1;31m---------------------------------------------------------------------------\u001b[0m",
      "\u001b[1;31mFileNotFoundError\u001b[0m                         Traceback (most recent call last)",
      "Input \u001b[1;32mIn [4]\u001b[0m, in \u001b[0;36m<module>\u001b[1;34m\u001b[0m\n\u001b[0;32m      4\u001b[0m f \u001b[38;5;241m=\u001b[39m \u001b[38;5;28mopen\u001b[39m(\u001b[38;5;124m'\u001b[39m\u001b[38;5;124mwrite.csv\u001b[39m\u001b[38;5;124m'\u001b[39m,\u001b[38;5;124m'\u001b[39m\u001b[38;5;124ma\u001b[39m\u001b[38;5;124m'\u001b[39m, newline\u001b[38;5;241m=\u001b[39m\u001b[38;5;124m'\u001b[39m\u001b[38;5;124m'\u001b[39m)\n\u001b[0;32m      6\u001b[0m \u001b[38;5;66;03m#하위파일로 data/resize/0~9, A~Z, a~z 파일이 존재해야한다\u001b[39;00m\n\u001b[1;32m----> 7\u001b[0m \u001b[43mos\u001b[49m\u001b[38;5;241;43m.\u001b[39;49m\u001b[43mchdir\u001b[49m\u001b[43m(\u001b[49m\u001b[38;5;124;43m'\u001b[39;49m\u001b[38;5;124;43m./data/resize\u001b[39;49m\u001b[38;5;124;43m'\u001b[39;49m\u001b[43m)\u001b[49m\n\u001b[0;32m      8\u001b[0m \u001b[38;5;66;03m#현재 디렉토리 위치 출력\u001b[39;00m\n\u001b[0;32m      9\u001b[0m \u001b[38;5;28mprint\u001b[39m(os\u001b[38;5;241m.\u001b[39mgetcwd() )\n",
      "\u001b[1;31mFileNotFoundError\u001b[0m: [WinError 3] 지정된 경로를 찾을 수 없습니다: './data/resize'"
     ]
    }
   ],
   "source": [
    "#작성자 전민재\n",
    "\n",
    "#csv파일 열기\n",
    "f = open('write.csv','a', newline='')\n",
    "\n",
    "#하위파일로 data/resize/0~9, A~Z, a~z 파일이 존재해야한다\n",
    "os.chdir('./data/resize')\n",
    "#현재 디렉토리 위치 출력\n",
    "print(os.getcwd() )\n",
    "\n",
    "wr = csv.writer(f)\n",
    "for afile in allchr: #모든 문자 파일 접근\n",
    "\n",
    "        \n",
    "    os.chdir(f\"./{afile}\")\n",
    "    print(os.listdir())\n",
    "    files=os.listdir()        \n",
    "    # 28*28 파일에 접근\n",
    "    for idx, file in enumerate(files):\n",
    "        fname, ext = os.path.splitext(file)\n",
    "    \n",
    "        #디렉토리에있는 파일중 jpg,png파일만 읽어들임\n",
    "        if ext in ['.jpg','.png']:\n",
    "            path=os.getcwd()\n",
    "            print(path,file)\n",
    "            #파일 읽어들이기\n",
    "            img1= cv2.imread(file)\n",
    "            #한픽셀 반전해서 담기\n",
    "            bit=[]\n",
    "            for i in range(28):\n",
    "                for j in range(28):\n",
    "                    a=0\n",
    "                    a= 255-img1[i][j][0]\n",
    "                    #비트담기\n",
    "                    bit.append(a)\n",
    "            \n",
    "            # [label, 픽셀값 784개]형식으로 csv 에 입력\n",
    "            wr.writerow([allchr.index(f'{afile}')]+bit)\n",
    "            \n",
    "\n",
    "            #모두 잘라낸뒤 resize파일로 돌아가기\n",
    "    os.chdir(\"../\")\n",
    "#csv 파일 닫기\n",
    "f.close()\n",
    "\n",
    "#시작파일로 맞추기위해 상위파일로가기(필요 시)\n",
    "os.chdir(\"../\")\n",
    "os.chdir(\"../\")\n",
    "#현재 디렉토리 위치 출력\n",
    "print(os.getcwd() )"
   ]
  },
  {
   "cell_type": "code",
   "execution_count": null,
   "metadata": {},
   "outputs": [],
   "source": []
  }
 ],
 "metadata": {
  "kernelspec": {
   "display_name": "Python 3 (ipykernel)",
   "language": "python",
   "name": "python3"
  },
  "language_info": {
   "codemirror_mode": {
    "name": "ipython",
    "version": 3
   },
   "file_extension": ".py",
   "mimetype": "text/x-python",
   "name": "python",
   "nbconvert_exporter": "python",
   "pygments_lexer": "ipython3",
   "version": "3.9.5"
  }
 },
 "nbformat": 4,
 "nbformat_minor": 4
}

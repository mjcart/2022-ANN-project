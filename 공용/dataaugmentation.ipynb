{
 "cells": [
  {
   "cell_type": "code",
   "execution_count": 64,
   "id": "03812d1b-7ff5-42d5-a653-b3793c74370e",
   "metadata": {},
   "outputs": [],
   "source": [
    "#작성자 전민재\n",
    "#data augmentation\n",
    "import tensorflow as tf\n",
    "import tensorflow_addons as tfa\n",
    "import numpy as np\n",
    "from tensorflow.keras.preprocessing.image import ImageDataGenerator\n",
    "X_valid=np.load('./X_valid.npy')\n",
    "y_valid=np.load('./y_valid.npy')\n"
   ]
  },
  {
   "cell_type": "code",
   "execution_count": null,
   "id": "57a17b01",
   "metadata": {},
   "outputs": [],
   "source": []
  },
  {
   "cell_type": "code",
   "execution_count": 2,
   "id": "c9450182-fd17-43f5-b869-31e8a90334f5",
   "metadata": {},
   "outputs": [],
   "source": [
    "#작성자 전민재\n",
    "#최대 40도 회전 상하좌우 20%이동\n",
    "datagen=ImageDataGenerator(rotation_range=40,width_shift_range = 0.2, \n",
    "    height_shift_range = 0.2)\n"
   ]
  },
  {
   "cell_type": "code",
   "execution_count": 33,
   "id": "5289aa0e-d657-4699-a6bb-eacc13ea05fa",
   "metadata": {
    "tags": []
   },
   "outputs": [],
   "source": [
    "#작성자 전민재\n",
    "\n",
    "X_new=[]\n",
    "y_new=[]\n",
    "#영어 부분 2배 생성\n",
    "for i in range(2):\n",
    "    #X_valid[:10]부분을 교체하고 실행\n",
    "    for idx,image in enumerate(X_valid[:10]):\n",
    "        #숫자 제외하고 augmentation\n",
    "        if y_valid[idx]>9:\n",
    "\n",
    "            #차원변환 \n",
    "            x=image.reshape(28,28,1)\n",
    "            x=x[tf.newaxis,...]\n",
    "\n",
    "            #새로운 데이터 생성\n",
    "            image_result = next(iter(datagen.flow(x)))\n",
    "            X_new.append(np.squeeze(image_result))\n",
    "            y_new.append(y_valid[idx])\n"
   ]
  },
  {
   "cell_type": "code",
   "execution_count": 9,
   "id": "126890ba-cad7-49c7-9ba7-706774ed0fd4",
   "metadata": {},
   "outputs": [
    {
     "data": {
      "image/png": "[encoded data removed]",
      "text/plain": [
       "<Figure size 432x288 with 10 Axes>"
      ]
     },
     "metadata": {
      "needs_background": "light"
     },
     "output_type": "display_data"
    }
   ],
   "source": [
    "#작성자 전민재\n",
    "import matplotlib.pyplot as plt\n",
    "#해독기\n",
    "mapping=[]\n",
    "for _ in range(48,58):\n",
    "    mapping.append(chr(_))\n",
    "for _ in range(65,91):\n",
    "    mapping.append(chr(_)) \n",
    "\n",
    "for _ in range(97,123):\n",
    "    mapping.append(chr(_)) \n",
    "\n",
    "#출력확인\n",
    "\n",
    "fig =plt.figure()\n",
    "rows=2\n",
    "cols=5\n",
    "for i in range(10):\n",
    "    try:\n",
    "        ax=fig.add_subplot(rows,cols,i+1)\n",
    "        print(mapping[int(y_new[i])])\n",
    "        ax.imshow(X_new[i])\n",
    "    except:\n",
    "        pass\n",
    "plt.show()"
   ]
  },
  {
   "cell_type": "code",
   "execution_count": 14,
   "id": "048556cb-76d9-4eb7-ad0e-89d78090f076",
   "metadata": {},
   "outputs": [],
   "source": [
    "def dataaugmentation(X,y):\n",
    "    datagen=ImageDataGenerator(rotation_range=40,width_shift_range = 0.2, \n",
    "        height_shift_range = 0.2)\n",
    "    #영어 부분 2배 생성\n",
    "    if y>9:\n",
    "\n",
    "                #차원변환 \n",
    "                X=tf.reshape(X,[28,28,1])\n",
    "                X=X[tf.newaxis,...]\n",
    "\n",
    "                #새로운 데이터 생성\n",
    "                image_result = next(iter(datagen.flow(X)))\n",
    "    else:\n",
    "        image_result=X\n",
    "    return image_result,y"
   ]
  },
  {
   "cell_type": "code",
   "execution_count": 156,
   "id": "ba17ac7a",
   "metadata": {},
   "outputs": [],
   "source": [
    "tfv=tf.constant(X_valid[ids])\n",
    "tfv=tf.reshape(tfv,[1,28,28,1])"
   ]
  },
  {
   "cell_type": "code",
   "execution_count": 155,
   "id": "4fb90257-a05f-4e52-a631-782ba552e2d1",
   "metadata": {},
   "outputs": [],
   "source": [
    "ids=100172\n",
    "X_new,y_new=dataaugmentation(tfv,y_valid[ids])"
   ]
  },
  {
   "cell_type": "code",
   "execution_count": 164,
   "id": "be2b1e16",
   "metadata": {},
   "outputs": [
    {
     "data": {
      "text/plain": [
       "-0.04921587529543159"
      ]
     },
     "execution_count": 164,
     "metadata": {},
     "output_type": "execute_result"
    }
   ],
   "source": [
    "\n",
    "import random\n",
    "a=(random.random()%1)*1.6-0.8\n",
    "\n",
    "image_result = tfa.image.rotate(tfv, tf.constant(a))\n",
    "\n",
    "a"
   ]
  },
  {
   "cell_type": "code",
   "execution_count": 165,
   "id": "d7b9616f",
   "metadata": {},
   "outputs": [],
   "source": [
    "image_result=tfa.image.translate(image_result,[tf.constant(-5.),tf.constant(-5.)])"
   ]
  },
  {
   "cell_type": "code",
   "execution_count": 166,
   "id": "824f7b68",
   "metadata": {
    "scrolled": true
   },
   "outputs": [
    {
     "data": {
      "image/png": "[encoded data removed]",
      "text/plain": [
       "<Figure size 432x288 with 1 Axes>"
      ]
     },
     "metadata": {
      "needs_background": "light"
     },
     "output_type": "display_data"
    },
    {
     "name": "stdout",
     "output_type": "stream",
     "text": [
      "59\n"
     ]
    }
   ],
   "source": [
    "import cv2 as cv\n",
    "%matplotlib inline\n",
    "import matplotlib as mpl\n",
    "import matplotlib.pyplot as plt\n",
    "\n",
    "X_new.shape\n",
    "c=tf.reshape(image_result,[28,28])\n",
    "c_t=np.transpose(c)\n",
    "\n",
    "plt.imshow(c_t, cmap=\"binary\")\n",
    "plt.axis('off')\n",
    "plt.show()\n",
    "print(y_new)"
   ]
  },
  {
   "cell_type": "code",
   "execution_count": null,
   "id": "dc1466e8",
   "metadata": {},
   "outputs": [],
   "source": []
  },
  {
   "cell_type": "code",
   "execution_count": null,
   "id": "175a28d7",
   "metadata": {},
   "outputs": [],
   "source": []
  }
 ],
 "metadata": {
  "kernelspec": {
   "display_name": "Python 3 (ipykernel)",
   "language": "python",
   "name": "python3"
  },
  "language_info": {
   "codemirror_mode": {
    "name": "ipython",
    "version": 3
   },
   "file_extension": ".py",
   "mimetype": "text/x-python",
   "name": "python",
   "nbconvert_exporter": "python",
   "pygments_lexer": "ipython3",
   "version": "3.9.5"
  }
 },
 "nbformat": 4,
 "nbformat_minor": 5
}

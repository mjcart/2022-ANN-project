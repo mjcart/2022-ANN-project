{
 "cells": [
  {
   "cell_type": "code",
   "execution_count": 6,
   "id": "2a1c767c-98f0-48eb-bf00-40a52d5cfbcd",
   "metadata": {},
   "outputs": [],
   "source": [
    "#작성자 전민재\n",
    "import numpy as np\n",
    "import csv\n",
    "#\"./emnist-byclass-test.csv\"\n",
    "#train\n",
    "csv_data_file = open(\"./train_data.csv\", \"r\", encoding=\"ms932\", errors=\"\", newline=\"\" ) #리스트 형식 \n",
    "csv_label_file = open(\"./train_label.csv\", \"r\", encoding=\"ms932\", errors=\"\", newline=\"\" ) #리스트 형식 \n",
    "\n",
    "#valid\n",
    "#csv_data_file = open(\"./valid_data.csv\", \"r\", encoding=\"ms932\", errors=\"\", newline=\"\" ) #리스트 형식 \n",
    "#csv_label_file = open(\"./valid_label.csv\", \"r\", encoding=\"ms932\", errors=\"\", newline=\"\" ) #리스트 형식 \n",
    "f = csv.reader(csv_data_file, delimiter=\",\", doublequote=True, lineterminator=\"\\r\\n\", quotechar='\"', skipinitialspace=True)\n",
    "l=csv.reader(csv_label_file, delimiter=\",\", doublequote=True, lineterminator=\"\\r\\n\", quotechar='\"', skipinitialspace=True)\n",
    "X_train=[]\n",
    "y_train=[]\n",
    "X_valid=[]\n",
    "y_valid=[]\n",
    "\n",
    "for i, row in enumerate(f):\n",
    "    #행마다 int로 형변환\n",
    "    for idx, char in enumerate(row):\n",
    "        row[idx]=int(char)\n",
    "    #train\n",
    "    #data 추가    \n",
    "    X_train.append(row)\n",
    "    \n",
    "    #valid\n",
    "    #data 추가    \n",
    "    # X_valid.append(row)\n",
    "        \n",
    "\n",
    "for i, row in enumerate(l):\n",
    "    \n",
    "    #train\n",
    "    #label 추가\n",
    "    y_train.append(int(row[0]))\n",
    "    \n",
    "    #valid\n",
    "    #label 추가\n",
    "    # y_valid.append(int(row[0]))\n",
    "        \n",
    "#train\n",
    "X_train=np.array(X_train)\n",
    "X_train=X_train.reshape(-1,28,28)\n",
    "\n",
    "#valid\n",
    "# X_valid=np.array(X_valid)\n",
    "# X_valid=X_valid.reshape(-1,28,28)\n",
    "\n",
    "\n",
    "\n"
   ]
  },
  {
   "cell_type": "code",
   "execution_count": 7,
   "id": "8b3c6224-586a-45f8-93ba-ab2af907b024",
   "metadata": {},
   "outputs": [],
   "source": [
    "#작성자 전민재\n",
    "#kaggle dataset이 시계반대방향으로 90도 회전 되있고 상하 반전 되어있음\n",
    "def rotate_90(m):\n",
    "    N = len(m)\n",
    "    ret = [[0] * N for _ in range(N)]\n",
    "    \n",
    "    for r in range(N):\n",
    "        for c in range(N):\n",
    "            ret[c][N-1-r] = m[r][c]\n",
    "    return np.array(ret)\n",
    "\n",
    "def vreflect(m):\n",
    "    N = len(m)\n",
    "    ret = [[0] * N for _ in range(N)]\n",
    "    \n",
    "    for r in range(N):\n",
    "        for c in range(N):\n",
    "            ret[r][c] = m[r][N-1-c]\n",
    "    return np.array(ret)\n",
    "\n",
    "#train\n",
    "#회전\n",
    "for idx,i in enumerate(X_train):\n",
    "    X_train[idx]=rotate_90(i)\n",
    "#상하반전\n",
    "for idx,i in enumerate(X_train):\n",
    "    X_train[idx]=vreflect(i)\n",
    "\n",
    "#valid\n",
    "#회전\n",
    "#for idx,i in enumerate(X_valid):\n",
    "#    X_valid[idx]=rotate_90(i)\n",
    "#상하반전\n",
    "#for idx,i in enumerate(X_valid):\n",
    "#    X_valid[idx]=vreflect(i)\n",
    "\n",
    "    \n"
   ]
  },
  {
   "cell_type": "code",
   "execution_count": 8,
   "id": "8b167157-971a-408e-bc14-7d72af39f62c",
   "metadata": {},
   "outputs": [
    {
     "data": {
      "text/plain": [
       "533917"
      ]
     },
     "execution_count": 8,
     "metadata": {},
     "output_type": "execute_result"
    }
   ],
   "source": [
    "len(X_train)"
   ]
  },
  {
   "cell_type": "code",
   "execution_count": 9,
   "id": "8b35e3b4-3a51-43be-983e-b1d7dd94d361",
   "metadata": {},
   "outputs": [
    {
     "data": {
      "text/plain": [
       "533917"
      ]
     },
     "execution_count": 9,
     "metadata": {},
     "output_type": "execute_result"
    }
   ],
   "source": [
    "len(y_train)"
   ]
  },
  {
   "cell_type": "code",
   "execution_count": null,
   "id": "3bae03b5-4b28-4883-b781-298a7e6e85e6",
   "metadata": {},
   "outputs": [],
   "source": [
    "#작성자 전민재\n",
    "#저장용\n",
    "#train\n",
    "#(533917,28,28)\n",
    "np.save('./X_train',X_train)\n",
    "np.save('./y_train',y_train)\n",
    "#valid\n",
    "#np.save('./X_valid',X_valid)\n",
    "#np.save('./y_valid',y_valid)\n",
    "        "
   ]
  },
  {
   "cell_type": "code",
   "execution_count": 3,
   "id": "f0407831-401e-4fcd-b54e-01a00c9d55d1",
   "metadata": {},
   "outputs": [
    {
     "ename": "KeyboardInterrupt",
     "evalue": "",
     "output_type": "error",
     "traceback": [
      "\u001b[0;31m---------------------------------------------------------------------------\u001b[0m",
      "\u001b[0;31mKeyboardInterrupt\u001b[0m                         Traceback (most recent call last)",
      "\u001b[0;32m/tmp/ipykernel_11316/1949389600.py\u001b[0m in \u001b[0;36m<module>\u001b[0;34m\u001b[0m\n\u001b[1;32m      7\u001b[0m             \u001b[0;32mfor\u001b[0m \u001b[0ml\u001b[0m \u001b[0;32min\u001b[0m \u001b[0mrange\u001b[0m\u001b[0;34m(\u001b[0m\u001b[0;36m8\u001b[0m\u001b[0;34m)\u001b[0m\u001b[0;34m:\u001b[0m\u001b[0;34m\u001b[0m\u001b[0;34m\u001b[0m\u001b[0m\n\u001b[1;32m      8\u001b[0m                 \u001b[0;32mfor\u001b[0m \u001b[0mm\u001b[0m \u001b[0;32min\u001b[0m \u001b[0mrange\u001b[0m\u001b[0;34m(\u001b[0m\u001b[0;36m8\u001b[0m\u001b[0;34m)\u001b[0m\u001b[0;34m:\u001b[0m\u001b[0;34m\u001b[0m\u001b[0;34m\u001b[0m\u001b[0m\n\u001b[0;32m----> 9\u001b[0;31m                     \u001b[0mk\u001b[0m\u001b[0;34m[\u001b[0m\u001b[0;36m8\u001b[0m\u001b[0;34m*\u001b[0m\u001b[0mi\u001b[0m\u001b[0;34m+\u001b[0m\u001b[0ml\u001b[0m\u001b[0;34m]\u001b[0m\u001b[0;34m[\u001b[0m\u001b[0;36m8\u001b[0m\u001b[0;34m*\u001b[0m\u001b[0mj\u001b[0m\u001b[0;34m+\u001b[0m\u001b[0mm\u001b[0m\u001b[0;34m]\u001b[0m\u001b[0;34m=\u001b[0m\u001b[0mp\u001b[0m\u001b[0;34m[\u001b[0m\u001b[0mi\u001b[0m\u001b[0;34m]\u001b[0m\u001b[0;34m[\u001b[0m\u001b[0mj\u001b[0m\u001b[0;34m]\u001b[0m\u001b[0;34m\u001b[0m\u001b[0;34m\u001b[0m\u001b[0m\n\u001b[0m\u001b[1;32m     10\u001b[0m     \u001b[0mX_224_valid\u001b[0m\u001b[0;34m.\u001b[0m\u001b[0mappend\u001b[0m\u001b[0;34m(\u001b[0m\u001b[0mk\u001b[0m\u001b[0;34m)\u001b[0m\u001b[0;34m\u001b[0m\u001b[0;34m\u001b[0m\u001b[0m\n",
      "\u001b[0;31mKeyboardInterrupt\u001b[0m: "
     ]
    }
   ],
   "source": [
    "#작성자 전민재\n",
    "#메모뢰 64배 필요\n",
    "#224*224 resize\n",
    "X_224_valid=[]\n",
    "for idx,p in enumerate(X_valid):\n",
    "    k=[[0] * 224 for _ in range(224)]\n",
    "    for  i in range(28):\n",
    "        for j in  range(28):\n",
    "            for l in range(8):\n",
    "                for m in range(8):\n",
    "                    k[8*i+l][8*j+m]=p[i][j]\n",
    "    X_224_valid.append(k)"
   ]
  },
  {
   "cell_type": "code",
   "execution_count": null,
   "id": "9adb7c33-47d5-4fea-bc4f-ac13e264b1e1",
   "metadata": {},
   "outputs": [],
   "source": [
    "#작성자 전민재\n",
    "#사용 방법\n",
    "#X_train=np.load('./X_train.npy')\n",
    "#y_train=np.load('./y_train.npy')\n",
    "#X_valid=np.load('./X_valid.npy')\n",
    "#y_valid=np.load('./y_valid.npy')"
   ]
  }
 ],
 "metadata": {
  "kernelspec": {
   "display_name": "Python 3 (ipykernel)",
   "language": "python",
   "name": "python3"
  },
  "language_info": {
   "codemirror_mode": {
    "name": "ipython",
    "version": 3
   },
   "file_extension": ".py",
   "mimetype": "text/x-python",
   "name": "python",
   "nbconvert_exporter": "python",
   "pygments_lexer": "ipython3",
   "version": "3.9.7"
  }
 },
 "nbformat": 4,
 "nbformat_minor": 5
}

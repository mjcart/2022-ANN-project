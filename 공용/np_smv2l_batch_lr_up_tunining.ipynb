{
 "cells": [
  {
   "cell_type": "markdown",
   "id": "050d80a8",
   "metadata": {},
   "source": [
    "# setup"
   ]
  },
  {
   "cell_type": "code",
   "execution_count": 1,
   "id": "068df4e9",
   "metadata": {},
   "outputs": [
    {
     "name": "stdout",
     "output_type": "stream",
     "text": [
      "sklearn version:  0.24.2\n",
      "Requirement already satisfied: tensorflow_addons in c:\\programdata\\anaconda3\\lib\\site-packages (0.17.0)\n",
      "Requirement already satisfied: typeguard>=2.7 in c:\\programdata\\anaconda3\\lib\\site-packages (from tensorflow_addons) (2.13.3)\n",
      "Requirement already satisfied: packaging in c:\\programdata\\anaconda3\\lib\\site-packages (from tensorflow_addons) (21.0)\n",
      "Requirement already satisfied: pyparsing>=2.0.2 in c:\\programdata\\anaconda3\\lib\\site-packages (from packaging->tensorflow_addons) (3.0.4)\n",
      "TF version:  2.8.0\n",
      "GPU installed:  True\n",
      "1 Physical GPUs, 1 Logical GPUs\n"
     ]
    }
   ],
   "source": [
    "# Python ≥3.5 is required\n",
    "import sys\n",
    "assert sys.version_info >= (3, 5)\n",
    "\n",
    "# Scikit-Learn ≥0.20 is required\n",
    "import sklearn\n",
    "print(\"sklearn version: \", sklearn.__version__)\n",
    "assert sklearn.__version__ >= \"0.20\"\n",
    "\n",
    "try:\n",
    "    # %tensorflow_version only exists in Colab.\n",
    "    %tensorflow_version 2.x\n",
    "    IS_COLAB = True\n",
    "except Exception:\n",
    "    IS_COLAB = False\n",
    "\n",
    "# TensorFlow ≥2.0 is required\n",
    "import tensorflow as tf\n",
    "!pip install tensorflow_addons\n",
    "import tensorflow_addons as tfa\n",
    "from tensorflow import keras\n",
    "print(\"TF version: \", tf.__version__)\n",
    "assert tf.__version__ >= \"2.0\"\n",
    "\n",
    "if not tf.config.list_physical_devices('GPU'):\n",
    "    print(\"No GPU was detected. CNNs can be very slow without a GPU.\")\n",
    "    if IS_COLAB:\n",
    "        print(\"Go to Runtime > Change runtime and select a GPU hardware accelerator.\")\n",
    "\n",
    "# GPU test\n",
    "print(\"GPU installed: \",tf.test.is_built_with_gpu_support())\n",
    "\n",
    "# To prevent \"CUDNN_STATUS_ALLOC_FAILED\" error with GPUs\n",
    "gpus = tf.config.experimental.list_physical_devices('GPU')\n",
    "if gpus:\n",
    "  try:\n",
    "    # Currently, memory growth needs to be the same across GPUs\n",
    "    for gpu in gpus:\n",
    "      tf.config.experimental.set_memory_growth(gpu, True)\n",
    "    logical_gpus = tf.config.experimental.list_logical_devices('GPU')\n",
    "    print(len(gpus), \"Physical GPUs,\", len(logical_gpus), \"Logical GPUs\")\n",
    "  except RuntimeError as e:\n",
    "    # Memory growth must be set before GPUs have been initialized\n",
    "    print(e)\n",
    "    \n",
    "# Common imports\n",
    "import numpy as np\n",
    "import os\n",
    "\n",
    "# to make this notebook's output stable across runs\n",
    "np.random.seed(42)\n",
    "tf.random.set_seed(42)\n",
    "\n",
    "# To plot pretty figures\n",
    "%matplotlib inline\n",
    "import matplotlib as mpl\n",
    "import matplotlib.pyplot as plt\n",
    "mpl.rc('axes', labelsize=14)\n",
    "mpl.rc('xtick', labelsize=12)\n",
    "mpl.rc('ytick', labelsize=12)\n",
    "\n",
    "# Where to save the figures\n",
    "PROJECT_ROOT_DIR = \".\"\n",
    "CHAPTER_ID = \"cnn\"\n",
    "IMAGES_PATH = os.path.join(PROJECT_ROOT_DIR, \"images\", CHAPTER_ID)\n",
    "os.makedirs(IMAGES_PATH, exist_ok=True)\n",
    "\n",
    "def save_fig(fig_id, tight_layout=True, fig_extension=\"png\", resolution=300):\n",
    "    path = os.path.join(IMAGES_PATH, fig_id + \".\" + fig_extension)\n",
    "    print(\"Saving figure\", fig_id)\n",
    "    if tight_layout:\n",
    "        plt.tight_layout()\n",
    "    plt.savefig(path, format=fig_extension, dpi=resolution)\n",
    "    \n",
    "# Ignore useless warnings (see SciPy issue #5998)\n",
    "import warnings\n",
    "warnings.filterwarnings(action=\"ignore\", message=\"^internal gelsd\")    \n",
    "\n",
    "from tensorflow.python.keras.utils.data_utils import Sequence"
   ]
  },
  {
   "cell_type": "markdown",
   "id": "04c8a30a",
   "metadata": {},
   "source": [
    "# Get the data"
   ]
  },
  {
   "cell_type": "code",
   "execution_count": 2,
   "id": "ac0b2de0",
   "metadata": {},
   "outputs": [],
   "source": [
    "#작성자 전민재, hsh\n",
    "import csv\n",
    "def load_Emist(exsitNumpy=False, needTranspose=True):\n",
    "    if (exsitNumpy == False):\n",
    "        #\"./emnist-byclass-test.csv\"\n",
    "        #train-set\n",
    "        #\"공용/datasets/Emnist/\" 위치에 csv 저장 \n",
    "        csv_train_data_file = open(\"../공용/datasets/Emnist/train_data.csv\", \"r\", encoding=\"ms932\", errors=\"\", newline=\"\" ) #리스트 형식 \n",
    "        csv_train_label_file = open(\"../공용/datasets/Emnist/train_label.csv\", \"r\", encoding=\"ms932\", errors=\"\", newline=\"\" ) #리스트 형식 \n",
    "    \n",
    "        \n",
    "        f_train = csv.reader(csv_train_data_file, delimiter=\",\", doublequote=True, lineterminator=\"\\r\\n\", quotechar='\"', skipinitialspace=True)\n",
    "        l_train=csv.reader(csv_train_label_file, delimiter=\",\", doublequote=True, lineterminator=\"\\r\\n\", quotechar='\"', skipinitialspace=True)\n",
    "        #valid-set\n",
    "    \n",
    "        csv_valid_data_file = open(\"../공용/datasets/Emnist/valid_data.csv\", \"r\", encoding=\"ms932\", errors=\"\", newline=\"\" ) #리스트 형식 \n",
    "        csv_valid_label_file = open(\"../공용/datasets/Emnist/valid_label.csv\", \"r\", encoding=\"ms932\", errors=\"\", newline=\"\" ) #리스트 형식 \n",
    "        \n",
    "        f_valid = csv.reader(csv_valid_data_file, delimiter=\",\", doublequote=True, lineterminator=\"\\r\\n\", quotechar='\"', skipinitialspace=True)\n",
    "        l_valid = csv.reader(csv_valid_label_file, delimiter=\",\", doublequote=True, lineterminator=\"\\r\\n\", quotechar='\"', skipinitialspace=True)\n",
    "        X_train=[]\n",
    "        y_train=[]\n",
    "        X_valid=[]\n",
    "        y_valid=[]\n",
    "        for i, row in enumerate(f_train):\n",
    "            #행마다 int로 형변환\n",
    "            for idx, char in enumerate(row):\n",
    "                row[idx]=int(char)\n",
    "            #train\n",
    "            #data 추가    \n",
    "            X_train.append(row)\n",
    "            \n",
    "        for i, row in enumerate(f_valid):\n",
    "            #행마다 int로 형변환\n",
    "            for idx, char in enumerate(row):\n",
    "                row[idx]=int(char)\n",
    "            #valid\n",
    "            #data 추가    \n",
    "            X_valid.append(row)\n",
    "\n",
    "\n",
    "        for i, row in enumerate(l_train):\n",
    "\n",
    "            #train\n",
    "            #label 추가\n",
    "            y_train.append(int(row[0]))\n",
    "            \n",
    "        for i, row in enumerate(l_valid):\n",
    "\n",
    "            #valid\n",
    "            #label 추가\n",
    "            y_valid.append(int(row[0]))\n",
    "            \n",
    "            \n",
    "        \n",
    "\n",
    "        #train\n",
    "        X_train=np.array(X_train,dtype=np.uint8)\n",
    "        X_train=X_train.reshape(-1,28,28)\n",
    "        #valid\n",
    "        X_valid=np.array(X_valid,dtype=np.uint8)\n",
    "        X_valid=X_valid.reshape(-1,28,28)\n",
    "        \n",
    "        csv_train_data_file.close()\n",
    "        csv_train_label_file.close()\n",
    "        csv_valid_data_file.close()\n",
    "        csv_valid_label_file.close()\n",
    "        \n",
    "        #kaggle dataset이 시계반대방향으로 90도 회전 되있고 상하 반전 되어있음\n",
    "        def rotate_90(m):\n",
    "            N = len(m)\n",
    "            ret = [[0] * N for _ in range(N)]\n",
    "\n",
    "            for r in range(N):\n",
    "                for c in range(N):\n",
    "                    ret[c][N-1-r] = m[r][c]\n",
    "            return np.array(ret,dtype=np.uint8)\n",
    "\n",
    "        def vreflect(m):\n",
    "            N = len(m)\n",
    "            ret = [[0] * N for _ in range(N)]\n",
    "\n",
    "            for r in range(N):\n",
    "                for c in range(N):\n",
    "                    ret[r][c] = m[r][N-1-c]\n",
    "            return np.array(ret,dtype=np.uint8)\n",
    "        \n",
    "        if needTranspose == True:\n",
    "            #train\n",
    "            #회전\n",
    "            for idx,i in enumerate(X_train):\n",
    "                X_train[idx]=rotate_90(i)\n",
    "            #상하반전\n",
    "            for idx,i in enumerate(X_train):\n",
    "                X_train[idx]=vreflect(i)\n",
    "\n",
    "            #valid\n",
    "            #회전\n",
    "            for idx,i in enumerate(X_valid):\n",
    "                X_valid[idx]=rotate_90(i)\n",
    "            #상하반전\n",
    "            for idx,i in enumerate(X_valid):\n",
    "                X_valid[idx]=vreflect(i)\n",
    "\n",
    "       \n",
    "        \n",
    "        \n",
    "        #저장용\n",
    "        #train\n",
    "        #(533917,28,28)\n",
    "        \n",
    "        np.save('../공용/X_train',np.array(X_train,dtype=np.uint8))\n",
    "        np.save('../공용/y_train',np.array(y_train,dtype=np.uint8))\n",
    "        #valid\n",
    "        np.save('../공용/X_valid',np.array(X_valid,dtype=np.uint8))\n",
    "        np.save('../공용/y_valid',np.array(y_valid,dtype=np.uint8))\n",
    "        \n",
    "   \n",
    "    X_train=np.load('../공용/X_train.npy')\n",
    "    y_train=np.load('../공용/y_train.npy')\n",
    "    X_valid=np.load('../공용/X_valid.npy')\n",
    "    y_valid=np.load('../공용/y_valid.npy')\n",
    "    \n",
    "    return X_train, y_train, X_valid, y_valid\n"
   ]
  },
  {
   "cell_type": "code",
   "execution_count": 3,
   "id": "88692356",
   "metadata": {},
   "outputs": [
    {
     "data": {
      "text/plain": [
       "((533917, 28, 28), dtype('uint8'))"
      ]
     },
     "execution_count": 3,
     "metadata": {},
     "output_type": "execute_result"
    }
   ],
   "source": [
    "#황성현\n",
    "#npy 파일이 존재할 경우 exsitNumpy = True, 업으면 False\n",
    "X_train, y_train, X_valid, y_valid = load_Emist(exsitNumpy=True)\n",
    "X_train.shape,X_train.dtype"
   ]
  },
  {
   "cell_type": "code",
   "execution_count": 4,
   "id": "c98a8a60",
   "metadata": {},
   "outputs": [],
   "source": [
    "#황성현\n",
    "X_train=tf.reshape(X_train,[-1,28,28,1])\n",
    "X_valid=tf.reshape(X_valid,[-1,28,28,1])"
   ]
  },
  {
   "cell_type": "code",
   "execution_count": 5,
   "id": "122bf759",
   "metadata": {},
   "outputs": [
    {
     "data": {
      "text/plain": [
       "(TensorShape([533917, 28, 28, 1]), TensorShape([164015, 28, 28, 1]), tf.uint8)"
      ]
     },
     "execution_count": 5,
     "metadata": {},
     "output_type": "execute_result"
    }
   ],
   "source": [
    "#황성현,jmj\n",
    "X_train.shape,X_valid.shape,X_train.dtype"
   ]
  },
  {
   "cell_type": "code",
   "execution_count": 6,
   "id": "816f7d98",
   "metadata": {},
   "outputs": [],
   "source": [
    "#황성현, jmj\n",
    "X_train_resize=np.uint8(tf.image.resize(X_train, [32, 32]))\n",
    "X_valid_resize=np.uint8(tf.image.resize(X_valid, [32, 32]))\n"
   ]
  },
  {
   "cell_type": "code",
   "execution_count": 7,
   "id": "85c84087",
   "metadata": {},
   "outputs": [
    {
     "data": {
      "text/plain": [
       "((533917, 32, 32, 1), dtype('uint8'), (164015, 32, 32, 1))"
      ]
     },
     "execution_count": 7,
     "metadata": {},
     "output_type": "execute_result"
    }
   ],
   "source": [
    "#황성현\n",
    "X_train_resize.shape,X_valid_resize.dtype,X_valid_resize.shape"
   ]
  },
  {
   "cell_type": "markdown",
   "id": "74d75e55",
   "metadata": {},
   "source": [
    "# train the model"
   ]
  },
  {
   "cell_type": "code",
   "execution_count": 8,
   "id": "17e1f252",
   "metadata": {},
   "outputs": [],
   "source": [
    "#황성현\n",
    "class Inveted_Residual_Block(keras.layers.Layer):\n",
    "    def __init__(self,c,s=1,t=1,n=1,**kwargs):\n",
    "        super().__init__(**kwargs)\n",
    "        self.activation = keras.layers.ReLU(max_value=6)\n",
    "        self.main_layers = [\n",
    "            \n",
    "            ]\n",
    "        self.strides_layers=[\n",
    "           ]\n",
    "        self.s=s\n",
    "        self.t=t\n",
    "        self.c=c\n",
    "        self.n=n\n",
    "        \n",
    "    def build(self,batch_input_shape):\n",
    "        print(self.name,\": batch_input_shape =\",batch_input_shape)\n",
    "        \n",
    "        self.main_layers = [\n",
    "            keras.layers.BatchNormalization(),\n",
    "            keras.layers.Conv2D(filters=batch_input_shape[-1]*self.t, kernel_size=1,strides=1, \n",
    "                                padding=\"SAME\", activation=self.activation),\n",
    "            keras.layers.BatchNormalization(),\n",
    "            keras.layers.DepthwiseConv2D(kernel_size=3, strides=1,padding=\"SAME\", activation=self.activation),\n",
    "            keras.layers.BatchNormalization(),\n",
    "            keras.layers.Conv2D(filters=self.c,kernel_size=1, strides=1,padding=\"SAME\", activation=self.activation),\n",
    "            ]\n",
    "        self.strides_layers=[\n",
    "            keras.layers.BatchNormalization(),\n",
    "            keras.layers.Conv2D(filters=batch_input_shape[-1]*self.t, kernel_size=1,strides=1,\n",
    "                                padding=\"SAME\", activation=self.activation),\n",
    "            keras.layers.BatchNormalization(),\n",
    "            keras.layers.DepthwiseConv2D(kernel_size=3, strides=self.s,padding=\"SAME\",activation=self.activation),\n",
    "            keras.layers.BatchNormalization(),\n",
    "            keras.layers.Conv2D(filters=self.c, kernel_size=1,strides=1,padding=\"SAME\",activation=self.activation),\n",
    "        ]\n",
    "\n",
    "    def call(self, inputs):\n",
    "        Z = inputs\n",
    "        \n",
    "        for n in range(0,self.n):\n",
    "            if n == 0:\n",
    "                for layer in self.strides_layers:\n",
    "                    Z = layer(Z)\n",
    "            else:\n",
    "                skip_Z = Z\n",
    "                for layer in self.main_layers:\n",
    "                    Z = layer(Z)\n",
    "                \n",
    "                Z += skip_Z\n",
    "    \n",
    "        return Z\n",
    "    \n",
    "    def get_config(self):\n",
    "        base=super().get_config()\n",
    "        return{**base,\"s\":self.s,\"t\":self.t,\"c\":self.c,\"n\":self.n}"
   ]
  },
  {
   "cell_type": "code",
   "execution_count": null,
   "id": "8d204b80",
   "metadata": {},
   "outputs": [],
   "source": []
  },
  {
   "cell_type": "markdown",
   "id": "b0a8948b",
   "metadata": {},
   "source": [
    "# fine tuning"
   ]
  },
  {
   "cell_type": "markdown",
   "id": "615f89d2",
   "metadata": {},
   "source": [
    "# smv2l when batch_size=64, lr=0.002 by minsung"
   ]
  },
  {
   "cell_type": "code",
   "execution_count": 9,
   "id": "5ac27a11",
   "metadata": {},
   "outputs": [
    {
     "name": "stdout",
     "output_type": "stream",
     "text": [
      "IRB1 : batch_input_shape = (None, 16, 16, 32)\n",
      "IRB2 : batch_input_shape = (None, 16, 16, 16)\n",
      "IRB3 : batch_input_shape = (None, 8, 8, 16)\n",
      "IRB4 : batch_input_shape = (None, 4, 4, 32)\n",
      "IRB5 : batch_input_shape = (None, 2, 2, 64)\n",
      "IRB6 : batch_input_shape = (None, 1, 1, 128)\n",
      "Model: \"sequential\"\n",
      "_________________________________________________________________\n",
      " Layer (type)                Output Shape              Param #   \n",
      "=================================================================\n",
      " batch_normalization (BatchN  (None, 32, 32, 1)        4         \n",
      " ormalization)                                                   \n",
      "                                                                 \n",
      " conv2d (Conv2D)             (None, 16, 16, 32)        320       \n",
      "                                                                 \n",
      " IRB1 (Inveted_Residual_Bloc  (None, 16, 16, 16)       2288      \n",
      " k)                                                              \n",
      "                                                                 \n",
      " IRB2 (Inveted_Residual_Bloc  (None, 8, 8, 16)         6688      \n",
      " k)                                                              \n",
      "                                                                 \n",
      " IRB3 (Inveted_Residual_Bloc  (None, 4, 4, 32)         19456     \n",
      " k)                                                              \n",
      "                                                                 \n",
      " IRB4 (Inveted_Residual_Bloc  (None, 2, 2, 64)         67584     \n",
      " k)                                                              \n",
      "                                                                 \n",
      " IRB5 (Inveted_Residual_Bloc  (None, 1, 1, 128)        108416    \n",
      " k)                                                              \n",
      "                                                                 \n",
      " IRB6 (Inveted_Residual_Bloc  (None, 1, 1, 1024)       1200640   \n",
      " k)                                                              \n",
      "                                                                 \n",
      " re_lu_6 (ReLU)              (None, 1, 1, 1024)        0         \n",
      "                                                                 \n",
      " global_average_pooling2d (G  (None, 1024)             0         \n",
      " lobalAveragePooling2D)                                          \n",
      "                                                                 \n",
      " batch_normalization_1 (Batc  (None, 1024)             4096      \n",
      " hNormalization)                                                 \n",
      "                                                                 \n",
      " dense (Dense)               (None, 62)                63550     \n",
      "                                                                 \n",
      "=================================================================\n",
      "Total params: 1,473,042\n",
      "Trainable params: 1,460,336\n",
      "Non-trainable params: 12,706\n",
      "_________________________________________________________________\n"
     ]
    }
   ],
   "source": [
    "#황성현\n",
    "n_classes=62\n",
    "smv2_l=keras.models.Sequential([\n",
    "    keras.layers.BatchNormalization(input_shape=[32,32,1]),\n",
    "    keras.layers.Conv2D(filters=32,kernel_size=3,strides=2,padding=\"same\",activation=\"relu\"),\n",
    "    Inveted_Residual_Block(t=1,c=16,n=1,s=1,name=\"IRB1\"),\n",
    "    Inveted_Residual_Block(t=4,c=16,n=2,s=2,name=\"IRB2\"),\n",
    "    Inveted_Residual_Block(t=8,c=32,n=2,s=2,name=\"IRB3\"),\n",
    "    Inveted_Residual_Block(t=8,c=64,n=2,s=2,name=\"IRB4\"),\n",
    "    Inveted_Residual_Block(t=8,c=128,n=1,s=2,name=\"IRB5\"),\n",
    "    Inveted_Residual_Block(t=8,c=1024,n=1,s=1,name=\"IRB6\"),\n",
    "    keras.layers.ReLU(max_value=6),\n",
    "    keras.layers.GlobalAveragePooling2D(),\n",
    "    keras.layers.BatchNormalization(),\n",
    "    keras.layers.Dense(n_classes,activation=\"softmax\")\n",
    "])\n",
    "smv2_l.summary()"
   ]
  },
  {
   "cell_type": "code",
   "execution_count": 10,
   "id": "7c5bf7a8",
   "metadata": {},
   "outputs": [],
   "source": [
    "opt = tf.keras.optimizers.Nadam(learning_rate=0.002)\n",
    "batch_size=64\n",
    "smv2_l.compile(loss=\"sparse_categorical_crossentropy\",optimizer=opt,metrics=[\"accuracy\"])"
   ]
  },
  {
   "cell_type": "code",
   "execution_count": 11,
   "id": "dc68e3da",
   "metadata": {},
   "outputs": [
    {
     "name": "stdout",
     "output_type": "stream",
     "text": [
      "logs/SMV2L_batch_64_lr_00220220602-143045\n",
      "Epoch 1/300\n",
      "8343/8343 [==============================] - 587s 69ms/step - loss: 0.7260 - accuracy: 0.7698 - val_loss: 0.5258 - val_accuracy: 0.8208\n",
      "Epoch 2/300\n",
      "8343/8343 [==============================] - 579s 69ms/step - loss: 0.4755 - accuracy: 0.8330 - val_loss: 0.4615 - val_accuracy: 0.8378\n",
      "Epoch 3/300\n",
      "8343/8343 [==============================] - 571s 68ms/step - loss: 0.4398 - accuracy: 0.8432 - val_loss: 1.2580 - val_accuracy: 0.6337\n",
      "Epoch 4/300\n",
      "8343/8343 [==============================] - 573s 69ms/step - loss: 0.4217 - accuracy: 0.8484 - val_loss: 0.4176 - val_accuracy: 0.8482\n",
      "Epoch 5/300\n",
      "8343/8343 [==============================] - 571s 68ms/step - loss: 0.4116 - accuracy: 0.8514 - val_loss: 0.4106 - val_accuracy: 0.8513\n",
      "Epoch 6/300\n",
      "8343/8343 [==============================] - 569s 68ms/step - loss: 0.4034 - accuracy: 0.8532 - val_loss: 0.4129 - val_accuracy: 0.8513\n",
      "Epoch 7/300\n",
      "8343/8343 [==============================] - 571s 68ms/step - loss: 0.3968 - accuracy: 0.8556 - val_loss: 0.4117 - val_accuracy: 0.8475\n",
      "Epoch 8/300\n",
      "8343/8343 [==============================] - 568s 68ms/step - loss: 0.3931 - accuracy: 0.8564 - val_loss: 0.4685 - val_accuracy: 0.8280\n",
      "Epoch 9/300\n",
      "8343/8343 [==============================] - 571s 68ms/step - loss: 0.3881 - accuracy: 0.8581 - val_loss: 0.3922 - val_accuracy: 0.8584\n",
      "Epoch 10/300\n",
      "8343/8343 [==============================] - 571s 68ms/step - loss: 0.3859 - accuracy: 0.8587 - val_loss: 0.4149 - val_accuracy: 0.8467\n",
      "Epoch 11/300\n",
      "8343/8343 [==============================] - 570s 68ms/step - loss: 0.3838 - accuracy: 0.8595 - val_loss: 0.3983 - val_accuracy: 0.8566\n",
      "Epoch 12/300\n",
      "8343/8343 [==============================] - 570s 68ms/step - loss: 0.3813 - accuracy: 0.8600 - val_loss: 0.4407 - val_accuracy: 0.8447\n",
      "Epoch 13/300\n",
      "8343/8343 [==============================] - 569s 68ms/step - loss: 0.3815 - accuracy: 0.8598 - val_loss: 0.4475 - val_accuracy: 0.8374\n",
      "Epoch 14/300\n",
      "8343/8343 [==============================] - 570s 68ms/step - loss: 0.3811 - accuracy: 0.8601 - val_loss: 0.3975 - val_accuracy: 0.8548\n",
      "Epoch 15/300\n",
      "8343/8343 [==============================] - 571s 68ms/step - loss: 0.3806 - accuracy: 0.8603 - val_loss: 0.4021 - val_accuracy: 0.8537\n",
      "Epoch 16/300\n",
      "8343/8343 [==============================] - 570s 68ms/step - loss: 0.3789 - accuracy: 0.8606 - val_loss: 0.3884 - val_accuracy: 0.8576\n",
      "Epoch 17/300\n",
      "8343/8343 [==============================] - 573s 69ms/step - loss: 0.3802 - accuracy: 0.8604 - val_loss: 0.3899 - val_accuracy: 0.8578\n",
      "Epoch 18/300\n",
      "8343/8343 [==============================] - 571s 68ms/step - loss: 0.3807 - accuracy: 0.8603 - val_loss: 0.3908 - val_accuracy: 0.8589\n",
      "Epoch 19/300\n",
      "8343/8343 [==============================] - 570s 68ms/step - loss: 0.3821 - accuracy: 0.8600 - val_loss: 0.3861 - val_accuracy: 0.8584\n",
      "Epoch 20/300\n",
      "8343/8343 [==============================] - 571s 68ms/step - loss: 0.3835 - accuracy: 0.8595 - val_loss: 0.4110 - val_accuracy: 0.8499\n",
      "Epoch 21/300\n",
      "8343/8343 [==============================] - 571s 68ms/step - loss: 0.3855 - accuracy: 0.8588 - val_loss: 0.4030 - val_accuracy: 0.8538\n",
      "Epoch 22/300\n",
      "8343/8343 [==============================] - 570s 68ms/step - loss: 0.3852 - accuracy: 0.8586 - val_loss: 0.4046 - val_accuracy: 0.8549\n",
      "Epoch 23/300\n",
      "8343/8343 [==============================] - 570s 68ms/step - loss: 0.3879 - accuracy: 0.8584 - val_loss: 0.4031 - val_accuracy: 0.8527\n",
      "Epoch 24/300\n",
      "8343/8343 [==============================] - 569s 68ms/step - loss: 0.3916 - accuracy: 0.8575 - val_loss: 0.4171 - val_accuracy: 0.8500\n",
      "Epoch 25/300\n",
      "8343/8343 [==============================] - 569s 68ms/step - loss: 0.3929 - accuracy: 0.8568 - val_loss: 0.3930 - val_accuracy: 0.8565\n",
      "Epoch 26/300\n",
      "8343/8343 [==============================] - 569s 68ms/step - loss: 0.3949 - accuracy: 0.8565 - val_loss: 0.3995 - val_accuracy: 0.8561\n",
      "Epoch 27/300\n",
      "8343/8343 [==============================] - 570s 68ms/step - loss: 0.3971 - accuracy: 0.8562 - val_loss: 0.4203 - val_accuracy: 0.8489\n",
      "Epoch 28/300\n",
      "8343/8343 [==============================] - 570s 68ms/step - loss: 0.4000 - accuracy: 0.8550 - val_loss: 0.4140 - val_accuracy: 0.8503\n",
      "Epoch 29/300\n",
      "8343/8343 [==============================] - 570s 68ms/step - loss: 0.4039 - accuracy: 0.8535 - val_loss: 0.3962 - val_accuracy: 0.8577\n"
     ]
    }
   ],
   "source": [
    "#황성현 \n",
    "from datetime import datetime\n",
    "logs = \"logs/\" + datetime.now().strftime(\"SMV2L_batch_64_lr_002%Y%m%d-%H%M%S\")\n",
    "print(logs)\n",
    "tboard_callback = tf.keras.callbacks.TensorBoard(log_dir = logs,\n",
    "                                                 histogram_freq = 1,\n",
    "                                                 profile_batch = '500,520')\n",
    "\n",
    "check_cb=tf.keras.callbacks.ModelCheckpoint(filepath=\"SMV2L_batch_64_lr_002.h5\",save_best_only=True)\n",
    "earlystop_cb = tf.keras.callbacks.EarlyStopping(patience = 10, restore_best_weights = True)\n",
    "history=smv2_l.fit(X_train_resize,y_train, batch_size = batch_size,\n",
    "                    validation_data=(X_valid_resize,y_valid),\n",
    "                    epochs=300,callbacks=[tboard_callback, check_cb, earlystop_cb])"
   ]
  },
  {
   "cell_type": "markdown",
   "id": "ccb623ad",
   "metadata": {},
   "source": [
    "# smv2l when batch_size=256, lr=0.008 by minsung"
   ]
  },
  {
   "cell_type": "code",
   "execution_count": 12,
   "id": "b56e0120",
   "metadata": {},
   "outputs": [
    {
     "name": "stdout",
     "output_type": "stream",
     "text": [
      "IRB1 : batch_input_shape = (None, 16, 16, 32)\n",
      "IRB2 : batch_input_shape = (None, 16, 16, 16)\n",
      "IRB3 : batch_input_shape = (None, 8, 8, 16)\n",
      "IRB4 : batch_input_shape = (None, 4, 4, 32)\n",
      "IRB5 : batch_input_shape = (None, 2, 2, 64)\n",
      "IRB6 : batch_input_shape = (None, 1, 1, 128)\n",
      "Model: \"sequential_1\"\n",
      "_________________________________________________________________\n",
      " Layer (type)                Output Shape              Param #   \n",
      "=================================================================\n",
      " batch_normalization_2 (Batc  (None, 32, 32, 1)        4         \n",
      " hNormalization)                                                 \n",
      "                                                                 \n",
      " conv2d_1 (Conv2D)           (None, 16, 16, 32)        320       \n",
      "                                                                 \n",
      " IRB1 (Inveted_Residual_Bloc  (None, 16, 16, 16)       2288      \n",
      " k)                                                              \n",
      "                                                                 \n",
      " IRB2 (Inveted_Residual_Bloc  (None, 8, 8, 16)         6688      \n",
      " k)                                                              \n",
      "                                                                 \n",
      " IRB3 (Inveted_Residual_Bloc  (None, 4, 4, 32)         19456     \n",
      " k)                                                              \n",
      "                                                                 \n",
      " IRB4 (Inveted_Residual_Bloc  (None, 2, 2, 64)         67584     \n",
      " k)                                                              \n",
      "                                                                 \n",
      " IRB5 (Inveted_Residual_Bloc  (None, 1, 1, 128)        108416    \n",
      " k)                                                              \n",
      "                                                                 \n",
      " IRB6 (Inveted_Residual_Bloc  (None, 1, 1, 1024)       1200640   \n",
      " k)                                                              \n",
      "                                                                 \n",
      " re_lu_13 (ReLU)             (None, 1, 1, 1024)        0         \n",
      "                                                                 \n",
      " global_average_pooling2d_1   (None, 1024)             0         \n",
      " (GlobalAveragePooling2D)                                        \n",
      "                                                                 \n",
      " batch_normalization_3 (Batc  (None, 1024)             4096      \n",
      " hNormalization)                                                 \n",
      "                                                                 \n",
      " dense_1 (Dense)             (None, 62)                63550     \n",
      "                                                                 \n",
      "=================================================================\n",
      "Total params: 1,473,042\n",
      "Trainable params: 1,460,336\n",
      "Non-trainable params: 12,706\n",
      "_________________________________________________________________\n"
     ]
    }
   ],
   "source": [
    "#황성현\n",
    "n_classes=62\n",
    "smv2_l=keras.models.Sequential([\n",
    "    keras.layers.BatchNormalization(input_shape=[32,32,1]),\n",
    "    keras.layers.Conv2D(filters=32,kernel_size=3,strides=2,padding=\"same\",activation=\"relu\"),\n",
    "    Inveted_Residual_Block(t=1,c=16,n=1,s=1,name=\"IRB1\"),\n",
    "    Inveted_Residual_Block(t=4,c=16,n=2,s=2,name=\"IRB2\"),\n",
    "    Inveted_Residual_Block(t=8,c=32,n=2,s=2,name=\"IRB3\"),\n",
    "    Inveted_Residual_Block(t=8,c=64,n=2,s=2,name=\"IRB4\"),\n",
    "    Inveted_Residual_Block(t=8,c=128,n=1,s=2,name=\"IRB5\"),\n",
    "    Inveted_Residual_Block(t=8,c=1024,n=1,s=1,name=\"IRB6\"),\n",
    "    keras.layers.ReLU(max_value=6),\n",
    "    keras.layers.GlobalAveragePooling2D(),\n",
    "    keras.layers.BatchNormalization(),\n",
    "    keras.layers.Dense(n_classes,activation=\"softmax\")\n",
    "])\n",
    "smv2_l.summary()"
   ]
  },
  {
   "cell_type": "code",
   "execution_count": 13,
   "id": "ad8c0b2a",
   "metadata": {},
   "outputs": [],
   "source": [
    "opt = tf.keras.optimizers.Nadam(learning_rate=0.008)\n",
    "batch_size=256\n",
    "smv2_l.compile(loss=\"sparse_categorical_crossentropy\",optimizer=opt,metrics=[\"accuracy\"])"
   ]
  },
  {
   "cell_type": "code",
   "execution_count": 14,
   "id": "a5ee7576",
   "metadata": {},
   "outputs": [
    {
     "name": "stdout",
     "output_type": "stream",
     "text": [
      "logs/SMV2L_batch_256_lr_00820220602-190651\n",
      "Epoch 1/300\n",
      "2086/2086 [==============================] - 160s 73ms/step - loss: 0.6668 - accuracy: 0.7869 - val_loss: 0.5703 - val_accuracy: 0.8090\n",
      "Epoch 2/300\n",
      "2086/2086 [==============================] - 151s 72ms/step - loss: 0.4653 - accuracy: 0.8358 - val_loss: 0.4996 - val_accuracy: 0.8281\n",
      "Epoch 3/300\n",
      "2086/2086 [==============================] - 150s 72ms/step - loss: 0.4572 - accuracy: 0.8385 - val_loss: 0.5586 - val_accuracy: 0.8066\n",
      "Epoch 4/300\n",
      "2086/2086 [==============================] - 151s 72ms/step - loss: 0.4562 - accuracy: 0.8384 - val_loss: 0.4856 - val_accuracy: 0.8300\n",
      "Epoch 5/300\n",
      "2086/2086 [==============================] - 150s 72ms/step - loss: 0.4608 - accuracy: 0.8371 - val_loss: 0.7395 - val_accuracy: 0.7623\n",
      "Epoch 6/300\n",
      "2086/2086 [==============================] - 150s 72ms/step - loss: 0.4745 - accuracy: 0.8333 - val_loss: 1.1084 - val_accuracy: 0.6760\n",
      "Epoch 7/300\n",
      "2086/2086 [==============================] - 150s 72ms/step - loss: 0.4954 - accuracy: 0.8278 - val_loss: 0.7885 - val_accuracy: 0.7518\n",
      "Epoch 8/300\n",
      "2086/2086 [==============================] - 150s 72ms/step - loss: 0.5441 - accuracy: 0.8136 - val_loss: 0.8199 - val_accuracy: 0.7402\n",
      "Epoch 9/300\n",
      "2086/2086 [==============================] - 151s 72ms/step - loss: 0.5959 - accuracy: 0.7994 - val_loss: 0.7015 - val_accuracy: 0.7701\n",
      "Epoch 10/300\n",
      "2086/2086 [==============================] - 150s 72ms/step - loss: 0.6575 - accuracy: 0.7816 - val_loss: 1.5098 - val_accuracy: 0.5640\n",
      "Epoch 11/300\n",
      "2086/2086 [==============================] - 150s 72ms/step - loss: 0.7492 - accuracy: 0.7564 - val_loss: 1.7699 - val_accuracy: 0.5138\n",
      "Epoch 12/300\n",
      "2086/2086 [==============================] - 150s 72ms/step - loss: 0.9639 - accuracy: 0.6987 - val_loss: 3.4491 - val_accuracy: 0.2468\n",
      "Epoch 13/300\n",
      "2086/2086 [==============================] - 150s 72ms/step - loss: 1.3265 - accuracy: 0.6099 - val_loss: 4.4190 - val_accuracy: 0.0556\n",
      "Epoch 14/300\n",
      "2086/2086 [==============================] - 151s 72ms/step - loss: 3.5898 - accuracy: 0.0824 - val_loss: 269.1429 - val_accuracy: 0.0501\n"
     ]
    }
   ],
   "source": [
    "#황성현 \n",
    "from datetime import datetime\n",
    "logs = \"logs/\" + datetime.now().strftime(\"SMV2L_batch_256_lr_008%Y%m%d-%H%M%S\")\n",
    "print(logs)\n",
    "tboard_callback = tf.keras.callbacks.TensorBoard(log_dir = logs,\n",
    "                                                 histogram_freq = 1,\n",
    "                                                 profile_batch = '500,520')\n",
    "\n",
    "check_cb=tf.keras.callbacks.ModelCheckpoint(filepath=\"SMV2L_batch_256_lr_008.h5\",save_best_only=True)\n",
    "earlystop_cb = tf.keras.callbacks.EarlyStopping(patience = 10, restore_best_weights = True)\n",
    "history=smv2_l.fit(X_train_resize,y_train, batch_size = batch_size,\n",
    "                    validation_data=(X_valid_resize,y_valid),\n",
    "                    epochs=300,callbacks=[tboard_callback, check_cb, earlystop_cb])"
   ]
  },
  {
   "cell_type": "code",
   "execution_count": 2,
   "id": "020ce8ae",
   "metadata": {},
   "outputs": [
    {
     "data": {
      "text/plain": [
       "Reusing TensorBoard on port 6006 (pid 1488), started 0:00:54 ago. (Use '!kill 1488' to kill it.)"
      ]
     },
     "metadata": {},
     "output_type": "display_data"
    },
    {
     "data": {
      "text/html": [
       "\n",
       "      <iframe id=\"tensorboard-frame-861de6989bc7ca3c\" width=\"100%\" height=\"800\" frameborder=\"0\">\n",
       "      </iframe>\n",
       "      <script>\n",
       "        (function() {\n",
       "          const frame = document.getElementById(\"tensorboard-frame-861de6989bc7ca3c\");\n",
       "          const url = new URL(\"/\", window.location);\n",
       "          const port = 6006;\n",
       "          if (port) {\n",
       "            url.port = port;\n",
       "          }\n",
       "          frame.src = url;\n",
       "        })();\n",
       "      </script>\n",
       "    "
      ],
      "text/plain": [
       "<IPython.core.display.HTML object>"
      ]
     },
     "metadata": {},
     "output_type": "display_data"
    }
   ],
   "source": [
    "%load_ext tensorboard\n",
    "%tensorboard --logdir logs/SMV2L_batch_256_lr_00820220602-190651\n"
   ]
  },
  {
   "attachments": {
    "image.png": {
     "image/png": "[encoded data removed]"
    }
   },
   "cell_type": "markdown",
   "id": "99881493",
   "metadata": {},
   "source": [
    "![image.png](attachment:image.png)"
   ]
  },
  {
   "cell_type": "markdown",
   "id": "2fab8e05",
   "metadata": {},
   "source": [
    "# smv2l when batch_size=256, lr=0.008, exp shed by seonghyun, minsung"
   ]
  },
  {
   "cell_type": "code",
   "execution_count": 27,
   "id": "9aab4eae",
   "metadata": {},
   "outputs": [
    {
     "name": "stdout",
     "output_type": "stream",
     "text": [
      "IRB1 : batch_input_shape = (None, 16, 16, 32)\n",
      "IRB2 : batch_input_shape = (None, 16, 16, 16)\n",
      "IRB3 : batch_input_shape = (None, 8, 8, 16)\n",
      "IRB4 : batch_input_shape = (None, 4, 4, 32)\n",
      "IRB5 : batch_input_shape = (None, 2, 2, 64)\n",
      "IRB6 : batch_input_shape = (None, 1, 1, 128)\n",
      "Model: \"sequential_5\"\n",
      "_________________________________________________________________\n",
      " Layer (type)                Output Shape              Param #   \n",
      "=================================================================\n",
      " batch_normalization_10 (Bat  (None, 32, 32, 1)        4         \n",
      " chNormalization)                                                \n",
      "                                                                 \n",
      " conv2d_5 (Conv2D)           (None, 16, 16, 32)        320       \n",
      "                                                                 \n",
      " IRB1 (Inveted_Residual_Bloc  (None, 16, 16, 16)       2288      \n",
      " k)                                                              \n",
      "                                                                 \n",
      " IRB2 (Inveted_Residual_Bloc  (None, 8, 8, 16)         6688      \n",
      " k)                                                              \n",
      "                                                                 \n",
      " IRB3 (Inveted_Residual_Bloc  (None, 4, 4, 32)         19456     \n",
      " k)                                                              \n",
      "                                                                 \n",
      " IRB4 (Inveted_Residual_Bloc  (None, 2, 2, 64)         67584     \n",
      " k)                                                              \n",
      "                                                                 \n",
      " IRB5 (Inveted_Residual_Bloc  (None, 1, 1, 128)        108416    \n",
      " k)                                                              \n",
      "                                                                 \n",
      " IRB6 (Inveted_Residual_Bloc  (None, 1, 1, 1024)       1200640   \n",
      " k)                                                              \n",
      "                                                                 \n",
      " re_lu_41 (ReLU)             (None, 1, 1, 1024)        0         \n",
      "                                                                 \n",
      " global_average_pooling2d_5   (None, 1024)             0         \n",
      " (GlobalAveragePooling2D)                                        \n",
      "                                                                 \n",
      " batch_normalization_11 (Bat  (None, 1024)             4096      \n",
      " chNormalization)                                                \n",
      "                                                                 \n",
      " dense_5 (Dense)             (None, 62)                63550     \n",
      "                                                                 \n",
      "=================================================================\n",
      "Total params: 1,473,042\n",
      "Trainable params: 1,460,336\n",
      "Non-trainable params: 12,706\n",
      "_________________________________________________________________\n"
     ]
    }
   ],
   "source": [
    "#황성현\n",
    "n_classes=62\n",
    "smv2_l=keras.models.Sequential([\n",
    "    keras.layers.BatchNormalization(input_shape=[32,32,1]),\n",
    "    keras.layers.Conv2D(filters=32,kernel_size=3,strides=2,padding=\"same\",activation=\"relu\"),\n",
    "    Inveted_Residual_Block(t=1,c=16,n=1,s=1,name=\"IRB1\"),\n",
    "    Inveted_Residual_Block(t=4,c=16,n=2,s=2,name=\"IRB2\"),\n",
    "    Inveted_Residual_Block(t=8,c=32,n=2,s=2,name=\"IRB3\"),\n",
    "    Inveted_Residual_Block(t=8,c=64,n=2,s=2,name=\"IRB4\"),\n",
    "    Inveted_Residual_Block(t=8,c=128,n=1,s=2,name=\"IRB5\"),\n",
    "    Inveted_Residual_Block(t=8,c=1024,n=1,s=1,name=\"IRB6\"),\n",
    "    keras.layers.ReLU(max_value=6),\n",
    "    keras.layers.GlobalAveragePooling2D(),\n",
    "    keras.layers.BatchNormalization(),\n",
    "    keras.layers.Dense(n_classes,activation=\"softmax\")\n",
    "])\n",
    "smv2_l.summary()"
   ]
  },
  {
   "cell_type": "code",
   "execution_count": 28,
   "id": "bafab61e",
   "metadata": {},
   "outputs": [],
   "source": [
    "opt = tf.keras.optimizers.Nadam(learning_rate=0.008)\n",
    "batch_size=256\n",
    "smv2_l.compile(loss=\"sparse_categorical_crossentropy\",optimizer=opt,metrics=[\"accuracy\"])"
   ]
  },
  {
   "cell_type": "code",
   "execution_count": 29,
   "id": "9fe1de42",
   "metadata": {},
   "outputs": [
    {
     "name": "stdout",
     "output_type": "stream",
     "text": [
      "logs/SMV2L_batch_256_lr_008_sch_exp20220603-141555\n",
      "Epoch 1/300\n",
      "2086/2086 [==============================] - 160s 73ms/step - loss: 0.6435 - accuracy: 0.7917 - val_loss: 0.5713 - val_accuracy: 0.8068 - lr: 0.0080\n",
      "Epoch 2/300\n",
      "2086/2086 [==============================] - 151s 72ms/step - loss: 0.4684 - accuracy: 0.8347 - val_loss: 0.6150 - val_accuracy: 0.7970 - lr: 0.0080\n",
      "Epoch 3/300\n",
      "2086/2086 [==============================] - 150s 72ms/step - loss: 0.4476 - accuracy: 0.8409 - val_loss: 0.4937 - val_accuracy: 0.8211 - lr: 0.0072\n",
      "Epoch 4/300\n",
      "2086/2086 [==============================] - 151s 72ms/step - loss: 0.4338 - accuracy: 0.8446 - val_loss: 0.4591 - val_accuracy: 0.8385 - lr: 0.0065\n",
      "Epoch 5/300\n",
      "2086/2086 [==============================] - 151s 72ms/step - loss: 0.4184 - accuracy: 0.8490 - val_loss: 0.4832 - val_accuracy: 0.8327 - lr: 0.0059\n",
      "Epoch 6/300\n",
      "2086/2086 [==============================] - 151s 72ms/step - loss: 0.4067 - accuracy: 0.8521 - val_loss: 0.4578 - val_accuracy: 0.8373 - lr: 0.0054\n",
      "Epoch 7/300\n",
      "2086/2086 [==============================] - 151s 73ms/step - loss: 0.3924 - accuracy: 0.8562 - val_loss: 0.4357 - val_accuracy: 0.8421 - lr: 0.0049\n",
      "Epoch 8/300\n",
      "2086/2086 [==============================] - 151s 72ms/step - loss: 0.3823 - accuracy: 0.8590 - val_loss: 0.4203 - val_accuracy: 0.8474 - lr: 0.0044\n",
      "Epoch 9/300\n",
      "2086/2086 [==============================] - 151s 72ms/step - loss: 0.3732 - accuracy: 0.8614 - val_loss: 0.4039 - val_accuracy: 0.8537 - lr: 0.0040\n",
      "Epoch 10/300\n",
      "2086/2086 [==============================] - 151s 72ms/step - loss: 0.3644 - accuracy: 0.8643 - val_loss: 0.4059 - val_accuracy: 0.8496 - lr: 0.0036\n",
      "Epoch 11/300\n",
      "2086/2086 [==============================] - 151s 72ms/step - loss: 0.3565 - accuracy: 0.8667 - val_loss: 0.3741 - val_accuracy: 0.8616 - lr: 0.0033\n",
      "Epoch 12/300\n",
      "2086/2086 [==============================] - 151s 72ms/step - loss: 0.3484 - accuracy: 0.8689 - val_loss: 0.3868 - val_accuracy: 0.8594 - lr: 0.0029\n",
      "Epoch 13/300\n",
      "2086/2086 [==============================] - 151s 72ms/step - loss: 0.3410 - accuracy: 0.8711 - val_loss: 0.3802 - val_accuracy: 0.8608 - lr: 0.0027\n",
      "Epoch 14/300\n",
      "2086/2086 [==============================] - 151s 72ms/step - loss: 0.3347 - accuracy: 0.8725 - val_loss: 0.3700 - val_accuracy: 0.8625 - lr: 0.0024\n",
      "Epoch 15/300\n",
      "2086/2086 [==============================] - 151s 72ms/step - loss: 0.3267 - accuracy: 0.8749 - val_loss: 0.3579 - val_accuracy: 0.8677 - lr: 0.0022\n",
      "Epoch 16/300\n",
      "2086/2086 [==============================] - 151s 72ms/step - loss: 0.3209 - accuracy: 0.8768 - val_loss: 0.3652 - val_accuracy: 0.8654 - lr: 0.0020\n",
      "Epoch 17/300\n",
      "2086/2086 [==============================] - 151s 72ms/step - loss: 0.3148 - accuracy: 0.8783 - val_loss: 0.3532 - val_accuracy: 0.8689 - lr: 0.0018\n",
      "Epoch 18/300\n",
      "2086/2086 [==============================] - 151s 72ms/step - loss: 0.3087 - accuracy: 0.8800 - val_loss: 0.3515 - val_accuracy: 0.8693 - lr: 0.0016\n",
      "Epoch 19/300\n",
      "2086/2086 [==============================] - 150s 72ms/step - loss: 0.3033 - accuracy: 0.8818 - val_loss: 0.3568 - val_accuracy: 0.8685 - lr: 0.0015\n",
      "Epoch 20/300\n",
      "2086/2086 [==============================] - 151s 73ms/step - loss: 0.2976 - accuracy: 0.8835 - val_loss: 0.3507 - val_accuracy: 0.8708 - lr: 0.0013\n",
      "Epoch 21/300\n",
      "2086/2086 [==============================] - 151s 72ms/step - loss: 0.2924 - accuracy: 0.8855 - val_loss: 0.3489 - val_accuracy: 0.8714 - lr: 0.0012\n",
      "Epoch 22/300\n",
      "2086/2086 [==============================] - 151s 72ms/step - loss: 0.2871 - accuracy: 0.8870 - val_loss: 0.3488 - val_accuracy: 0.8723 - lr: 0.0011\n",
      "Epoch 23/300\n",
      "2086/2086 [==============================] - 151s 72ms/step - loss: 0.2823 - accuracy: 0.8884 - val_loss: 0.3532 - val_accuracy: 0.8734 - lr: 9.7965e-04\n",
      "Epoch 24/300\n",
      "2086/2086 [==============================] - 149s 72ms/step - loss: 0.2778 - accuracy: 0.8899 - val_loss: 0.3559 - val_accuracy: 0.8723 - lr: 8.8642e-04\n",
      "Epoch 25/300\n",
      "2086/2086 [==============================] - 149s 72ms/step - loss: 0.2737 - accuracy: 0.8913 - val_loss: 0.3588 - val_accuracy: 0.8703 - lr: 8.0207e-04\n",
      "Epoch 26/300\n",
      "2086/2086 [==============================] - 151s 72ms/step - loss: 0.2694 - accuracy: 0.8927 - val_loss: 0.3570 - val_accuracy: 0.8733 - lr: 7.2574e-04\n",
      "Epoch 27/300\n",
      "2086/2086 [==============================] - 151s 72ms/step - loss: 0.2654 - accuracy: 0.8942 - val_loss: 0.3645 - val_accuracy: 0.8717 - lr: 6.5668e-04\n",
      "Epoch 28/300\n",
      "2086/2086 [==============================] - 151s 72ms/step - loss: 0.2616 - accuracy: 0.8955 - val_loss: 0.3638 - val_accuracy: 0.8724 - lr: 5.9419e-04\n",
      "Epoch 29/300\n",
      "2086/2086 [==============================] - 151s 72ms/step - loss: 0.2583 - accuracy: 0.8967 - val_loss: 0.3677 - val_accuracy: 0.8728 - lr: 5.3764e-04\n",
      "Epoch 30/300\n",
      "2086/2086 [==============================] - 150s 72ms/step - loss: 0.2542 - accuracy: 0.8983 - val_loss: 0.3741 - val_accuracy: 0.8722 - lr: 4.8648e-04\n",
      "Epoch 31/300\n",
      "2086/2086 [==============================] - 150s 72ms/step - loss: 0.2515 - accuracy: 0.8989 - val_loss: 0.3757 - val_accuracy: 0.8709 - lr: 4.4019e-04\n",
      "Epoch 32/300\n",
      "2086/2086 [==============================] - 151s 72ms/step - loss: 0.2485 - accuracy: 0.8997 - val_loss: 0.3769 - val_accuracy: 0.8726 - lr: 3.9830e-04\n"
     ]
    }
   ],
   "source": [
    "#황성현 \n",
    "from datetime import datetime\n",
    "logs = \"logs/\" + datetime.now().strftime(\"SMV2L_batch_256_lr_008_sch_exp%Y%m%d-%H%M%S\")\n",
    "print(logs)\n",
    "tboard_callback = tf.keras.callbacks.TensorBoard(log_dir = logs,\n",
    "                                                 histogram_freq = 1,\n",
    "                                                 profile_batch = '500,520')\n",
    "def scheduler(epoch, lr):\n",
    "    if epoch < 2:\n",
    "        return lr\n",
    "    else:\n",
    "        return lr * tf.math.exp(-0.1)\n",
    "lr_callback = tf.keras.callbacks.LearningRateScheduler(scheduler)\n",
    "check_cb=tf.keras.callbacks.ModelCheckpoint(filepath=\"SMV2L_batch_256_lr_008_sch_exp.h5\",save_best_only=True)\n",
    "earlystop_cb = tf.keras.callbacks.EarlyStopping(patience = 10, restore_best_weights = True)\n",
    "history=smv2_l.fit(X_train_resize,y_train, batch_size = batch_size,\n",
    "                    validation_data=(X_valid_resize,y_valid),\n",
    "                    epochs=300,callbacks=[tboard_callback, check_cb, earlystop_cb,lr_callback])"
   ]
  },
  {
   "cell_type": "code",
   "execution_count": 4,
   "id": "d7dc1c31",
   "metadata": {},
   "outputs": [
    {
     "data": {
      "text/plain": [
       "Reusing TensorBoard on port 6006 (pid 9212), started 0:07:33 ago. (Use '!kill 9212' to kill it.)"
      ]
     },
     "metadata": {},
     "output_type": "display_data"
    },
    {
     "data": {
      "text/html": [
       "\n",
       "      <iframe id=\"tensorboard-frame-35a831fa331d29bd\" width=\"100%\" height=\"800\" frameborder=\"0\">\n",
       "      </iframe>\n",
       "      <script>\n",
       "        (function() {\n",
       "          const frame = document.getElementById(\"tensorboard-frame-35a831fa331d29bd\");\n",
       "          const url = new URL(\"/\", window.location);\n",
       "          const port = 6006;\n",
       "          if (port) {\n",
       "            url.port = port;\n",
       "          }\n",
       "          frame.src = url;\n",
       "        })();\n",
       "      </script>\n",
       "    "
      ],
      "text/plain": [
       "<IPython.core.display.HTML object>"
      ]
     },
     "metadata": {},
     "output_type": "display_data"
    }
   ],
   "source": [
    "%tensorboard --logdir logs/SMV2L_batch_256_lr_008_sch_exp20220603-141555\n"
   ]
  },
  {
   "attachments": {
    "image.png": {
     "image/png": "[encoded data removed]"
    }
   },
   "cell_type": "markdown",
   "id": "5b5e9598",
   "metadata": {},
   "source": [
    "![image.png](attachment:image.png)"
   ]
  }
 ],
 "metadata": {
  "kernelspec": {
   "display_name": "Python 3 (ipykernel)",
   "language": "python",
   "name": "python3"
  },
  "language_info": {
   "codemirror_mode": {
    "name": "ipython",
    "version": 3
   },
   "file_extension": ".py",
   "mimetype": "text/x-python",
   "name": "python",
   "nbconvert_exporter": "python",
   "pygments_lexer": "ipython3",
   "version": "3.9.7"
  }
 },
 "nbformat": 4,
 "nbformat_minor": 5
}

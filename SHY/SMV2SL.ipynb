{
 "cells": [
  {
   "cell_type": "markdown",
   "id": "0354efb2",
   "metadata": {},
   "source": [
    "# SETUP"
   ]
  },
  {
   "cell_type": "code",
   "execution_count": 1,
   "id": "b55b6df7",
   "metadata": {},
   "outputs": [
    {
     "name": "stdout",
     "output_type": "stream",
     "text": [
      "sklearn version:  0.24.2\n",
      "Requirement already satisfied: tensorflow_addons in c:\\programdata\\anaconda3\\lib\\site-packages (0.17.0)\n",
      "Requirement already satisfied: typeguard>=2.7 in c:\\programdata\\anaconda3\\lib\\site-packages (from tensorflow_addons) (2.13.3)\n",
      "Requirement already satisfied: packaging in c:\\programdata\\anaconda3\\lib\\site-packages (from tensorflow_addons) (21.0)\n",
      "Requirement already satisfied: pyparsing>=2.0.2 in c:\\programdata\\anaconda3\\lib\\site-packages (from packaging->tensorflow_addons) (3.0.4)\n",
      "TF version:  2.8.0\n",
      "GPU installed:  True\n",
      "1 Physical GPUs, 1 Logical GPUs\n"
     ]
    }
   ],
   "source": [
    "# Python ≥3.5 is required\n",
    "import sys\n",
    "assert sys.version_info >= (3, 5)\n",
    "\n",
    "# Scikit-Learn ≥0.20 is required\n",
    "import sklearn\n",
    "print(\"sklearn version: \", sklearn.__version__)\n",
    "assert sklearn.__version__ >= \"0.20\"\n",
    "\n",
    "try:\n",
    "    # %tensorflow_version only exists in Colab.\n",
    "    %tensorflow_version 2.x\n",
    "    IS_COLAB = True\n",
    "except Exception:\n",
    "    IS_COLAB = False\n",
    "\n",
    "# TensorFlow ≥2.0 is required\n",
    "import tensorflow as tf\n",
    "!pip install tensorflow_addons\n",
    "import tensorflow_addons as tfa\n",
    "from tensorflow import keras\n",
    "print(\"TF version: \", tf.__version__)\n",
    "assert tf.__version__ >= \"2.0\"\n",
    "\n",
    "if not tf.config.list_physical_devices('GPU'):\n",
    "    print(\"No GPU was detected. CNNs can be very slow without a GPU.\")\n",
    "    if IS_COLAB:\n",
    "        print(\"Go to Runtime > Change runtime and select a GPU hardware accelerator.\")\n",
    "\n",
    "# GPU test\n",
    "print(\"GPU installed: \",tf.test.is_built_with_gpu_support())\n",
    "\n",
    "# To prevent \"CUDNN_STATUS_ALLOC_FAILED\" error with GPUs\n",
    "gpus = tf.config.experimental.list_physical_devices('GPU')\n",
    "if gpus:\n",
    "  try:\n",
    "    # Currently, memory growth needs to be the same across GPUs\n",
    "    for gpu in gpus:\n",
    "      tf.config.experimental.set_memory_growth(gpu, True)\n",
    "    logical_gpus = tf.config.experimental.list_logical_devices('GPU')\n",
    "    print(len(gpus), \"Physical GPUs,\", len(logical_gpus), \"Logical GPUs\")\n",
    "  except RuntimeError as e:\n",
    "    # Memory growth must be set before GPUs have been initialized\n",
    "    print(e)\n",
    "    \n",
    "# Common imports\n",
    "import numpy as np\n",
    "import os\n",
    "\n",
    "# to make this notebook's output stable across runs\n",
    "np.random.seed(42)\n",
    "tf.random.set_seed(42)\n",
    "\n",
    "# To plot pretty figures\n",
    "%matplotlib inline\n",
    "import matplotlib as mpl\n",
    "import matplotlib.pyplot as plt\n",
    "mpl.rc('axes', labelsize=14)\n",
    "mpl.rc('xtick', labelsize=12)\n",
    "mpl.rc('ytick', labelsize=12)\n",
    "\n",
    "# Where to save the figures\n",
    "PROJECT_ROOT_DIR = \".\"\n",
    "CHAPTER_ID = \"cnn\"\n",
    "IMAGES_PATH = os.path.join(PROJECT_ROOT_DIR, \"images\", CHAPTER_ID)\n",
    "os.makedirs(IMAGES_PATH, exist_ok=True)\n",
    "\n",
    "def save_fig(fig_id, tight_layout=True, fig_extension=\"png\", resolution=300):\n",
    "    path = os.path.join(IMAGES_PATH, fig_id + \".\" + fig_extension)\n",
    "    print(\"Saving figure\", fig_id)\n",
    "    if tight_layout:\n",
    "        plt.tight_layout()\n",
    "    plt.savefig(path, format=fig_extension, dpi=resolution)\n",
    "    \n",
    "# Ignore useless warnings (see SciPy issue #5998)\n",
    "import warnings\n",
    "warnings.filterwarnings(action=\"ignore\", message=\"^internal gelsd\")    \n",
    "\n",
    "from tensorflow.python.keras.utils.data_utils import Sequence"
   ]
  },
  {
   "cell_type": "code",
   "execution_count": 2,
   "id": "ea666901",
   "metadata": {},
   "outputs": [],
   "source": [
    "X_train=np.uint8(np.load('./X_train_aug.npy'))\n",
    "y_train=np.uint8(np.load('./y_train_aug.npy'))\n",
    "X_valid=np.uint8(np.load('./X_valid.npy'))\n",
    "y_valid=np.uint8(np.load('./y_valid.npy'))"
   ]
  },
  {
   "cell_type": "code",
   "execution_count": 3,
   "id": "9aa162b1",
   "metadata": {},
   "outputs": [
    {
     "data": {
      "text/plain": [
       "((1074263, 32, 32, 1), (164015, 32, 32, 1), tf.uint8)"
      ]
     },
     "execution_count": 3,
     "metadata": {},
     "output_type": "execute_result"
    }
   ],
   "source": [
    "X_valid=tf.reshape(X_valid,[-1,28,28,1])\n",
    "X_train=tf.reshape(X_train,[-1,32,32,1])\n",
    "X_valid_resize=np.uint8(tf.image.resize(X_valid, [32, 32]))\n",
    "X_train_resize=np.uint8(tf.image.resize(X_train, [32, 32]))\n",
    "X_train_resize.shape,X_valid_resize.shape,X_train.dtype"
   ]
  },
  {
   "cell_type": "code",
   "execution_count": 4,
   "id": "c44f13a9",
   "metadata": {},
   "outputs": [],
   "source": [
    "X_train_final=keras.applications.mobilenet_v2.preprocess_input(np.array(X_train,np.float32))\n",
    "X_valid_final=keras.applications.mobilenet_v2.preprocess_input(np.array(X_valid_resize,np.float32))"
   ]
  },
  {
   "cell_type": "code",
   "execution_count": 5,
   "id": "d205fbb0",
   "metadata": {},
   "outputs": [
    {
     "data": {
      "text/plain": [
       "0"
      ]
     },
     "execution_count": 5,
     "metadata": {},
     "output_type": "execute_result"
    }
   ],
   "source": [
    "np.min(X_train)"
   ]
  },
  {
   "cell_type": "code",
   "execution_count": 6,
   "id": "63b9b907",
   "metadata": {},
   "outputs": [],
   "source": [
    "class OneCycleScheduler(keras.callbacks.Callback):\n",
    "    def __init__(self, iterations, max_rate, start_rate=None,\n",
    "                 last_iterations=None, last_rate=None):\n",
    "        self.iterations = iterations\n",
    "        self.max_rate = max_rate\n",
    "        self.start_rate = start_rate or max_rate / 10\n",
    "        self.last_iterations = last_iterations or iterations // 10 + 1\n",
    "        self.half_iteration = (iterations - self.last_iterations) // 2\n",
    "        self.last_rate = last_rate or self.start_rate / 1000\n",
    "        self.iteration = 0\n",
    "    def _interpolate(self, iter1, iter2, rate1, rate2):\n",
    "        return ((rate2 - rate1) * (self.iteration - iter1)\n",
    "                / (iter2 - iter1) + rate1)\n",
    "    def on_batch_begin(self, batch, logs):\n",
    "        if self.iteration < self.half_iteration:\n",
    "            rate = self._interpolate(0, self.half_iteration, self.start_rate, self.max_rate)\n",
    "        elif self.iteration < 2 * self.half_iteration:\n",
    "            rate = self._interpolate(self.half_iteration, 2 * self.half_iteration,\n",
    "                                     self.max_rate, self.start_rate)\n",
    "        else:\n",
    "            rate = self._interpolate(2 * self.half_iteration, self.iterations,\n",
    "                                     self.start_rate, self.last_rate)\n",
    "            rate = max(rate, self.last_rate)\n",
    "        self.iteration += 1\n",
    "        K.set_value(self.model.optimizer.lr, rate)\n",
    "    def on_epoch_end(self, batch, logs):\n",
    "        print(\"lr: {}\".format(self.model.optimizer.lr))"
   ]
  },
  {
   "cell_type": "markdown",
   "id": "d71348be",
   "metadata": {},
   "source": [
    "# SMV2SL"
   ]
  },
  {
   "cell_type": "code",
   "execution_count": 7,
   "id": "7ac934fb",
   "metadata": {},
   "outputs": [],
   "source": [
    "#황성현 \n",
    "class Inveted_Residual_Block(keras.layers.Layer):\n",
    "    def __init__(self,c,s=1,t=1,n=1,**kwargs):\n",
    "        super().__init__(**kwargs)\n",
    "        self.activation = keras.layers.ReLU(max_value=6)\n",
    "        self.main_layers = [\n",
    "            \n",
    "            ]\n",
    "        self.strides_layers=[\n",
    "           ]\n",
    "        self.s=s\n",
    "        self.t=t\n",
    "        self.c=c\n",
    "        self.n=n\n",
    "        \n",
    "    def build(self,batch_input_shape):\n",
    "        print(self.name,\": batch_input_shape =\",batch_input_shape)\n",
    "        initializer = tf.keras.initializers.HeNormal()\n",
    "        self.main_layers = [\n",
    "            keras.layers.BatchNormalization(),\n",
    "            keras.layers.Conv2D(filters=batch_input_shape[-1]*self.t, kernel_size=1,strides=1, kernel_initializer=initializer,\n",
    "                                padding=\"SAME\"),\n",
    "            keras.layers.BatchNormalization(),\n",
    "            self.activation,\n",
    "            keras.layers.DepthwiseConv2D(kernel_size=3, strides=1,padding=\"SAME\",kernel_initializer=initializer),\n",
    "            keras.layers.BatchNormalization(),\n",
    "            self.activation,\n",
    "            keras.layers.Conv2D(filters=self.c,kernel_size=1, strides=1,padding=\"SAME\",kernel_initializer=initializer),\n",
    "            ]\n",
    "        self.strides_layers=[\n",
    "            keras.layers.BatchNormalization(),\n",
    "            keras.layers.Conv2D(filters=batch_input_shape[-1]*self.t, kernel_size=1,strides=1,kernel_initializer=initializer,\n",
    "                                padding=\"SAME\"),\n",
    "            keras.layers.BatchNormalization(),\n",
    "            self.activation,\n",
    "            keras.layers.DepthwiseConv2D(kernel_size=3, strides=self.s,padding=\"SAME\",kernel_initializer=initializer),\n",
    "            keras.layers.BatchNormalization(),\n",
    "            self.activation,\n",
    "            keras.layers.Conv2D(filters=self.c, kernel_size=1,strides=1,padding=\"SAME\",kernel_initializer=initializer),\n",
    "        ]\n",
    "\n",
    "    def call(self, inputs):\n",
    "        Z = inputs\n",
    "        \n",
    "        for n in range(0,self.n):\n",
    "            if n == 0:\n",
    "                for layer in self.strides_layers:\n",
    "                    Z = layer(Z)\n",
    "            else:\n",
    "                skip_Z = Z\n",
    "                for layer in self.main_layers:\n",
    "                    Z = layer(Z)\n",
    "                \n",
    "                Z += skip_Z\n",
    "    \n",
    "        return Z\n",
    "    \n",
    "    def get_config(self):\n",
    "        base=super().get_config()\n",
    "        return{**base,\"s\":self.s,\"t\":self.t,\"c\":self.c,\"n\":self.n}"
   ]
  },
  {
   "cell_type": "code",
   "execution_count": 8,
   "id": "8dd28f05",
   "metadata": {},
   "outputs": [
    {
     "name": "stdout",
     "output_type": "stream",
     "text": [
      "IRB1 : batch_input_shape = (None, 16, 16, 32)\n",
      "IRB2 : batch_input_shape = (None, 16, 16, 16)\n",
      "IRB3 : batch_input_shape = (None, 8, 8, 16)\n",
      "IRB4 : batch_input_shape = (None, 4, 4, 32)\n",
      "IRB5 : batch_input_shape = (None, 2, 2, 64)\n",
      "IRB6 : batch_input_shape = (None, 1, 1, 128)\n",
      "Model: \"sequential\"\n",
      "_________________________________________________________________\n",
      " Layer (type)                Output Shape              Param #   \n",
      "=================================================================\n",
      " batch_normalization (BatchN  (None, 32, 32, 1)        4         \n",
      " ormalization)                                                   \n",
      "                                                                 \n",
      " conv2d (Conv2D)             (None, 16, 16, 32)        320       \n",
      "                                                                 \n",
      " IRB1 (Inveted_Residual_Bloc  (None, 16, 16, 16)       2288      \n",
      " k)                                                              \n",
      "                                                                 \n",
      " IRB2 (Inveted_Residual_Bloc  (None, 8, 8, 16)         3424      \n",
      " k)                                                              \n",
      "                                                                 \n",
      " IRB3 (Inveted_Residual_Bloc  (None, 4, 4, 32)         9856      \n",
      " k)                                                              \n",
      "                                                                 \n",
      " IRB4 (Inveted_Residual_Bloc  (None, 2, 2, 64)         34048     \n",
      " k)                                                              \n",
      "                                                                 \n",
      " IRB5 (Inveted_Residual_Bloc  (None, 1, 1, 128)        54400     \n",
      " k)                                                              \n",
      "                                                                 \n",
      " IRB6 (Inveted_Residual_Bloc  (None, 1, 1, 512)        338432    \n",
      " k)                                                              \n",
      "                                                                 \n",
      " re_lu_6 (ReLU)              (None, 1, 1, 512)         0         \n",
      "                                                                 \n",
      " global_average_pooling2d (G  (None, 512)              0         \n",
      " lobalAveragePooling2D)                                          \n",
      "                                                                 \n",
      " batch_normalization_1 (Batc  (None, 512)              2048      \n",
      " hNormalization)                                                 \n",
      "                                                                 \n",
      " dropout (Dropout)           (None, 512)               0         \n",
      "                                                                 \n",
      " dense (Dense)               (None, 62)                31806     \n",
      "                                                                 \n",
      "=================================================================\n",
      "Total params: 476,626\n",
      "Trainable params: 469,808\n",
      "Non-trainable params: 6,818\n",
      "_________________________________________________________________\n"
     ]
    }
   ],
   "source": [
    "    #이승훈 황성현\n",
    "    #SMV2SL\n",
    "\n",
    "n_classes=62\n",
    "smv2_SL=keras.models.Sequential([\n",
    "        keras.layers.BatchNormalization(input_shape=[32,32,1]),\n",
    "        keras.layers.Conv2D(filters=32,kernel_size=3,strides=2,padding=\"same\",activation=\"relu\"),\n",
    "        Inveted_Residual_Block(t=1,c=16,n=1,s=1,name=\"IRB1\"),\n",
    "        Inveted_Residual_Block(t=2,c=16,n=2,s=2,name=\"IRB2\"),\n",
    "        Inveted_Residual_Block(t=4,c=32,n=2,s=2,name=\"IRB3\"),\n",
    "        Inveted_Residual_Block(t=4,c=64,n=2,s=2,name=\"IRB4\"),\n",
    "        Inveted_Residual_Block(t=4,c=128,n=1,s=2,name=\"IRB5\"),\n",
    "        Inveted_Residual_Block(t=4,c=512,n=1,s=1,name=\"IRB6\"),\n",
    "        keras.layers.ReLU(max_value=6),\n",
    "        keras.layers.GlobalAveragePooling2D(),\n",
    "        keras.layers.BatchNormalization(),\n",
    "        keras.layers.Dropout(0.5),\n",
    "        keras.layers.Dense(n_classes,activation=\"softmax\")\n",
    "    ])\n",
    "    \n",
    "smv2_SL.summary()\n",
    "opt = tf.keras.optimizers.Adam(learning_rate=0.0003)\n",
    "batch_size=128\n",
    "smv2_SL.compile(loss=\"sparse_categorical_crossentropy\",optimizer=opt,metrics=[\"accuracy\"])"
   ]
  },
  {
   "cell_type": "code",
   "execution_count": null,
   "id": "0f04e757",
   "metadata": {},
   "outputs": [
    {
     "name": "stdout",
     "output_type": "stream",
     "text": [
      "logs/SMV2SL_adam_best_lrsch_onecycle_aug_epoch4020220609-133452\n",
      "Epoch 1/40\n",
      "8393/8393 [==============================] - ETA: 0s - loss: 1.0129 - accuracy: 0.6979lr: <tf.Variable 'learning_rate:0' shape=() dtype=float32, numpy=0.00045000098>\n",
      "8393/8393 [==============================] - 135s 16ms/step - loss: 1.0129 - accuracy: 0.6979 - val_loss: 0.4826 - val_accuracy: 0.8256\n",
      "Epoch 2/40\n",
      "8393/8393 [==============================] - ETA: 0s - loss: 0.4761 - accuracy: 0.8304lr: <tf.Variable 'learning_rate:0' shape=() dtype=float32, numpy=0.0006000199>\n",
      "8393/8393 [==============================] - 132s 16ms/step - loss: 0.4761 - accuracy: 0.8304 - val_loss: 0.5511 - val_accuracy: 0.7945\n",
      "Epoch 3/40\n",
      "8390/8393 [============================>.] - ETA: 0s - loss: 0.4356 - accuracy: 0.8421lr: <tf.Variable 'learning_rate:0' shape=() dtype=float32, numpy=0.0007500387>\n",
      "8393/8393 [==============================] - 133s 16ms/step - loss: 0.4356 - accuracy: 0.8421 - val_loss: 0.4016 - val_accuracy: 0.8534\n",
      "Epoch 4/40\n",
      "8392/8393 [============================>.] - ETA: 0s - loss: 0.4156 - accuracy: 0.8479lr: <tf.Variable 'learning_rate:0' shape=() dtype=float32, numpy=0.0009000576>\n",
      "8393/8393 [==============================] - 131s 16ms/step - loss: 0.4156 - accuracy: 0.8479 - val_loss: 0.4165 - val_accuracy: 0.8418\n",
      "Epoch 5/40\n",
      "8390/8393 [============================>.] - ETA: 0s - loss: 0.4040 - accuracy: 0.8513lr: <tf.Variable 'learning_rate:0' shape=() dtype=float32, numpy=0.0010500764>\n",
      "8393/8393 [==============================] - 130s 15ms/step - loss: 0.4040 - accuracy: 0.8513 - val_loss: 0.4667 - val_accuracy: 0.8355\n",
      "Epoch 6/40\n",
      "8392/8393 [============================>.] - ETA: 0s - loss: 0.3962 - accuracy: 0.8535lr: <tf.Variable 'learning_rate:0' shape=() dtype=float32, numpy=0.0012000953>\n",
      "8393/8393 [==============================] - 130s 16ms/step - loss: 0.3962 - accuracy: 0.8535 - val_loss: 0.3824 - val_accuracy: 0.8574\n",
      "Epoch 7/40\n",
      "8392/8393 [============================>.] - ETA: 0s - loss: 0.3894 - accuracy: 0.8555lr: <tf.Variable 'learning_rate:0' shape=() dtype=float32, numpy=0.0013501142>\n",
      "8393/8393 [==============================] - 131s 16ms/step - loss: 0.3894 - accuracy: 0.8555 - val_loss: 0.3680 - val_accuracy: 0.8624\n",
      "Epoch 8/40\n",
      "8389/8393 [============================>.] - ETA: 0s - loss: 0.3845 - accuracy: 0.8571lr: <tf.Variable 'learning_rate:0' shape=() dtype=float32, numpy=0.0015001331>\n",
      "8393/8393 [==============================] - 131s 16ms/step - loss: 0.3845 - accuracy: 0.8571 - val_loss: 0.3791 - val_accuracy: 0.8565\n",
      "Epoch 9/40\n",
      "8391/8393 [============================>.] - ETA: 0s - loss: 0.3808 - accuracy: 0.8580lr: <tf.Variable 'learning_rate:0' shape=() dtype=float32, numpy=0.0016501519>\n",
      "8393/8393 [==============================] - 129s 15ms/step - loss: 0.3808 - accuracy: 0.8580 - val_loss: 0.3842 - val_accuracy: 0.8562\n",
      "Epoch 10/40\n",
      "8390/8393 [============================>.] - ETA: 0s - loss: 0.3772 - accuracy: 0.8591lr: <tf.Variable 'learning_rate:0' shape=() dtype=float32, numpy=0.0018001708>\n",
      "8393/8393 [==============================] - 131s 16ms/step - loss: 0.3772 - accuracy: 0.8591 - val_loss: 0.5481 - val_accuracy: 0.8169\n",
      "Epoch 11/40\n",
      "8391/8393 [============================>.] - ETA: 0s - loss: 0.3748 - accuracy: 0.8599lr: <tf.Variable 'learning_rate:0' shape=() dtype=float32, numpy=0.0019501897>\n",
      "8393/8393 [==============================] - 134s 16ms/step - loss: 0.3748 - accuracy: 0.8599 - val_loss: 0.3605 - val_accuracy: 0.8635\n",
      "Epoch 12/40\n",
      "8390/8393 [============================>.] - ETA: 0s - loss: 0.3726 - accuracy: 0.8607lr: <tf.Variable 'learning_rate:0' shape=() dtype=float32, numpy=0.0021002085>\n",
      "8393/8393 [==============================] - 130s 15ms/step - loss: 0.3726 - accuracy: 0.8607 - val_loss: 0.3917 - val_accuracy: 0.8568\n",
      "Epoch 13/40\n",
      "8392/8393 [============================>.] - ETA: 0s - loss: 0.3708 - accuracy: 0.8611lr: <tf.Variable 'learning_rate:0' shape=() dtype=float32, numpy=0.0022502274>\n",
      "8393/8393 [==============================] - 134s 16ms/step - loss: 0.3708 - accuracy: 0.8611 - val_loss: 2.0080 - val_accuracy: 0.5668\n",
      "Epoch 14/40\n",
      "8390/8393 [============================>.] - ETA: 0s - loss: 0.3694 - accuracy: 0.8615lr: <tf.Variable 'learning_rate:0' shape=() dtype=float32, numpy=0.0024002462>\n",
      "8393/8393 [==============================] - 134s 16ms/step - loss: 0.3694 - accuracy: 0.8615 - val_loss: 0.4631 - val_accuracy: 0.8293\n",
      "Epoch 15/40\n",
      "8390/8393 [============================>.] - ETA: 0s - loss: 0.3686 - accuracy: 0.8621lr: <tf.Variable 'learning_rate:0' shape=() dtype=float32, numpy=0.002550265>\n",
      "8393/8393 [==============================] - 129s 15ms/step - loss: 0.3686 - accuracy: 0.8621 - val_loss: 0.4586 - val_accuracy: 0.8398\n",
      "Epoch 16/40\n",
      "8393/8393 [==============================] - ETA: 0s - loss: 0.3670 - accuracy: 0.8623lr: <tf.Variable 'learning_rate:0' shape=() dtype=float32, numpy=0.002700284>\n",
      "8393/8393 [==============================] - 130s 16ms/step - loss: 0.3670 - accuracy: 0.8623 - val_loss: 0.3680 - val_accuracy: 0.8625\n",
      "Epoch 17/40\n",
      "8393/8393 [==============================] - ETA: 0s - loss: 0.3661 - accuracy: 0.8626lr: <tf.Variable 'learning_rate:0' shape=() dtype=float32, numpy=0.002850303>\n",
      "8393/8393 [==============================] - 129s 15ms/step - loss: 0.3661 - accuracy: 0.8626 - val_loss: 0.9940 - val_accuracy: 0.7271\n",
      "Epoch 18/40\n",
      "8391/8393 [============================>.] - ETA: 0s - loss: 0.3655 - accuracy: 0.8629lr: <tf.Variable 'learning_rate:0' shape=() dtype=float32, numpy=0.0029996783>\n",
      "8393/8393 [==============================] - 130s 15ms/step - loss: 0.3655 - accuracy: 0.8629 - val_loss: 0.9162 - val_accuracy: 0.7572\n",
      "Epoch 19/40\n",
      "8392/8393 [============================>.] - ETA: 0s - loss: 0.3627 - accuracy: 0.8640lr: <tf.Variable 'learning_rate:0' shape=() dtype=float32, numpy=0.0028496594>\n",
      "8393/8393 [==============================] - 130s 15ms/step - loss: 0.3627 - accuracy: 0.8640 - val_loss: 0.4054 - val_accuracy: 0.8550\n",
      "Epoch 20/40\n",
      "8393/8393 [==============================] - ETA: 0s - loss: 0.3568 - accuracy: 0.8657lr: <tf.Variable 'learning_rate:0' shape=() dtype=float32, numpy=0.0026996406>\n",
      "8393/8393 [==============================] - 130s 15ms/step - loss: 0.3568 - accuracy: 0.8657 - val_loss: 0.3477 - val_accuracy: 0.8695\n",
      "Epoch 21/40\n",
      "7737/8393 [==========================>...] - ETA: 9s - loss: 0.3508 - accuracy: 0.8674"
     ]
    }
   ],
   "source": [
    "#황성현 전민재\n",
    "from datetime import datetime\n",
    "K = keras.backend\n",
    "epochs=40\n",
    "logs = \"logs/\" + datetime.now().strftime(\"SMV2SL_adam_best_lrsch_onecycle_aug_epoch40%Y%m%d-%H%M%S\")\n",
    "print(logs)\n",
    "onecycle = OneCycleScheduler(len(X_train_resize) // batch_size * epochs, max_rate=0.003)\n",
    "tboard_callback = tf.keras.callbacks.TensorBoard(log_dir = logs,\n",
    "                                                 histogram_freq = 1,\n",
    "                                                 profile_batch = '500,520')\n",
    "check_best_cb=tf.keras.callbacks.ModelCheckpoint(filepath=\"SMV2SL_adam_best_lrsch_onecycle_aug_epoch40.h5\",save_best_only=True)\n",
    "\n",
    "history=smv2_SL.fit(X_train_final,y_train,\n",
    "                   validation_data=(X_valid_final,y_valid),batch_size = batch_size, \n",
    "                   epochs=epochs,callbacks=[tboard_callback, check_best_cb,onecycle])"
   ]
  },
  {
   "cell_type": "code",
   "execution_count": null,
   "id": "c849fbb3",
   "metadata": {},
   "outputs": [],
   "source": [
    "smv2_SL.save(\"SMV2SL_adam_best_lrsch_onecycle_aug_epoch40.h5\")"
   ]
  },
  {
   "cell_type": "code",
   "execution_count": null,
   "id": "1ab0d22f",
   "metadata": {},
   "outputs": [],
   "source": [
    "%load_ext tensorboard"
   ]
  },
  {
   "cell_type": "code",
   "execution_count": null,
   "id": "06a10566",
   "metadata": {},
   "outputs": [],
   "source": []
  },
  {
   "cell_type": "code",
   "execution_count": null,
   "id": "f5a417ae",
   "metadata": {},
   "outputs": [],
   "source": []
  },
  {
   "cell_type": "code",
   "execution_count": null,
   "id": "56ac9387",
   "metadata": {},
   "outputs": [],
   "source": []
  },
  {
   "cell_type": "code",
   "execution_count": null,
   "id": "e14fd56a",
   "metadata": {},
   "outputs": [],
   "source": []
  },
  {
   "cell_type": "code",
   "execution_count": null,
   "id": "d3d7d2dc",
   "metadata": {},
   "outputs": [],
   "source": []
  },
  {
   "cell_type": "code",
   "execution_count": null,
   "id": "a35869c2",
   "metadata": {},
   "outputs": [],
   "source": []
  },
  {
   "cell_type": "code",
   "execution_count": null,
   "id": "0ddf576b",
   "metadata": {},
   "outputs": [],
   "source": []
  },
  {
   "cell_type": "code",
   "execution_count": null,
   "id": "6cce5a32",
   "metadata": {},
   "outputs": [],
   "source": []
  },
  {
   "cell_type": "code",
   "execution_count": null,
   "id": "bed26f3a",
   "metadata": {},
   "outputs": [],
   "source": []
  },
  {
   "cell_type": "code",
   "execution_count": null,
   "id": "c444db61",
   "metadata": {},
   "outputs": [],
   "source": [
    "SMV2_SL_best=keras.models.load_model(\"SMV2SL_adam_best_lrsch_onecycle_aug_epoch40.h5\",custiom_objects={\"Inveted_Residual_Block\":Inveted_Residual_Block})"
   ]
  },
  {
   "cell_type": "code",
   "execution_count": null,
   "id": "cc62e406",
   "metadata": {},
   "outputs": [],
   "source": [
    "smv2_l_best.evaluate(X_valid_final,y_valid)"
   ]
  },
  {
   "cell_type": "code",
   "execution_count": null,
   "id": "15824207",
   "metadata": {},
   "outputs": [],
   "source": []
  },
  {
   "cell_type": "code",
   "execution_count": null,
   "id": "3a85e3c7",
   "metadata": {},
   "outputs": [],
   "source": []
  },
  {
   "cell_type": "code",
   "execution_count": null,
   "id": "29d9a4cf",
   "metadata": {},
   "outputs": [],
   "source": []
  }
 ],
 "metadata": {
  "kernelspec": {
   "display_name": "Python 3 (ipykernel)",
   "language": "python",
   "name": "python3"
  },
  "language_info": {
   "codemirror_mode": {
    "name": "ipython",
    "version": 3
   },
   "file_extension": ".py",
   "mimetype": "text/x-python",
   "name": "python",
   "nbconvert_exporter": "python",
   "pygments_lexer": "ipython3",
   "version": "3.9.7"
  }
 },
 "nbformat": 4,
 "nbformat_minor": 5
}

{
 "cells": [
  {
   "cell_type": "markdown",
   "id": "e8d7bdcd",
   "metadata": {},
   "source": [
    "CSV 파일을 train, valid 데이터로 나누기 // 이승훈"
   ]
  },
  {
   "cell_type": "code",
   "execution_count": 1,
   "id": "b53dd81e",
   "metadata": {},
   "outputs": [
    {
     "name": "stdout",
     "output_type": "stream",
     "text": [
      "True\n",
      "[PhysicalDevice(name='/physical_device:GPU:0', device_type='GPU')]\n"
     ]
    }
   ],
   "source": [
    "import numpy as np\n",
    "import tensorflow as tf\n",
    "from tensorflow import keras\n",
    "import os\n",
    "import cv2 as cv\n",
    "import csv\n",
    "from sklearn import utils\n",
    "from sklearn.model_selection import train_test_split\n",
    "\n",
    "print(tf.test.is_built_with_cuda())\n",
    "print(tf.config.list_physical_devices('GPU'))\n",
    "\n",
    "\n",
    "os.chdir('./common_file')\n",
    "\n",
    "loaded_data=np.loadtxt('./emnist-byclass-train.csv', delimiter=\",\",dtype='uint8')\n",
    "\n"
   ]
  },
  {
   "cell_type": "code",
   "execution_count": 2,
   "id": "13f6dcd3",
   "metadata": {},
   "outputs": [
    {
     "name": "stdout",
     "output_type": "stream",
     "text": [
      "[[35]\n",
      " [36]\n",
      " [ 6]\n",
      " ...\n",
      " [ 5]\n",
      " [11]\n",
      " [22]]\n",
      "[[0 0 0 ... 0 0 0]\n",
      " [0 0 0 ... 0 0 0]\n",
      " [0 0 0 ... 0 0 0]\n",
      " ...\n",
      " [0 0 0 ... 0 0 0]\n",
      " [0 0 0 ... 0 0 0]\n",
      " [0 0 0 ... 0 0 0]]\n"
     ]
    }
   ],
   "source": [
    "y_train_full,X_train_full=np.split(loaded_data,[1],axis=1)\n",
    "print(y_train_full)\n",
    "#X_train_full=np.delete(loaded_data,0,axis=1)\n",
    "print(X_train_full)\n"
   ]
  },
  {
   "cell_type": "code",
   "execution_count": 3,
   "id": "2597736f",
   "metadata": {},
   "outputs": [],
   "source": [
    "X_train, X_valid, y_train, y_valid=train_test_split(X_train_full, y_train_full, test_size=0.235, random_state=42)\n",
    "np.savetxt('./train_data.csv',X_train,fmt='%d',delimiter=',')\n",
    "np.savetxt('./valid_data.csv',X_valid,fmt='%d',delimiter=',')\n",
    "np.savetxt('./train_label.csv',y_train,fmt='%d',delimiter=',')\n",
    "np.savetxt('./valid_label.csv',y_valid,fmt='%d',delimiter=',')\n",
    "\n",
    "os.chdir('../') #원래 디렉토리로"
   ]
  },
  {
   "cell_type": "code",
   "execution_count": null,
   "id": "6d171403",
   "metadata": {},
   "outputs": [],
   "source": []
  }
 ],
 "metadata": {
  "kernelspec": {
   "display_name": "Python 3 (ipykernel)",
   "language": "python",
   "name": "python3"
  },
  "language_info": {
   "codemirror_mode": {
    "name": "ipython",
    "version": 3
   },
   "file_extension": ".py",
   "mimetype": "text/x-python",
   "name": "python",
   "nbconvert_exporter": "python",
   "pygments_lexer": "ipython3",
   "version": "3.9.7"
  }
 },
 "nbformat": 4,
 "nbformat_minor": 5
}

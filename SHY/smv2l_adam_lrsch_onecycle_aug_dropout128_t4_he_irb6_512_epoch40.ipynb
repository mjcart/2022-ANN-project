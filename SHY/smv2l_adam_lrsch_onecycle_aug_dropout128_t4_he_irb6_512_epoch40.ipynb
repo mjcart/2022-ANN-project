{
 "cells": [
  {
   "cell_type": "code",
   "execution_count": 1,
   "id": "9289fccd-b496-4478-ab47-16d5f0112be7",
   "metadata": {},
   "outputs": [
    {
     "name": "stdout",
     "output_type": "stream",
     "text": [
      "sklearn version:  0.24.2\n",
      "Requirement already satisfied: tensorflow_addons in c:\\programdata\\anaconda3\\lib\\site-packages (0.17.0)\n",
      "Requirement already satisfied: typeguard>=2.7 in c:\\programdata\\anaconda3\\lib\\site-packages (from tensorflow_addons) (2.13.3)\n",
      "Requirement already satisfied: packaging in c:\\programdata\\anaconda3\\lib\\site-packages (from tensorflow_addons) (21.0)\n",
      "Requirement already satisfied: pyparsing>=2.0.2 in c:\\programdata\\anaconda3\\lib\\site-packages (from packaging->tensorflow_addons) (3.0.4)\n",
      "TF version:  2.8.0\n",
      "GPU installed:  True\n",
      "1 Physical GPUs, 1 Logical GPUs\n"
     ]
    }
   ],
   "source": [
    "# Python ≥3.5 is required\n",
    "import sys\n",
    "assert sys.version_info >= (3, 5)\n",
    "\n",
    "# Scikit-Learn ≥0.20 is required\n",
    "import sklearn\n",
    "print(\"sklearn version: \", sklearn.__version__)\n",
    "assert sklearn.__version__ >= \"0.20\"\n",
    "\n",
    "try:\n",
    "    # %tensorflow_version only exists in Colab.\n",
    "    %tensorflow_version 2.x\n",
    "    IS_COLAB = True\n",
    "except Exception:\n",
    "    IS_COLAB = False\n",
    "\n",
    "# TensorFlow ≥2.0 is required\n",
    "import tensorflow as tf\n",
    "!pip install tensorflow_addons\n",
    "import tensorflow_addons as tfa\n",
    "from tensorflow import keras\n",
    "print(\"TF version: \", tf.__version__)\n",
    "assert tf.__version__ >= \"2.0\"\n",
    "\n",
    "if not tf.config.list_physical_devices('GPU'):\n",
    "    print(\"No GPU was detected. CNNs can be very slow without a GPU.\")\n",
    "    if IS_COLAB:\n",
    "        print(\"Go to Runtime > Change runtime and select a GPU hardware accelerator.\")\n",
    "\n",
    "# GPU test\n",
    "print(\"GPU installed: \",tf.test.is_built_with_gpu_support())\n",
    "\n",
    "# To prevent \"CUDNN_STATUS_ALLOC_FAILED\" error with GPUs\n",
    "gpus = tf.config.experimental.list_physical_devices('GPU')\n",
    "if gpus:\n",
    "  try:\n",
    "    # Currently, memory growth needs to be the same across GPUs\n",
    "    for gpu in gpus:\n",
    "      tf.config.experimental.set_memory_growth(gpu, True)\n",
    "    logical_gpus = tf.config.experimental.list_logical_devices('GPU')\n",
    "    print(len(gpus), \"Physical GPUs,\", len(logical_gpus), \"Logical GPUs\")\n",
    "  except RuntimeError as e:\n",
    "    # Memory growth must be set before GPUs have been initialized\n",
    "    print(e)\n",
    "    \n",
    "# Common imports\n",
    "import numpy as np\n",
    "import os\n",
    "\n",
    "# to make this notebook's output stable across runs\n",
    "np.random.seed(42)\n",
    "tf.random.set_seed(42)\n",
    "\n",
    "# To plot pretty figures\n",
    "%matplotlib inline\n",
    "import matplotlib as mpl\n",
    "import matplotlib.pyplot as plt\n",
    "mpl.rc('axes', labelsize=14)\n",
    "mpl.rc('xtick', labelsize=12)\n",
    "mpl.rc('ytick', labelsize=12)\n",
    "\n",
    "# Where to save the figures\n",
    "PROJECT_ROOT_DIR = \".\"\n",
    "CHAPTER_ID = \"cnn\"\n",
    "IMAGES_PATH = os.path.join(PROJECT_ROOT_DIR, \"images\", CHAPTER_ID)\n",
    "os.makedirs(IMAGES_PATH, exist_ok=True)\n",
    "\n",
    "def save_fig(fig_id, tight_layout=True, fig_extension=\"png\", resolution=300):\n",
    "    path = os.path.join(IMAGES_PATH, fig_id + \".\" + fig_extension)\n",
    "    print(\"Saving figure\", fig_id)\n",
    "    if tight_layout:\n",
    "        plt.tight_layout()\n",
    "    plt.savefig(path, format=fig_extension, dpi=resolution)\n",
    "    \n",
    "# Ignore useless warnings (see SciPy issue #5998)\n",
    "import warnings\n",
    "warnings.filterwarnings(action=\"ignore\", message=\"^internal gelsd\")    \n",
    "\n",
    "from tensorflow.python.keras.utils.data_utils import Sequence"
   ]
  },
  {
   "cell_type": "code",
   "execution_count": 2,
   "id": "a43846f0-ee03-4e04-8da2-36dcdcde6fd7",
   "metadata": {},
   "outputs": [],
   "source": [
    "X_train=np.uint8(np.load('./X_train_aug.npy'))\n",
    "y_train=np.uint8(np.load('./y_train_aug.npy'))\n",
    "X_valid=np.uint8(np.load('./X_valid.npy'))\n",
    "y_valid=np.uint8(np.load('./y_valid.npy'))"
   ]
  },
  {
   "cell_type": "code",
   "execution_count": 3,
   "id": "f2514ef5",
   "metadata": {},
   "outputs": [
    {
     "data": {
      "text/plain": [
       "((1074263, 32, 32, 1), (164015, 28, 28))"
      ]
     },
     "execution_count": 3,
     "metadata": {},
     "output_type": "execute_result"
    }
   ],
   "source": [
    "X_train.shape,X_valid.shape"
   ]
  },
  {
   "cell_type": "code",
   "execution_count": 4,
   "id": "5f4228f8-9224-42bf-80fa-d905375844fd",
   "metadata": {},
   "outputs": [
    {
     "data": {
      "text/plain": [
       "((1074263, 32, 32, 1), (164015, 32, 32, 1), tf.uint8)"
      ]
     },
     "execution_count": 4,
     "metadata": {},
     "output_type": "execute_result"
    }
   ],
   "source": [
    "X_valid=tf.reshape(X_valid,[-1,28,28,1])\n",
    "X_train=tf.reshape(X_train,[-1,32,32,1])\n",
    "X_valid_resize=np.uint8(tf.image.resize(X_valid, [32, 32]))\n",
    "X_train_resize=np.uint8(tf.image.resize(X_train, [32, 32]))\n",
    "X_train_resize.shape,X_valid_resize.shape,X_train.dtype"
   ]
  },
  {
   "cell_type": "code",
   "execution_count": 5,
   "id": "e58f9247",
   "metadata": {},
   "outputs": [],
   "source": [
    "X_train=keras.applications.mobilenet_v2.preprocess_input(np.array(X_train,np.float32))\n",
    "X_valid_final=keras.applications.mobilenet_v2.preprocess_input(np.array(X_valid_resize,np.float32))"
   ]
  },
  {
   "cell_type": "code",
   "execution_count": 6,
   "id": "3071a1b5",
   "metadata": {},
   "outputs": [
    {
     "data": {
      "text/plain": [
       "-1.0"
      ]
     },
     "execution_count": 6,
     "metadata": {},
     "output_type": "execute_result"
    }
   ],
   "source": [
    "np.min(X_train)"
   ]
  },
  {
   "cell_type": "code",
   "execution_count": 7,
   "id": "b0aa6eda-4eba-4e2b-8f42-83f61993a2f5",
   "metadata": {},
   "outputs": [],
   "source": [
    "#황성현 전민재 He_normal initializer\n",
    "class Inveted_Residual_Block(keras.layers.Layer):\n",
    "    def __init__(self,c,s=1,t=1,n=1,**kwargs):\n",
    "        super().__init__(**kwargs)\n",
    "        self.activation = keras.layers.ReLU(max_value=6)\n",
    "        self.main_layers = [\n",
    "            \n",
    "            ]\n",
    "        self.strides_layers=[\n",
    "           ]\n",
    "        self.s=s\n",
    "        self.t=t\n",
    "        self.c=c\n",
    "        self.n=n\n",
    "        \n",
    "    def build(self,batch_input_shape):\n",
    "        print(self.name,\": batch_input_shape =\",batch_input_shape)\n",
    "        initializer = tf.keras.initializers.HeNormal()\n",
    "        self.main_layers = [\n",
    "            keras.layers.BatchNormalization(),\n",
    "            keras.layers.Conv2D(filters=batch_input_shape[-1]*self.t, kernel_size=1,strides=1, kernel_initializer=initializer,\n",
    "                                padding=\"SAME\", activation=self.activation),\n",
    "            keras.layers.BatchNormalization(),\n",
    "            keras.layers.DepthwiseConv2D(kernel_size=3, strides=1,padding=\"SAME\", activation=self.activation,kernel_initializer=initializer),\n",
    "            keras.layers.BatchNormalization(),\n",
    "            keras.layers.Conv2D(filters=self.c,kernel_size=1, strides=1,padding=\"SAME\", activation=self.activation,kernel_initializer=initializer),\n",
    "            ]\n",
    "        self.strides_layers=[\n",
    "            keras.layers.BatchNormalization(),\n",
    "            keras.layers.Conv2D(filters=batch_input_shape[-1]*self.t, kernel_size=1,strides=1,kernel_initializer=initializer,\n",
    "                                padding=\"SAME\", activation=self.activation),\n",
    "            keras.layers.BatchNormalization(),\n",
    "            keras.layers.DepthwiseConv2D(kernel_size=3, strides=self.s,padding=\"SAME\",activation=self.activation,kernel_initializer=initializer),\n",
    "            keras.layers.BatchNormalization(),\n",
    "            keras.layers.Conv2D(filters=self.c, kernel_size=1,strides=1,padding=\"SAME\",activation=self.activation,kernel_initializer=initializer),\n",
    "        ]\n",
    "\n",
    "    def call(self, inputs):\n",
    "        Z = inputs\n",
    "        \n",
    "        for n in range(0,self.n):\n",
    "            if n == 0:\n",
    "                for layer in self.strides_layers:\n",
    "                    Z = layer(Z)\n",
    "            else:\n",
    "                skip_Z = Z\n",
    "                for layer in self.main_layers:\n",
    "                    Z = layer(Z)\n",
    "                \n",
    "                Z += skip_Z\n",
    "    \n",
    "        return Z\n",
    "    \n",
    "    def get_config(self):\n",
    "        base=super().get_config()\n",
    "        return{**base,\"s\":self.s,\"t\":self.t,\"c\":self.c,\"n\":self.n}"
   ]
  },
  {
   "cell_type": "code",
   "execution_count": 12,
   "id": "34fb2330-2ff3-4979-9901-e2f0da8d336a",
   "metadata": {
    "scrolled": true
   },
   "outputs": [
    {
     "name": "stdout",
     "output_type": "stream",
     "text": [
      "IRB1 : batch_input_shape = (None, 16, 16, 32)\n",
      "IRB2 : batch_input_shape = (None, 16, 16, 16)\n",
      "IRB3 : batch_input_shape = (None, 8, 8, 16)\n",
      "IRB4 : batch_input_shape = (None, 4, 4, 32)\n",
      "IRB5 : batch_input_shape = (None, 2, 2, 64)\n",
      "IRB6 : batch_input_shape = (None, 1, 1, 128)\n",
      "Model: \"sequential_2\"\n",
      "_________________________________________________________________\n",
      " Layer (type)                Output Shape              Param #   \n",
      "=================================================================\n",
      " batch_normalization_4 (Batc  (None, 32, 32, 1)        4         \n",
      " hNormalization)                                                 \n",
      "                                                                 \n",
      " conv2d_2 (Conv2D)           (None, 16, 16, 32)        320       \n",
      "                                                                 \n",
      " IRB1 (Inveted_Residual_Bloc  (None, 16, 16, 16)       2288      \n",
      " k)                                                              \n",
      "                                                                 \n",
      " IRB2 (Inveted_Residual_Bloc  (None, 8, 8, 16)         3424      \n",
      " k)                                                              \n",
      "                                                                 \n",
      " IRB3 (Inveted_Residual_Bloc  (None, 4, 4, 32)         9856      \n",
      " k)                                                              \n",
      "                                                                 \n",
      " IRB4 (Inveted_Residual_Bloc  (None, 2, 2, 64)         34048     \n",
      " k)                                                              \n",
      "                                                                 \n",
      " IRB5 (Inveted_Residual_Bloc  (None, 1, 1, 128)        54400     \n",
      " k)                                                              \n",
      "                                                                 \n",
      " IRB6 (Inveted_Residual_Bloc  (None, 1, 1, 512)        338432    \n",
      " k)                                                              \n",
      "                                                                 \n",
      " re_lu_20 (ReLU)             (None, 1, 1, 512)         0         \n",
      "                                                                 \n",
      " global_average_pooling2d_2   (None, 512)              0         \n",
      " (GlobalAveragePooling2D)                                        \n",
      "                                                                 \n",
      " batch_normalization_5 (Batc  (None, 512)              2048      \n",
      " hNormalization)                                                 \n",
      "                                                                 \n",
      " dropout_2 (Dropout)         (None, 512)               0         \n",
      "                                                                 \n",
      " dense_2 (Dense)             (None, 62)                31806     \n",
      "                                                                 \n",
      "=================================================================\n",
      "Total params: 476,626\n",
      "Trainable params: 469,808\n",
      "Non-trainable params: 6,818\n",
      "_________________________________________________________________\n"
     ]
    }
   ],
   "source": [
    "    #황성현 전민재 IRB6512\n",
    "    #multygpu\n",
    "\n",
    "\n",
    "    n_classes=62\n",
    "    smv2_l=keras.models.Sequential([\n",
    "        keras.layers.BatchNormalization(input_shape=[32,32,1]),\n",
    "        keras.layers.Conv2D(filters=32,kernel_size=3,strides=2,padding=\"same\",activation=\"relu\"),\n",
    "        Inveted_Residual_Block(t=1,c=16,n=1,s=1,name=\"IRB1\"),\n",
    "        Inveted_Residual_Block(t=2,c=16,n=2,s=2,name=\"IRB2\"),\n",
    "        Inveted_Residual_Block(t=4,c=32,n=2,s=2,name=\"IRB3\"),\n",
    "        Inveted_Residual_Block(t=4,c=64,n=2,s=2,name=\"IRB4\"),\n",
    "        Inveted_Residual_Block(t=4,c=128,n=1,s=2,name=\"IRB5\"),\n",
    "        Inveted_Residual_Block(t=4,c=512,n=1,s=1,name=\"IRB6\"),\n",
    "        keras.layers.ReLU(max_value=6),\n",
    "        keras.layers.GlobalAveragePooling2D(),\n",
    "        keras.layers.BatchNormalization(),\n",
    "        keras.layers.Dropout(0.2),\n",
    "        keras.layers.Dense(n_classes,activation=\"softmax\")\n",
    "    ])\n",
    "    smv2_l.summary()\n",
    "    opt = tf.keras.optimizers.Adam(learning_rate=0.0003)\n",
    "    batch_size=128\n",
    "    smv2_l.compile(loss=\"sparse_categorical_crossentropy\",optimizer=opt,metrics=[\"accuracy\"])"
   ]
  },
  {
   "cell_type": "code",
   "execution_count": 8,
   "id": "b384ece7-e314-4e22-bc57-4bc9b780f8a7",
   "metadata": {},
   "outputs": [],
   "source": [
    "#전민재\n",
    "class OneCycleScheduler(keras.callbacks.Callback):\n",
    "    def __init__(self, iterations, max_rate, start_rate=None,\n",
    "                 last_iterations=None, last_rate=None):\n",
    "        self.iterations = iterations\n",
    "        self.max_rate = max_rate\n",
    "        self.start_rate = start_rate or max_rate / 10\n",
    "        self.last_iterations = last_iterations or iterations // 10 + 1\n",
    "        self.half_iteration = (iterations - self.last_iterations) // 2\n",
    "        self.last_rate = last_rate or self.start_rate / 1000\n",
    "        self.iteration = 0\n",
    "    def _interpolate(self, iter1, iter2, rate1, rate2):\n",
    "        return ((rate2 - rate1) * (self.iteration - iter1)\n",
    "                / (iter2 - iter1) + rate1)\n",
    "    def on_batch_begin(self, batch, logs):\n",
    "        if self.iteration < self.half_iteration:\n",
    "            rate = self._interpolate(0, self.half_iteration, self.start_rate, self.max_rate)\n",
    "        elif self.iteration < 2 * self.half_iteration:\n",
    "            rate = self._interpolate(self.half_iteration, 2 * self.half_iteration,\n",
    "                                     self.max_rate, self.start_rate)\n",
    "        else:\n",
    "            rate = self._interpolate(2 * self.half_iteration, self.iterations,\n",
    "                                     self.start_rate, self.last_rate)\n",
    "            rate = max(rate, self.last_rate)\n",
    "        self.iteration += 1\n",
    "        K.set_value(self.model.optimizer.lr, rate)\n",
    "    def on_epoch_end(self, batch, logs):\n",
    "        print(\"lr: {}\".format(self.model.optimizer.lr))"
   ]
  },
  {
   "cell_type": "code",
   "execution_count": 13,
   "id": "0acf0157-3b8b-4112-bc4a-1b09e49035bc",
   "metadata": {},
   "outputs": [
    {
     "name": "stdout",
     "output_type": "stream",
     "text": [
      "logs/smv2l_adam_best_lrsch_onecycle_aug_dropout_128_he_irb6_512_t4_epoch4020220608-172445\n"
     ]
    },
    {
     "ename": "InternalError",
     "evalue": "Failed copying input tensor from /job:localhost/replica:0/task:0/device:CPU:0 to /job:localhost/replica:0/task:0/device:GPU:0 in order to run _EagerConst: Dst tensor is not initialized.",
     "output_type": "error",
     "traceback": [
      "\u001b[1;31m---------------------------------------------------------------------------\u001b[0m",
      "\u001b[1;31mInternalError\u001b[0m                             Traceback (most recent call last)",
      "\u001b[1;32m~\\AppData\\Local\\Temp/ipykernel_6920/2816276464.py\u001b[0m in \u001b[0;36m<module>\u001b[1;34m\u001b[0m\n\u001b[0;32m     11\u001b[0m \u001b[0mcheck_best_cb\u001b[0m\u001b[1;33m=\u001b[0m\u001b[0mtf\u001b[0m\u001b[1;33m.\u001b[0m\u001b[0mkeras\u001b[0m\u001b[1;33m.\u001b[0m\u001b[0mcallbacks\u001b[0m\u001b[1;33m.\u001b[0m\u001b[0mModelCheckpoint\u001b[0m\u001b[1;33m(\u001b[0m\u001b[0mfilepath\u001b[0m\u001b[1;33m=\u001b[0m\u001b[1;34m\"smv2l_adam_best_lrsch_onecycle_aug_dropout_128_he_irb6_512_t4_epoch40.h5\"\u001b[0m\u001b[1;33m,\u001b[0m\u001b[0msave_best_only\u001b[0m\u001b[1;33m=\u001b[0m\u001b[1;32mTrue\u001b[0m\u001b[1;33m)\u001b[0m\u001b[1;33m\u001b[0m\u001b[1;33m\u001b[0m\u001b[0m\n\u001b[0;32m     12\u001b[0m \u001b[1;33m\u001b[0m\u001b[0m\n\u001b[1;32m---> 13\u001b[1;33m history=smv2_l.fit(X_train,y_train,\n\u001b[0m\u001b[0;32m     14\u001b[0m                    \u001b[0mvalidation_data\u001b[0m\u001b[1;33m=\u001b[0m\u001b[1;33m(\u001b[0m\u001b[0mX_valid_final\u001b[0m\u001b[1;33m,\u001b[0m\u001b[0my_valid\u001b[0m\u001b[1;33m)\u001b[0m\u001b[1;33m,\u001b[0m\u001b[0mbatch_size\u001b[0m \u001b[1;33m=\u001b[0m \u001b[0mbatch_size\u001b[0m\u001b[1;33m,\u001b[0m\u001b[1;33m\u001b[0m\u001b[1;33m\u001b[0m\u001b[0m\n\u001b[0;32m     15\u001b[0m                    epochs=epochs,callbacks=[tboard_callback, check_best_cb,onecycle])\n",
      "\u001b[1;32mC:\\ProgramData\\Anaconda3\\lib\\site-packages\\keras\\utils\\traceback_utils.py\u001b[0m in \u001b[0;36merror_handler\u001b[1;34m(*args, **kwargs)\u001b[0m\n\u001b[0;32m     65\u001b[0m     \u001b[1;32mexcept\u001b[0m \u001b[0mException\u001b[0m \u001b[1;32mas\u001b[0m \u001b[0me\u001b[0m\u001b[1;33m:\u001b[0m  \u001b[1;31m# pylint: disable=broad-except\u001b[0m\u001b[1;33m\u001b[0m\u001b[1;33m\u001b[0m\u001b[0m\n\u001b[0;32m     66\u001b[0m       \u001b[0mfiltered_tb\u001b[0m \u001b[1;33m=\u001b[0m \u001b[0m_process_traceback_frames\u001b[0m\u001b[1;33m(\u001b[0m\u001b[0me\u001b[0m\u001b[1;33m.\u001b[0m\u001b[0m__traceback__\u001b[0m\u001b[1;33m)\u001b[0m\u001b[1;33m\u001b[0m\u001b[1;33m\u001b[0m\u001b[0m\n\u001b[1;32m---> 67\u001b[1;33m       \u001b[1;32mraise\u001b[0m \u001b[0me\u001b[0m\u001b[1;33m.\u001b[0m\u001b[0mwith_traceback\u001b[0m\u001b[1;33m(\u001b[0m\u001b[0mfiltered_tb\u001b[0m\u001b[1;33m)\u001b[0m \u001b[1;32mfrom\u001b[0m \u001b[1;32mNone\u001b[0m\u001b[1;33m\u001b[0m\u001b[1;33m\u001b[0m\u001b[0m\n\u001b[0m\u001b[0;32m     68\u001b[0m     \u001b[1;32mfinally\u001b[0m\u001b[1;33m:\u001b[0m\u001b[1;33m\u001b[0m\u001b[1;33m\u001b[0m\u001b[0m\n\u001b[0;32m     69\u001b[0m       \u001b[1;32mdel\u001b[0m \u001b[0mfiltered_tb\u001b[0m\u001b[1;33m\u001b[0m\u001b[1;33m\u001b[0m\u001b[0m\n",
      "\u001b[1;32mC:\\ProgramData\\Anaconda3\\lib\\site-packages\\tensorflow\\python\\framework\\constant_op.py\u001b[0m in \u001b[0;36mconvert_to_eager_tensor\u001b[1;34m(value, ctx, dtype)\u001b[0m\n\u001b[0;32m    100\u001b[0m       \u001b[0mdtype\u001b[0m \u001b[1;33m=\u001b[0m \u001b[0mdtypes\u001b[0m\u001b[1;33m.\u001b[0m\u001b[0mas_dtype\u001b[0m\u001b[1;33m(\u001b[0m\u001b[0mdtype\u001b[0m\u001b[1;33m)\u001b[0m\u001b[1;33m.\u001b[0m\u001b[0mas_datatype_enum\u001b[0m\u001b[1;33m\u001b[0m\u001b[1;33m\u001b[0m\u001b[0m\n\u001b[0;32m    101\u001b[0m   \u001b[0mctx\u001b[0m\u001b[1;33m.\u001b[0m\u001b[0mensure_initialized\u001b[0m\u001b[1;33m(\u001b[0m\u001b[1;33m)\u001b[0m\u001b[1;33m\u001b[0m\u001b[1;33m\u001b[0m\u001b[0m\n\u001b[1;32m--> 102\u001b[1;33m   \u001b[1;32mreturn\u001b[0m \u001b[0mops\u001b[0m\u001b[1;33m.\u001b[0m\u001b[0mEagerTensor\u001b[0m\u001b[1;33m(\u001b[0m\u001b[0mvalue\u001b[0m\u001b[1;33m,\u001b[0m \u001b[0mctx\u001b[0m\u001b[1;33m.\u001b[0m\u001b[0mdevice_name\u001b[0m\u001b[1;33m,\u001b[0m \u001b[0mdtype\u001b[0m\u001b[1;33m)\u001b[0m\u001b[1;33m\u001b[0m\u001b[1;33m\u001b[0m\u001b[0m\n\u001b[0m\u001b[0;32m    103\u001b[0m \u001b[1;33m\u001b[0m\u001b[0m\n\u001b[0;32m    104\u001b[0m \u001b[1;33m\u001b[0m\u001b[0m\n",
      "\u001b[1;31mInternalError\u001b[0m: Failed copying input tensor from /job:localhost/replica:0/task:0/device:CPU:0 to /job:localhost/replica:0/task:0/device:GPU:0 in order to run _EagerConst: Dst tensor is not initialized."
     ]
    }
   ],
   "source": [
    "#황성현 전민재\n",
    "from datetime import datetime\n",
    "K = keras.backend\n",
    "epochs=40\n",
    "logs = \"logs/\" + datetime.now().strftime(\"smv2l_adam_best_lrsch_onecycle_aug_dropout_128_he_irb6_512_t4_epoch40%Y%m%d-%H%M%S\")\n",
    "print(logs)\n",
    "onecycle = OneCycleScheduler(len(X_train_resize) // batch_size * epochs, max_rate=0.003)\n",
    "tboard_callback = tf.keras.callbacks.TensorBoard(log_dir = logs,\n",
    "                                                 histogram_freq = 1,\n",
    "                                                 profile_batch = '500,520')\n",
    "check_best_cb=tf.keras.callbacks.ModelCheckpoint(filepath=\"smv2l_adam_best_lrsch_onecycle_aug_dropout_128_he_irb6_512_t4_epoch40.h5\",save_best_only=True)\n",
    "\n",
    "history=smv2_l.fit(X_train,y_train,\n",
    "                   validation_data=(X_valid_final,y_valid),batch_size = batch_size, \n",
    "                   epochs=epochs,callbacks=[tboard_callback, check_best_cb,onecycle])"
   ]
  },
  {
   "cell_type": "code",
   "execution_count": 23,
   "id": "65300afd-d8b1-423b-b047-f9ff6363d0db",
   "metadata": {},
   "outputs": [
    {
     "name": "stdout",
     "output_type": "stream",
     "text": [
      "IRB1 : batch_input_shape = (None, 16, 16, 32)\n",
      "IRB2 : batch_input_shape = (None, 16, 16, 16)\n",
      "IRB3 : batch_input_shape = (None, 8, 8, 16)\n",
      "IRB4 : batch_input_shape = (None, 4, 4, 32)\n",
      "IRB5 : batch_input_shape = (None, 2, 2, 64)\n",
      "IRB6 : batch_input_shape = (None, 1, 1, 128)\n"
     ]
    }
   ],
   "source": [
    "smv2_l_best=keras.models.load_model(\"smv2l_adam_best_lrsch_onecycle_aug_dropout_128_he_irb6_512_t4_epoch40.h5\",\n",
    "                                   custom_objects={\"Inveted_Residual_Block\":Inveted_Residual_Block})"
   ]
  },
  {
   "cell_type": "code",
   "execution_count": 24,
   "id": "050498ac",
   "metadata": {},
   "outputs": [
    {
     "name": "stdout",
     "output_type": "stream",
     "text": [
      "5126/5126 [==============================] - 29s 6ms/step - loss: 0.3335 - accuracy: 0.8773\n"
     ]
    },
    {
     "data": {
      "text/plain": [
       "[0.3335278034210205, 0.8773344159126282]"
      ]
     },
     "execution_count": 24,
     "metadata": {},
     "output_type": "execute_result"
    }
   ],
   "source": [
    "smv2_l_best.evaluate(X_valid_final,y_valid)"
   ]
  },
  {
   "cell_type": "code",
   "execution_count": 25,
   "id": "dc8ab1ae",
   "metadata": {},
   "outputs": [
    {
     "name": "stdout",
     "output_type": "stream",
     "text": [
      "IRB1 : batch_input_shape = (None, 16, 16, 32)\n",
      "IRB2 : batch_input_shape = (None, 16, 16, 16)\n",
      "IRB3 : batch_input_shape = (None, 8, 8, 16)\n",
      "IRB4 : batch_input_shape = (None, 4, 4, 32)\n",
      "IRB5 : batch_input_shape = (None, 2, 2, 64)\n",
      "IRB6 : batch_input_shape = (None, 1, 1, 128)\n"
     ]
    }
   ],
   "source": [
    "smv2_l_accbest=keras.models.load_model(\"smv2l_adam_lrsch_onecycle_aug_dropout_128_he_irb6_512_epoch40.h5\",\n",
    "                                   custom_objects={\"Inveted_Residual_Block\":Inveted_Residual_Block})"
   ]
  },
  {
   "cell_type": "code",
   "execution_count": 27,
   "id": "99694d14",
   "metadata": {},
   "outputs": [
    {
     "name": "stdout",
     "output_type": "stream",
     "text": [
      "5126/5126 [==============================] - 34s 7ms/step - loss: 0.3293 - accuracy: 0.8784\n"
     ]
    },
    {
     "data": {
      "text/plain": [
       "[0.3292771875858307, 0.8784440159797668]"
      ]
     },
     "execution_count": 27,
     "metadata": {},
     "output_type": "execute_result"
    }
   ],
   "source": [
    "smv2_l_accbest.evaluate(X_valid_resize,y_valid)"
   ]
  },
  {
   "cell_type": "code",
   "execution_count": 9,
   "id": "13d72222-6a4b-4987-bcbd-0466f3fb7c8c",
   "metadata": {},
   "outputs": [
    {
     "name": "stdout",
     "output_type": "stream",
     "text": [
      "IRB1 : batch_input_shape = (None, 16, 16, 32)\n",
      "IRB2 : batch_input_shape = (None, 16, 16, 16)\n",
      "IRB3 : batch_input_shape = (None, 8, 8, 16)\n",
      "IRB4 : batch_input_shape = (None, 4, 4, 32)\n",
      "IRB5 : batch_input_shape = (None, 2, 2, 64)\n",
      "IRB6 : batch_input_shape = (None, 1, 1, 128)\n",
      "Model: \"sequential\"\n",
      "_________________________________________________________________\n",
      " Layer (type)                Output Shape              Param #   \n",
      "=================================================================\n",
      " batch_normalization (BatchN  (None, 32, 32, 1)        4         \n",
      " ormalization)                                                   \n",
      "                                                                 \n",
      " conv2d (Conv2D)             (None, 16, 16, 32)        320       \n",
      "                                                                 \n",
      " IRB1 (Inveted_Residual_Bloc  (None, 16, 16, 16)       2288      \n",
      " k)                                                              \n",
      "                                                                 \n",
      " IRB2 (Inveted_Residual_Bloc  (None, 8, 8, 16)         3424      \n",
      " k)                                                              \n",
      "                                                                 \n",
      " IRB3 (Inveted_Residual_Bloc  (None, 4, 4, 32)         9856      \n",
      " k)                                                              \n",
      "                                                                 \n",
      " IRB4 (Inveted_Residual_Bloc  (None, 2, 2, 64)         34048     \n",
      " k)                                                              \n",
      "                                                                 \n",
      " IRB5 (Inveted_Residual_Bloc  (None, 1, 1, 128)        54400     \n",
      " k)                                                              \n",
      "                                                                 \n",
      " IRB6 (Inveted_Residual_Bloc  (None, 1, 1, 512)        338432    \n",
      " k)                                                              \n",
      "                                                                 \n",
      " re_lu_6 (ReLU)              (None, 1, 1, 512)         0         \n",
      "                                                                 \n",
      " global_average_pooling2d (G  (None, 512)              0         \n",
      " lobalAveragePooling2D)                                          \n",
      "                                                                 \n",
      " batch_normalization_1 (Batc  (None, 512)              2048      \n",
      " hNormalization)                                                 \n",
      "                                                                 \n",
      " dropout (Dropout)           (None, 512)               0         \n",
      "                                                                 \n",
      " dense (Dense)               (None, 62)                31806     \n",
      "                                                                 \n",
      "=================================================================\n",
      "Total params: 476,626\n",
      "Trainable params: 469,808\n",
      "Non-trainable params: 6,818\n",
      "_________________________________________________________________\n"
     ]
    }
   ],
   "source": [
    "    #황성현 전민재 IRB6512, maxlr 0.002\n",
    "    #multygpu\n",
    "\n",
    "\n",
    "    n_classes=62\n",
    "    smv2_l=keras.models.Sequential([\n",
    "        keras.layers.BatchNormalization(input_shape=[32,32,1]),\n",
    "        keras.layers.Conv2D(filters=32,kernel_size=3,strides=2,padding=\"same\",activation=\"relu\"),\n",
    "        Inveted_Residual_Block(t=1,c=16,n=1,s=1,name=\"IRB1\"),\n",
    "        Inveted_Residual_Block(t=2,c=16,n=2,s=2,name=\"IRB2\"),\n",
    "        Inveted_Residual_Block(t=4,c=32,n=2,s=2,name=\"IRB3\"),\n",
    "        Inveted_Residual_Block(t=4,c=64,n=2,s=2,name=\"IRB4\"),\n",
    "        Inveted_Residual_Block(t=4,c=128,n=1,s=2,name=\"IRB5\"),\n",
    "        Inveted_Residual_Block(t=4,c=512,n=1,s=1,name=\"IRB6\"),\n",
    "        keras.layers.ReLU(max_value=6),\n",
    "        keras.layers.GlobalAveragePooling2D(),\n",
    "        keras.layers.BatchNormalization(),\n",
    "        keras.layers.Dropout(0.5),\n",
    "        keras.layers.Dense(n_classes,activation=\"softmax\")\n",
    "    ])\n",
    "    smv2_l.summary()\n",
    "    opt = tf.keras.optimizers.Adam(learning_rate=0.0003)\n",
    "    batch_size=128\n",
    "    smv2_l.compile(loss=\"sparse_categorical_crossentropy\",optimizer=opt,metrics=[\"accuracy\"])"
   ]
  },
  {
   "cell_type": "code",
   "execution_count": 10,
   "id": "24362c3d",
   "metadata": {},
   "outputs": [
    {
     "name": "stdout",
     "output_type": "stream",
     "text": [
      "Epoch 1/60\n",
      "8393/8393 [==============================] - ETA: 0s - loss: 1.6683 - accuracy: 0.5438lr: <tf.Variable 'learning_rate:0' shape=() dtype=float32, numpy=0.00036296324>\n",
      "8393/8393 [==============================] - 139s 16ms/step - loss: 1.6683 - accuracy: 0.5438 - val_loss: 0.5014 - val_accuracy: 0.8229\n",
      "Epoch 2/60\n",
      "8392/8393 [============================>.] - ETA: 0s - loss: 0.5191 - accuracy: 0.8166lr: <tf.Variable 'learning_rate:0' shape=() dtype=float32, numpy=0.00042593398>\n",
      "8393/8393 [==============================] - 132s 16ms/step - loss: 0.5191 - accuracy: 0.8166 - val_loss: 0.4127 - val_accuracy: 0.8481\n",
      "Epoch 3/60\n",
      "8390/8393 [============================>.] - ETA: 0s - loss: 0.4495 - accuracy: 0.8368lr: <tf.Variable 'learning_rate:0' shape=() dtype=float32, numpy=0.0004889047>\n",
      "8393/8393 [==============================] - 134s 16ms/step - loss: 0.4496 - accuracy: 0.8368 - val_loss: 0.4010 - val_accuracy: 0.8510\n",
      "Epoch 4/60\n",
      "8390/8393 [============================>.] - ETA: 0s - loss: 0.4219 - accuracy: 0.8448lr: <tf.Variable 'learning_rate:0' shape=() dtype=float32, numpy=0.00055187545>\n",
      "8393/8393 [==============================] - 134s 16ms/step - loss: 0.4219 - accuracy: 0.8448 - val_loss: 0.4136 - val_accuracy: 0.8440\n",
      "Epoch 5/60\n",
      "8390/8393 [============================>.] - ETA: 0s - loss: 0.4064 - accuracy: 0.8499lr: <tf.Variable 'learning_rate:0' shape=() dtype=float32, numpy=0.00061484624>\n",
      "8393/8393 [==============================] - 135s 16ms/step - loss: 0.4064 - accuracy: 0.8499 - val_loss: 0.3899 - val_accuracy: 0.8553\n",
      "Epoch 6/60\n",
      "8390/8393 [============================>.] - ETA: 0s - loss: 0.3964 - accuracy: 0.8528lr: <tf.Variable 'learning_rate:0' shape=() dtype=float32, numpy=0.000677817>\n",
      "8393/8393 [==============================] - 133s 16ms/step - loss: 0.3964 - accuracy: 0.8528 - val_loss: 0.3918 - val_accuracy: 0.8557\n",
      "Epoch 7/60\n",
      "8392/8393 [============================>.] - ETA: 0s - loss: 0.3876 - accuracy: 0.8559lr: <tf.Variable 'learning_rate:0' shape=() dtype=float32, numpy=0.0007407877>\n",
      "8393/8393 [==============================] - 133s 16ms/step - loss: 0.3876 - accuracy: 0.8559 - val_loss: 0.4020 - val_accuracy: 0.8511\n",
      "Epoch 8/60\n",
      "8392/8393 [============================>.] - ETA: 0s - loss: 0.3819 - accuracy: 0.8573lr: <tf.Variable 'learning_rate:0' shape=() dtype=float32, numpy=0.00080375845>\n",
      "8393/8393 [==============================] - 133s 16ms/step - loss: 0.3820 - accuracy: 0.8573 - val_loss: 0.3767 - val_accuracy: 0.8582\n",
      "Epoch 9/60\n",
      "8391/8393 [============================>.] - ETA: 0s - loss: 0.3775 - accuracy: 0.8584lr: <tf.Variable 'learning_rate:0' shape=() dtype=float32, numpy=0.0008667292>\n",
      "8393/8393 [==============================] - 133s 16ms/step - loss: 0.3775 - accuracy: 0.8584 - val_loss: 0.3788 - val_accuracy: 0.8575\n",
      "Epoch 10/60\n",
      "8393/8393 [==============================] - ETA: 0s - loss: 0.3739 - accuracy: 0.8596lr: <tf.Variable 'learning_rate:0' shape=() dtype=float32, numpy=0.0009296999>\n",
      "8393/8393 [==============================] - 133s 16ms/step - loss: 0.3739 - accuracy: 0.8596 - val_loss: 0.3596 - val_accuracy: 0.8660\n",
      "Epoch 11/60\n",
      "8391/8393 [============================>.] - ETA: 0s - loss: 0.3708 - accuracy: 0.8604lr: <tf.Variable 'learning_rate:0' shape=() dtype=float32, numpy=0.0009926707>\n",
      "8393/8393 [==============================] - 133s 16ms/step - loss: 0.3709 - accuracy: 0.8604 - val_loss: 0.3767 - val_accuracy: 0.8582\n",
      "Epoch 12/60\n",
      "8391/8393 [============================>.] - ETA: 0s - loss: 0.3688 - accuracy: 0.8612lr: <tf.Variable 'learning_rate:0' shape=() dtype=float32, numpy=0.0010556414>\n",
      "8393/8393 [==============================] - 133s 16ms/step - loss: 0.3688 - accuracy: 0.8612 - val_loss: 0.3760 - val_accuracy: 0.8615\n",
      "Epoch 13/60\n",
      "8392/8393 [============================>.] - ETA: 0s - loss: 0.3662 - accuracy: 0.8620lr: <tf.Variable 'learning_rate:0' shape=() dtype=float32, numpy=0.0011186121>\n",
      "8393/8393 [==============================] - 133s 16ms/step - loss: 0.3662 - accuracy: 0.8620 - val_loss: 0.4655 - val_accuracy: 0.8331\n",
      "Epoch 14/60\n",
      "8392/8393 [============================>.] - ETA: 0s - loss: 0.3644 - accuracy: 0.8627lr: <tf.Variable 'learning_rate:0' shape=() dtype=float32, numpy=0.0011815829>\n",
      "8393/8393 [==============================] - 133s 16ms/step - loss: 0.3644 - accuracy: 0.8627 - val_loss: 0.3599 - val_accuracy: 0.8662\n",
      "Epoch 15/60\n",
      "8391/8393 [============================>.] - ETA: 0s - loss: 0.3631 - accuracy: 0.8631lr: <tf.Variable 'learning_rate:0' shape=() dtype=float32, numpy=0.0012445536>\n",
      "8393/8393 [==============================] - 133s 16ms/step - loss: 0.3631 - accuracy: 0.8631 - val_loss: 0.3847 - val_accuracy: 0.8612\n",
      "Epoch 16/60\n",
      "8390/8393 [============================>.] - ETA: 0s - loss: 0.3615 - accuracy: 0.8633lr: <tf.Variable 'learning_rate:0' shape=() dtype=float32, numpy=0.0013075244>\n",
      "8393/8393 [==============================] - 133s 16ms/step - loss: 0.3615 - accuracy: 0.8633 - val_loss: 0.3612 - val_accuracy: 0.8650\n",
      "Epoch 17/60\n",
      "8391/8393 [============================>.] - ETA: 0s - loss: 0.3605 - accuracy: 0.8638lr: <tf.Variable 'learning_rate:0' shape=() dtype=float32, numpy=0.0013704952>\n",
      "8393/8393 [==============================] - 133s 16ms/step - loss: 0.3605 - accuracy: 0.8638 - val_loss: 0.7763 - val_accuracy: 0.7635\n",
      "Epoch 18/60\n",
      "8390/8393 [============================>.] - ETA: 0s - loss: 0.3587 - accuracy: 0.8647lr: <tf.Variable 'learning_rate:0' shape=() dtype=float32, numpy=0.0014334659>\n",
      "8393/8393 [==============================] - 133s 16ms/step - loss: 0.3587 - accuracy: 0.8647 - val_loss: 1.5078 - val_accuracy: 0.6736\n",
      "Epoch 19/60\n",
      "8393/8393 [==============================] - ETA: 0s - loss: 0.3584 - accuracy: 0.8644lr: <tf.Variable 'learning_rate:0' shape=() dtype=float32, numpy=0.0014964367>\n",
      "8393/8393 [==============================] - 134s 16ms/step - loss: 0.3584 - accuracy: 0.8644 - val_loss: 0.4081 - val_accuracy: 0.8474\n",
      "Epoch 20/60\n",
      "8391/8393 [============================>.] - ETA: 0s - loss: 0.3576 - accuracy: 0.8648lr: <tf.Variable 'learning_rate:0' shape=() dtype=float32, numpy=0.0015594073>\n",
      "8393/8393 [==============================] - 134s 16ms/step - loss: 0.3576 - accuracy: 0.8648 - val_loss: 0.3594 - val_accuracy: 0.8668\n",
      "Epoch 21/60\n",
      "8391/8393 [============================>.] - ETA: 0s - loss: 0.3564 - accuracy: 0.8651lr: <tf.Variable 'learning_rate:0' shape=() dtype=float32, numpy=0.0016223781>\n",
      "8393/8393 [==============================] - 133s 16ms/step - loss: 0.3564 - accuracy: 0.8651 - val_loss: 0.3696 - val_accuracy: 0.8620\n",
      "Epoch 22/60\n",
      "8393/8393 [==============================] - ETA: 0s - loss: 0.3565 - accuracy: 0.8654lr: <tf.Variable 'learning_rate:0' shape=() dtype=float32, numpy=0.0016853488>\n",
      "8393/8393 [==============================] - 133s 16ms/step - loss: 0.3565 - accuracy: 0.8654 - val_loss: 0.5866 - val_accuracy: 0.8083\n",
      "Epoch 23/60\n",
      "8393/8393 [==============================] - ETA: 0s - loss: 0.3562 - accuracy: 0.8654lr: <tf.Variable 'learning_rate:0' shape=() dtype=float32, numpy=0.0017483196>\n",
      "8393/8393 [==============================] - 134s 16ms/step - loss: 0.3562 - accuracy: 0.8654 - val_loss: 0.4418 - val_accuracy: 0.8403\n",
      "Epoch 24/60\n",
      "8393/8393 [==============================] - ETA: 0s - loss: 0.3560 - accuracy: 0.8653lr: <tf.Variable 'learning_rate:0' shape=() dtype=float32, numpy=0.0018112904>\n",
      "8393/8393 [==============================] - 134s 16ms/step - loss: 0.3560 - accuracy: 0.8653 - val_loss: 1.1076 - val_accuracy: 0.7221\n",
      "Epoch 25/60\n",
      "8389/8393 [============================>.] - ETA: 0s - loss: 0.3563 - accuracy: 0.8655lr: <tf.Variable 'learning_rate:0' shape=() dtype=float32, numpy=0.0018742611>\n",
      "8393/8393 [==============================] - 133s 16ms/step - loss: 0.3563 - accuracy: 0.8655 - val_loss: 0.6890 - val_accuracy: 0.7823\n",
      "Epoch 26/60\n",
      "8392/8393 [============================>.] - ETA: 0s - loss: 0.3561 - accuracy: 0.8654lr: <tf.Variable 'learning_rate:0' shape=() dtype=float32, numpy=0.0019372319>\n",
      "8393/8393 [==============================] - 133s 16ms/step - loss: 0.3561 - accuracy: 0.8654 - val_loss: 0.4290 - val_accuracy: 0.8486\n",
      "Epoch 27/60\n"
     ]
    },
    {
     "name": "stdout",
     "output_type": "stream",
     "text": [
      "8389/8393 [============================>.] - ETA: 0s - loss: 0.3563 - accuracy: 0.8650lr: <tf.Variable 'learning_rate:0' shape=() dtype=float32, numpy=0.0019997975>\n",
      "8393/8393 [==============================] - 134s 16ms/step - loss: 0.3563 - accuracy: 0.8650 - val_loss: 0.3806 - val_accuracy: 0.8618\n",
      "Epoch 28/60\n",
      "8391/8393 [============================>.] - ETA: 0s - loss: 0.3554 - accuracy: 0.8659lr: <tf.Variable 'learning_rate:0' shape=() dtype=float32, numpy=0.0019368267>\n",
      "8393/8393 [==============================] - 134s 16ms/step - loss: 0.3554 - accuracy: 0.8659 - val_loss: 1.0129 - val_accuracy: 0.7462\n",
      "Epoch 29/60\n",
      "8390/8393 [============================>.] - ETA: 0s - loss: 0.3515 - accuracy: 0.8669lr: <tf.Variable 'learning_rate:0' shape=() dtype=float32, numpy=0.001873856>\n",
      "8393/8393 [==============================] - 133s 16ms/step - loss: 0.3515 - accuracy: 0.8669 - val_loss: 0.3816 - val_accuracy: 0.8590\n",
      "Epoch 30/60\n",
      "8391/8393 [============================>.] - ETA: 0s - loss: 0.3489 - accuracy: 0.8679lr: <tf.Variable 'learning_rate:0' shape=() dtype=float32, numpy=0.0018108852>\n",
      "8393/8393 [==============================] - 133s 16ms/step - loss: 0.3489 - accuracy: 0.8679 - val_loss: 0.7852 - val_accuracy: 0.7834\n",
      "Epoch 31/60\n",
      "8389/8393 [============================>.] - ETA: 0s - loss: 0.3459 - accuracy: 0.8687lr: <tf.Variable 'learning_rate:0' shape=() dtype=float32, numpy=0.0017479145>\n",
      "8393/8393 [==============================] - 133s 16ms/step - loss: 0.3459 - accuracy: 0.8687 - val_loss: 0.5842 - val_accuracy: 0.8189\n",
      "Epoch 32/60\n",
      "8390/8393 [============================>.] - ETA: 0s - loss: 0.3420 - accuracy: 0.8695lr: <tf.Variable 'learning_rate:0' shape=() dtype=float32, numpy=0.0016849437>\n",
      "8393/8393 [==============================] - 134s 16ms/step - loss: 0.3419 - accuracy: 0.8695 - val_loss: 0.3742 - val_accuracy: 0.8631\n",
      "Epoch 33/60\n",
      "8391/8393 [============================>.] - ETA: 0s - loss: 0.3387 - accuracy: 0.8708lr: <tf.Variable 'learning_rate:0' shape=() dtype=float32, numpy=0.001621973>\n",
      "8393/8393 [==============================] - 134s 16ms/step - loss: 0.3387 - accuracy: 0.8708 - val_loss: 0.3715 - val_accuracy: 0.8630\n",
      "Epoch 34/60\n",
      "8391/8393 [============================>.] - ETA: 0s - loss: 0.3356 - accuracy: 0.8717lr: <tf.Variable 'learning_rate:0' shape=() dtype=float32, numpy=0.0015590022>\n",
      "8393/8393 [==============================] - 134s 16ms/step - loss: 0.3356 - accuracy: 0.8717 - val_loss: 0.3668 - val_accuracy: 0.8580\n",
      "Epoch 35/60\n",
      "8393/8393 [==============================] - ETA: 0s - loss: 0.3322 - accuracy: 0.8724lr: <tf.Variable 'learning_rate:0' shape=() dtype=float32, numpy=0.0014960315>\n",
      "8393/8393 [==============================] - 133s 16ms/step - loss: 0.3322 - accuracy: 0.8724 - val_loss: 0.3761 - val_accuracy: 0.8597\n",
      "Epoch 36/60\n",
      "8392/8393 [============================>.] - ETA: 0s - loss: 0.3292 - accuracy: 0.8734lr: <tf.Variable 'learning_rate:0' shape=() dtype=float32, numpy=0.0014330607>\n",
      "8393/8393 [==============================] - 134s 16ms/step - loss: 0.3292 - accuracy: 0.8734 - val_loss: 0.4185 - val_accuracy: 0.8484\n",
      "Epoch 37/60\n",
      "8392/8393 [============================>.] - ETA: 0s - loss: 0.3255 - accuracy: 0.8744lr: <tf.Variable 'learning_rate:0' shape=() dtype=float32, numpy=0.00137009>\n",
      "8393/8393 [==============================] - 134s 16ms/step - loss: 0.3255 - accuracy: 0.8744 - val_loss: 0.3589 - val_accuracy: 0.8649\n",
      "Epoch 38/60\n",
      "8391/8393 [============================>.] - ETA: 0s - loss: 0.3231 - accuracy: 0.8751lr: <tf.Variable 'learning_rate:0' shape=() dtype=float32, numpy=0.0013071193>\n",
      "8393/8393 [==============================] - 134s 16ms/step - loss: 0.3231 - accuracy: 0.8752 - val_loss: 0.3435 - val_accuracy: 0.8734\n",
      "Epoch 39/60\n",
      "8391/8393 [============================>.] - ETA: 0s - loss: 0.3191 - accuracy: 0.8765lr: <tf.Variable 'learning_rate:0' shape=() dtype=float32, numpy=0.0012441485>\n",
      "8393/8393 [==============================] - 133s 16ms/step - loss: 0.3191 - accuracy: 0.8765 - val_loss: 0.4819 - val_accuracy: 0.8449\n",
      "Epoch 40/60\n",
      "8392/8393 [============================>.] - ETA: 0s - loss: 0.3166 - accuracy: 0.8773lr: <tf.Variable 'learning_rate:0' shape=() dtype=float32, numpy=0.0011811778>\n",
      "8393/8393 [==============================] - 133s 16ms/step - loss: 0.3166 - accuracy: 0.8773 - val_loss: 0.3474 - val_accuracy: 0.8706\n",
      "Epoch 41/60\n",
      "8390/8393 [============================>.] - ETA: 0s - loss: 0.3130 - accuracy: 0.8786lr: <tf.Variable 'learning_rate:0' shape=() dtype=float32, numpy=0.001118207>\n",
      "8393/8393 [==============================] - 133s 16ms/step - loss: 0.3130 - accuracy: 0.8786 - val_loss: 0.3470 - val_accuracy: 0.8713\n",
      "Epoch 42/60\n",
      "8391/8393 [============================>.] - ETA: 0s - loss: 0.3101 - accuracy: 0.8792lr: <tf.Variable 'learning_rate:0' shape=() dtype=float32, numpy=0.0010552363>\n",
      "8393/8393 [==============================] - 133s 16ms/step - loss: 0.3101 - accuracy: 0.8792 - val_loss: 0.5579 - val_accuracy: 0.8252\n",
      "Epoch 43/60\n",
      "8391/8393 [============================>.] - ETA: 0s - loss: 0.3069 - accuracy: 0.8802lr: <tf.Variable 'learning_rate:0' shape=() dtype=float32, numpy=0.0009922655>\n",
      "8393/8393 [==============================] - 133s 16ms/step - loss: 0.3069 - accuracy: 0.8802 - val_loss: 0.3408 - val_accuracy: 0.8738\n",
      "Epoch 44/60\n",
      "8391/8393 [============================>.] - ETA: 0s - loss: 0.3039 - accuracy: 0.8811lr: <tf.Variable 'learning_rate:0' shape=() dtype=float32, numpy=0.0009292948>\n",
      "8393/8393 [==============================] - 133s 16ms/step - loss: 0.3039 - accuracy: 0.8811 - val_loss: 0.9343 - val_accuracy: 0.7726\n",
      "Epoch 45/60\n",
      "8392/8393 [============================>.] - ETA: 0s - loss: 0.3003 - accuracy: 0.8820lr: <tf.Variable 'learning_rate:0' shape=() dtype=float32, numpy=0.00086632406>\n",
      "8393/8393 [==============================] - 133s 16ms/step - loss: 0.3003 - accuracy: 0.8820 - val_loss: 0.3498 - val_accuracy: 0.8707\n",
      "Epoch 46/60\n",
      "8392/8393 [============================>.] - ETA: 0s - loss: 0.2971 - accuracy: 0.8832lr: <tf.Variable 'learning_rate:0' shape=() dtype=float32, numpy=0.0008033533>\n",
      "8393/8393 [==============================] - 133s 16ms/step - loss: 0.2971 - accuracy: 0.8832 - val_loss: 0.3415 - val_accuracy: 0.8751\n",
      "Epoch 47/60\n",
      "8391/8393 [============================>.] - ETA: 0s - loss: 0.2943 - accuracy: 0.8841lr: <tf.Variable 'learning_rate:0' shape=() dtype=float32, numpy=0.00074038253>\n",
      "8393/8393 [==============================] - 133s 16ms/step - loss: 0.2943 - accuracy: 0.8841 - val_loss: 0.3418 - val_accuracy: 0.8749\n",
      "Epoch 48/60\n",
      "8393/8393 [==============================] - ETA: 0s - loss: 0.2908 - accuracy: 0.8852lr: <tf.Variable 'learning_rate:0' shape=() dtype=float32, numpy=0.0006774118>\n",
      "8393/8393 [==============================] - 133s 16ms/step - loss: 0.2908 - accuracy: 0.8852 - val_loss: 0.3436 - val_accuracy: 0.8750\n",
      "Epoch 49/60\n",
      "8393/8393 [==============================] - ETA: 0s - loss: 0.2872 - accuracy: 0.8866lr: <tf.Variable 'learning_rate:0' shape=() dtype=float32, numpy=0.00061444106>\n",
      "8393/8393 [==============================] - 133s 16ms/step - loss: 0.2872 - accuracy: 0.8866 - val_loss: 0.3489 - val_accuracy: 0.8728\n",
      "Epoch 50/60\n",
      "8393/8393 [==============================] - ETA: 0s - loss: 0.2837 - accuracy: 0.8874lr: <tf.Variable 'learning_rate:0' shape=() dtype=float32, numpy=0.0005514703>\n",
      "8393/8393 [==============================] - 133s 16ms/step - loss: 0.2837 - accuracy: 0.8874 - val_loss: 0.3389 - val_accuracy: 0.8767\n",
      "Epoch 51/60\n",
      "8390/8393 [============================>.] - ETA: 0s - loss: 0.2810 - accuracy: 0.8885lr: <tf.Variable 'learning_rate:0' shape=() dtype=float32, numpy=0.0004884996>\n",
      "8393/8393 [==============================] - 133s 16ms/step - loss: 0.2810 - accuracy: 0.8885 - val_loss: 0.3382 - val_accuracy: 0.8775\n",
      "Epoch 52/60\n",
      "8392/8393 [============================>.] - ETA: 0s - loss: 0.2775 - accuracy: 0.8893lr: <tf.Variable 'learning_rate:0' shape=() dtype=float32, numpy=0.00042552882>\n",
      "8393/8393 [==============================] - 132s 16ms/step - loss: 0.2775 - accuracy: 0.8893 - val_loss: 0.3998 - val_accuracy: 0.8671\n",
      "Epoch 53/60\n"
     ]
    },
    {
     "name": "stdout",
     "output_type": "stream",
     "text": [
      "8391/8393 [============================>.] - ETA: 0s - loss: 0.2742 - accuracy: 0.8905lr: <tf.Variable 'learning_rate:0' shape=() dtype=float32, numpy=0.0003625581>\n",
      "8393/8393 [==============================] - 131s 16ms/step - loss: 0.2742 - accuracy: 0.8905 - val_loss: 0.3465 - val_accuracy: 0.8735\n",
      "Epoch 54/60\n",
      "8393/8393 [==============================] - ETA: 0s - loss: 0.2712 - accuracy: 0.8916lr: <tf.Variable 'learning_rate:0' shape=() dtype=float32, numpy=0.00029967265>\n",
      "8393/8393 [==============================] - 132s 16ms/step - loss: 0.2712 - accuracy: 0.8916 - val_loss: 0.3460 - val_accuracy: 0.8754\n",
      "Epoch 55/60\n",
      "8390/8393 [============================>.] - ETA: 0s - loss: 0.2678 - accuracy: 0.8925lr: <tf.Variable 'learning_rate:0' shape=() dtype=float32, numpy=0.0002497187>\n",
      "8393/8393 [==============================] - 134s 16ms/step - loss: 0.2678 - accuracy: 0.8925 - val_loss: 0.3511 - val_accuracy: 0.8748\n",
      "Epoch 56/60\n",
      "8392/8393 [============================>.] - ETA: 0s - loss: 0.2656 - accuracy: 0.8935lr: <tf.Variable 'learning_rate:0' shape=() dtype=float32, numpy=0.0001997647>\n",
      "8393/8393 [==============================] - 132s 16ms/step - loss: 0.2656 - accuracy: 0.8935 - val_loss: 0.3433 - val_accuracy: 0.8776\n",
      "Epoch 57/60\n",
      "8391/8393 [============================>.] - ETA: 0s - loss: 0.2625 - accuracy: 0.8946lr: <tf.Variable 'learning_rate:0' shape=() dtype=float32, numpy=0.00014981074>\n",
      "8393/8393 [==============================] - 134s 16ms/step - loss: 0.2625 - accuracy: 0.8946 - val_loss: 0.3431 - val_accuracy: 0.8778\n",
      "Epoch 58/60\n",
      "8391/8393 [============================>.] - ETA: 0s - loss: 0.2602 - accuracy: 0.8954lr: <tf.Variable 'learning_rate:0' shape=() dtype=float32, numpy=9.985678e-05>\n",
      "8393/8393 [==============================] - 134s 16ms/step - loss: 0.2603 - accuracy: 0.8954 - val_loss: 0.3453 - val_accuracy: 0.8772\n",
      "Epoch 59/60\n",
      "8391/8393 [============================>.] - ETA: 0s - loss: 0.2582 - accuracy: 0.8959lr: <tf.Variable 'learning_rate:0' shape=() dtype=float32, numpy=4.9902806e-05>\n",
      "8393/8393 [==============================] - 134s 16ms/step - loss: 0.2582 - accuracy: 0.8959 - val_loss: 0.3451 - val_accuracy: 0.8776\n",
      "Epoch 60/60\n",
      "8393/8393 [==============================] - ETA: 0s - loss: 0.2562 - accuracy: 0.8969lr: <tf.Variable 'learning_rate:0' shape=() dtype=float32, numpy=3e-07>\n",
      "8393/8393 [==============================] - 135s 16ms/step - loss: 0.2562 - accuracy: 0.8969 - val_loss: 0.3454 - val_accuracy: 0.8777\n"
     ]
    }
   ],
   "source": [
    "#황성현 전민재\n",
    "from datetime import datetime\n",
    "K = keras.backend\n",
    "epochs=60\n",
    "logs = \"logs/\" + datetime.now().strftime(\"SMV2L_lrsch_onecycle_dropout_128_he_irb6_512_epoch40%Y%m%d-%H%M%S\")\n",
    "onecycle = OneCycleScheduler(len(X_train_resize) // batch_size * epochs, max_rate=0.002,start_rate=0.0003)\n",
    "tboard_callback = tf.keras.callbacks.TensorBoard(log_dir = logs,\n",
    "                                                 histogram_freq = 1,\n",
    "                                                 profile_batch = '500,520')\n",
    "check_best_cb=tf.keras.callbacks.ModelCheckpoint(filepath=\"smv2l_adam_best_lrsch_onecycle_aug_dropout_128_he_irb6_512_epoch60.h5\",save_best_only=True)\n",
    "\n",
    "history=smv2_l.fit(X_train,y_train,\n",
    "                   validation_data=(X_valid_final,y_valid),batch_size = batch_size, \n",
    "                   epochs=epochs,callbacks=[tboard_callback, check_best_cb,onecycle])"
   ]
  },
  {
   "cell_type": "markdown",
   "id": "48ce750a",
   "metadata": {},
   "source": [
    "smv2l_adam_best_lrsch_onecycle_aug_dropout_128_he_irb6_256_epoch60.h5를 smv2l_adam_best_lrsch_onecycle_aug_dropout_t4_128_he_irb6_512_epoch60.h5로 이름 바꿔서 사용"
   ]
  },
  {
   "cell_type": "code",
   "execution_count": 11,
   "id": "7c0d72f0",
   "metadata": {},
   "outputs": [
    {
     "name": "stdout",
     "output_type": "stream",
     "text": [
      "IRB1 : batch_input_shape = (None, 16, 16, 32)\n",
      "IRB2 : batch_input_shape = (None, 16, 16, 16)\n",
      "IRB3 : batch_input_shape = (None, 8, 8, 16)\n",
      "IRB4 : batch_input_shape = (None, 4, 4, 32)\n",
      "IRB5 : batch_input_shape = (None, 2, 2, 64)\n",
      "IRB6 : batch_input_shape = (None, 1, 1, 128)\n",
      "Model: \"sequential_1\"\n",
      "_________________________________________________________________\n",
      " Layer (type)                Output Shape              Param #   \n",
      "=================================================================\n",
      " batch_normalization_2 (Batc  (None, 32, 32, 1)        4         \n",
      " hNormalization)                                                 \n",
      "                                                                 \n",
      " conv2d_1 (Conv2D)           (None, 16, 16, 32)        320       \n",
      "                                                                 \n",
      " IRB1 (Inveted_Residual_Bloc  (None, 16, 16, 16)       2288      \n",
      " k)                                                              \n",
      "                                                                 \n",
      " IRB2 (Inveted_Residual_Bloc  (None, 8, 8, 16)         3424      \n",
      " k)                                                              \n",
      "                                                                 \n",
      " IRB3 (Inveted_Residual_Bloc  (None, 4, 4, 32)         9856      \n",
      " k)                                                              \n",
      "                                                                 \n",
      " IRB4 (Inveted_Residual_Bloc  (None, 2, 2, 64)         34048     \n",
      " k)                                                              \n",
      "                                                                 \n",
      " IRB5 (Inveted_Residual_Bloc  (None, 1, 1, 128)        54400     \n",
      " k)                                                              \n",
      "                                                                 \n",
      " IRB6 (Inveted_Residual_Bloc  (None, 1, 1, 1024)       601088    \n",
      " k)                                                              \n",
      "                                                                 \n",
      " re_lu_13 (ReLU)             (None, 1, 1, 1024)        0         \n",
      "                                                                 \n",
      " global_average_pooling2d_1   (None, 1024)             0         \n",
      " (GlobalAveragePooling2D)                                        \n",
      "                                                                 \n",
      " batch_normalization_3 (Batc  (None, 1024)             4096      \n",
      " hNormalization)                                                 \n",
      "                                                                 \n",
      " dropout_1 (Dropout)         (None, 1024)              0         \n",
      "                                                                 \n",
      " dense_1 (Dense)             (None, 62)                63550     \n",
      "                                                                 \n",
      "=================================================================\n",
      "Total params: 773,074\n",
      "Trainable params: 765,232\n",
      "Non-trainable params: 7,842\n",
      "_________________________________________________________________\n"
     ]
    }
   ],
   "source": [
    "    #황성현 전민재 IRB61024, maxlr 0.003\n",
    "    #multygpu\n",
    "\n",
    "\n",
    "    n_classes=62\n",
    "    smv2_l=keras.models.Sequential([\n",
    "        keras.layers.BatchNormalization(input_shape=[32,32,1]),\n",
    "        keras.layers.Conv2D(filters=32,kernel_size=3,strides=2,padding=\"same\",activation=\"relu\"),\n",
    "        Inveted_Residual_Block(t=1,c=16,n=1,s=1,name=\"IRB1\"),\n",
    "        Inveted_Residual_Block(t=2,c=16,n=2,s=2,name=\"IRB2\"),\n",
    "        Inveted_Residual_Block(t=4,c=32,n=2,s=2,name=\"IRB3\"),\n",
    "        Inveted_Residual_Block(t=4,c=64,n=2,s=2,name=\"IRB4\"),\n",
    "        Inveted_Residual_Block(t=4,c=128,n=1,s=2,name=\"IRB5\"),\n",
    "        Inveted_Residual_Block(t=4,c=1024,n=1,s=1,name=\"IRB6\"),\n",
    "        keras.layers.ReLU(max_value=6),\n",
    "        keras.layers.GlobalAveragePooling2D(),\n",
    "        keras.layers.BatchNormalization(),\n",
    "        keras.layers.Dropout(0.5),\n",
    "        keras.layers.Dense(n_classes,activation=\"softmax\")\n",
    "    ])\n",
    "    smv2_l.summary()\n",
    "    opt = tf.keras.optimizers.Adam(learning_rate=0.0003)\n",
    "    batch_size=128\n",
    "    smv2_l.compile(loss=\"sparse_categorical_crossentropy\",optimizer=opt,metrics=[\"accuracy\"])"
   ]
  },
  {
   "cell_type": "code",
   "execution_count": null,
   "id": "16a37376",
   "metadata": {},
   "outputs": [],
   "source": [
    "#황성현 전민재\n",
    "from datetime import datetime\n",
    "K = keras.backend\n",
    "epochs=40\n",
    "logs = \"logs/\" + datetime.now().strftime(\"SMV2L_lrsch_onecycle_dropout50_128_he_irb6_1024_epoch40%Y%m%d-%H%M%S\")\n",
    "onecycle = OneCycleScheduler(len(X_train_resize) // batch_size * epochs, max_rate=0.003,start_rate=0.0003)\n",
    "tboard_callback = tf.keras.callbacks.TensorBoard(log_dir = logs,\n",
    "                                                 histogram_freq = 1,\n",
    "                                                 profile_batch = '500,520')\n",
    "check_best_cb=tf.keras.callbacks.ModelCheckpoint(filepath=\"smv2l_adam_best_lrsch_onecycle_aug_dropout50_128_he_irb6_1024_t4_epoch40.h5\",save_best_only=True)\n",
    "\n",
    "history=smv2_l.fit(X_train,y_train,\n",
    "                   validation_data=(X_valid_final,y_valid),batch_size = batch_size, \n",
    "                   epochs=epochs,callbacks=[tboard_callback, check_best_cb,onecycle])"
   ]
  }
 ],
 "metadata": {
  "kernelspec": {
   "display_name": "Python 3 (ipykernel)",
   "language": "python",
   "name": "python3"
  },
  "language_info": {
   "codemirror_mode": {
    "name": "ipython",
    "version": 3
   },
   "file_extension": ".py",
   "mimetype": "text/x-python",
   "name": "python",
   "nbconvert_exporter": "python",
   "pygments_lexer": "ipython3",
   "version": "3.9.7"
  }
 },
 "nbformat": 4,
 "nbformat_minor": 5
}

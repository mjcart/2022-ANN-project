{
 "cells": [
  {
   "cell_type": "code",
   "execution_count": 48,
   "id": "f1052ffb",
   "metadata": {},
   "outputs": [
    {
     "name": "stdout",
     "output_type": "stream",
     "text": [
      "sklearn version:  0.24.2\n",
      "TF version:  2.8.0\n",
      "GPU installed:  True\n",
      "1 Physical GPUs, 1 Logical GPUs\n"
     ]
    }
   ],
   "source": [
    "# Python ≥3.5 is required\n",
    "import sys\n",
    "assert sys.version_info >= (3, 5)\n",
    "\n",
    "# Scikit-Learn ≥0.20 is required\n",
    "import sklearn\n",
    "print(\"sklearn version: \", sklearn.__version__)\n",
    "assert sklearn.__version__ >= \"0.20\"\n",
    "\n",
    "try:\n",
    "    # %tensorflow_version only exists in Colab.\n",
    "    %tensorflow_version 2.x\n",
    "    IS_COLAB = True\n",
    "except Exception:\n",
    "    IS_COLAB = False\n",
    "\n",
    "# TensorFlow ≥2.0 is required\n",
    "import tensorflow as tf\n",
    "import tensorflow_addons as tfa\n",
    "from tensorflow import keras\n",
    "print(\"TF version: \", tf.__version__)\n",
    "assert tf.__version__ >= \"2.0\"\n",
    "\n",
    "if not tf.config.list_physical_devices('GPU'):\n",
    "    print(\"No GPU was detected. CNNs can be very slow without a GPU.\")\n",
    "    if IS_COLAB:\n",
    "        print(\"Go to Runtime > Change runtime and select a GPU hardware accelerator.\")\n",
    "\n",
    "# GPU test\n",
    "print(\"GPU installed: \",tf.test.is_built_with_gpu_support())\n",
    "\n",
    "# To prevent \"CUDNN_STATUS_ALLOC_FAILED\" error with GPUs\n",
    "gpus = tf.config.experimental.list_physical_devices('GPU')\n",
    "if gpus:\n",
    "  try:\n",
    "    # Currently, memory growth needs to be the same across GPUs\n",
    "    for gpu in gpus:\n",
    "      tf.config.experimental.set_memory_growth(gpu, True)\n",
    "    logical_gpus = tf.config.experimental.list_logical_devices('GPU')\n",
    "    print(len(gpus), \"Physical GPUs,\", len(logical_gpus), \"Logical GPUs\")\n",
    "  except RuntimeError as e:\n",
    "    # Memory growth must be set before GPUs have been initialized\n",
    "    print(e)\n",
    "    \n",
    "# Common imports\n",
    "import numpy as np\n",
    "import os\n",
    "\n",
    "# to make this notebook's output stable across runs\n",
    "np.random.seed(42)\n",
    "tf.random.set_seed(42)\n",
    "\n",
    "# To plot pretty figures\n",
    "%matplotlib inline\n",
    "import matplotlib as mpl\n",
    "import matplotlib.pyplot as plt\n",
    "mpl.rc('axes', labelsize=4)\n",
    "mpl.rc('xtick', labelsize=4)\n",
    "mpl.rc('ytick', labelsize=4)\n",
    "mpl.rc('font',size=2)\n",
    "\n",
    "# Where to save the figures\n",
    "PROJECT_ROOT_DIR = \".\"\n",
    "CHAPTER_ID = \"cnn\"\n",
    "IMAGES_PATH = os.path.join(PROJECT_ROOT_DIR, \"images\", CHAPTER_ID)\n",
    "os.makedirs(IMAGES_PATH, exist_ok=True)\n",
    "\n",
    "def save_fig(fig_id, tight_layout=True, fig_extension=\"png\", resolution=300):\n",
    "    path = os.path.join(IMAGES_PATH, fig_id + \".\" + fig_extension)\n",
    "    print(\"Saving figure\", fig_id)\n",
    "    if tight_layout:\n",
    "        plt.tight_layout()\n",
    "    plt.savefig(path, format=fig_extension, dpi=resolution)\n",
    "    \n",
    "# Ignore useless warnings (see SciPy issue #5998)\n",
    "import warnings\n",
    "warnings.filterwarnings(action=\"ignore\", message=\"^internal gelsd\")    \n",
    "\n",
    "from tensorflow.python.keras.utils.data_utils import Sequence"
   ]
  },
  {
   "cell_type": "code",
   "execution_count": 49,
   "id": "905649c2",
   "metadata": {},
   "outputs": [],
   "source": [
    "import numpy as np\n",
    "import tensorflow as tf\n",
    "from tensorflow import keras\n",
    "from __future__ import print_function\n",
    "from tensorflow.keras.preprocessing.image import ImageDataGenerator\n",
    "import tensorflow_addons as tfa\n",
    "import random\n",
    "\n",
    "\n",
    "\n",
    "\n",
    "class Inveted_Residual_Block(keras.layers.Layer):\n",
    "    def __init__(self,c,s=1,t=1,n=1,**kwargs):\n",
    "        super().__init__(**kwargs)\n",
    "        self.activation = keras.layers.ReLU(max_value=6)\n",
    "        self.main_layers = [\n",
    "            \n",
    "            ]\n",
    "        self.strides_layers=[\n",
    "           ]\n",
    "        self.s=s\n",
    "        self.t=t\n",
    "        self.c=c\n",
    "        self.n=n\n",
    "        \n",
    "    def build(self,batch_input_shape):\n",
    "        print(self.name,\": batch_input_shape =\",batch_input_shape)\n",
    "        \n",
    "        self.main_layers = [\n",
    "            keras.layers.BatchNormalization(),\n",
    "            keras.layers.Conv2D(filters=batch_input_shape[-1]*self.t, kernel_size=1,strides=1, \n",
    "                                padding=\"SAME\", activation=self.activation),\n",
    "            keras.layers.BatchNormalization(),\n",
    "            keras.layers.DepthwiseConv2D(kernel_size=3, strides=1,padding=\"SAME\", activation=self.activation),\n",
    "            keras.layers.BatchNormalization(),\n",
    "            keras.layers.Conv2D(filters=self.c,kernel_size=1, strides=1,padding=\"SAME\", activation=self.activation),\n",
    "            ]\n",
    "        self.strides_layers=[\n",
    "            keras.layers.BatchNormalization(),\n",
    "            keras.layers.Conv2D(filters=batch_input_shape[-1]*self.t, kernel_size=1,strides=1,\n",
    "                                padding=\"SAME\", activation=self.activation),\n",
    "            keras.layers.BatchNormalization(),\n",
    "            keras.layers.DepthwiseConv2D(kernel_size=3, strides=self.s,padding=\"SAME\",activation=self.activation),\n",
    "            keras.layers.BatchNormalization(),\n",
    "            keras.layers.Conv2D(filters=self.c, kernel_size=1,strides=1,padding=\"SAME\",activation=self.activation),\n",
    "        ]\n",
    "\n",
    "    def call(self, inputs):\n",
    "        Z = inputs\n",
    "        \n",
    "        for n in range(0,self.n):\n",
    "            if n == 0:\n",
    "                for layer in self.strides_layers:\n",
    "                    Z = layer(Z)\n",
    "            else:\n",
    "                skip_Z = Z\n",
    "                for layer in self.main_layers:\n",
    "                    Z = layer(Z)\n",
    "                \n",
    "                Z += skip_Z\n",
    "    \n",
    "        return Z\n",
    "    \n",
    "    def get_config(self):\n",
    "        base=super().get_config()\n",
    "        return{**base,\"s\":self.s,\"t\":self.t,\"c\":self.c,\"n\":self.n}\n",
    "\n",
    "\n",
    "def csv_reader_dataset(filepaths, repeat=1, n_readers=1,\n",
    "                       n_read_threads=None, shuffle_buffer_size=0,\n",
    "                       n_parse_threads=5, batch_size=32):\n",
    "    dataset = tf.data.Dataset.list_files(filepaths,shuffle=False).repeat(repeat)\n",
    "    dataset = dataset.interleave(\n",
    "        lambda filepath: tf.data.TextLineDataset(filepath).skip(1),\n",
    "        cycle_length=n_readers, num_parallel_calls=n_read_threads)\n",
    "    #dataset = dataset.shuffle(shuffle_buffer_size)\n",
    "    dataset = dataset.map(preprocess, num_parallel_calls=n_parse_threads)\n",
    "    dataset = dataset.batch(batch_size)\n",
    "    return dataset.prefetch(1)\n",
    "\n",
    "@tf.function\n",
    "def preprocess(line):\n",
    "    defs = [0.] * n_inputs + [tf.constant([], dtype=tf.float32)]\n",
    "    fields = tf.io.decode_csv(line, record_defaults=defs)\n",
    "    x = tf.stack(fields[1:])\n",
    "    x=tf.reshape(x,[28,28,1])\n",
    "    y = tf.stack(fields[:1])\n",
    "    augment_image = x\n",
    "    if y > 10:\n",
    "        augment_image = dataaugmentation(x)\n",
    "        \n",
    "        \n",
    "    resized_image = tf.image.resize(augment_image, [224, 224])\n",
    "    if resized_image.shape[2] == 1:\n",
    "        temp=tf.concat([resized_image,resized_image],2)\n",
    "        resized_image=tf.concat([temp,resized_image],2)\n",
    "    final_image = keras.applications.mobilenet.preprocess_input(resized_image)\n",
    "    \n",
    "    return final_image, y\n",
    "\n",
    "def dataaugmentation(X):\n",
    "    datagen=ImageDataGenerator(rotation_range=40,width_shift_range = 0.2, \n",
    "        height_shift_range = 0.2)\n",
    "    #영어 부분 2배 생성\n",
    "    #차원변환 \n",
    "    X=tf.reshape(X,[28,28,1])\n",
    "\n",
    "    #새로운 데이터 생성\n",
    "    angle=(random.random()%1)*1.4-0.7\n",
    "    image_result =tfa.image.rotate(X, tf.constant(angle))#rotate -pi/4 ~ pi/4\n",
    "    shift=(random.random()%1)*8-4\n",
    "    image_result=tfa.image.translate(image_result,[tf.constant(shift),tf.constant(shift)])\n",
    "    \n",
    "    return image_result"
   ]
  },
  {
   "cell_type": "code",
   "execution_count": 50,
   "id": "c257ba7c",
   "metadata": {},
   "outputs": [],
   "source": [
    "#황성현\n",
    "def save_to_multiple_csv_files(data, name_prefix, header=None, n_parts=10):\n",
    "    \n",
    "    Emnist_dir = os.path.join(\"./common_file\", \"Emnist\")\n",
    "    os.makedirs(Emnist_dir, exist_ok=True)\n",
    "    path_format = os.path.join(Emnist_dir, \"my_{}_{:02d}.csv\")\n",
    "\n",
    "    filepaths = []\n",
    "    m = len(data)\n",
    "    for file_idx, row_indices in enumerate(np.array_split(np.arange(m), n_parts)):\n",
    "        part_csv = path_format.format(name_prefix, file_idx)\n",
    "        filepaths.append(part_csv)\n",
    "        try:\n",
    "            with open(part_csv, \"xt\", encoding=\"utf-8\") as f:\n",
    "                if header is not None:\n",
    "                    f.write(header)\n",
    "                    f.write(\"\\n\")\n",
    "                for row_idx in row_indices:\n",
    "                    f.write(\",\".join([repr(col) for col in data[row_idx]]))\n",
    "                    f.write(\"\\n\")\n",
    "        except:\n",
    "            continue\n",
    "    return filepaths"
   ]
  },
  {
   "cell_type": "code",
   "execution_count": 51,
   "id": "6120e777",
   "metadata": {},
   "outputs": [],
   "source": [
    "y_valid=np.loadtxt('./common_file/valid_label.csv', delimiter=\",\",dtype='uint8')\n",
    "X_valid=np.loadtxt('./common_file/valid_data.csv', delimiter=\",\",dtype='uint8')"
   ]
  },
  {
   "cell_type": "code",
   "execution_count": 52,
   "id": "8e63b0a4",
   "metadata": {},
   "outputs": [
    {
     "data": {
      "text/plain": [
       "((164015, 1), (164015, 784))"
      ]
     },
     "execution_count": 52,
     "metadata": {},
     "output_type": "execute_result"
    }
   ],
   "source": [
    "X_valid=np.reshape(X_valid,[-1,784])\n",
    "y_valid=np.reshape(y_valid,[-1,1])\n",
    "\n",
    "y_valid.shape,X_valid.shape"
   ]
  },
  {
   "cell_type": "code",
   "execution_count": 53,
   "id": "8c662579",
   "metadata": {},
   "outputs": [
    {
     "data": {
      "text/plain": [
       "(164015, 785)"
      ]
     },
     "execution_count": 53,
     "metadata": {},
     "output_type": "execute_result"
    }
   ],
   "source": [
    "valid_full=np.append(y_valid, X_valid, axis=1)\n",
    "valid_full.shape"
   ]
  },
  {
   "cell_type": "code",
   "execution_count": 54,
   "id": "1c581a6f",
   "metadata": {},
   "outputs": [],
   "source": [
    "batch_size = 5\n",
    "n_inputs = X_valid.shape[-1]"
   ]
  },
  {
   "cell_type": "code",
   "execution_count": 55,
   "id": "60107f8a",
   "metadata": {
    "scrolled": false
   },
   "outputs": [],
   "source": [
    "valid_filepaths=save_to_multiple_csv_files(valid_full,\"valid\",n_parts=20)\n",
    "\n",
    "valid_set=csv_reader_dataset(valid_filepaths,batch_size=batch_size, repeat=None)"
   ]
  },
  {
   "cell_type": "code",
   "execution_count": 56,
   "id": "8d660d86",
   "metadata": {},
   "outputs": [
    {
     "data": {
      "text/plain": [
       "['./common_file\\\\Emnist\\\\my_valid_00.csv',\n",
       " './common_file\\\\Emnist\\\\my_valid_01.csv',\n",
       " './common_file\\\\Emnist\\\\my_valid_02.csv',\n",
       " './common_file\\\\Emnist\\\\my_valid_03.csv',\n",
       " './common_file\\\\Emnist\\\\my_valid_04.csv',\n",
       " './common_file\\\\Emnist\\\\my_valid_05.csv',\n",
       " './common_file\\\\Emnist\\\\my_valid_06.csv',\n",
       " './common_file\\\\Emnist\\\\my_valid_07.csv',\n",
       " './common_file\\\\Emnist\\\\my_valid_08.csv',\n",
       " './common_file\\\\Emnist\\\\my_valid_09.csv',\n",
       " './common_file\\\\Emnist\\\\my_valid_10.csv',\n",
       " './common_file\\\\Emnist\\\\my_valid_11.csv',\n",
       " './common_file\\\\Emnist\\\\my_valid_12.csv',\n",
       " './common_file\\\\Emnist\\\\my_valid_13.csv',\n",
       " './common_file\\\\Emnist\\\\my_valid_14.csv',\n",
       " './common_file\\\\Emnist\\\\my_valid_15.csv',\n",
       " './common_file\\\\Emnist\\\\my_valid_16.csv',\n",
       " './common_file\\\\Emnist\\\\my_valid_17.csv',\n",
       " './common_file\\\\Emnist\\\\my_valid_18.csv',\n",
       " './common_file\\\\Emnist\\\\my_valid_19.csv']"
      ]
     },
     "execution_count": 56,
     "metadata": {},
     "output_type": "execute_result"
    }
   ],
   "source": [
    "valid_filepaths"
   ]
  },
  {
   "cell_type": "code",
   "execution_count": 57,
   "id": "15b8b61e",
   "metadata": {},
   "outputs": [
    {
     "data": {
      "text/plain": [
       "<PrefetchDataset element_spec=(TensorSpec(shape=(None, 224, 224, 3), dtype=tf.float32, name=None), TensorSpec(shape=(None, 1), dtype=tf.float32, name=None))>"
      ]
     },
     "execution_count": 57,
     "metadata": {},
     "output_type": "execute_result"
    }
   ],
   "source": [
    "valid_set"
   ]
  },
  {
   "cell_type": "code",
   "execution_count": 58,
   "id": "dcd41b49",
   "metadata": {},
   "outputs": [
    {
     "name": "stdout",
     "output_type": "stream",
     "text": [
      "IRB1 : batch_input_shape = (None, 112, 112, 32)\n",
      "IRB2 : batch_input_shape = (None, 112, 112, 16)\n",
      "IRB3 : batch_input_shape = (None, 56, 56, 32)\n",
      "IRB4 : batch_input_shape = (None, 28, 28, 64)\n",
      "IRB5 : batch_input_shape = (None, 14, 14, 64)\n",
      "IRB6 : batch_input_shape = (None, 7, 7, 128)\n"
     ]
    }
   ],
   "source": [
    "model1=keras.models.load_model('./smv2p_nadam_best.h5',custom_objects={'Inveted_Residual_Block':Inveted_Residual_Block})"
   ]
  },
  {
   "cell_type": "code",
   "execution_count": 59,
   "id": "7aa33c0d",
   "metadata": {},
   "outputs": [],
   "source": [
    "#1307 x 89 = 116323\n",
    "y_pred=model1.predict(valid_set, batch_size=5 ,steps=32803)\n"
   ]
  },
  {
   "cell_type": "code",
   "execution_count": 69,
   "id": "dd36efef",
   "metadata": {},
   "outputs": [
    {
     "ename": "AttributeError",
     "evalue": "'PrefetchDataset' object has no attribute 'TensorSpec'",
     "output_type": "error",
     "traceback": [
      "\u001b[1;31m---------------------------------------------------------------------------\u001b[0m",
      "\u001b[1;31mAttributeError\u001b[0m                            Traceback (most recent call last)",
      "\u001b[1;32m~\\AppData\\Local\\Temp/ipykernel_38936/2438940511.py\u001b[0m in \u001b[0;36m<module>\u001b[1;34m\u001b[0m\n\u001b[1;32m----> 1\u001b[1;33m \u001b[0my\u001b[0m\u001b[1;33m=\u001b[0m\u001b[0mvalid_set\u001b[0m\u001b[1;33m.\u001b[0m\u001b[0mTensorSpec\u001b[0m\u001b[1;33m\u001b[0m\u001b[1;33m\u001b[0m\u001b[0m\n\u001b[0m",
      "\u001b[1;31mAttributeError\u001b[0m: 'PrefetchDataset' object has no attribute 'TensorSpec'"
     ]
    }
   ],
   "source": [
    "y=valid_set.TensorSpec"
   ]
  },
  {
   "cell_type": "code",
   "execution_count": 60,
   "id": "4a065777",
   "metadata": {},
   "outputs": [
    {
     "data": {
      "text/plain": [
       "(164015, 62)"
      ]
     },
     "execution_count": 60,
     "metadata": {},
     "output_type": "execute_result"
    }
   ],
   "source": [
    "y_pred.shape"
   ]
  },
  {
   "cell_type": "code",
   "execution_count": 61,
   "id": "38e58947",
   "metadata": {
    "scrolled": true
   },
   "outputs": [
    {
     "data": {
      "text/plain": [
       "array([[2.74315792e-10, 4.92331765e-07, 9.99860406e-01, ...,\n",
       "        1.28469839e-08, 5.06862019e-09, 1.24353246e-04],\n",
       "       [9.89064351e-02, 6.48135901e-05, 7.58146355e-03, ...,\n",
       "        1.58393723e-05, 1.37759016e-05, 3.62300518e-04],\n",
       "       [9.67088044e-01, 4.53803659e-06, 3.06554102e-05, ...,\n",
       "        1.70097110e-07, 2.23092275e-06, 4.15661177e-08],\n",
       "       ...,\n",
       "       [1.39050926e-05, 5.96601069e-07, 2.69404438e-04, ...,\n",
       "        1.08444419e-06, 9.65537428e-10, 3.75409002e-08],\n",
       "       [1.82934135e-04, 1.42664164e-01, 1.31858751e-05, ...,\n",
       "        7.90336162e-06, 4.50432481e-06, 1.54512163e-05],\n",
       "       [9.18669102e-04, 2.70962823e-06, 1.09966295e-02, ...,\n",
       "        2.99289334e-03, 6.79724735e-06, 4.54170822e-06]], dtype=float32)"
      ]
     },
     "execution_count": 61,
     "metadata": {},
     "output_type": "execute_result"
    }
   ],
   "source": [
    "y_pred_classes=np.argmax(y_pred,axis=1)\n",
    "y_pred"
   ]
  },
  {
   "cell_type": "code",
   "execution_count": 62,
   "id": "c37e3c59",
   "metadata": {
    "scrolled": true
   },
   "outputs": [
    {
     "name": "stdout",
     "output_type": "stream",
     "text": [
      "[[1033  133  973 ...   63   21  102]\n",
      " [1147  141 1022 ...   81   20  123]\n",
      " [ 961  132  943 ...   63    9  105]\n",
      " ...\n",
      " [  96    4   73 ...    8    1    9]\n",
      " [  77    5   52 ...    7    1    8]\n",
      " [  79   10   78 ...    8    3   13]]\n"
     ]
    }
   ],
   "source": [
    "import matplotlib.pyplot as plt\n",
    "from sklearn.datasets import make_classification\n",
    "from sklearn.metrics import confusion_matrix, ConfusionMatrixDisplay\n",
    "\n",
    "\n",
    "cf=confusion_matrix(y_valid,y_pred_classes)\n",
    "print(cf)\n"
   ]
  },
  {
   "cell_type": "code",
   "execution_count": 63,
   "id": "7cb7735c",
   "metadata": {},
   "outputs": [
    {
     "data": {
      "text/plain": [
       "array([[1033,  133,  973, ...,   63,   21,  102],\n",
       "       [1147,  141, 1022, ...,   81,   20,  123],\n",
       "       [ 961,  132,  943, ...,   63,    9,  105],\n",
       "       ...,\n",
       "       [  96,    4,   73, ...,    8,    1,    9],\n",
       "       [  77,    5,   52, ...,    7,    1,    8],\n",
       "       [  79,   10,   78, ...,    8,    3,   13]], dtype=int64)"
      ]
     },
     "execution_count": 63,
     "metadata": {},
     "output_type": "execute_result"
    }
   ],
   "source": [
    "cf"
   ]
  },
  {
   "cell_type": "code",
   "execution_count": 64,
   "id": "a97eee1e",
   "metadata": {},
   "outputs": [
    {
     "name": "stdout",
     "output_type": "stream",
     "text": [
      "62\n"
     ]
    },
    {
     "data": {
      "text/plain": [
       "<Figure size 1800x1200 with 0 Axes>"
      ]
     },
     "metadata": {},
     "output_type": "display_data"
    },
    {
     "data": {
      "image/png": "[encoded data removed]",
      "text/plain": [
       "<Figure size 432x288 with 2 Axes>"
      ]
     },
     "metadata": {
      "needs_background": "light"
     },
     "output_type": "display_data"
    }
   ],
   "source": [
    "\n",
    "label=['0','1','2','3','4','5','6','7','8','9','a','b','c','d','e','f','g','h','i','j','k','l','m','n','o','p','q','r','s','t','u','v','w','x','y','z','A','B','C','D','E','F','G','H','I','J','K','L','M','N','O','P','Q','R','S','T','U','V','W','X','Y','Z']\n",
    "print(len(label))\n",
    "cm=ConfusionMatrixDisplay(confusion_matrix=cf,display_labels=label)\n",
    "plt.figure(dpi=300)\n",
    "cm.plot()\n",
    "plt.savefig(\"confusion_matrix.png\",dpi=300)"
   ]
  },
  {
   "cell_type": "code",
   "execution_count": 65,
   "id": "4989da95",
   "metadata": {},
   "outputs": [
    {
     "name": "stdout",
     "output_type": "stream",
     "text": [
      "['1']\n",
      "['2', '3', '4', '5', '6', '7', '8', '9']\n"
     ]
    }
   ],
   "source": [
    "test_arr=['1','2','3','4','5','6','7','8','9']\n",
    "print(test_arr[:1])\n",
    "print(test_arr[1:])"
   ]
  },
  {
   "cell_type": "code",
   "execution_count": 66,
   "id": "1e381235",
   "metadata": {},
   "outputs": [],
   "source": [
    "np.savetxt('./common_file/y_pred_classes.csv',y_pred_classes,fmt='%d',delimiter=',')"
   ]
  },
  {
   "cell_type": "code",
   "execution_count": null,
   "id": "c3bd643f",
   "metadata": {},
   "outputs": [],
   "source": []
  }
 ],
 "metadata": {
  "kernelspec": {
   "display_name": "Python 3 (ipykernel)",
   "language": "python",
   "name": "python3"
  },
  "language_info": {
   "codemirror_mode": {
    "name": "ipython",
    "version": 3
   },
   "file_extension": ".py",
   "mimetype": "text/x-python",
   "name": "python",
   "nbconvert_exporter": "python",
   "pygments_lexer": "ipython3",
   "version": "3.9.7"
  }
 },
 "nbformat": 4,
 "nbformat_minor": 5
}
